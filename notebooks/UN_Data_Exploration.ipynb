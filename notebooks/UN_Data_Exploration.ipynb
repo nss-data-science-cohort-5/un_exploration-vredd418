{
 "cells": [
  {
   "cell_type": "markdown",
   "id": "3815ddf5",
   "metadata": {},
   "source": [
    "import"
   ]
  },
  {
   "cell_type": "code",
   "execution_count": 77,
   "id": "0b312c1d",
   "metadata": {},
   "outputs": [],
   "source": [
    "import pandas as pd\n",
    "import numpy as np\n",
    "import matplotlib.pyplot as plt\n",
    "import seaborn as sns\n",
    "import plotly.express as px\n",
    "%matplotlib inline"
   ]
  },
  {
   "cell_type": "markdown",
   "id": "b5c04aea",
   "metadata": {},
   "source": [
    "read in gdp csv file, skip last 2 rows"
   ]
  },
  {
   "cell_type": "code",
   "execution_count": 2,
   "id": "f53fe0fc",
   "metadata": {},
   "outputs": [],
   "source": [
    "gdp_df = pd.read_csv(\"C:/Users/vredd/Documents/data_science_projects/un_exploration-vredd418/data/gdp_per_capita.csv\", skipfooter=2, engine='python')"
   ]
  },
  {
   "cell_type": "markdown",
   "id": "6ad965eb",
   "metadata": {},
   "source": [
    "print first 10 rows"
   ]
  },
  {
   "cell_type": "code",
   "execution_count": 3,
   "id": "cb1a956f",
   "metadata": {},
   "outputs": [
    {
     "data": {
      "text/html": [
       "<div>\n",
       "<style scoped>\n",
       "    .dataframe tbody tr th:only-of-type {\n",
       "        vertical-align: middle;\n",
       "    }\n",
       "\n",
       "    .dataframe tbody tr th {\n",
       "        vertical-align: top;\n",
       "    }\n",
       "\n",
       "    .dataframe thead th {\n",
       "        text-align: right;\n",
       "    }\n",
       "</style>\n",
       "<table border=\"1\" class=\"dataframe\">\n",
       "  <thead>\n",
       "    <tr style=\"text-align: right;\">\n",
       "      <th></th>\n",
       "      <th>Country or Area</th>\n",
       "      <th>Year</th>\n",
       "      <th>Value</th>\n",
       "      <th>Value Footnotes</th>\n",
       "    </tr>\n",
       "  </thead>\n",
       "  <tbody>\n",
       "    <tr>\n",
       "      <th>0</th>\n",
       "      <td>Afghanistan</td>\n",
       "      <td>2019</td>\n",
       "      <td>2065.036398</td>\n",
       "      <td>NaN</td>\n",
       "    </tr>\n",
       "    <tr>\n",
       "      <th>1</th>\n",
       "      <td>Afghanistan</td>\n",
       "      <td>2018</td>\n",
       "      <td>2033.779002</td>\n",
       "      <td>NaN</td>\n",
       "    </tr>\n",
       "    <tr>\n",
       "      <th>2</th>\n",
       "      <td>Afghanistan</td>\n",
       "      <td>2017</td>\n",
       "      <td>2058.383832</td>\n",
       "      <td>NaN</td>\n",
       "    </tr>\n",
       "    <tr>\n",
       "      <th>3</th>\n",
       "      <td>Afghanistan</td>\n",
       "      <td>2016</td>\n",
       "      <td>2057.062164</td>\n",
       "      <td>NaN</td>\n",
       "    </tr>\n",
       "    <tr>\n",
       "      <th>4</th>\n",
       "      <td>Afghanistan</td>\n",
       "      <td>2015</td>\n",
       "      <td>2068.265904</td>\n",
       "      <td>NaN</td>\n",
       "    </tr>\n",
       "    <tr>\n",
       "      <th>5</th>\n",
       "      <td>Afghanistan</td>\n",
       "      <td>2014</td>\n",
       "      <td>2102.385234</td>\n",
       "      <td>NaN</td>\n",
       "    </tr>\n",
       "    <tr>\n",
       "      <th>6</th>\n",
       "      <td>Afghanistan</td>\n",
       "      <td>2013</td>\n",
       "      <td>2116.465454</td>\n",
       "      <td>NaN</td>\n",
       "    </tr>\n",
       "    <tr>\n",
       "      <th>7</th>\n",
       "      <td>Afghanistan</td>\n",
       "      <td>2012</td>\n",
       "      <td>2075.491747</td>\n",
       "      <td>NaN</td>\n",
       "    </tr>\n",
       "    <tr>\n",
       "      <th>8</th>\n",
       "      <td>Afghanistan</td>\n",
       "      <td>2011</td>\n",
       "      <td>1904.559799</td>\n",
       "      <td>NaN</td>\n",
       "    </tr>\n",
       "    <tr>\n",
       "      <th>9</th>\n",
       "      <td>Afghanistan</td>\n",
       "      <td>2010</td>\n",
       "      <td>1957.029338</td>\n",
       "      <td>NaN</td>\n",
       "    </tr>\n",
       "  </tbody>\n",
       "</table>\n",
       "</div>"
      ],
      "text/plain": [
       "  Country or Area  Year        Value  Value Footnotes\n",
       "0     Afghanistan  2019  2065.036398              NaN\n",
       "1     Afghanistan  2018  2033.779002              NaN\n",
       "2     Afghanistan  2017  2058.383832              NaN\n",
       "3     Afghanistan  2016  2057.062164              NaN\n",
       "4     Afghanistan  2015  2068.265904              NaN\n",
       "5     Afghanistan  2014  2102.385234              NaN\n",
       "6     Afghanistan  2013  2116.465454              NaN\n",
       "7     Afghanistan  2012  2075.491747              NaN\n",
       "8     Afghanistan  2011  1904.559799              NaN\n",
       "9     Afghanistan  2010  1957.029338              NaN"
      ]
     },
     "execution_count": 3,
     "metadata": {},
     "output_type": "execute_result"
    }
   ],
   "source": [
    "gdp_df[0:10]"
   ]
  },
  {
   "cell_type": "markdown",
   "id": "4a69a519",
   "metadata": {},
   "source": [
    "print last 5 rows, last 2 rows are not needed"
   ]
  },
  {
   "cell_type": "code",
   "execution_count": 4,
   "id": "4b4af09f",
   "metadata": {},
   "outputs": [
    {
     "data": {
      "text/html": [
       "<div>\n",
       "<style scoped>\n",
       "    .dataframe tbody tr th:only-of-type {\n",
       "        vertical-align: middle;\n",
       "    }\n",
       "\n",
       "    .dataframe tbody tr th {\n",
       "        vertical-align: top;\n",
       "    }\n",
       "\n",
       "    .dataframe thead th {\n",
       "        text-align: right;\n",
       "    }\n",
       "</style>\n",
       "<table border=\"1\" class=\"dataframe\">\n",
       "  <thead>\n",
       "    <tr style=\"text-align: right;\">\n",
       "      <th></th>\n",
       "      <th>Country or Area</th>\n",
       "      <th>Year</th>\n",
       "      <th>Value</th>\n",
       "      <th>Value Footnotes</th>\n",
       "    </tr>\n",
       "  </thead>\n",
       "  <tbody>\n",
       "    <tr>\n",
       "      <th>6863</th>\n",
       "      <td>Zimbabwe</td>\n",
       "      <td>1994</td>\n",
       "      <td>3263.934978</td>\n",
       "      <td>NaN</td>\n",
       "    </tr>\n",
       "    <tr>\n",
       "      <th>6864</th>\n",
       "      <td>Zimbabwe</td>\n",
       "      <td>1993</td>\n",
       "      <td>3033.504852</td>\n",
       "      <td>NaN</td>\n",
       "    </tr>\n",
       "    <tr>\n",
       "      <th>6865</th>\n",
       "      <td>Zimbabwe</td>\n",
       "      <td>1992</td>\n",
       "      <td>3054.889178</td>\n",
       "      <td>NaN</td>\n",
       "    </tr>\n",
       "    <tr>\n",
       "      <th>6866</th>\n",
       "      <td>Zimbabwe</td>\n",
       "      <td>1991</td>\n",
       "      <td>3426.598094</td>\n",
       "      <td>NaN</td>\n",
       "    </tr>\n",
       "    <tr>\n",
       "      <th>6867</th>\n",
       "      <td>Zimbabwe</td>\n",
       "      <td>1990</td>\n",
       "      <td>3324.348171</td>\n",
       "      <td>NaN</td>\n",
       "    </tr>\n",
       "  </tbody>\n",
       "</table>\n",
       "</div>"
      ],
      "text/plain": [
       "     Country or Area  Year        Value  Value Footnotes\n",
       "6863        Zimbabwe  1994  3263.934978              NaN\n",
       "6864        Zimbabwe  1993  3033.504852              NaN\n",
       "6865        Zimbabwe  1992  3054.889178              NaN\n",
       "6866        Zimbabwe  1991  3426.598094              NaN\n",
       "6867        Zimbabwe  1990  3324.348171              NaN"
      ]
     },
     "execution_count": 4,
     "metadata": {},
     "output_type": "execute_result"
    }
   ],
   "source": [
    "gdp_df[-5:]"
   ]
  },
  {
   "cell_type": "markdown",
   "id": "a08ebfa6",
   "metadata": {},
   "source": [
    "drop Value Footnotes column, rename other columns"
   ]
  },
  {
   "cell_type": "code",
   "execution_count": 5,
   "id": "3af640fd",
   "metadata": {},
   "outputs": [],
   "source": [
    "gdp_df.drop(columns='Value Footnotes', inplace=True)"
   ]
  },
  {
   "cell_type": "code",
   "execution_count": 6,
   "id": "8be7892f",
   "metadata": {},
   "outputs": [],
   "source": [
    "gdp_df = gdp_df.rename(columns={'Country or Area':'Country', 'Value':'GDP_Per_Capita'})"
   ]
  },
  {
   "cell_type": "markdown",
   "id": "53766848",
   "metadata": {},
   "source": [
    "How many rows and columns does gdp_df have? What are the data types of its columns? If any of the columns are not the expected types, figure out why and fix it."
   ]
  },
  {
   "cell_type": "code",
   "execution_count": 7,
   "id": "2a644892",
   "metadata": {},
   "outputs": [
    {
     "data": {
      "text/plain": [
       "(6868, 3)"
      ]
     },
     "execution_count": 7,
     "metadata": {},
     "output_type": "execute_result"
    }
   ],
   "source": [
    "gdp_df.shape"
   ]
  },
  {
   "cell_type": "code",
   "execution_count": 8,
   "id": "683b0f70",
   "metadata": {},
   "outputs": [
    {
     "data": {
      "text/plain": [
       "Country            object\n",
       "Year                int64\n",
       "GDP_Per_Capita    float64\n",
       "dtype: object"
      ]
     },
     "execution_count": 8,
     "metadata": {},
     "output_type": "execute_result"
    }
   ],
   "source": [
    "gdp_df.dtypes"
   ]
  },
  {
   "cell_type": "code",
   "execution_count": 9,
   "id": "795ec985",
   "metadata": {},
   "outputs": [],
   "source": [
    "gdp_df['Country'] = gdp_df['Country'].astype(str)"
   ]
  },
  {
   "cell_type": "code",
   "execution_count": 10,
   "id": "b021269f",
   "metadata": {},
   "outputs": [
    {
     "data": {
      "text/plain": [
       "Country            object\n",
       "Year                int64\n",
       "GDP_Per_Capita    float64\n",
       "dtype: object"
      ]
     },
     "execution_count": 10,
     "metadata": {},
     "output_type": "execute_result"
    }
   ],
   "source": [
    "gdp_df.dtypes"
   ]
  },
  {
   "cell_type": "markdown",
   "id": "edd2395b",
   "metadata": {},
   "source": [
    "Which years are represented in this dataset? Take a look at the number of observations per year. What do you notice?"
   ]
  },
  {
   "cell_type": "code",
   "execution_count": 11,
   "id": "8b7f7ec1",
   "metadata": {},
   "outputs": [
    {
     "data": {
      "text/plain": [
       "array([2019, 2018, 2017, 2016, 2015, 2014, 2013, 2012, 2011, 2010, 2009,\n",
       "       2008, 2007, 2006, 2005, 2004, 2003, 2002, 2001, 2000, 1999, 1998,\n",
       "       1997, 1996, 1995, 1994, 1993, 1992, 1991, 1990], dtype=int64)"
      ]
     },
     "execution_count": 11,
     "metadata": {},
     "output_type": "execute_result"
    }
   ],
   "source": [
    "gdp_df['Year'].unique()"
   ]
  },
  {
   "cell_type": "code",
   "execution_count": 12,
   "id": "dbd2d91e",
   "metadata": {},
   "outputs": [
    {
     "data": {
      "text/plain": [
       "2013    238\n",
       "2014    238\n",
       "2016    238\n",
       "2015    238\n",
       "2017    238\n",
       "2012    237\n",
       "2018    237\n",
       "2011    237\n",
       "2009    236\n",
       "2010    236\n",
       "2007    235\n",
       "2008    235\n",
       "2006    235\n",
       "2004    234\n",
       "2005    234\n",
       "2002    233\n",
       "2003    233\n",
       "2001    232\n",
       "2019    231\n",
       "2000    231\n",
       "1999    224\n",
       "1998    223\n",
       "1997    223\n",
       "1996    221\n",
       "1995    221\n",
       "1994    214\n",
       "1993    212\n",
       "1992    209\n",
       "1991    208\n",
       "1990    207\n",
       "Name: Year, dtype: int64"
      ]
     },
     "execution_count": 12,
     "metadata": {},
     "output_type": "execute_result"
    }
   ],
   "source": [
    "gdp_df['Year'].value_counts()"
   ]
  },
  {
   "cell_type": "markdown",
   "id": "096d2d62",
   "metadata": {},
   "source": [
    "How many countries are represented in this dataset? Which countries are least represented in the dataset? Why do you think these countries have so few observations?"
   ]
  },
  {
   "cell_type": "code",
   "execution_count": 13,
   "id": "ef91308a",
   "metadata": {},
   "outputs": [
    {
     "data": {
      "text/plain": [
       "238"
      ]
     },
     "execution_count": 13,
     "metadata": {},
     "output_type": "execute_result"
    }
   ],
   "source": [
    "gdp_df['Country'].nunique()"
   ]
  },
  {
   "cell_type": "code",
   "execution_count": 14,
   "id": "5669e01f",
   "metadata": {},
   "outputs": [
    {
     "data": {
      "text/plain": [
       "Djibouti                      7\n",
       "Turks and Caicos Islands      9\n",
       "Sint Maarten (Dutch part)    10\n",
       "Cayman Islands               13\n",
       "Nauru                        16\n",
       "Afghanistan                  18\n",
       "SÃ£o TomÃ© and Principe      19\n",
       "Timor-Leste                  20\n",
       "Other small states           20\n",
       "Palau                        20\n",
       "Name: Country, dtype: int64"
      ]
     },
     "execution_count": 14,
     "metadata": {},
     "output_type": "execute_result"
    }
   ],
   "source": [
    "gdp_df['Country'].value_counts(ascending=True).head(n=10)"
   ]
  },
  {
   "cell_type": "markdown",
   "id": "b3fe8207",
   "metadata": {},
   "source": [
    "Create a new dataframe by subsetting gdp_df to just the year 2014. Call this new dataframe gdp_2014."
   ]
  },
  {
   "cell_type": "code",
   "execution_count": 15,
   "id": "a7a097b9",
   "metadata": {},
   "outputs": [],
   "source": [
    "gdp_2014 = gdp_df[gdp_df['Year']==2014]"
   ]
  },
  {
   "cell_type": "markdown",
   "id": "639faa54",
   "metadata": {},
   "source": [
    "Use .describe() to find the summary statistics for GDP per capita in 2014."
   ]
  },
  {
   "cell_type": "code",
   "execution_count": 16,
   "id": "307c05e7",
   "metadata": {},
   "outputs": [
    {
     "data": {
      "text/html": [
       "<div>\n",
       "<style scoped>\n",
       "    .dataframe tbody tr th:only-of-type {\n",
       "        vertical-align: middle;\n",
       "    }\n",
       "\n",
       "    .dataframe tbody tr th {\n",
       "        vertical-align: top;\n",
       "    }\n",
       "\n",
       "    .dataframe thead th {\n",
       "        text-align: right;\n",
       "    }\n",
       "</style>\n",
       "<table border=\"1\" class=\"dataframe\">\n",
       "  <thead>\n",
       "    <tr style=\"text-align: right;\">\n",
       "      <th></th>\n",
       "      <th>Year</th>\n",
       "      <th>GDP_Per_Capita</th>\n",
       "    </tr>\n",
       "  </thead>\n",
       "  <tbody>\n",
       "    <tr>\n",
       "      <th>count</th>\n",
       "      <td>238.0</td>\n",
       "      <td>238.000000</td>\n",
       "    </tr>\n",
       "    <tr>\n",
       "      <th>mean</th>\n",
       "      <td>2014.0</td>\n",
       "      <td>19766.710348</td>\n",
       "    </tr>\n",
       "    <tr>\n",
       "      <th>std</th>\n",
       "      <td>0.0</td>\n",
       "      <td>20983.869623</td>\n",
       "    </tr>\n",
       "    <tr>\n",
       "      <th>min</th>\n",
       "      <td>2014.0</td>\n",
       "      <td>822.610458</td>\n",
       "    </tr>\n",
       "    <tr>\n",
       "      <th>25%</th>\n",
       "      <td>2014.0</td>\n",
       "      <td>4753.110934</td>\n",
       "    </tr>\n",
       "    <tr>\n",
       "      <th>50%</th>\n",
       "      <td>2014.0</td>\n",
       "      <td>12209.385755</td>\n",
       "    </tr>\n",
       "    <tr>\n",
       "      <th>75%</th>\n",
       "      <td>2014.0</td>\n",
       "      <td>26803.610474</td>\n",
       "    </tr>\n",
       "    <tr>\n",
       "      <th>max</th>\n",
       "      <td>2014.0</td>\n",
       "      <td>156514.133850</td>\n",
       "    </tr>\n",
       "  </tbody>\n",
       "</table>\n",
       "</div>"
      ],
      "text/plain": [
       "         Year  GDP_Per_Capita\n",
       "count   238.0      238.000000\n",
       "mean   2014.0    19766.710348\n",
       "std       0.0    20983.869623\n",
       "min    2014.0      822.610458\n",
       "25%    2014.0     4753.110934\n",
       "50%    2014.0    12209.385755\n",
       "75%    2014.0    26803.610474\n",
       "max    2014.0   156514.133850"
      ]
     },
     "execution_count": 16,
     "metadata": {},
     "output_type": "execute_result"
    }
   ],
   "source": [
    "gdp_2014.describe()"
   ]
  },
  {
   "cell_type": "markdown",
   "id": "d5a2e885",
   "metadata": {},
   "source": [
    "Create a histogram of GDP Per Capita numbers for 2014 (you may wish to adjust the number of bins for your histogram). How would you describe the shape of the distribution?"
   ]
  },
  {
   "cell_type": "code",
   "execution_count": 17,
   "id": "e4ee0e1b",
   "metadata": {},
   "outputs": [
    {
     "data": {
      "image/png": "[encoded data removed]",
      "text/plain": [
       "<Figure size 864x432 with 1 Axes>"
      ]
     },
     "metadata": {
      "needs_background": "light"
     },
     "output_type": "display_data"
    }
   ],
   "source": [
    "gdp_2014.hist(column='GDP_Per_Capita', bins=15, figsize=(12,6));"
   ]
  },
  {
   "cell_type": "markdown",
   "id": "c99b317a",
   "metadata": {},
   "source": [
    "Find the top 5 counties and bottom 5 countries by GDP per capita in 2014."
   ]
  },
  {
   "cell_type": "code",
   "execution_count": 18,
   "id": "4e3813d4",
   "metadata": {},
   "outputs": [
    {
     "data": {
      "text/html": [
       "<div>\n",
       "<style scoped>\n",
       "    .dataframe tbody tr th:only-of-type {\n",
       "        vertical-align: middle;\n",
       "    }\n",
       "\n",
       "    .dataframe tbody tr th {\n",
       "        vertical-align: top;\n",
       "    }\n",
       "\n",
       "    .dataframe thead th {\n",
       "        text-align: right;\n",
       "    }\n",
       "</style>\n",
       "<table border=\"1\" class=\"dataframe\">\n",
       "  <thead>\n",
       "    <tr style=\"text-align: right;\">\n",
       "      <th></th>\n",
       "      <th>Country</th>\n",
       "      <th>Year</th>\n",
       "      <th>GDP_Per_Capita</th>\n",
       "    </tr>\n",
       "  </thead>\n",
       "  <tbody>\n",
       "    <tr>\n",
       "      <th>3721</th>\n",
       "      <td>Macao SAR, China</td>\n",
       "      <td>2014</td>\n",
       "      <td>156514.133850</td>\n",
       "    </tr>\n",
       "    <tr>\n",
       "      <th>3691</th>\n",
       "      <td>Luxembourg</td>\n",
       "      <td>2014</td>\n",
       "      <td>108760.916030</td>\n",
       "    </tr>\n",
       "    <tr>\n",
       "      <th>5138</th>\n",
       "      <td>Qatar</td>\n",
       "      <td>2014</td>\n",
       "      <td>95578.416973</td>\n",
       "    </tr>\n",
       "    <tr>\n",
       "      <th>5464</th>\n",
       "      <td>Singapore</td>\n",
       "      <td>2014</td>\n",
       "      <td>87808.663157</td>\n",
       "    </tr>\n",
       "    <tr>\n",
       "      <th>561</th>\n",
       "      <td>Bermuda</td>\n",
       "      <td>2014</td>\n",
       "      <td>77361.104881</td>\n",
       "    </tr>\n",
       "  </tbody>\n",
       "</table>\n",
       "</div>"
      ],
      "text/plain": [
       "               Country  Year  GDP_Per_Capita\n",
       "3721  Macao SAR, China  2014   156514.133850\n",
       "3691        Luxembourg  2014   108760.916030\n",
       "5138             Qatar  2014    95578.416973\n",
       "5464         Singapore  2014    87808.663157\n",
       "561            Bermuda  2014    77361.104881"
      ]
     },
     "execution_count": 18,
     "metadata": {},
     "output_type": "execute_result"
    }
   ],
   "source": [
    "gdp_2014.sort_values(by=['GDP_Per_Capita'], ascending=False).head(5)"
   ]
  },
  {
   "cell_type": "code",
   "execution_count": 19,
   "id": "9a049b2f",
   "metadata": {},
   "outputs": [
    {
     "data": {
      "text/html": [
       "<div>\n",
       "<style scoped>\n",
       "    .dataframe tbody tr th:only-of-type {\n",
       "        vertical-align: middle;\n",
       "    }\n",
       "\n",
       "    .dataframe tbody tr th {\n",
       "        vertical-align: top;\n",
       "    }\n",
       "\n",
       "    .dataframe thead th {\n",
       "        text-align: right;\n",
       "    }\n",
       "</style>\n",
       "<table border=\"1\" class=\"dataframe\">\n",
       "  <thead>\n",
       "    <tr style=\"text-align: right;\">\n",
       "      <th></th>\n",
       "      <th>Country</th>\n",
       "      <th>Year</th>\n",
       "      <th>GDP_Per_Capita</th>\n",
       "    </tr>\n",
       "  </thead>\n",
       "  <tbody>\n",
       "    <tr>\n",
       "      <th>1047</th>\n",
       "      <td>Central African Republic</td>\n",
       "      <td>2014</td>\n",
       "      <td>822.610458</td>\n",
       "    </tr>\n",
       "    <tr>\n",
       "      <th>827</th>\n",
       "      <td>Burundi</td>\n",
       "      <td>2014</td>\n",
       "      <td>886.235777</td>\n",
       "    </tr>\n",
       "    <tr>\n",
       "      <th>3781</th>\n",
       "      <td>Malawi</td>\n",
       "      <td>2014</td>\n",
       "      <td>1027.208496</td>\n",
       "    </tr>\n",
       "    <tr>\n",
       "      <th>1422</th>\n",
       "      <td>Dem. Rep. Congo</td>\n",
       "      <td>2014</td>\n",
       "      <td>1029.790785</td>\n",
       "    </tr>\n",
       "    <tr>\n",
       "      <th>4528</th>\n",
       "      <td>Niger</td>\n",
       "      <td>2014</td>\n",
       "      <td>1127.615541</td>\n",
       "    </tr>\n",
       "  </tbody>\n",
       "</table>\n",
       "</div>"
      ],
      "text/plain": [
       "                       Country  Year  GDP_Per_Capita\n",
       "1047  Central African Republic  2014      822.610458\n",
       "827                    Burundi  2014      886.235777\n",
       "3781                    Malawi  2014     1027.208496\n",
       "1422           Dem. Rep. Congo  2014     1029.790785\n",
       "4528                     Niger  2014     1127.615541"
      ]
     },
     "execution_count": 19,
     "metadata": {},
     "output_type": "execute_result"
    }
   ],
   "source": [
    "gdp_2014.sort_values(by=['GDP_Per_Capita'], ascending=True).head(5)"
   ]
  },
  {
   "cell_type": "markdown",
   "id": "bcc47a94",
   "metadata": {},
   "source": [
    "Now, return to the full dataset, gdp_df. Pivot the data for 1990 and 2017 (using the pandas .pivot_table() method or another method) so that each row corresponds to a country, each column corresponds to a year, and the values in the table give the GDP_Per_Capita amount. Drop any rows that are missing values for either 1990 or 2017. Save the result to a dataframe named gdp_pivoted."
   ]
  },
  {
   "cell_type": "code",
   "execution_count": 20,
   "id": "e756c416",
   "metadata": {},
   "outputs": [],
   "source": [
    "gdp_df_90_17 = gdp_df[gdp_df['Year'].isin([1990,2017])]\n",
    "gdp_pivoted = gdp_df_90_17.pivot_table(values='GDP_Per_Capita', index='Country', columns='Year')\n",
    "gdp_pivoted = gdp_pivoted.dropna(axis=0)"
   ]
  },
  {
   "cell_type": "code",
   "execution_count": 21,
   "id": "16b78ac0",
   "metadata": {},
   "outputs": [
    {
     "data": {
      "text/html": [
       "<div>\n",
       "<style scoped>\n",
       "    .dataframe tbody tr th:only-of-type {\n",
       "        vertical-align: middle;\n",
       "    }\n",
       "\n",
       "    .dataframe tbody tr th {\n",
       "        vertical-align: top;\n",
       "    }\n",
       "\n",
       "    .dataframe thead th {\n",
       "        text-align: right;\n",
       "    }\n",
       "</style>\n",
       "<table border=\"1\" class=\"dataframe\">\n",
       "  <thead>\n",
       "    <tr style=\"text-align: right;\">\n",
       "      <th>Year</th>\n",
       "      <th>1990</th>\n",
       "      <th>2017</th>\n",
       "    </tr>\n",
       "    <tr>\n",
       "      <th>Country</th>\n",
       "      <th></th>\n",
       "      <th></th>\n",
       "    </tr>\n",
       "  </thead>\n",
       "  <tbody>\n",
       "    <tr>\n",
       "      <th>Albania</th>\n",
       "      <td>4842.734635</td>\n",
       "      <td>12811.759436</td>\n",
       "    </tr>\n",
       "    <tr>\n",
       "      <th>Algeria</th>\n",
       "      <td>8746.352901</td>\n",
       "      <td>11737.409353</td>\n",
       "    </tr>\n",
       "    <tr>\n",
       "      <th>Angola</th>\n",
       "      <td>5783.429064</td>\n",
       "      <td>7310.901738</td>\n",
       "    </tr>\n",
       "    <tr>\n",
       "      <th>Antigua and Barbuda</th>\n",
       "      <td>15459.551675</td>\n",
       "      <td>19840.076123</td>\n",
       "    </tr>\n",
       "    <tr>\n",
       "      <th>Arab World</th>\n",
       "      <td>9694.667544</td>\n",
       "      <td>14555.474921</td>\n",
       "    </tr>\n",
       "  </tbody>\n",
       "</table>\n",
       "</div>"
      ],
      "text/plain": [
       "Year                         1990          2017\n",
       "Country                                        \n",
       "Albania               4842.734635  12811.759436\n",
       "Algeria               8746.352901  11737.409353\n",
       "Angola                5783.429064   7310.901738\n",
       "Antigua and Barbuda  15459.551675  19840.076123\n",
       "Arab World            9694.667544  14555.474921"
      ]
     },
     "execution_count": 21,
     "metadata": {},
     "output_type": "execute_result"
    }
   ],
   "source": [
    "gdp_pivoted.head()"
   ]
  },
  {
   "cell_type": "markdown",
   "id": "db298314",
   "metadata": {},
   "source": [
    "Create a new column in gdp_pivoted named Percent_Change. This column should contain the percent change in GDP_Per_Capita from 1990 to 2017. Hint: Percent change is calculated as 100*(New Value - Old Value) / Old Value."
   ]
  },
  {
   "cell_type": "code",
   "execution_count": 22,
   "id": "0f37d9d7",
   "metadata": {},
   "outputs": [],
   "source": [
    "gdp_pivoted['Percent_Change'] = 100 * ((gdp_pivoted[2017]-gdp_pivoted[1990]) / gdp_pivoted[1990])"
   ]
  },
  {
   "cell_type": "markdown",
   "id": "ac2514dc",
   "metadata": {},
   "source": [
    "How many countries experienced a negative percent change in GDP per capita from 1990 to 2017?"
   ]
  },
  {
   "cell_type": "code",
   "execution_count": 23,
   "id": "0b90535b",
   "metadata": {},
   "outputs": [
    {
     "data": {
      "text/plain": [
       "False    190\n",
       "True      17\n",
       "Name: Percent_Change, dtype: int64"
      ]
     },
     "execution_count": 23,
     "metadata": {},
     "output_type": "execute_result"
    }
   ],
   "source": [
    "(gdp_pivoted['Percent_Change']<0).value_counts()"
   ]
  },
  {
   "cell_type": "markdown",
   "id": "83d7d9de",
   "metadata": {},
   "source": [
    "Which country had the highest % change in GDP per capita? Create a line plot showing this country's GDP per capita for all years from 1990 to 2017. Create another showing the country with the second highest % change in GDP. How do the trends in these countries compare?\n",
    "Bonus: Put both line charts on the same plot."
   ]
  },
  {
   "cell_type": "code",
   "execution_count": 24,
   "id": "a0e55c61",
   "metadata": {
    "scrolled": false
   },
   "outputs": [
    {
     "data": {
      "text/html": [
       "<div>\n",
       "<style scoped>\n",
       "    .dataframe tbody tr th:only-of-type {\n",
       "        vertical-align: middle;\n",
       "    }\n",
       "\n",
       "    .dataframe tbody tr th {\n",
       "        vertical-align: top;\n",
       "    }\n",
       "\n",
       "    .dataframe thead th {\n",
       "        text-align: right;\n",
       "    }\n",
       "</style>\n",
       "<table border=\"1\" class=\"dataframe\">\n",
       "  <thead>\n",
       "    <tr style=\"text-align: right;\">\n",
       "      <th>Year</th>\n",
       "      <th>1990</th>\n",
       "      <th>2017</th>\n",
       "      <th>Percent_Change</th>\n",
       "    </tr>\n",
       "    <tr>\n",
       "      <th>Country</th>\n",
       "      <th></th>\n",
       "      <th></th>\n",
       "      <th></th>\n",
       "    </tr>\n",
       "  </thead>\n",
       "  <tbody>\n",
       "    <tr>\n",
       "      <th>Equatorial Guinea</th>\n",
       "      <td>1039.985049</td>\n",
       "      <td>22551.083246</td>\n",
       "      <td>2068.404561</td>\n",
       "    </tr>\n",
       "    <tr>\n",
       "      <th>China</th>\n",
       "      <td>1423.896348</td>\n",
       "      <td>14344.421239</td>\n",
       "      <td>907.406281</td>\n",
       "    </tr>\n",
       "  </tbody>\n",
       "</table>\n",
       "</div>"
      ],
      "text/plain": [
       "Year                      1990          2017  Percent_Change\n",
       "Country                                                     \n",
       "Equatorial Guinea  1039.985049  22551.083246     2068.404561\n",
       "China              1423.896348  14344.421239      907.406281"
      ]
     },
     "execution_count": 24,
     "metadata": {},
     "output_type": "execute_result"
    }
   ],
   "source": [
    "gdp_pivoted.sort_values('Percent_Change', ascending=False).head(n=2)"
   ]
  },
  {
   "cell_type": "code",
   "execution_count": 25,
   "id": "34f162fb",
   "metadata": {},
   "outputs": [
    {
     "data": {
      "image/png": "[encoded data removed]",
      "text/plain": [
       "<Figure size 864x432 with 2 Axes>"
      ]
     },
     "metadata": {
      "needs_background": "light"
     },
     "output_type": "display_data"
    }
   ],
   "source": [
    "# Dataframes for Equitoreal Guinea and China\n",
    "eg = gdp_df[gdp_df['Country']=='Equatorial Guinea']\n",
    "china = gdp_df[gdp_df['Country']=='China']\n",
    "\n",
    "# Line plot for Equitoreal Guniea\n",
    "fig, ax = plt.subplots(figsize=(12,6))\n",
    "lineplot = sns.lineplot(x=eg['Year'], y=eg['GDP_Per_Capita'], data=eg, \n",
    "                        label = 'Equitoreal Guinea', legend=False)\n",
    "sns.despine()\n",
    "plt.ylabel('GDP Per Capita - Equitoreal Guinea')\n",
    "plt.title('GDP Per Capita Trends in Equitoreal Guinea and China', pad=20);\n",
    "\n",
    "# Line plot for China\n",
    "ax2 = ax.twinx()\n",
    "lineplot2 = sns.lineplot(x=china['Year'], y=china['GDP_Per_Capita'], ax=ax2, color=\"r\", \n",
    "                         label ='China', legend=False) \n",
    "sns.despine(right=False)\n",
    "plt.ylabel('GDP Per Capita - China')\n",
    "ax.figure.legend();"
   ]
  },
  {
   "cell_type": "markdown",
   "id": "09b9907e",
   "metadata": {},
   "source": [
    "Read in continents.csv contained in the data folder into a new dataframe called continents. We will be using this dataframe to add a new column to our dataset."
   ]
  },
  {
   "cell_type": "code",
   "execution_count": 26,
   "id": "25879d42",
   "metadata": {},
   "outputs": [],
   "source": [
    "continents = pd.read_csv(\"C:/Users/vredd/Documents/data_science_projects/un_exploration-vredd418/data/continents.csv\")"
   ]
  },
  {
   "cell_type": "markdown",
   "id": "ee963c8c",
   "metadata": {},
   "source": [
    "Merge gdp_df and continents. Keep only the countries that appear in both data frames. Save the result back to gdp_df."
   ]
  },
  {
   "cell_type": "code",
   "execution_count": 27,
   "id": "3a2356f8",
   "metadata": {},
   "outputs": [],
   "source": [
    "gdp_df = gdp_df.merge(continents, on='Country')"
   ]
  },
  {
   "cell_type": "markdown",
   "id": "075da67a",
   "metadata": {},
   "source": [
    "Determine the number of countries per continent. Create a bar chart showing this."
   ]
  },
  {
   "cell_type": "code",
   "execution_count": 28,
   "id": "2f825ca7",
   "metadata": {},
   "outputs": [
    {
     "data": {
      "text/html": [
       "<div>\n",
       "<style scoped>\n",
       "    .dataframe tbody tr th:only-of-type {\n",
       "        vertical-align: middle;\n",
       "    }\n",
       "\n",
       "    .dataframe tbody tr th {\n",
       "        vertical-align: top;\n",
       "    }\n",
       "\n",
       "    .dataframe thead th {\n",
       "        text-align: right;\n",
       "    }\n",
       "</style>\n",
       "<table border=\"1\" class=\"dataframe\">\n",
       "  <thead>\n",
       "    <tr style=\"text-align: right;\">\n",
       "      <th></th>\n",
       "      <th>Continent</th>\n",
       "      <th>Country</th>\n",
       "    </tr>\n",
       "  </thead>\n",
       "  <tbody>\n",
       "    <tr>\n",
       "      <th>0</th>\n",
       "      <td>Africa</td>\n",
       "      <td>49</td>\n",
       "    </tr>\n",
       "    <tr>\n",
       "      <th>1</th>\n",
       "      <td>Europe</td>\n",
       "      <td>45</td>\n",
       "    </tr>\n",
       "    <tr>\n",
       "      <th>2</th>\n",
       "      <td>Asia</td>\n",
       "      <td>43</td>\n",
       "    </tr>\n",
       "    <tr>\n",
       "      <th>3</th>\n",
       "      <td>North America</td>\n",
       "      <td>26</td>\n",
       "    </tr>\n",
       "    <tr>\n",
       "      <th>4</th>\n",
       "      <td>Oceania</td>\n",
       "      <td>14</td>\n",
       "    </tr>\n",
       "    <tr>\n",
       "      <th>5</th>\n",
       "      <td>South America</td>\n",
       "      <td>11</td>\n",
       "    </tr>\n",
       "  </tbody>\n",
       "</table>\n",
       "</div>"
      ],
      "text/plain": [
       "       Continent  Country\n",
       "0         Africa       49\n",
       "1         Europe       45\n",
       "2           Asia       43\n",
       "3  North America       26\n",
       "4        Oceania       14\n",
       "5  South America       11"
      ]
     },
     "execution_count": 28,
     "metadata": {},
     "output_type": "execute_result"
    }
   ],
   "source": [
    "gdp_country_cont = pd.DataFrame(gdp_df.groupby(['Continent'])['Country'].nunique())\n",
    "gdp_country_cont.sort_values(by=['Country'], ascending = False).reset_index()"
   ]
  },
  {
   "cell_type": "code",
   "execution_count": 29,
   "id": "781a49aa",
   "metadata": {},
   "outputs": [
    {
     "data": {
      "text/plain": [
       "Index(['Africa', 'Asia', 'Europe', 'North America', 'Oceania',\n",
       "       'South America'],\n",
       "      dtype='object', name='Continent')"
      ]
     },
     "execution_count": 29,
     "metadata": {},
     "output_type": "execute_result"
    }
   ],
   "source": [
    "gdp_country_cont.index"
   ]
  },
  {
   "cell_type": "code",
   "execution_count": 30,
   "id": "b90d791e",
   "metadata": {
    "scrolled": false
   },
   "outputs": [
    {
     "data": {
      "image/png": "[encoded data removed]",
      "text/plain": [
       "<Figure size 432x288 with 1 Axes>"
      ]
     },
     "metadata": {
      "needs_background": "light"
     },
     "output_type": "display_data"
    }
   ],
   "source": [
    "plt.bar(gdp_country_cont.index, gdp_country_cont['Country']);"
   ]
  },
  {
   "cell_type": "markdown",
   "id": "20deff50",
   "metadata": {},
   "source": [
    "Create a seaborn boxplot showing GDP per capita in 2014 split out by continent. What do you notice?"
   ]
  },
  {
   "cell_type": "code",
   "execution_count": 31,
   "id": "a8d313ca",
   "metadata": {},
   "outputs": [
    {
     "data": {
      "image/png": "[encoded data removed]",
      "text/plain": [
       "<Figure size 864x432 with 1 Axes>"
      ]
     },
     "metadata": {},
     "output_type": "display_data"
    }
   ],
   "source": [
    "gdp_sns = gdp_df[gdp_df['Year']==2014]\n",
    "sns.set(rc={'figure.figsize':(12,6)})\n",
    "sns.boxplot(x=gdp_sns['Continent'], y=gdp_sns['GDP_Per_Capita']);"
   ]
  },
  {
   "cell_type": "markdown",
   "id": "70eb0568",
   "metadata": {},
   "source": [
    "Read in internet_use.csv into a DataFrame called internet_df. You will most likely get an error message when doing this - figure out what is going wrong and fix it. Take a look at the first and last five rows and make any corrections to your read_csv() call to fix this. Again, do not modify the original datasets."
   ]
  },
  {
   "cell_type": "code",
   "execution_count": 32,
   "id": "13fb82bb",
   "metadata": {},
   "outputs": [
    {
     "data": {
      "text/html": [
       "<div>\n",
       "<style scoped>\n",
       "    .dataframe tbody tr th:only-of-type {\n",
       "        vertical-align: middle;\n",
       "    }\n",
       "\n",
       "    .dataframe tbody tr th {\n",
       "        vertical-align: top;\n",
       "    }\n",
       "\n",
       "    .dataframe thead th {\n",
       "        text-align: right;\n",
       "    }\n",
       "</style>\n",
       "<table border=\"1\" class=\"dataframe\">\n",
       "  <thead>\n",
       "    <tr style=\"text-align: right;\">\n",
       "      <th></th>\n",
       "      <th>Country or Area</th>\n",
       "      <th>Year</th>\n",
       "      <th>Value</th>\n",
       "      <th>Value Footnotes</th>\n",
       "    </tr>\n",
       "  </thead>\n",
       "  <tbody>\n",
       "    <tr>\n",
       "      <th>0</th>\n",
       "      <td>Afghanistan</td>\n",
       "      <td>2014</td>\n",
       "      <td>6.390000</td>\n",
       "      <td>NaN</td>\n",
       "    </tr>\n",
       "    <tr>\n",
       "      <th>1</th>\n",
       "      <td>Afghanistan</td>\n",
       "      <td>2013</td>\n",
       "      <td>5.900000</td>\n",
       "      <td>NaN</td>\n",
       "    </tr>\n",
       "    <tr>\n",
       "      <th>2</th>\n",
       "      <td>Afghanistan</td>\n",
       "      <td>2012</td>\n",
       "      <td>5.454545</td>\n",
       "      <td>NaN</td>\n",
       "    </tr>\n",
       "    <tr>\n",
       "      <th>3</th>\n",
       "      <td>Afghanistan</td>\n",
       "      <td>2011</td>\n",
       "      <td>5.000000</td>\n",
       "      <td>NaN</td>\n",
       "    </tr>\n",
       "    <tr>\n",
       "      <th>4</th>\n",
       "      <td>Afghanistan</td>\n",
       "      <td>2010</td>\n",
       "      <td>4.000000</td>\n",
       "      <td>NaN</td>\n",
       "    </tr>\n",
       "    <tr>\n",
       "      <th>...</th>\n",
       "      <td>...</td>\n",
       "      <td>...</td>\n",
       "      <td>...</td>\n",
       "      <td>...</td>\n",
       "    </tr>\n",
       "    <tr>\n",
       "      <th>4490</th>\n",
       "      <td>Zimbabwe</td>\n",
       "      <td>1997</td>\n",
       "      <td>0.033080</td>\n",
       "      <td>NaN</td>\n",
       "    </tr>\n",
       "    <tr>\n",
       "      <th>4491</th>\n",
       "      <td>Zimbabwe</td>\n",
       "      <td>1996</td>\n",
       "      <td>0.016790</td>\n",
       "      <td>NaN</td>\n",
       "    </tr>\n",
       "    <tr>\n",
       "      <th>4492</th>\n",
       "      <td>Zimbabwe</td>\n",
       "      <td>1995</td>\n",
       "      <td>0.007684</td>\n",
       "      <td>NaN</td>\n",
       "    </tr>\n",
       "    <tr>\n",
       "      <th>4493</th>\n",
       "      <td>Zimbabwe</td>\n",
       "      <td>1994</td>\n",
       "      <td>0.001739</td>\n",
       "      <td>NaN</td>\n",
       "    </tr>\n",
       "    <tr>\n",
       "      <th>4494</th>\n",
       "      <td>Zimbabwe</td>\n",
       "      <td>1990</td>\n",
       "      <td>0.000000</td>\n",
       "      <td>NaN</td>\n",
       "    </tr>\n",
       "  </tbody>\n",
       "</table>\n",
       "<p>4495 rows × 4 columns</p>\n",
       "</div>"
      ],
      "text/plain": [
       "     Country or Area  Year     Value  Value Footnotes\n",
       "0        Afghanistan  2014  6.390000              NaN\n",
       "1        Afghanistan  2013  5.900000              NaN\n",
       "2        Afghanistan  2012  5.454545              NaN\n",
       "3        Afghanistan  2011  5.000000              NaN\n",
       "4        Afghanistan  2010  4.000000              NaN\n",
       "...              ...   ...       ...              ...\n",
       "4490        Zimbabwe  1997  0.033080              NaN\n",
       "4491        Zimbabwe  1996  0.016790              NaN\n",
       "4492        Zimbabwe  1995  0.007684              NaN\n",
       "4493        Zimbabwe  1994  0.001739              NaN\n",
       "4494        Zimbabwe  1990  0.000000              NaN\n",
       "\n",
       "[4495 rows x 4 columns]"
      ]
     },
     "execution_count": 32,
     "metadata": {},
     "output_type": "execute_result"
    }
   ],
   "source": [
    "internet_df = pd.read_csv(\"C:/Users/vredd/Documents/data_science_projects/un_exploration-vredd418/data/internet_use.csv\", nrows=4495)\n",
    "internet_df"
   ]
  },
  {
   "cell_type": "markdown",
   "id": "66bda890",
   "metadata": {},
   "source": [
    "Drop the Value Footnotes column and then rename the columns to ‘Country’, ‘Year’, and ‘Internet_Users_Pct’."
   ]
  },
  {
   "cell_type": "code",
   "execution_count": 33,
   "id": "51c2db75",
   "metadata": {},
   "outputs": [],
   "source": [
    "internet_df = internet_df.drop(columns='Value Footnotes').rename(columns={'Country or Area':'Country', 'Value':'Internet_Users_Pct'})"
   ]
  },
  {
   "cell_type": "markdown",
   "id": "5ba1479d",
   "metadata": {},
   "source": [
    "How many rows and columns does this new dataset have? What are the types of its columns? Ensure that the Internet_Users_Pct column is a numeric data type and fix it if it is not."
   ]
  },
  {
   "cell_type": "code",
   "execution_count": 34,
   "id": "96bbd064",
   "metadata": {},
   "outputs": [
    {
     "data": {
      "text/plain": [
       "(4495, 3)"
      ]
     },
     "execution_count": 34,
     "metadata": {},
     "output_type": "execute_result"
    }
   ],
   "source": [
    "internet_df.shape"
   ]
  },
  {
   "cell_type": "code",
   "execution_count": 35,
   "id": "979d7224",
   "metadata": {},
   "outputs": [
    {
     "data": {
      "text/plain": [
       "Country                object\n",
       "Year                    int64\n",
       "Internet_Users_Pct    float64\n",
       "dtype: object"
      ]
     },
     "execution_count": 35,
     "metadata": {},
     "output_type": "execute_result"
    }
   ],
   "source": [
    "internet_df.dtypes"
   ]
  },
  {
   "cell_type": "markdown",
   "id": "f5f96f1d",
   "metadata": {},
   "source": [
    "What is the first year that has a nonzero internet users percentage reported? What is the general trend in internet users percentage over the years. Pick a visualization that you think illustrates this trend well."
   ]
  },
  {
   "cell_type": "code",
   "execution_count": 36,
   "id": "c6e6a1b6",
   "metadata": {},
   "outputs": [
    {
     "data": {
      "text/html": [
       "<div>\n",
       "<style scoped>\n",
       "    .dataframe tbody tr th:only-of-type {\n",
       "        vertical-align: middle;\n",
       "    }\n",
       "\n",
       "    .dataframe tbody tr th {\n",
       "        vertical-align: top;\n",
       "    }\n",
       "\n",
       "    .dataframe thead th {\n",
       "        text-align: right;\n",
       "    }\n",
       "</style>\n",
       "<table border=\"1\" class=\"dataframe\">\n",
       "  <thead>\n",
       "    <tr style=\"text-align: right;\">\n",
       "      <th></th>\n",
       "      <th>Country</th>\n",
       "      <th>Year</th>\n",
       "      <th>Internet_Users_Pct</th>\n",
       "    </tr>\n",
       "  </thead>\n",
       "  <tbody>\n",
       "    <tr>\n",
       "      <th>2048</th>\n",
       "      <td>Italy</td>\n",
       "      <td>1990</td>\n",
       "      <td>0.017545</td>\n",
       "    </tr>\n",
       "  </tbody>\n",
       "</table>\n",
       "</div>"
      ],
      "text/plain": [
       "     Country  Year  Internet_Users_Pct\n",
       "2048   Italy  1990            0.017545"
      ]
     },
     "execution_count": 36,
     "metadata": {},
     "output_type": "execute_result"
    }
   ],
   "source": [
    "internet_df[internet_df['Internet_Users_Pct']>0].sort_values('Year')[:1]"
   ]
  },
  {
   "cell_type": "code",
   "execution_count": 37,
   "id": "b28203f8",
   "metadata": {},
   "outputs": [
    {
     "data": {
      "image/png": "[encoded data removed]",
      "text/plain": [
       "<Figure size 864x432 with 1 Axes>"
      ]
     },
     "metadata": {},
     "output_type": "display_data"
    }
   ],
   "source": [
    "trend = internet_df.groupby('Year', as_index=False)['Internet_Users_Pct'].mean()\n",
    "trend.plot(x='Year', y='Internet_Users_Pct', kind='line');"
   ]
  },
  {
   "cell_type": "markdown",
   "id": "6f37237d",
   "metadata": {},
   "source": [
    "Merge gdp_df and internet_df (on Country and Year) into a single DataFrame named gdp_and_internet_use. Keep only countries and years that appear in both tables.\n",
    "Difficult Bonus: Do not attempt this part until you have completed all other portions of the data question. Some countries have slightly different names in the internet use and gdp dataframes. For example, the Central African Republic is \"Central African Republic\" in the gdp dataframe and \"Central African Rep.\" in the internet use dataframe. Find as many instances like this as you can and resolve them so that when merging you keep the maximum number of countries possible."
   ]
  },
  {
   "cell_type": "code",
   "execution_count": 38,
   "id": "50d18df0",
   "metadata": {},
   "outputs": [],
   "source": [
    "gdp_and_internet_use = gdp_df.merge(internet_df, on=['Country', 'Year'])"
   ]
  },
  {
   "cell_type": "markdown",
   "id": "a3c6423b",
   "metadata": {},
   "source": [
    "Look at the first five rows of your new data frame to confirm it merged correctly. Also, check the last five rows to make sure the data is clean and as expected.\n",
    "\n"
   ]
  },
  {
   "cell_type": "code",
   "execution_count": 39,
   "id": "bff05cf6",
   "metadata": {},
   "outputs": [
    {
     "data": {
      "text/html": [
       "<div>\n",
       "<style scoped>\n",
       "    .dataframe tbody tr th:only-of-type {\n",
       "        vertical-align: middle;\n",
       "    }\n",
       "\n",
       "    .dataframe tbody tr th {\n",
       "        vertical-align: top;\n",
       "    }\n",
       "\n",
       "    .dataframe thead th {\n",
       "        text-align: right;\n",
       "    }\n",
       "</style>\n",
       "<table border=\"1\" class=\"dataframe\">\n",
       "  <thead>\n",
       "    <tr style=\"text-align: right;\">\n",
       "      <th></th>\n",
       "      <th>Country</th>\n",
       "      <th>Year</th>\n",
       "      <th>GDP_Per_Capita</th>\n",
       "      <th>Continent</th>\n",
       "      <th>Internet_Users_Pct</th>\n",
       "    </tr>\n",
       "  </thead>\n",
       "  <tbody>\n",
       "    <tr>\n",
       "      <th>0</th>\n",
       "      <td>Afghanistan</td>\n",
       "      <td>2014</td>\n",
       "      <td>2102.385234</td>\n",
       "      <td>Asia</td>\n",
       "      <td>6.390000</td>\n",
       "    </tr>\n",
       "    <tr>\n",
       "      <th>1</th>\n",
       "      <td>Afghanistan</td>\n",
       "      <td>2013</td>\n",
       "      <td>2116.465454</td>\n",
       "      <td>Asia</td>\n",
       "      <td>5.900000</td>\n",
       "    </tr>\n",
       "    <tr>\n",
       "      <th>2</th>\n",
       "      <td>Afghanistan</td>\n",
       "      <td>2012</td>\n",
       "      <td>2075.491747</td>\n",
       "      <td>Asia</td>\n",
       "      <td>5.454545</td>\n",
       "    </tr>\n",
       "    <tr>\n",
       "      <th>3</th>\n",
       "      <td>Afghanistan</td>\n",
       "      <td>2011</td>\n",
       "      <td>1904.559799</td>\n",
       "      <td>Asia</td>\n",
       "      <td>5.000000</td>\n",
       "    </tr>\n",
       "    <tr>\n",
       "      <th>4</th>\n",
       "      <td>Afghanistan</td>\n",
       "      <td>2010</td>\n",
       "      <td>1957.029338</td>\n",
       "      <td>Asia</td>\n",
       "      <td>4.000000</td>\n",
       "    </tr>\n",
       "  </tbody>\n",
       "</table>\n",
       "</div>"
      ],
      "text/plain": [
       "       Country  Year  GDP_Per_Capita Continent  Internet_Users_Pct\n",
       "0  Afghanistan  2014     2102.385234      Asia            6.390000\n",
       "1  Afghanistan  2013     2116.465454      Asia            5.900000\n",
       "2  Afghanistan  2012     2075.491747      Asia            5.454545\n",
       "3  Afghanistan  2011     1904.559799      Asia            5.000000\n",
       "4  Afghanistan  2010     1957.029338      Asia            4.000000"
      ]
     },
     "execution_count": 39,
     "metadata": {},
     "output_type": "execute_result"
    }
   ],
   "source": [
    "gdp_and_internet_use[:5]"
   ]
  },
  {
   "cell_type": "code",
   "execution_count": 40,
   "id": "4dc8432c",
   "metadata": {},
   "outputs": [
    {
     "data": {
      "text/html": [
       "<div>\n",
       "<style scoped>\n",
       "    .dataframe tbody tr th:only-of-type {\n",
       "        vertical-align: middle;\n",
       "    }\n",
       "\n",
       "    .dataframe tbody tr th {\n",
       "        vertical-align: top;\n",
       "    }\n",
       "\n",
       "    .dataframe thead th {\n",
       "        text-align: right;\n",
       "    }\n",
       "</style>\n",
       "<table border=\"1\" class=\"dataframe\">\n",
       "  <thead>\n",
       "    <tr style=\"text-align: right;\">\n",
       "      <th></th>\n",
       "      <th>Country</th>\n",
       "      <th>Year</th>\n",
       "      <th>GDP_Per_Capita</th>\n",
       "      <th>Continent</th>\n",
       "      <th>Internet_Users_Pct</th>\n",
       "    </tr>\n",
       "  </thead>\n",
       "  <tbody>\n",
       "    <tr>\n",
       "      <th>3453</th>\n",
       "      <td>Zimbabwe</td>\n",
       "      <td>1997</td>\n",
       "      <td>3580.048793</td>\n",
       "      <td>Africa</td>\n",
       "      <td>0.033080</td>\n",
       "    </tr>\n",
       "    <tr>\n",
       "      <th>3454</th>\n",
       "      <td>Zimbabwe</td>\n",
       "      <td>1996</td>\n",
       "      <td>3520.430146</td>\n",
       "      <td>Africa</td>\n",
       "      <td>0.016790</td>\n",
       "    </tr>\n",
       "    <tr>\n",
       "      <th>3455</th>\n",
       "      <td>Zimbabwe</td>\n",
       "      <td>1995</td>\n",
       "      <td>3226.413930</td>\n",
       "      <td>Africa</td>\n",
       "      <td>0.007684</td>\n",
       "    </tr>\n",
       "    <tr>\n",
       "      <th>3456</th>\n",
       "      <td>Zimbabwe</td>\n",
       "      <td>1994</td>\n",
       "      <td>3263.934978</td>\n",
       "      <td>Africa</td>\n",
       "      <td>0.001739</td>\n",
       "    </tr>\n",
       "    <tr>\n",
       "      <th>3457</th>\n",
       "      <td>Zimbabwe</td>\n",
       "      <td>1990</td>\n",
       "      <td>3324.348171</td>\n",
       "      <td>Africa</td>\n",
       "      <td>0.000000</td>\n",
       "    </tr>\n",
       "  </tbody>\n",
       "</table>\n",
       "</div>"
      ],
      "text/plain": [
       "       Country  Year  GDP_Per_Capita Continent  Internet_Users_Pct\n",
       "3453  Zimbabwe  1997     3580.048793    Africa            0.033080\n",
       "3454  Zimbabwe  1996     3520.430146    Africa            0.016790\n",
       "3455  Zimbabwe  1995     3226.413930    Africa            0.007684\n",
       "3456  Zimbabwe  1994     3263.934978    Africa            0.001739\n",
       "3457  Zimbabwe  1990     3324.348171    Africa            0.000000"
      ]
     },
     "execution_count": 40,
     "metadata": {},
     "output_type": "execute_result"
    }
   ],
   "source": [
    "gdp_and_internet_use[-5:]"
   ]
  },
  {
   "cell_type": "markdown",
   "id": "778399a2",
   "metadata": {},
   "source": [
    "Create a new DataFrame, named gdp_and_internet_use_2014 by extracting data for the year 2014 from gdp_and_internet_use. How many countries have at least 90% internet users in 2014?"
   ]
  },
  {
   "cell_type": "code",
   "execution_count": 41,
   "id": "3bbf0503",
   "metadata": {},
   "outputs": [],
   "source": [
    "gdp_and_internet_use_2014 = gdp_and_internet_use[gdp_and_internet_use['Year']==2014]"
   ]
  },
  {
   "cell_type": "code",
   "execution_count": 42,
   "id": "e5cbc75d",
   "metadata": {
    "scrolled": true
   },
   "outputs": [
    {
     "data": {
      "text/plain": [
       "163"
      ]
     },
     "execution_count": 42,
     "metadata": {},
     "output_type": "execute_result"
    }
   ],
   "source": [
    "gdp_and_internet_use_2014[gdp_and_internet_use_2014['Internet_Users_Pct']>=.9].shape[0]"
   ]
  },
  {
   "cell_type": "markdown",
   "id": "6092f6bc",
   "metadata": {},
   "source": [
    "Find the countries that had the top 3 largest GDP per capita figures for 2014. Create a seaborn FacetGrid showing the change in internet user percentage over time for these three countries. Each individual figure in the facet grid will represent a single country. What trends do you notice?"
   ]
  },
  {
   "cell_type": "code",
   "execution_count": 43,
   "id": "3dd96d61",
   "metadata": {},
   "outputs": [
    {
     "data": {
      "text/html": [
       "<div>\n",
       "<style scoped>\n",
       "    .dataframe tbody tr th:only-of-type {\n",
       "        vertical-align: middle;\n",
       "    }\n",
       "\n",
       "    .dataframe tbody tr th {\n",
       "        vertical-align: top;\n",
       "    }\n",
       "\n",
       "    .dataframe thead th {\n",
       "        text-align: right;\n",
       "    }\n",
       "</style>\n",
       "<table border=\"1\" class=\"dataframe\">\n",
       "  <thead>\n",
       "    <tr style=\"text-align: right;\">\n",
       "      <th></th>\n",
       "      <th>Country</th>\n",
       "      <th>Year</th>\n",
       "      <th>GDP_Per_Capita</th>\n",
       "      <th>Continent</th>\n",
       "      <th>Internet_Users_Pct</th>\n",
       "    </tr>\n",
       "  </thead>\n",
       "  <tbody>\n",
       "    <tr>\n",
       "      <th>1798</th>\n",
       "      <td>Luxembourg</td>\n",
       "      <td>2014</td>\n",
       "      <td>108760.916030</td>\n",
       "      <td>Europe</td>\n",
       "      <td>94.67</td>\n",
       "    </tr>\n",
       "    <tr>\n",
       "      <th>2542</th>\n",
       "      <td>Qatar</td>\n",
       "      <td>2014</td>\n",
       "      <td>95578.416973</td>\n",
       "      <td>Asia</td>\n",
       "      <td>91.49</td>\n",
       "    </tr>\n",
       "    <tr>\n",
       "      <th>2751</th>\n",
       "      <td>Singapore</td>\n",
       "      <td>2014</td>\n",
       "      <td>87808.663157</td>\n",
       "      <td>Asia</td>\n",
       "      <td>82.00</td>\n",
       "    </tr>\n",
       "  </tbody>\n",
       "</table>\n",
       "</div>"
      ],
      "text/plain": [
       "         Country  Year  GDP_Per_Capita Continent  Internet_Users_Pct\n",
       "1798  Luxembourg  2014   108760.916030    Europe               94.67\n",
       "2542       Qatar  2014    95578.416973      Asia               91.49\n",
       "2751   Singapore  2014    87808.663157      Asia               82.00"
      ]
     },
     "execution_count": 43,
     "metadata": {},
     "output_type": "execute_result"
    }
   ],
   "source": [
    "gdp_and_internet_use_2014.sort_values('GDP_Per_Capita', ascending=False).head(n=3)"
   ]
  },
  {
   "cell_type": "code",
   "execution_count": 44,
   "id": "3f383a08",
   "metadata": {},
   "outputs": [
    {
     "data": {
      "image/png": "[encoded data removed]",
      "text/plain": [
       "<Figure size 648x216 with 3 Axes>"
      ]
     },
     "metadata": {},
     "output_type": "display_data"
    }
   ],
   "source": [
    "sns_grid = sns.FacetGrid(gdp_and_internet_use[gdp_and_internet_use['Country'].isin(['Luxembourg', 'Qatar', 'Singapore'])], col='Country')\n",
    "sns_grid = sns_grid.map(sns.lineplot, 'Year', 'Internet_Users_Pct')"
   ]
  },
  {
   "cell_type": "code",
   "execution_count": 45,
   "id": "f2be7150",
   "metadata": {},
   "outputs": [
    {
     "data": {
      "text/html": [
       "<div>\n",
       "<style scoped>\n",
       "    .dataframe tbody tr th:only-of-type {\n",
       "        vertical-align: middle;\n",
       "    }\n",
       "\n",
       "    .dataframe tbody tr th {\n",
       "        vertical-align: top;\n",
       "    }\n",
       "\n",
       "    .dataframe thead th {\n",
       "        text-align: right;\n",
       "    }\n",
       "</style>\n",
       "<table border=\"1\" class=\"dataframe\">\n",
       "  <thead>\n",
       "    <tr style=\"text-align: right;\">\n",
       "      <th></th>\n",
       "      <th>Country</th>\n",
       "      <th>Year</th>\n",
       "      <th>GDP_Per_Capita</th>\n",
       "      <th>Continent</th>\n",
       "      <th>Internet_Users_Pct</th>\n",
       "    </tr>\n",
       "  </thead>\n",
       "  <tbody>\n",
       "    <tr>\n",
       "      <th>1798</th>\n",
       "      <td>Luxembourg</td>\n",
       "      <td>2014</td>\n",
       "      <td>108760.916030</td>\n",
       "      <td>Europe</td>\n",
       "      <td>94.670000</td>\n",
       "    </tr>\n",
       "    <tr>\n",
       "      <th>1799</th>\n",
       "      <td>Luxembourg</td>\n",
       "      <td>2013</td>\n",
       "      <td>106767.275005</td>\n",
       "      <td>Europe</td>\n",
       "      <td>93.776500</td>\n",
       "    </tr>\n",
       "    <tr>\n",
       "      <th>1800</th>\n",
       "      <td>Luxembourg</td>\n",
       "      <td>2012</td>\n",
       "      <td>105411.464571</td>\n",
       "      <td>Europe</td>\n",
       "      <td>91.949924</td>\n",
       "    </tr>\n",
       "    <tr>\n",
       "      <th>1801</th>\n",
       "      <td>Luxembourg</td>\n",
       "      <td>2011</td>\n",
       "      <td>108355.582583</td>\n",
       "      <td>Europe</td>\n",
       "      <td>90.029859</td>\n",
       "    </tr>\n",
       "    <tr>\n",
       "      <th>1802</th>\n",
       "      <td>Luxembourg</td>\n",
       "      <td>2010</td>\n",
       "      <td>108047.346867</td>\n",
       "      <td>Europe</td>\n",
       "      <td>90.620000</td>\n",
       "    </tr>\n",
       "    <tr>\n",
       "      <th>...</th>\n",
       "      <td>...</td>\n",
       "      <td>...</td>\n",
       "      <td>...</td>\n",
       "      <td>...</td>\n",
       "      <td>...</td>\n",
       "    </tr>\n",
       "    <tr>\n",
       "      <th>2771</th>\n",
       "      <td>Singapore</td>\n",
       "      <td>1994</td>\n",
       "      <td>46895.053010</td>\n",
       "      <td>Asia</td>\n",
       "      <td>1.185204</td>\n",
       "    </tr>\n",
       "    <tr>\n",
       "      <th>2772</th>\n",
       "      <td>Singapore</td>\n",
       "      <td>1993</td>\n",
       "      <td>43555.619036</td>\n",
       "      <td>Asia</td>\n",
       "      <td>0.763278</td>\n",
       "    </tr>\n",
       "    <tr>\n",
       "      <th>2773</th>\n",
       "      <td>Singapore</td>\n",
       "      <td>1992</td>\n",
       "      <td>40077.548794</td>\n",
       "      <td>Asia</td>\n",
       "      <td>0.471368</td>\n",
       "    </tr>\n",
       "    <tr>\n",
       "      <th>2774</th>\n",
       "      <td>Singapore</td>\n",
       "      <td>1991</td>\n",
       "      <td>38728.403909</td>\n",
       "      <td>Asia</td>\n",
       "      <td>0.161504</td>\n",
       "    </tr>\n",
       "    <tr>\n",
       "      <th>2775</th>\n",
       "      <td>Singapore</td>\n",
       "      <td>1990</td>\n",
       "      <td>37348.206786</td>\n",
       "      <td>Asia</td>\n",
       "      <td>0.000000</td>\n",
       "    </tr>\n",
       "  </tbody>\n",
       "</table>\n",
       "<p>64 rows × 5 columns</p>\n",
       "</div>"
      ],
      "text/plain": [
       "         Country  Year  GDP_Per_Capita Continent  Internet_Users_Pct\n",
       "1798  Luxembourg  2014   108760.916030    Europe           94.670000\n",
       "1799  Luxembourg  2013   106767.275005    Europe           93.776500\n",
       "1800  Luxembourg  2012   105411.464571    Europe           91.949924\n",
       "1801  Luxembourg  2011   108355.582583    Europe           90.029859\n",
       "1802  Luxembourg  2010   108047.346867    Europe           90.620000\n",
       "...          ...   ...             ...       ...                 ...\n",
       "2771   Singapore  1994    46895.053010      Asia            1.185204\n",
       "2772   Singapore  1993    43555.619036      Asia            0.763278\n",
       "2773   Singapore  1992    40077.548794      Asia            0.471368\n",
       "2774   Singapore  1991    38728.403909      Asia            0.161504\n",
       "2775   Singapore  1990    37348.206786      Asia            0.000000\n",
       "\n",
       "[64 rows x 5 columns]"
      ]
     },
     "execution_count": 45,
     "metadata": {},
     "output_type": "execute_result"
    }
   ],
   "source": [
    "gdp_and_internet_use[gdp_and_internet_use['Country'].isin(['Luxembourg', 'Qatar', 'Singapore'])]"
   ]
  },
  {
   "cell_type": "markdown",
   "id": "2cd8edb8",
   "metadata": {},
   "source": [
    "Create a scatter plot of Internet Use vs GDP per Capita for the year 2014. What do you notice?"
   ]
  },
  {
   "cell_type": "code",
   "execution_count": 46,
   "id": "459bc728",
   "metadata": {},
   "outputs": [
    {
     "name": "stderr",
     "output_type": "stream",
     "text": [
      "*c* argument looks like a single numeric RGB or RGBA sequence, which should be avoided as value-mapping will have precedence in case its length matches with *x* & *y*.  Please use the *color* keyword-argument or provide a 2-D array with a single row if you intend to specify the same RGB or RGBA value for all points.\n"
     ]
    },
    {
     "data": {
      "image/png": "[encoded data removed]",
      "text/plain": [
       "<Figure size 864x432 with 1 Axes>"
      ]
     },
     "metadata": {},
     "output_type": "display_data"
    }
   ],
   "source": [
    "gdp_and_internet_use_2014.plot(kind='scatter', x='GDP_Per_Capita', y='Internet_Users_Pct');"
   ]
  },
  {
   "cell_type": "markdown",
   "id": "d8d872fa",
   "metadata": {},
   "source": [
    "Find the correlation between GDP per Capita and Internet Use for the year 2014. What is the meaning of this number?"
   ]
  },
  {
   "cell_type": "code",
   "execution_count": 47,
   "id": "7f271c5f",
   "metadata": {},
   "outputs": [
    {
     "data": {
      "text/plain": [
       "0.8246267227541505"
      ]
     },
     "execution_count": 47,
     "metadata": {},
     "output_type": "execute_result"
    }
   ],
   "source": [
    "np.corrcoef(x=[gdp_and_internet_use_2014['GDP_Per_Capita']], y=[gdp_and_internet_use_2014['Internet_Users_Pct']])[0,1]"
   ]
  },
  {
   "cell_type": "markdown",
   "id": "dcdcae7d",
   "metadata": {},
   "source": [
    "Add a column to gdp_and_internet_use_2014 and calculate the logarithm of GDP per capita. Find the correlation between the log of GDP per capita and internet users percentage. How does this compare to the calculation in the previous part?"
   ]
  },
  {
   "cell_type": "code",
   "execution_count": 48,
   "id": "5edd46ac",
   "metadata": {},
   "outputs": [
    {
     "name": "stderr",
     "output_type": "stream",
     "text": [
      "<ipython-input-48-e703064c7b17>:1: SettingWithCopyWarning: \n",
      "A value is trying to be set on a copy of a slice from a DataFrame.\n",
      "Try using .loc[row_indexer,col_indexer] = value instead\n",
      "\n",
      "See the caveats in the documentation: https://pandas.pydata.org/pandas-docs/stable/user_guide/indexing.html#returning-a-view-versus-a-copy\n",
      "  gdp_and_internet_use_2014['log_gdp'] = np.log(gdp_and_internet_use_2014['GDP_Per_Capita'])\n"
     ]
    }
   ],
   "source": [
    "gdp_and_internet_use_2014['log_gdp'] = np.log(gdp_and_internet_use_2014['GDP_Per_Capita'])"
   ]
  },
  {
   "cell_type": "code",
   "execution_count": 49,
   "id": "292e74b5",
   "metadata": {},
   "outputs": [
    {
     "data": {
      "text/plain": [
       "0.903986635681392"
      ]
     },
     "execution_count": 49,
     "metadata": {},
     "output_type": "execute_result"
    }
   ],
   "source": [
    "np.corrcoef(x=[gdp_and_internet_use_2014['log_gdp']], y=[gdp_and_internet_use_2014['Internet_Users_Pct']])[0,1]"
   ]
  },
  {
   "cell_type": "markdown",
   "id": "c401f5fc",
   "metadata": {},
   "source": [
    "Filter the original dataset down to just the United States for all available years. Calculate correlation between internet use and gdp per capita. Is this meaningful or useful?"
   ]
  },
  {
   "cell_type": "code",
   "execution_count": 50,
   "id": "f61ae4ad",
   "metadata": {},
   "outputs": [],
   "source": [
    "usa = gdp_and_internet_use[gdp_and_internet_use['Country']=='United States']"
   ]
  },
  {
   "cell_type": "code",
   "execution_count": 51,
   "id": "aa0cf0f6",
   "metadata": {
    "scrolled": true
   },
   "outputs": [
    {
     "data": {
      "text/plain": [
       "0.9916600677832935"
      ]
     },
     "execution_count": 51,
     "metadata": {},
     "output_type": "execute_result"
    }
   ],
   "source": [
    "np.corrcoef(x=[usa['GDP_Per_Capita']], y=[usa['Internet_Users_Pct']])[0,1]"
   ]
  },
  {
   "cell_type": "code",
   "execution_count": 52,
   "id": "13ea024e",
   "metadata": {},
   "outputs": [
    {
     "name": "stderr",
     "output_type": "stream",
     "text": [
      "*c* argument looks like a single numeric RGB or RGBA sequence, which should be avoided as value-mapping will have precedence in case its length matches with *x* & *y*.  Please use the *color* keyword-argument or provide a 2-D array with a single row if you intend to specify the same RGB or RGBA value for all points.\n"
     ]
    },
    {
     "data": {
      "image/png": "[encoded data removed]",
      "text/plain": [
       "<Figure size 864x432 with 1 Axes>"
      ]
     },
     "metadata": {},
     "output_type": "display_data"
    }
   ],
   "source": [
    "usa.plot(kind='scatter', x='GDP_Per_Capita', y='Internet_Users_Pct');"
   ]
  },
  {
   "cell_type": "code",
   "execution_count": 53,
   "id": "22219597",
   "metadata": {},
   "outputs": [],
   "source": [
    "r_d = pd.read_csv('../data/R&D_funded_by_business.csv')"
   ]
  },
  {
   "cell_type": "code",
   "execution_count": 54,
   "id": "0a5ea530",
   "metadata": {},
   "outputs": [],
   "source": [
    "r_d = (r_d\n",
    "       .drop(columns = ['Sex', 'Age group', 'Units of measurement'])\n",
    "       .rename(columns = ({'Reference Area': 'Country', 'Time Period': 'Year', 'Observation Value': 'Percent R&D - Business'}))\n",
    "       .replace(to_replace = 'United States of America', value = 'United States'))"
   ]
  },
  {
   "cell_type": "code",
   "execution_count": 55,
   "id": "ddbb4ea2",
   "metadata": {},
   "outputs": [
    {
     "data": {
      "text/html": [
       "<div>\n",
       "<style scoped>\n",
       "    .dataframe tbody tr th:only-of-type {\n",
       "        vertical-align: middle;\n",
       "    }\n",
       "\n",
       "    .dataframe tbody tr th {\n",
       "        vertical-align: top;\n",
       "    }\n",
       "\n",
       "    .dataframe thead th {\n",
       "        text-align: right;\n",
       "    }\n",
       "</style>\n",
       "<table border=\"1\" class=\"dataframe\">\n",
       "  <thead>\n",
       "    <tr style=\"text-align: right;\">\n",
       "      <th></th>\n",
       "      <th>Country</th>\n",
       "      <th>Year</th>\n",
       "      <th>Percent R&amp;D - Business</th>\n",
       "    </tr>\n",
       "  </thead>\n",
       "  <tbody>\n",
       "    <tr>\n",
       "      <th>0</th>\n",
       "      <td>Albania</td>\n",
       "      <td>2008</td>\n",
       "      <td>3.26028</td>\n",
       "    </tr>\n",
       "    <tr>\n",
       "      <th>1</th>\n",
       "      <td>Albania</td>\n",
       "      <td>2007</td>\n",
       "      <td>1.54938</td>\n",
       "    </tr>\n",
       "    <tr>\n",
       "      <th>2</th>\n",
       "      <td>Argentina</td>\n",
       "      <td>2011</td>\n",
       "      <td>23.93386</td>\n",
       "    </tr>\n",
       "    <tr>\n",
       "      <th>3</th>\n",
       "      <td>Argentina</td>\n",
       "      <td>2010</td>\n",
       "      <td>22.31766</td>\n",
       "    </tr>\n",
       "    <tr>\n",
       "      <th>4</th>\n",
       "      <td>Argentina</td>\n",
       "      <td>2009</td>\n",
       "      <td>21.43839</td>\n",
       "    </tr>\n",
       "    <tr>\n",
       "      <th>...</th>\n",
       "      <td>...</td>\n",
       "      <td>...</td>\n",
       "      <td>...</td>\n",
       "    </tr>\n",
       "    <tr>\n",
       "      <th>924</th>\n",
       "      <td>Uruguay</td>\n",
       "      <td>1998</td>\n",
       "      <td>37.78000</td>\n",
       "    </tr>\n",
       "    <tr>\n",
       "      <th>925</th>\n",
       "      <td>Uruguay</td>\n",
       "      <td>1997</td>\n",
       "      <td>32.39000</td>\n",
       "    </tr>\n",
       "    <tr>\n",
       "      <th>926</th>\n",
       "      <td>Uruguay</td>\n",
       "      <td>1996</td>\n",
       "      <td>30.38000</td>\n",
       "    </tr>\n",
       "    <tr>\n",
       "      <th>927</th>\n",
       "      <td>Viet Nam</td>\n",
       "      <td>2002</td>\n",
       "      <td>18.06000</td>\n",
       "    </tr>\n",
       "    <tr>\n",
       "      <th>928</th>\n",
       "      <td>Zambia</td>\n",
       "      <td>2008</td>\n",
       "      <td>3.22766</td>\n",
       "    </tr>\n",
       "  </tbody>\n",
       "</table>\n",
       "<p>929 rows × 3 columns</p>\n",
       "</div>"
      ],
      "text/plain": [
       "       Country  Year  Percent R&D - Business\n",
       "0      Albania  2008                 3.26028\n",
       "1      Albania  2007                 1.54938\n",
       "2    Argentina  2011                23.93386\n",
       "3    Argentina  2010                22.31766\n",
       "4    Argentina  2009                21.43839\n",
       "..         ...   ...                     ...\n",
       "924    Uruguay  1998                37.78000\n",
       "925    Uruguay  1997                32.39000\n",
       "926    Uruguay  1996                30.38000\n",
       "927   Viet Nam  2002                18.06000\n",
       "928     Zambia  2008                 3.22766\n",
       "\n",
       "[929 rows x 3 columns]"
      ]
     },
     "execution_count": 55,
     "metadata": {},
     "output_type": "execute_result"
    }
   ],
   "source": [
    "r_d"
   ]
  },
  {
   "cell_type": "code",
   "execution_count": 56,
   "id": "596889f1",
   "metadata": {},
   "outputs": [],
   "source": [
    "r_d = r_d.merge(gdp_and_internet_use, on=('Country', 'Year'))"
   ]
  },
  {
   "cell_type": "code",
   "execution_count": 57,
   "id": "3968a2bc",
   "metadata": {},
   "outputs": [
    {
     "data": {
      "text/html": [
       "<div>\n",
       "<style scoped>\n",
       "    .dataframe tbody tr th:only-of-type {\n",
       "        vertical-align: middle;\n",
       "    }\n",
       "\n",
       "    .dataframe tbody tr th {\n",
       "        vertical-align: top;\n",
       "    }\n",
       "\n",
       "    .dataframe thead th {\n",
       "        text-align: right;\n",
       "    }\n",
       "</style>\n",
       "<table border=\"1\" class=\"dataframe\">\n",
       "  <thead>\n",
       "    <tr style=\"text-align: right;\">\n",
       "      <th></th>\n",
       "      <th>Country</th>\n",
       "      <th>Year</th>\n",
       "      <th>Percent R&amp;D - Business</th>\n",
       "      <th>GDP_Per_Capita</th>\n",
       "      <th>Continent</th>\n",
       "      <th>Internet_Users_Pct</th>\n",
       "    </tr>\n",
       "  </thead>\n",
       "  <tbody>\n",
       "    <tr>\n",
       "      <th>0</th>\n",
       "      <td>Albania</td>\n",
       "      <td>2008</td>\n",
       "      <td>3.26028</td>\n",
       "      <td>9944.233283</td>\n",
       "      <td>Europe</td>\n",
       "      <td>23.860000</td>\n",
       "    </tr>\n",
       "    <tr>\n",
       "      <th>1</th>\n",
       "      <td>Albania</td>\n",
       "      <td>2007</td>\n",
       "      <td>1.54938</td>\n",
       "      <td>9179.741136</td>\n",
       "      <td>Europe</td>\n",
       "      <td>15.036115</td>\n",
       "    </tr>\n",
       "    <tr>\n",
       "      <th>2</th>\n",
       "      <td>Argentina</td>\n",
       "      <td>2011</td>\n",
       "      <td>23.93386</td>\n",
       "      <td>24647.629275</td>\n",
       "      <td>South America</td>\n",
       "      <td>51.000000</td>\n",
       "    </tr>\n",
       "    <tr>\n",
       "      <th>3</th>\n",
       "      <td>Argentina</td>\n",
       "      <td>2010</td>\n",
       "      <td>22.31766</td>\n",
       "      <td>23521.270176</td>\n",
       "      <td>South America</td>\n",
       "      <td>45.000000</td>\n",
       "    </tr>\n",
       "    <tr>\n",
       "      <th>4</th>\n",
       "      <td>Argentina</td>\n",
       "      <td>2009</td>\n",
       "      <td>21.43839</td>\n",
       "      <td>21519.892554</td>\n",
       "      <td>South America</td>\n",
       "      <td>34.000000</td>\n",
       "    </tr>\n",
       "    <tr>\n",
       "      <th>...</th>\n",
       "      <td>...</td>\n",
       "      <td>...</td>\n",
       "      <td>...</td>\n",
       "      <td>...</td>\n",
       "      <td>...</td>\n",
       "      <td>...</td>\n",
       "    </tr>\n",
       "    <tr>\n",
       "      <th>781</th>\n",
       "      <td>Uruguay</td>\n",
       "      <td>1999</td>\n",
       "      <td>35.63000</td>\n",
       "      <td>13605.807242</td>\n",
       "      <td>South America</td>\n",
       "      <td>9.972765</td>\n",
       "    </tr>\n",
       "    <tr>\n",
       "      <th>782</th>\n",
       "      <td>Uruguay</td>\n",
       "      <td>1998</td>\n",
       "      <td>37.78000</td>\n",
       "      <td>13946.368482</td>\n",
       "      <td>South America</td>\n",
       "      <td>6.987069</td>\n",
       "    </tr>\n",
       "    <tr>\n",
       "      <th>783</th>\n",
       "      <td>Uruguay</td>\n",
       "      <td>1997</td>\n",
       "      <td>32.39000</td>\n",
       "      <td>13428.629435</td>\n",
       "      <td>South America</td>\n",
       "      <td>3.363240</td>\n",
       "    </tr>\n",
       "    <tr>\n",
       "      <th>784</th>\n",
       "      <td>Uruguay</td>\n",
       "      <td>1996</td>\n",
       "      <td>30.38000</td>\n",
       "      <td>12457.973965</td>\n",
       "      <td>South America</td>\n",
       "      <td>1.847472</td>\n",
       "    </tr>\n",
       "    <tr>\n",
       "      <th>785</th>\n",
       "      <td>Zambia</td>\n",
       "      <td>2008</td>\n",
       "      <td>3.22766</td>\n",
       "      <td>2747.438718</td>\n",
       "      <td>Africa</td>\n",
       "      <td>5.550000</td>\n",
       "    </tr>\n",
       "  </tbody>\n",
       "</table>\n",
       "<p>786 rows × 6 columns</p>\n",
       "</div>"
      ],
      "text/plain": [
       "       Country  Year  Percent R&D - Business  GDP_Per_Capita      Continent  \\\n",
       "0      Albania  2008                 3.26028     9944.233283         Europe   \n",
       "1      Albania  2007                 1.54938     9179.741136         Europe   \n",
       "2    Argentina  2011                23.93386    24647.629275  South America   \n",
       "3    Argentina  2010                22.31766    23521.270176  South America   \n",
       "4    Argentina  2009                21.43839    21519.892554  South America   \n",
       "..         ...   ...                     ...             ...            ...   \n",
       "781    Uruguay  1999                35.63000    13605.807242  South America   \n",
       "782    Uruguay  1998                37.78000    13946.368482  South America   \n",
       "783    Uruguay  1997                32.39000    13428.629435  South America   \n",
       "784    Uruguay  1996                30.38000    12457.973965  South America   \n",
       "785     Zambia  2008                 3.22766     2747.438718         Africa   \n",
       "\n",
       "     Internet_Users_Pct  \n",
       "0             23.860000  \n",
       "1             15.036115  \n",
       "2             51.000000  \n",
       "3             45.000000  \n",
       "4             34.000000  \n",
       "..                  ...  \n",
       "781            9.972765  \n",
       "782            6.987069  \n",
       "783            3.363240  \n",
       "784            1.847472  \n",
       "785            5.550000  \n",
       "\n",
       "[786 rows x 6 columns]"
      ]
     },
     "execution_count": 57,
     "metadata": {},
     "output_type": "execute_result"
    }
   ],
   "source": [
    "r_d"
   ]
  },
  {
   "cell_type": "code",
   "execution_count": 59,
   "id": "4c4da0d3",
   "metadata": {},
   "outputs": [
    {
     "data": {
      "text/plain": [
       "0.5268059969060181"
      ]
     },
     "execution_count": 59,
     "metadata": {},
     "output_type": "execute_result"
    }
   ],
   "source": [
    "np.corrcoef(x=[r_d['GDP_Per_Capita']], y=[r_d['Percent R&D - Business']])[0,1]"
   ]
  },
  {
   "cell_type": "code",
   "execution_count": 60,
   "id": "6a1970df",
   "metadata": {},
   "outputs": [
    {
     "data": {
      "text/html": [
       "<div>\n",
       "<style scoped>\n",
       "    .dataframe tbody tr th:only-of-type {\n",
       "        vertical-align: middle;\n",
       "    }\n",
       "\n",
       "    .dataframe tbody tr th {\n",
       "        vertical-align: top;\n",
       "    }\n",
       "\n",
       "    .dataframe thead th {\n",
       "        text-align: right;\n",
       "    }\n",
       "</style>\n",
       "<table border=\"1\" class=\"dataframe\">\n",
       "  <thead>\n",
       "    <tr style=\"text-align: right;\">\n",
       "      <th></th>\n",
       "      <th>Country</th>\n",
       "      <th>Year</th>\n",
       "      <th>Percent R&amp;D - Business</th>\n",
       "      <th>GDP_Per_Capita</th>\n",
       "      <th>Continent</th>\n",
       "      <th>Internet_Users_Pct</th>\n",
       "      <th>log_gdp</th>\n",
       "    </tr>\n",
       "  </thead>\n",
       "  <tbody>\n",
       "    <tr>\n",
       "      <th>0</th>\n",
       "      <td>Albania</td>\n",
       "      <td>2008</td>\n",
       "      <td>3.26028</td>\n",
       "      <td>9944.233283</td>\n",
       "      <td>Europe</td>\n",
       "      <td>23.860000</td>\n",
       "      <td>9.204748</td>\n",
       "    </tr>\n",
       "    <tr>\n",
       "      <th>1</th>\n",
       "      <td>Albania</td>\n",
       "      <td>2007</td>\n",
       "      <td>1.54938</td>\n",
       "      <td>9179.741136</td>\n",
       "      <td>Europe</td>\n",
       "      <td>15.036115</td>\n",
       "      <td>9.124754</td>\n",
       "    </tr>\n",
       "    <tr>\n",
       "      <th>2</th>\n",
       "      <td>Argentina</td>\n",
       "      <td>2011</td>\n",
       "      <td>23.93386</td>\n",
       "      <td>24647.629275</td>\n",
       "      <td>South America</td>\n",
       "      <td>51.000000</td>\n",
       "      <td>10.112436</td>\n",
       "    </tr>\n",
       "    <tr>\n",
       "      <th>3</th>\n",
       "      <td>Argentina</td>\n",
       "      <td>2010</td>\n",
       "      <td>22.31766</td>\n",
       "      <td>23521.270176</td>\n",
       "      <td>South America</td>\n",
       "      <td>45.000000</td>\n",
       "      <td>10.065660</td>\n",
       "    </tr>\n",
       "    <tr>\n",
       "      <th>4</th>\n",
       "      <td>Argentina</td>\n",
       "      <td>2009</td>\n",
       "      <td>21.43839</td>\n",
       "      <td>21519.892554</td>\n",
       "      <td>South America</td>\n",
       "      <td>34.000000</td>\n",
       "      <td>9.976733</td>\n",
       "    </tr>\n",
       "    <tr>\n",
       "      <th>...</th>\n",
       "      <td>...</td>\n",
       "      <td>...</td>\n",
       "      <td>...</td>\n",
       "      <td>...</td>\n",
       "      <td>...</td>\n",
       "      <td>...</td>\n",
       "      <td>...</td>\n",
       "    </tr>\n",
       "    <tr>\n",
       "      <th>781</th>\n",
       "      <td>Uruguay</td>\n",
       "      <td>1999</td>\n",
       "      <td>35.63000</td>\n",
       "      <td>13605.807242</td>\n",
       "      <td>South America</td>\n",
       "      <td>9.972765</td>\n",
       "      <td>9.518252</td>\n",
       "    </tr>\n",
       "    <tr>\n",
       "      <th>782</th>\n",
       "      <td>Uruguay</td>\n",
       "      <td>1998</td>\n",
       "      <td>37.78000</td>\n",
       "      <td>13946.368482</td>\n",
       "      <td>South America</td>\n",
       "      <td>6.987069</td>\n",
       "      <td>9.542974</td>\n",
       "    </tr>\n",
       "    <tr>\n",
       "      <th>783</th>\n",
       "      <td>Uruguay</td>\n",
       "      <td>1997</td>\n",
       "      <td>32.39000</td>\n",
       "      <td>13428.629435</td>\n",
       "      <td>South America</td>\n",
       "      <td>3.363240</td>\n",
       "      <td>9.505144</td>\n",
       "    </tr>\n",
       "    <tr>\n",
       "      <th>784</th>\n",
       "      <td>Uruguay</td>\n",
       "      <td>1996</td>\n",
       "      <td>30.38000</td>\n",
       "      <td>12457.973965</td>\n",
       "      <td>South America</td>\n",
       "      <td>1.847472</td>\n",
       "      <td>9.430116</td>\n",
       "    </tr>\n",
       "    <tr>\n",
       "      <th>785</th>\n",
       "      <td>Zambia</td>\n",
       "      <td>2008</td>\n",
       "      <td>3.22766</td>\n",
       "      <td>2747.438718</td>\n",
       "      <td>Africa</td>\n",
       "      <td>5.550000</td>\n",
       "      <td>7.918424</td>\n",
       "    </tr>\n",
       "  </tbody>\n",
       "</table>\n",
       "<p>786 rows × 7 columns</p>\n",
       "</div>"
      ],
      "text/plain": [
       "       Country  Year  Percent R&D - Business  GDP_Per_Capita      Continent  \\\n",
       "0      Albania  2008                 3.26028     9944.233283         Europe   \n",
       "1      Albania  2007                 1.54938     9179.741136         Europe   \n",
       "2    Argentina  2011                23.93386    24647.629275  South America   \n",
       "3    Argentina  2010                22.31766    23521.270176  South America   \n",
       "4    Argentina  2009                21.43839    21519.892554  South America   \n",
       "..         ...   ...                     ...             ...            ...   \n",
       "781    Uruguay  1999                35.63000    13605.807242  South America   \n",
       "782    Uruguay  1998                37.78000    13946.368482  South America   \n",
       "783    Uruguay  1997                32.39000    13428.629435  South America   \n",
       "784    Uruguay  1996                30.38000    12457.973965  South America   \n",
       "785     Zambia  2008                 3.22766     2747.438718         Africa   \n",
       "\n",
       "     Internet_Users_Pct    log_gdp  \n",
       "0             23.860000   9.204748  \n",
       "1             15.036115   9.124754  \n",
       "2             51.000000  10.112436  \n",
       "3             45.000000  10.065660  \n",
       "4             34.000000   9.976733  \n",
       "..                  ...        ...  \n",
       "781            9.972765   9.518252  \n",
       "782            6.987069   9.542974  \n",
       "783            3.363240   9.505144  \n",
       "784            1.847472   9.430116  \n",
       "785            5.550000   7.918424  \n",
       "\n",
       "[786 rows x 7 columns]"
      ]
     },
     "execution_count": 60,
     "metadata": {},
     "output_type": "execute_result"
    }
   ],
   "source": [
    "r_d['log_gdp'] = np.log(r_d['GDP_Per_Capita'])\n",
    "r_d"
   ]
  },
  {
   "cell_type": "code",
   "execution_count": 81,
   "id": "6c138ad8",
   "metadata": {},
   "outputs": [
    {
     "data": {
      "text/plain": [
       "0.5860069828420008"
      ]
     },
     "execution_count": 81,
     "metadata": {},
     "output_type": "execute_result"
    }
   ],
   "source": [
    "np.corrcoef(x=[r_d['log_gdp']], y=[r_d['Percent R&D - Business']])[0,1]"
   ]
  },
  {
   "cell_type": "code",
   "execution_count": 91,
   "id": "5f55a529",
   "metadata": {},
   "outputs": [
    {
     "data": {
      "application/vnd.plotly.v1+json": {
       "config": {
        "plotlyServerURL": "https://plot.ly"
       },
       "data": [
        {
         "hovertemplate": "GDP_Per_Capita=%{x}<br>Percent R&D - Business=%{y}<br>Internet_Users_Pct=%{marker.color}<extra></extra>",
         "legendgroup": "",
         "marker": {
          "color": [
           23.86,
           15.0361154084109,
           51,
           45,
           34,
           28.1126234799907,
           25.9466329403819,
           20.9272021035896,
           17.7205833696065,
           16.0366841054923,
           11.9136965509954,
           10.8821243775325,
           9.78080728532407,
           7.0386830862178,
           3.28448195590463,
           0.830766679676473,
           0.280339881830012,
           71.67,
           66,
           46.7561156116738,
           30.8132394396276,
           3.27524987017728,
           80.6188,
           80.0299939169903,
           78.7399930986888,
           75.17,
           73.45,
           72.87,
           69.37,
           63.6,
           58,
           54.28,
           42.7,
           36.56,
           39.1854501811114,
           33.7301329516915,
           23.0443171023274,
           15.4212193219603,
           9.53397431748034,
           6.90916235325567,
           46,
           27.4,
           17.08,
           14.54,
           11.9921773343674,
           8.03037535616454,
           4.99971367812957,
           0.305564637615618,
           31.8,
           27.43,
           23,
           19.7,
           16.2,
           8.95097131467325,
           4.30061602151712,
           1.86039812615388,
           0.494881245327084,
           0.0738688972841164,
           0.0490208910370497,
           81.6099959955952,
           75,
           70,
           66,
           64.44,
           59.72,
           55.82,
           53.86,
           49.97,
           46.33,
           31.2883955056566,
           29.4316916924341,
           13.7722144589561,
           7.88662270071677,
           4.93808090966561,
           2.96841164745362,
           16.8,
           3.11719294696997,
           2.1204625341365,
           1.4427635847914,
           0.981815187281861,
           0.626484062433397,
           0.44783903590236,
           0.196081173945832,
           45.69,
           40.65,
           39.22,
           33.83,
           30.88,
           28.1783801797929,
           21.022747248827,
           19.073672274442,
           13.2075861035303,
           9.14942508560748,
           4.52849486902851,
           2.87068515854108,
           46.23,
           45,
           39.67,
           33.64,
           27.09,
           19.97,
           18.13,
           12.04,
           9.08,
           7.6122977487982,
           5.37092346908696,
           2.90815402505996,
           1.84496512093439,
           1.21981313194706,
           0.725251166566501,
           1.13,
           0.92,
           83,
           83,
           80.3,
           80.3,
           76.7,
           73.2,
           72.4,
           71.66,
           65.9559634648989,
           64.2,
           61.5932992681952,
           60.2,
           51.3,
           36.1864400395459,
           24.897400303091,
           15.0723573635834,
           6.76023965049561,
           45,
           41.56,
           37.3,
           35.9,
           42.3001174855995,
           38.3,
           34.3,
           28.9,
           22.6,
           16,
           10.5231526193851,
           8.52325700269541,
           7.3,
           6.2,
           1.77591320677415,
           48.98,
           40.3509157546318,
           36.5,
           30,
           25.6,
           21.8,
           15.3416745365682,
           11.0072638904585,
           9.1186903029666,
           7.38892371052557,
           4.6,
           2.85419997133433,
           2.207532992624,
           0.550521023153909,
           0.330017772736723,
           39.2121959961842,
           36.5,
           34.33,
           32.29,
           61.9399731527956,
           57.7899789891444,
           56.55,
           50.58,
           44.24,
           41.44,
           37.98,
           33.14,
           30.91,
           22.75,
           17.76,
           11.5585731811648,
           6.64488254374396,
           4.40535911936871,
           56.8598923503507,
           52.99,
           49.81,
           42.31,
           40.77,
           35.83,
           32.81,
           33.83,
           30.09,
           28.32,
           18.8187590408455,
           15.2553943710137,
           11.3423986595347,
           8.8905391589027,
           73.4300078241036,
           70.49,
           68.82,
           64.43,
           62.97,
           51.93,
           47.93,
           35.27,
           35.5,
           34.3,
           23.93,
           14.6971721171129,
           9.78052788834393,
           6.83280201790214,
           3.89590606502968,
           2.91569869519568,
           1.94037819329252,
           92.2600117153012,
           89.8100133895232,
           88.72,
           86.84,
           85.03,
           82.74,
           76.26,
           42.9575247201878,
           30.5920406509143,
           11.3820049363755,
           5.71498784136337,
           18.8,
           10.8,
           7.2,
           18.9,
           15.9,
           12.11,
           10.08,
           6.11,
           0.425253672320613,
           78.3899259259259,
           76.5,
           74.1,
           72.5,
           70.58,
           66.19,
           63.51,
           61.45,
           53.2,
           45.32,
           41.52,
           31.5274897673756,
           28.5769538105646,
           14.5008972430169,
           10.7960348323268,
           0.75,
           89.879997974222,
           88.70999491353,
           86.89,
           82.49,
           83.67,
           80.78,
           79.66,
           74.48,
           72.39,
           69.22,
           62.43,
           43.1053633522263,
           37.2484617371121,
           32.2950922889897,
           25.4525249254189,
           19.4586827950608,
           77.8199989926706,
           77.28,
           71.58,
           70.68,
           66.09,
           46.87,
           42.87,
           39.15,
           36.14,
           30.18,
           26.3259035521688,
           14.3079239430677,
           9.12531788860536,
           6.31977872175207,
           4.25500387171107,
           2.58403397908468,
           6.7,
           6.21,
           81.26999953602,
           82,
           79,
           78,
           75.16,
           72.16,
           68.71,
           64.73,
           55.9,
           48.82,
           31.650939416316,
           30.2163466048889,
           20.8459826390268,
           9.87785242805539,
           6.71108747669468,
           3.05480523429391,
           7.8,
           3.85,
           55.0699934418411,
           51.6499951676815,
           24,
           17.8,
           10.9350258080278,
           6.87729214416088,
           1.84963468790097,
           70.579998153838,
           68.0199878861296,
           65,
           62,
           61,
           53.3,
           47.06,
           38.97,
           27.74,
           21.63,
           16.67,
           14.5285543028277,
           6.99967635062916,
           5.85784074913192,
           3.89464327842503,
           1.94244987216737,
           0.969239535629585,
           94.8196868008949,
           93,
           91,
           90.6,
           89.51,
           87,
           83.14,
           49.3929953676426,
           41.2945667122702,
           36.2642065028975,
           27.4788687499313,
           2.01861385948459,
           0.925563864466858,
           5,
           76.919992540097,
           74.8899729670944,
           69.85,
           67.38,
           65.34,
           61.158324551,
           54.82,
           41.61,
           36.99,
           34.31,
           25.85,
           23.1388121904053,
           17.8504672405807,
           10.9338085895467,
           8.09601004337033,
           4.08825507004952,
           2.19930183163355,
           67.5,
           63.12,
           59.39,
           48.1280621948445,
           27.8810744577346,
           25.1940424216829,
           22.7704855254035,
           19.5933936579649,
           17.7645990630493,
           17.3786238639049,
           20.8737899981674,
           13.4361219052622,
           10.3070699456663,
           4.39940548194079,
           2.16836760046815,
           54.3899983018814,
           53.68,
           48.83,
           44.53,
           40.79,
           37.99,
           35,
           1.02328990327724,
           79.0541135244739,
           78.21,
           78,
           75.4,
           74.3,
           68.6852703213795,
           66.9210661042901,
           62.3939296327259,
           48.4352658899653,
           46.5942011179917,
           38.5320608612719,
           29.9907403589142,
           21.391290312434,
           13.4140408820215,
           9.16307714028121,
           4.37298196820763,
           50.6,
           31.6,
           11,
           4.02,
           3.26836905115978,
           2.96170749150089,
           2.6503946570164,
           2.00041475265872,
           1.00612421099739,
           0.668594402621264,
           0.464277217538881,
           0.13106960398892,
           0.0645967541164605,
           14,
           7.95,
           65.7690706867398,
           61.4,
           50.8,
           42,
           34.8,
           28.7911979549612,
           25.9261083689107,
           22.9271120360078,
           22.4029383804612,
           10.2489679289296,
           8.55179243431475,
           6.73139576837536,
           4.75622220879911,
           3.05239745470751,
           2.17453585891176,
           73.1199437663748,
           69.7499545592245,
           68.42,
           66.84,
           63.41,
           59.17,
           53.63,
           46,
           38.58,
           26.98,
           21.94,
           7.21934580836289,
           6.31906208267861,
           4.38740905527801,
           3.31526788607745,
           2.05345471167237,
           0.812717071650356,
           3.72,
           67.2299893276414,
           63.6399774002179,
           62.12,
           59.76,
           55.22,
           49.9,
           43.9,
           36.22,
           31.23,
           25.91,
           17.69,
           7.17935699381369,
           6.42706749477765,
           91.9499237417387,
           90.0298585646936,
           90.62,
           87.31,
           78.92,
           70,
           54.55,
           22.8873279731211,
           61,
           56.3,
           55.9,
           55.8,
           51.6379889864403,
           42.2522656295248,
           32.3382043389359,
           6.75177048301491,
           0.81,
           68.1998742928975,
           68.0198237885462,
           63,
           58.86,
           50.08,
           46.9,
           40.41,
           41.24,
           28.92,
           37.1762954125184,
           31.05,
           26.34,
           21.71,
           20.81,
           19.52,
           17.21,
           14.1,
           12.9,
           11.9,
           7.0380231165045,
           5.08138415338066,
           1.85743622125093,
           1.26578327821238,
           0.627311539559522,
           0.20040628032987,
           0.0281288083769467,
           12.4999911084745,
           10.2,
           9.8,
           9,
           35.6115412460109,
           52,
           19.7711915653115,
           3.35336668122363,
           2.37325319241544,
           11.6,
           91.4199957622284,
           89.63,
           85.82,
           81,
           64.35,
           49.3730621073123,
           39.1760072483196,
           22.2438276873626,
           14.0655113980191,
           9.64906914465055,
           81.23,
           79.7,
           69.76,
           62.7202123689541,
           60.9625398663824,
           53.2410152941279,
           41.4944826585159,
           14.6015243991473,
           6.77,
           93.4899826515194,
           92.08,
           86.93,
           81.99,
           78.13,
           64,
           40,
           20.4178814360849,
           48,
           40.1,
           39.08,
           33.82,
           22.29,
           17.3495661695931,
           11.4840092783071,
           11.1408625409415,
           9.98742407723405,
           8.51807781515595,
           7.26839987788729,
           6.55479647729549,
           3.83686450851963,
           0.539065540666565,
           0.219998526009876,
           24.7635158793993,
           14.27,
           7.90700786141285,
           3.45243843137079,
           2.11194208210034,
           1.79496959770244,
           1.09879383569333,
           5.97,
           5.3976363293955,
           4.85767226708512,
           4.33227574643007,
           62.3099972714691,
           61.94999896898,
           62.32,
           58.97,
           53.13,
           48.6,
           44.58,
           38.81,
           32.53,
           24.87,
           21.15,
           9.9006697073534,
           7.2854287080601,
           5.45644373006027,
           4.10227200222192,
           2.07346547356008,
           1.29520025466745,
           55.2499968797194,
           53.3,
           48.27,
           44.13,
           42.09,
           38.01,
           34.99,
           31.78,
           29.67,
           19.37,
           18.0871365595338,
           16.4304676923534,
           14.7423378419006,
           9.87044644226667,
           4.95300195504893,
           2.98087766974856,
           45.8799942529424,
           40.0099967810008,
           39.93,
           36.6,
           32.42,
           28.3,
           24.66,
           21.5,
           15,
           8.9,
           6.58,
           4.53866902895312,
           3.61371729139783,
           2.69758021659411,
           2.23764947274713,
           0.445444675615383,
           0.221622649231938,
           8,
           7.12,
           48.1,
           42.2,
           40.9,
           38.1,
           35.6,
           33.15,
           72,
           71,
           71,
           69,
           69,
           69.9,
           59,
           61,
           62,
           53.8379432881911,
           47,
           41.6704251756041,
           36,
           24.1554369311712,
           19.5907671587693,
           13.4716204150014,
           8.34995902953436,
           68.3499745287825,
           67.3399948092396,
           70,
           64,
           58,
           56.74,
           54.01,
           46.81,
           40.81,
           31.8547930120441,
           27.8388854180687,
           30.1759104700854,
           15.1102595640388,
           12.6109384253276,
           10.1046028486896,
           7.59192300372915,
           5.0722722714599,
           24,
           10,
           8.43,
           8.06537517355504,
           7.60713967477381,
           7.48854252992921,
           8.4251186825406,
           7.00769172611251,
           6.34661931839768,
           67.6,
           65.8,
           62.4,
           59.6,
           55.11,
           50.37,
           47.88,
           44.01,
           39.93,
           20.39,
           18.1487226902932,
           13.6249608089899,
           7.08503967835022,
           4.36189239380101,
           2.8033196254371,
           1.33184740350778,
           12,
           5.8,
           2.53756612897332,
           1.44615998041486,
           0.647410010940963,
           0.054464498514862,
           92.7699860554046,
           91,
           82.01,
           84.83,
           79.13,
           51.7656649372808,
           41.4327831641401,
           23.7279475562643,
           79.2,
           67.8,
           47.1,
           4.54965674817947,
           11.55,
           10.07,
           8.78,
           7.19761951797855,
           3.77240620666448,
           0.298690023682825,
           0.0774799071356825,
           0.0645837771508553,
           0.0554628269910006,
           0.0512591325352927,
           20.1,
           20.03,
           15.0260043588909,
           10.6773033237281,
           9.29902723805965,
           7.53125033488567,
           0.360522184921104,
           0.115472136284834,
           34.07,
           27.53,
           17.1,
           12.9864086534204,
           9.65508654217982,
           8.52881775162591,
           6.49084579532797,
           5.25288729548421,
           4.29796603474685,
           2.75074029298135,
           0.0436569744909024,
           43.065710430925,
           39.82,
           36.4,
           34.37,
           28.63,
           18.24,
           15.46,
           14.58,
           12.33,
           11.38,
           5.18948146078506,
           3.761685035075,
           2.29211768539022,
           0.698805128639542,
           0.473695432121789,
           0.19272493561622,
           12.5,
           9.78,
           7.9,
           3.67196535074744,
           2.52936303826279,
           1.7422055032439,
           0.719970679914031,
           0.464849840113968,
           0.384093504951945,
           23.3,
           17.9,
           11,
           6.55,
           4.50612456357379,
           3.749764414659,
           3.4894778812677,
           3.14812758815439,
           1.87388511643427,
           1.23875954748114,
           79.3,
           69.7294607619268,
           71.69,
           71,
           74,
           75,
           68.9311932699721,
           67.968052915002,
           64.7582564759896,
           61.6971171244207,
           58.7854038836952,
           49.0808315896951,
           43.0791626375201,
           35.8487244559914,
           30.093196588091,
           21.6164009686742,
           16.4193529600768,
           51.4046610563616,
           46.4,
           41.8,
           39.3,
           34,
           29.4,
           11.4194701966853,
           10.5390577480141,
           9.97276528462272,
           6.98706936489058,
           3.36323966812774,
           1.84747208854564,
           5.55
          ],
          "coloraxis": "coloraxis",
          "line": {
           "color": "DarkSlateGrey",
           "width": 2
          },
          "size": 12,
          "symbol": "circle"
         },
         "mode": "markers",
         "name": "",
         "orientation": "v",
         "showlegend": false,
         "type": "scatter",
         "x": [
          9944.23328284139,
          9179.74113635371,
          24647.6292752459,
          23521.2701763288,
          21519.8925539826,
          23103.4559463136,
          22424.1222504319,
          20777.6516537547,
          19426.4366481069,
          18032.6104914271,
          16714.6692563706,
          15523.0363054169,
          17610.7516076702,
          18625.2881011086,
          18981.1683837255,
          19866.2406470539,
          19347.5419244468,
          44974.5263202105,
          42894.1331487911,
          38462.0153634672,
          36051.5717033416,
          33882.9075979721,
          53090.8151927455,
          53391.032403354,
          53272.527358892,
          51934.4627664247,
          51120.3320501803,
          53259.4111045692,
          52657.3755809339,
          50929.9681510672,
          49473.7489879843,
          48718.6693821179,
          47716.7553407919,
          47502.5442670715,
          46961.2332465252,
          46551.4597865552,
          45139.742922611,
          43674.4457616775,
          42210.6521287598,
          41391.9297308046,
          14312.7561158751,
          13822.0911094279,
          12903.1519167445,
          11914.994832597,
          9605.09610840819,
          7222.03607503781,
          4813.50418477741,
          4431.28987324473,
          17288.4043493433,
          16010.439955622,
          15942.8976797373,
          14417.3535308989,
          13214.87158024,
          8961.64111959338,
          8477.08401148315,
          8053.17363808324,
          7575.91832595163,
          7296.05459067832,
          6698.74456753512,
          48307.7068316362,
          48124.815894586,
          47214.1659661315,
          48577.2038026647,
          48744.6185198965,
          47362.4227731796,
          46489.2691305788,
          45685.0049060563,
          44301.0709398087,
          44029.8996903099,
          43485.4683209326,
          43160.6914937795,
          41715.0753426946,
          40380.2236589063,
          39687.9374817912,
          38329.9868977007,
          6455.97424355548,
          5434.08881516848,
          5402.76514668128,
          5415.52991539303,
          5386.17921449768,
          5469.46973718794,
          5312.07766466358,
          5164.2507332886,
          15318.3063061666,
          14868.3301408841,
          13957.6791202509,
          14110.3451381369,
          13560.5451000637,
          12917.9168849667,
          12561.8201732326,
          12312.3344290767,
          11782.4677716666,
          11796.9705534406,
          11598.6938525952,
          11597.1433448662,
          17496.3584372976,
          17284.86289832,
          17773.6910633803,
          16636.9099279988,
          15498.7638009691,
          14401.8572044246,
          13339.5700558705,
          12438.0224944615,
          11735.3041880029,
          10838.114310443,
          10233.8499159564,
          9718.67847705042,
          10536.9063884279,
          10036.7254363598,
          11625.8419572762,
          1631.19382841923,
          1632.94858853561,
          46230.73199756,
          45926.127875307,
          44962.8839612883,
          44103.0386866527,
          45955.2272888233,
          45992.1566168139,
          43456.1457423522,
          42141.870158423,
          40517.5702438298,
          39356.9349136235,
          38255.3455262111,
          37393.9471098308,
          37278.4325128102,
          35863.5375708431,
          34775.4850855381,
          34111.3525248748,
          35829.7985364986,
          21328.9418196388,
          20361.7147945387,
          20905.5618857055,
          20410.3661592134,
          10397.5614154923,
          9686.61528974268,
          8884.58803122452,
          8069.35463838628,
          7412.87436348628,
          6795.17401238784,
          5979.78171182139,
          5334.64663937839,
          4817.21184451855,
          4400.82518340985,
          3451.67923093446,
          12896.3516812902,
          12523.006680201,
          11823.3879357365,
          11434.331033923,
          11431.9631032354,
          11199.4859551416,
          10622.8122667083,
          10083.3143613973,
          9749.55565568711,
          9388.04049044271,
          9168.55091395225,
          9082.20809505088,
          9073.42687807926,
          9612.67920008,
          9456.15871231116,
          16950.440233698,
          16448.2874784145,
          15868.5695581522,
          16230.9479607969,
          23883.3027281718,
          24393.8595003337,
          24358.1004432062,
          24627.1455832697,
          26545.3526929265,
          26048.9743754834,
          24787.1621445504,
          23613.8843771044,
          22667.667797964,
          21769.5607951756,
          20613.9961643951,
          19517.8796690432,
          18241.6256840672,
          17560.0445034007,
          37413.59020453,
          38226.9931607121,
          38464.9612046221,
          40324.1692781575,
          39894.6789669111,
          38776.3321181233,
          37653.765432119,
          36431.9289389505,
          35155.5109035799,
          34675.7340585353,
          33816.4340812793,
          32883.1749117926,
          31363.860495984,
          30207.0547909235,
          33795.6721922485,
          34110.7650805102,
          33590.0554701118,
          32887.2933173433,
          34690.8651226074,
          34064.6745829146,
          32456.1215053472,
          30481.4698285486,
          28633.3955364731,
          27326.540415033,
          26373.5737965267,
          25915.9055596397,
          25056.2609404689,
          24024.8566740516,
          23672.6567604609,
          23734.8693981326,
          23832.838828975,
          51379.8548206608,
          51456.9971379348,
          50987.7094796128,
          50274.0756963766,
          53740.0862041295,
          51647.6716754489,
          49419.9518858163,
          49290.116741525,
          47449.5724187488,
          45404.6631065992,
          44153.9304097675,
          10257.4003390408,
          9805.6491552277,
          9757.37163256092,
          7575.6291506757,
          7328.71321626195,
          7208.14502971999,
          7392.84099578164,
          7238.18319271428,
          6437.3316154399,
          29232.5955632784,
          28245.5171498813,
          26208.9231461421,
          25464.1504426108,
          29702.3018052451,
          31211.0806708638,
          28881.6487725494,
          26168.5856675526,
          23763.9889441822,
          22125.0441819375,
          20439.9868349567,
          19017.2906611985,
          17830.3586755235,
          16272.2558134908,
          16386.3532969518,
          1259.02255177893,
          45989.3581957772,
          46863.6421680497,
          45911.7104555256,
          44698.1700088519,
          48857.4157278667,
          48703.5677922179,
          46449.6836268401,
          44823.0803310483,
          43760.2791457502,
          42202.7496181892,
          41472.4860871784,
          40875.3267393321,
          39926.4136840468,
          37825.5816892033,
          36322.7027176911,
          34534.6401324377,
          43000.9383498115,
          42282.2957244874,
          41679.1924537472,
          43133.542125033,
          43264.9683422552,
          42502.8942570932,
          41777.0087101363,
          41404.4666920174,
          40562.6361495585,
          40517.6317132385,
          40355.1176557854,
          39859.1927208374,
          38617.8984847262,
          37532.9404381613,
          36366.4724858698,
          35662.172650138,
          13934.8299233835,
          14378.4740408675,
          49843.2880653144,
          47079.8711246185,
          45121.7639963043,
          47724.9586975298,
          47181.4147666392,
          45756.446515015,
          44024.686883696,
          43680.0871995518,
          43163.3974403361,
          43491.7940465272,
          43651.3959152396,
          43001.8282464201,
          41841.4716625783,
          41092.9923807508,
          40287.8456982938,
          39636.4857434084,
          3732.38206331236,
          3261.71023964934,
          28951.6928118595,
          31063.3351484817,
          35124.8475404881,
          33413.8668953018,
          30576.0072738274,
          28518.9988462893,
          26882.4667116926,
          24833.2712654361,
          25051.2164438087,
          24505.631193101,
          24178.976395187,
          25875.0639423567,
          25559.30564469,
          25458.0863856514,
          24433.5549555262,
          23392.3278932127,
          22266.6952909184,
          21331.7085701828,
          20308.1840632027,
          19468.4903710642,
          18585.5034585674,
          17980.7386803397,
          17265.5920402702,
          16705.7603664546,
          47320.6271438972,
          48177.0841226297,
          51856.1695215737,
          51797.6940727927,
          48575.6725606,
          47249.4011064694,
          42153.5637390894,
          41593.9025421458,
          39210.086110749,
          38144.8909907341,
          36001.0851387679,
          5816.42546664123,
          5689.26019604017,
          9435.59035577969,
          52834.9923588177,
          52939.8592926248,
          52989.2327005586,
          52331.5603912742,
          55694.6297626987,
          59507.9168360789,
          58156.9442866212,
          56862.7329142146,
          54981.2184483057,
          52469.0621384413,
          51767.3976115259,
          49704.7189508649,
          47970.3452837184,
          44418.436837849,
          40652.0826582588,
          37793.5658990833,
          34421.2696169463,
          34978.016099314,
          33733.3957542753,
          34233.0043085197,
          33832.8204782236,
          32559.2887311097,
          31393.1405346761,
          30748.6823171468,
          30039.6125673924,
          30292.9292985628,
          30913.8260709378,
          31613.5932530568,
          30208.0017748517,
          30051.1344067673,
          29587.379579202,
          29188.8735965446,
          43029.2717412854,
          42800.5935459019,
          42209.2773039811,
          44766.0966677999,
          45501.3718210946,
          45061.6056382027,
          44402.1636371344,
          39555.404088209,
          37728.9049814787,
          37702.6025872772,
          36192.2884245538,
          38260.0910835428,
          38701.8435426394,
          38115.8349480943,
          37605.9904467099,
          36994.4272106767,
          36208.5959395551,
          35739.9729243431,
          35780.955830646,
          35722.1231102612,
          34814.2200159619,
          34965.9422901249,
          35461.2323460047,
          35167.4097616673,
          21970.0839239319,
          20751.2572399462,
          19770.2166481541,
          19500.4789415616,
          18112.7787011954,
          16536.0154072377,
          15208.440248666,
          13973.077738521,
          11682.8417915151,
          10275.7618712984,
          9330.56478866572,
          8998.90120883664,
          9016.00324724515,
          3329.85438577199,
          3221.25313854985,
          60887.4593669853,
          58810.3001967563,
          63886.0473795935,
          73022.8633510581,
          75581.0105136491,
          75224.3180620525,
          73155.5175576997,
          68233.9302714652,
          63008.515434926,
          54322.7253249399,
          53578.4952886431,
          54984.8544849844,
          55035.0652475184,
          59725.7544596746,
          61687.5153146506,
          24137.8023851873,
          22867.9731931828,
          21091.0218142024,
          21608.8539979281,
          24789.9996265413,
          25375.1430753236,
          22875.1646921232,
          20240.2291018432,
          18083.2519960228,
          16485.5033070323,
          15056.9775967088,
          13898.6408700306,
          12904.3764868676,
          12094.5825421547,
          11676.4794166588,
          10877.1965889322,
          9892.48532567057,
          2261.5063065251,
          27418.2190620411,
          26051.5539036748,
          24019.2582654889,
          23138.7555915642,
          26870.4586091281,
          25917.9128683143,
          23051.4121041779,
          21120.4502237547,
          19287.8984684309,
          17896.7814316473,
          16055.5736096672,
          14919.8968357261,
          13890.9238980929,
          105411.464570926,
          108355.582583156,
          108047.346867064,
          104932.811953115,
          115256.016699066,
          104357.564987409,
          100546.540938853,
          96207.2286509716,
          21289.262740357,
          20536.367417243,
          19442.9839476438,
          20103.5019232228,
          18752.5407834934,
          17538.4822176703,
          16155.6016212127,
          14448.7365264128,
          1985.62211848941,
          33944.1705701275,
          32896.206915891,
          32882.3071326312,
          31308.5816256448,
          31907.2996491199,
          30932.0131839373,
          29625.5458284916,
          29005.5975941623,
          27454.9467978378,
          18245.8358480256,
          17848.3249422511,
          17225.2548436832,
          18457.1134264157,
          18523.3590690205,
          18379.5267568773,
          17846.8971164882,
          17693.0532237514,
          17262.385535499,
          17249.9203436728,
          17495.3685135009,
          17814.7701714794,
          17222.1581418254,
          17009.9022695328,
          16421.7462787459,
          15610.980107657,
          5480.85433270117,
          8613.29807861083,
          7479.79740248469,
          7360.68740559009,
          6858.32792630431,
          17342.588588237,
          6284.12011608832,
          5560.40328268073,
          4946.48226767752,
          4723.94601769485,
          8888.4131192552,
          52762.1991860152,
          51772.4249282435,
          53078.9483179977,
          49625.4195662187,
          47959.5652667536,
          48314.5954551575,
          45985.527889255,
          44073.8787354131,
          42370.3765425754,
          40821.8479994322,
          38361.1941936905,
          37601.1428289373,
          38757.8552718713,
          37357.7209663552,
          35678.0533262587,
          33833.9393754117,
          32154.1299239368,
          30680.9402685819,
          4288.27013112096,
          61352.4568450381,
          61886.5644978857,
          64267.0006960529,
          62067.9707102713,
          58915.7056929217,
          58203.5932330281,
          55891.6780850002,
          54075.5787553008,
          32529.0136526611,
          21347.3327494385,
          20529.4710206573,
          20640.7992376114,
          19129.1947746445,
          17394.3882205425,
          16304.5988099709,
          15493.9083428384,
          14680.7866395679,
          14356.095126788,
          14313.6754055609,
          14510.5417877503,
          14408.0933205783,
          13447.5125448331,
          12891.6890206259,
          10700.1553153437,
          9643.50266882963,
          8568.54754975229,
          8526.51048470753,
          8335.96866207636,
          8136.63142632647,
          8293.56853787392,
          5474.68132696435,
          5054.23899156508,
          4697.48559352729,
          4562.76149407829,
          25538.4869069143,
          25204.4938237169,
          24072.7552963173,
          23138.596100825,
          22516.5700469463,
          21611.9472896467,
          20175.5115179586,
          18997.9392297003,
          18346.2177971017,
          17465.2249695964,
          16863.4890317867,
          16519.3615906136,
          16309.5537222246,
          15436.0704753513,
          14748.2819498227,
          14099.2607501771,
          13253.7502128055,
          31404.7543907793,
          31899.6676271551,
          31369.2362970917,
          32411.0539639812,
          32354.5304197908,
          31625.3905595723,
          31175.8545606093,
          30991.4434726519,
          30519.7244760262,
          30922.2524500836,
          30854.2058168611,
          30480.1342776956,
          29566.7998500771,
          28616.5835439205,
          27442.1655911201,
          26402.9969755015,
          21379.1482269711,
          20858.5317279383,
          20367.9604456617,
          21069.3050130757,
          22114.66120032,
          19897.2680798144,
          18282.9480772005,
          16824.1781268987,
          15974.8730260466,
          14384.1172177819,
          13954.0581897216,
          12961.7254154846,
          12148.2000985467,
          11841.046290561,
          11867.1719354281,
          12087.9983880075,
          12667.5024785722,
          2742.99502020728,
          2739.88276208724,
          14941.7574700361,
          14971.4576830224,
          14557.3010690767,
          14393.6731680551,
          14738.6954464009,
          13890.4976270822,
          82969.5617208165,
          81398.6166283515,
          78159.8433287318,
          69466.5817461326,
          71507.0611186188,
          74032.2856547611,
          70794.4486354387,
          67010.5181761266,
          63901.716367617,
          58920.9450034965,
          55539.3670740227,
          53937.1331944717,
          56010.5707212541,
          52264.8510904414,
          49831.8206008198,
          52711.0029933381,
          50323.8836565231,
          32722.7202879947,
          33680.4941921837,
          33462.3121393172,
          33162.9267279508,
          36196.2916486969,
          35024.2812886403,
          32922.6355698393,
          31233.0871448787,
          30142.4312205199,
          28901.8606945113,
          28087.8202525569,
          27170.1700203521,
          26364.9518302198,
          25506.436409014,
          24232.4278036241,
          23411.8694450462,
          22256.5047992377,
          12452.3375290857,
          12262.1430334211,
          12628.200837388,
          12402.0494604229,
          11924.0734129115,
          11434.9152380948,
          10997.0109109346,
          10646.8315142747,
          10224.0233326686,
          37002.0390484298,
          37438.6457745616,
          37550.2031502031,
          39365.6986690513,
          39647.0212144592,
          38982.554979596,
          38084.5914726208,
          37368.7204869039,
          36867.7943437807,
          36453.5892502757,
          35989.3091506889,
          34868.6039692004,
          33279.0464825664,
          31978.2282913878,
          30759.564451537,
          29785.9072025449,
          9126.86579479194,
          8274.17512000304,
          7419.41553371741,
          6589.46331448696,
          5949.97143880894,
          4938.71066652689,
          49103.7381616861,
          45638.0355774912,
          48712.4376755843,
          45585.3966001731,
          42814.5643374702,
          41234.9787836342,
          38963.4482380088,
          35878.8884730444,
          65282.3275167943,
          59242.7566381109,
          58404.1047701058,
          53257.8062214539,
          2259.59458613619,
          2168.11869778719,
          2131.69297108232,
          2016.61428958485,
          1909.26104271471,
          1818.55722387341,
          1737.74363021805,
          1603.55076157191,
          1471.36591849479,
          1350.25833012171,
          13471.8974954811,
          13473.4332665941,
          12316.627183929,
          11898.1350787691,
          11271.3458791344,
          10594.2784115442,
          10069.3723494864,
          10477.8553031358,
          9872.03900132034,
          9682.81391908271,
          9388.05504673581,
          8887.02992810892,
          8523.10667426948,
          8305.39129804982,
          7878.41309760168,
          7581.00445637628,
          7541.13957464232,
          7329.35851951096,
          6508.75165727454,
          22002.1422126804,
          20091.6165262608,
          18791.3311993325,
          19996.7160705344,
          20073.581808165,
          19339.083801687,
          18309.9447485208,
          17023.0554281874,
          15720.4534658126,
          15079.2155459918,
          14376.1753412165,
          15482.8672406467,
          14700.4854568323,
          15433.6742489655,
          15310.2679814859,
          14459.1811589759,
          1861.28228564753,
          1819.00118154645,
          1757.97186705034,
          1668.98832753468,
          1588.77506313767,
          1480.05242341453,
          1436.70978658592,
          1388.67234145431,
          1346.39264233098,
          11778.3136960259,
          11298.3909564957,
          13195.8768378635,
          12829.03064807,
          11852.6523644491,
          10957.5582756783,
          10561.0095264702,
          9349.13468844413,
          8467.79599207072,
          7969.42102827251,
          55632.9297643152,
          54806.1169274869,
          54359.1339744884,
          53440.9115376752,
          55314.6600600556,
          55916.7153825593,
          55411.4375480389,
          54395.3564837089,
          53035.7829128595,
          51569.8176904018,
          50568.1011093528,
          50165.7199406447,
          50163.8894682396,
          48714.5305541034,
          47041.1847777655,
          45551.4148049007,
          44140.1427859365,
          18573.8544665676,
          17712.8969892031,
          16477.8238595598,
          15851.7967534658,
          14828.024360075,
          13944.1707655947,
          11774.0880589987,
          13296.1015865839,
          13605.8072419817,
          13946.3684824662,
          13428.6294349873,
          12457.9739652764,
          2747.43871787339
         ],
         "xaxis": "x",
         "y": [
          3.26028,
          1.54938,
          23.93386,
          22.31766,
          21.43839,
          26.5221,
          29.27521,
          29.37905,
          31.01999,
          30.71935,
          26.30862,
          24.31098,
          20.77307,
          23.28416,
          25.7663,
          27.00878,
          27.21354,
          61.90762,
          58.06899,
          47.93657,
          47.59929,
          49.44358,
          43.86036,
          43.819,
          46.16662,
          44.76357,
          47.06064,
          46.11211,
          48.69671,
          48.38105,
          45.6225,
          47.15739,
          45.12017,
          44.63037,
          41.76718,
          41.81082,
          41.07741,
          41.72061,
          43.30769,
          44.73185,
          9.60829,
          24.76307,
          25.15984,
          20.76849,
          18.2837,
          18.73198,
          21.29213,
          25.8482,
          27.1022,
          28.8185,
          36.4993,
          45.14897,
          20.65693,
          24.43307,
          24.27566,
          23.76064,
          17.89333,
          23.82837,
          29.26628,
          60.15088,
          57.58209,
          58.62387,
          60.99179,
          61.38192,
          61.03582,
          59.68141,
          60.15245,
          60.30723,
          59.37837,
          63.36815,
          62.41306,
          66.19672,
          65.67198,
          67.56046,
          67.61234,
          5.20358,
          16,
          18,
          22,
          20,
          20,
          20,
          24,
          45.21178,
          45.43497,
          46.25014,
          45.46248,
          45.59862,
          48.17288,
          48.29023,
          44.48669,
          43.82864,
          45.0077,
          43.83579,
          44.73485,
          16.66319,
          30.22794,
          30.62374,
          34.15712,
          30.60463,
          27.84397,
          28.22629,
          26.76724,
          24.8252,
          27.09129,
          24.36362,
          22.82633,
          23.61479,
          23.2834,
          60.36292,
          11.93227,
          16.44522,
          48.37439,
          47.98345,
          46.44098,
          48.51804,
          49.45216,
          49.19419,
          51.15031,
          49.34161,
          50.18179,
          50.32603,
          51.48283,
          50.30476,
          44.86768,
          44.88859,
          45.7173,
          48.04591,
          46.29415,
          35.37265,
          31.28804,
          43.72801,
          38.88848,
          74.04079,
          73.91087,
          71.68975,
          71.74494,
          71.74104,
          70.37239,
          69.051,
          67.04113,
          65.67056,
          60.10275,
          57.58961,
          33.67925,
          30.85499,
          31.94699,
          20.66619,
          37.41422,
          30.4505,
          26.92187,
          28.66598,
          31.6326,
          30.41793,
          35.12261,
          37.11606,
          38.43275,
          45,
          34.81,
          18.84658,
          20.70577,
          28.7345,
          33.74896,
          38.22083,
          38.18608,
          38.81778,
          39.78727,
          40.83279,
          35.50421,
          34.57391,
          34.27348,
          42.9621,
          41.96469,
          45.66301,
          43.12256,
          40.22264,
          44.5036,
          11.00435,
          12.74972,
          15.72758,
          17.82185,
          16.42782,
          15.94869,
          16.75668,
          18.91288,
          19.9012,
          17.41578,
          15.27855,
          17.48336,
          17.39315,
          13.73039,
          36.38471,
          37.68345,
          40.76913,
          39.75604,
          45.0499,
          47.17519,
          49.07506,
          48.19529,
          52.81819,
          51.44689,
          53.72223,
          52.46039,
          51.20964,
          52.60565,
          60.192,
          59.82113,
          59.64659,
          60.05309,
          60.25018,
          61.08765,
          62.13738,
          61.04465,
          59.52574,
          59.88517,
          61.41134,
          58.97004,
          53.38953,
          50.49906,
          8.52939,
          21.54532,
          17.44186,
          1.38889,
          0.55556,
          0.6875,
          0.6817,
          1.79802,
          1.16,
          51.20979,
          55.00628,
          43.60328,
          38.48566,
          39.78677,
          41.63077,
          38.1334,
          38.49245,
          36.484,
          32.94748,
          29.13338,
          32.94055,
          24.1966,
          24.19624,
          23.2216,
          10.77068,
          63.05659,
          67.01006,
          66.09809,
          68.10225,
          70.28762,
          68.20252,
          66.55734,
          66.8577,
          69.25418,
          70.00221,
          69.5222,
          70.78115,
          70.24924,
          66.94823,
          63.87616,
          62.89537,
          55.00289,
          53.49814,
          52.26525,
          50.81922,
          52.27445,
          52.32643,
          51.93448,
          50.73344,
          50.77779,
          52.10514,
          54.21257,
          52.51557,
          54.11413,
          53.45874,
          51.62359,
          48.51852,
          29.26452,
          19.72887,
          65.63405,
          65.58644,
          66.12708,
          67.27309,
          68.11996,
          68.29468,
          67.57478,
          66.56024,
          66.26292,
          65.51884,
          65.65844,
          66.04496,
          65.42619,
          62.40336,
          61.33055,
          59.58286,
          0.10152,
          50.85511,
          31.01077,
          32.7391,
          31.06285,
          28.22619,
          33.04756,
          24.15904,
          21.57699,
          46.88226,
          47.46166,
          47.37328,
          46.42767,
          48.30646,
          43.86311,
          43.30276,
          39.44562,
          37.10307,
          30.67959,
          29.66375,
          34.83826,
          37.75577,
          38.45812,
          36.09466,
          36.55151,
          38.85505,
          49.84549,
          47.80594,
          50.35,
          50.35,
          49.29673,
          47.99583,
          43.87858,
          46.15706,
          43.4148,
          37.72658,
          41.94814,
          14.68996,
          25.71005,
          0,
          48.63057,
          48.35838,
          52.2274,
          52.08528,
          48.75978,
          49.5477,
          53.42144,
          57.44828,
          58.55792,
          60.26393,
          63.42109,
          66.72896,
          65.78791,
          64.36728,
          65.42814,
          67.27153,
          66.80923,
          36.55204,
          37.42383,
          52.95625,
          56.57826,
          55.00507,
          56.23771,
          54.52021,
          51.20479,
          53.14774,
          53.63541,
          52.76172,
          46.95112,
          43.43103,
          40.4862,
          38.01885,
          45.08849,
          44.66163,
          44.15743,
          45.91529,
          42.01926,
          40.42409,
          39.66331,
          42.97893,
          76.52337,
          75.93114,
          75.26743,
          78.17249,
          77.7054,
          77.06944,
          76.12156,
          74.81141,
          74.6464,
          74.07638,
          73.05065,
          72.42006,
          72.1773,
          72.56669,
          73.98461,
          73.3754,
          51.58933,
          36.60284,
          50.73673,
          44.51119,
          35.15982,
          39.14593,
          41.78109,
          25.49233,
          0.05813,
          0.0556,
          0.05622,
          0.03477,
          0.05414,
          4.34074,
          16.82958,
          5.18401,
          5.18519,
          2.3318,
          2.63383,
          2.36046,
          6.57682,
          7.29384,
          5.97375,
          4.40186,
          19.99981,
          20.0763,
          20.8586,
          18.10507,
          20.21965,
          20.40827,
          23.77691,
          24.84909,
          38.83117,
          36.89482,
          27.03518,
          36.35164,
          52.68542,
          34.3022,
          46.28259,
          33.223,
          21.71571,
          18.25922,
          29.44259,
          22.24371,
          22.20836,
          14.03888,
          17.61103,
          3.37766,
          26.14334,
          28.23481,
          32.39251,
          30.80612,
          29.30008,
          32.81036,
          26.17817,
          20.84871,
          19.94923,
          16.73651,
          27.8503,
          37.0869,
          31.56003,
          47.1454,
          48.39038,
          44.30358,
          70.26504,
          76.0142,
          79.72458,
          80.38985,
          90.68425,
          55.00637,
          59.58499,
          68.5204,
          66.44759,
          84.49009,
          71.23215,
          51.45165,
          61.42857,
          10.10068,
          46.57302,
          51.87176,
          53.8848,
          51.56639,
          56.5091,
          51.86827,
          45.69481,
          46.79828,
          18.55196,
          36.75506,
          36.20898,
          39.06294,
          38.25287,
          44.57956,
          45.22071,
          41.51008,
          38.61637,
          34.69624,
          34.69148,
          29.83921,
          29.51683,
          23.57877,
          23.57983,
          16.9155,
          19.44232,
          51.38794,
          11.35714,
          7.24037,
          1.93786,
          2.70957,
          22.27725,
          29.93796,
          22.7025,
          12.30916,
          21.62306,
          19.82981,
          49.91867,
          45.14796,
          48.78167,
          46.316,
          46.99388,
          48.20335,
          49.07141,
          48.58295,
          45.57088,
          48.45862,
          39.9619,
          39.00534,
          40.72189,
          41.055,
          38.23636,
          37.80539,
          34.10086,
          30.48083,
          0.15877,
          44.19701,
          43.61399,
          45.01335,
          46.78755,
          50.52673,
          52.8762,
          49.5327,
          49.39518,
          4.55947,
          2.31214,
          2.20441,
          2.23103,
          0.2584,
          0.93677,
          0.42042,
          0.11,
          0.6,
          0.6,
          10.2,
          0.6,
          1.4,
          0.67,
          2.22,
          4.28187,
          0.25,
          0.30988,
          0.01168,
          0.01491,
          0.01168,
          0.02834,
          61.95637,
          62.62203,
          69.05267,
          68.61352,
          32.30446,
          28.11572,
          24.41485,
          27.09512,
          30.45859,
          34.25746,
          33.0522,
          33.35008,
          30.47931,
          30.26633,
          30.05529,
          30.77192,
          29.50731,
          38.13964,
          37.82427,
          35.0848,
          38.8571,
          44.04776,
          44.08664,
          43.98322,
          48.0817,
          47.02851,
          42.95605,
          36.26739,
          34.18205,
          31.72539,
          31.63198,
          31.54025,
          27.0477,
          21.32171,
          21.28643,
          21.2355,
          20.45423,
          34.40681,
          37.40551,
          32.26955,
          34.75258,
          23.26299,
          26.86982,
          30.4101,
          37.22944,
          43.95585,
          45.38615,
          41.56978,
          47.59646,
          48.95596,
          50.20607,
          42.35324,
          52.81911,
          41.55919,
          4.09562,
          4.03944,
          0.00578,
          9.14798,
          8.6205,
          8.33043,
          7.76999,
          10.16,
          53.37318,
          55.32389,
          53.1235,
          52.14075,
          63.47959,
          59.84472,
          58.33852,
          58.75177,
          55.2942,
          51.56889,
          49.86894,
          54.19254,
          54.99249,
          53.63635,
          53.06932,
          53.11944,
          57.51607,
          62.83413,
          61.22758,
          58.37585,
          57.98363,
          62.80811,
          58.26797,
          59.32717,
          54.79437,
          58.49558,
          52.17969,
          60.02177,
          54.65497,
          53.31555,
          56.91409,
          52.54813,
          53.65731,
          49.07375,
          40.13195,
          42.50854,
          42.64755,
          42.66497,
          44.79083,
          43.86693,
          48.61601,
          54.76172,
          55.82324,
          44.31185,
          42.99036,
          43.35975,
          44.95186,
          45.45694,
          47.07174,
          46.28964,
          48.0409,
          48.35509,
          48.86285,
          47.17623,
          49.7271,
          48.85524,
          49.80412,
          44.70679,
          45.47253,
          40.92634,
          19.89013,
          19.04594,
          0.57518,
          7.73481,
          1.65248,
          57.30899,
          59.13983,
          62.76031,
          63.85772,
          65.12767,
          71.73202,
          67.11295,
          67.69866,
          68.19018,
          69.73282,
          69.08665,
          67.46747,
          0.00191,
          0.00108,
          0.00037,
          0.0013,
          0.00018,
          0.00223,
          0.0048,
          0.00793,
          0.00234,
          0.00061,
          41.42653,
          43.85344,
          48.65303,
          35.54402,
          41.80915,
          36.82153,
          10.42419,
          18.44787,
          20.03082,
          18.94737,
          18,
          16.93364,
          14.0625,
          12.57143,
          9.61538,
          7.97872,
          6.86275,
          5.7377,
          8.21147,
          45.82497,
          45.12429,
          40.96736,
          47.25352,
          48.44539,
          46.04563,
          43.30571,
          37.91593,
          36.21276,
          41.27971,
          44.8729,
          42.91554,
          43.31787,
          41.76644,
          41.80573,
          36.79563,
          13.67402,
          8.23317,
          4.33662,
          7.53809,
          0,
          1.66114,
          2.14234,
          1.66535,
          1.28374,
          26.20983,
          25.90415,
          27.06032,
          30.21966,
          32.54109,
          32.25471,
          32.88613,
          35.64437,
          33.40802,
          32.01175,
          59.12877,
          58.58304,
          57.17836,
          60.90394,
          63.5233,
          64.87789,
          64.27739,
          63.30609,
          62.59227,
          63.33562,
          64.54048,
          67.20573,
          69.0271,
          67.05817,
          65.1489,
          64.04396,
          62.3969,
          8.49521,
          47.14286,
          38.86013,
          42.78192,
          39.54948,
          32.55408,
          46.7,
          39.27,
          35.63,
          37.78,
          32.39,
          30.38,
          3.22766
         ],
         "yaxis": "y"
        }
       ],
       "layout": {
        "coloraxis": {
         "colorbar": {
          "title": {
           "text": "Internet_Users_Pct"
          }
         },
         "colorscale": [
          [
           0,
           "#0d0887"
          ],
          [
           0.1111111111111111,
           "#46039f"
          ],
          [
           0.2222222222222222,
           "#7201a8"
          ],
          [
           0.3333333333333333,
           "#9c179e"
          ],
          [
           0.4444444444444444,
           "#bd3786"
          ],
          [
           0.5555555555555556,
           "#d8576b"
          ],
          [
           0.6666666666666666,
           "#ed7953"
          ],
          [
           0.7777777777777778,
           "#fb9f3a"
          ],
          [
           0.8888888888888888,
           "#fdca26"
          ],
          [
           1,
           "#f0f921"
          ]
         ]
        },
        "legend": {
         "tracegroupgap": 0
        },
        "margin": {
         "t": 60
        },
        "template": {
         "data": {
          "bar": [
           {
            "error_x": {
             "color": "#2a3f5f"
            },
            "error_y": {
             "color": "#2a3f5f"
            },
            "marker": {
             "line": {
              "color": "#E5ECF6",
              "width": 0.5
             },
             "pattern": {
              "fillmode": "overlay",
              "size": 10,
              "solidity": 0.2
             }
            },
            "type": "bar"
           }
          ],
          "barpolar": [
           {
            "marker": {
             "line": {
              "color": "#E5ECF6",
              "width": 0.5
             },
             "pattern": {
              "fillmode": "overlay",
              "size": 10,
              "solidity": 0.2
             }
            },
            "type": "barpolar"
           }
          ],
          "carpet": [
           {
            "aaxis": {
             "endlinecolor": "#2a3f5f",
             "gridcolor": "white",
             "linecolor": "white",
             "minorgridcolor": "white",
             "startlinecolor": "#2a3f5f"
            },
            "baxis": {
             "endlinecolor": "#2a3f5f",
             "gridcolor": "white",
             "linecolor": "white",
             "minorgridcolor": "white",
             "startlinecolor": "#2a3f5f"
            },
            "type": "carpet"
           }
          ],
          "choropleth": [
           {
            "colorbar": {
             "outlinewidth": 0,
             "ticks": ""
            },
            "type": "choropleth"
           }
          ],
          "contour": [
           {
            "colorbar": {
             "outlinewidth": 0,
             "ticks": ""
            },
            "colorscale": [
             [
              0,
              "#0d0887"
             ],
             [
              0.1111111111111111,
              "#46039f"
             ],
             [
              0.2222222222222222,
              "#7201a8"
             ],
             [
              0.3333333333333333,
              "#9c179e"
             ],
             [
              0.4444444444444444,
              "#bd3786"
             ],
             [
              0.5555555555555556,
              "#d8576b"
             ],
             [
              0.6666666666666666,
              "#ed7953"
             ],
             [
              0.7777777777777778,
              "#fb9f3a"
             ],
             [
              0.8888888888888888,
              "#fdca26"
             ],
             [
              1,
              "#f0f921"
             ]
            ],
            "type": "contour"
           }
          ],
          "contourcarpet": [
           {
            "colorbar": {
             "outlinewidth": 0,
             "ticks": ""
            },
            "type": "contourcarpet"
           }
          ],
          "heatmap": [
           {
            "colorbar": {
             "outlinewidth": 0,
             "ticks": ""
            },
            "colorscale": [
             [
              0,
              "#0d0887"
             ],
             [
              0.1111111111111111,
              "#46039f"
             ],
             [
              0.2222222222222222,
              "#7201a8"
             ],
             [
              0.3333333333333333,
              "#9c179e"
             ],
             [
              0.4444444444444444,
              "#bd3786"
             ],
             [
              0.5555555555555556,
              "#d8576b"
             ],
             [
              0.6666666666666666,
              "#ed7953"
             ],
             [
              0.7777777777777778,
              "#fb9f3a"
             ],
             [
              0.8888888888888888,
              "#fdca26"
             ],
             [
              1,
              "#f0f921"
             ]
            ],
            "type": "heatmap"
           }
          ],
          "heatmapgl": [
           {
            "colorbar": {
             "outlinewidth": 0,
             "ticks": ""
            },
            "colorscale": [
             [
              0,
              "#0d0887"
             ],
             [
              0.1111111111111111,
              "#46039f"
             ],
             [
              0.2222222222222222,
              "#7201a8"
             ],
             [
              0.3333333333333333,
              "#9c179e"
             ],
             [
              0.4444444444444444,
              "#bd3786"
             ],
             [
              0.5555555555555556,
              "#d8576b"
             ],
             [
              0.6666666666666666,
              "#ed7953"
             ],
             [
              0.7777777777777778,
              "#fb9f3a"
             ],
             [
              0.8888888888888888,
              "#fdca26"
             ],
             [
              1,
              "#f0f921"
             ]
            ],
            "type": "heatmapgl"
           }
          ],
          "histogram": [
           {
            "marker": {
             "pattern": {
              "fillmode": "overlay",
              "size": 10,
              "solidity": 0.2
             }
            },
            "type": "histogram"
           }
          ],
          "histogram2d": [
           {
            "colorbar": {
             "outlinewidth": 0,
             "ticks": ""
            },
            "colorscale": [
             [
              0,
              "#0d0887"
             ],
             [
              0.1111111111111111,
              "#46039f"
             ],
             [
              0.2222222222222222,
              "#7201a8"
             ],
             [
              0.3333333333333333,
              "#9c179e"
             ],
             [
              0.4444444444444444,
              "#bd3786"
             ],
             [
              0.5555555555555556,
              "#d8576b"
             ],
             [
              0.6666666666666666,
              "#ed7953"
             ],
             [
              0.7777777777777778,
              "#fb9f3a"
             ],
             [
              0.8888888888888888,
              "#fdca26"
             ],
             [
              1,
              "#f0f921"
             ]
            ],
            "type": "histogram2d"
           }
          ],
          "histogram2dcontour": [
           {
            "colorbar": {
             "outlinewidth": 0,
             "ticks": ""
            },
            "colorscale": [
             [
              0,
              "#0d0887"
             ],
             [
              0.1111111111111111,
              "#46039f"
             ],
             [
              0.2222222222222222,
              "#7201a8"
             ],
             [
              0.3333333333333333,
              "#9c179e"
             ],
             [
              0.4444444444444444,
              "#bd3786"
             ],
             [
              0.5555555555555556,
              "#d8576b"
             ],
             [
              0.6666666666666666,
              "#ed7953"
             ],
             [
              0.7777777777777778,
              "#fb9f3a"
             ],
             [
              0.8888888888888888,
              "#fdca26"
             ],
             [
              1,
              "#f0f921"
             ]
            ],
            "type": "histogram2dcontour"
           }
          ],
          "mesh3d": [
           {
            "colorbar": {
             "outlinewidth": 0,
             "ticks": ""
            },
            "type": "mesh3d"
           }
          ],
          "parcoords": [
           {
            "line": {
             "colorbar": {
              "outlinewidth": 0,
              "ticks": ""
             }
            },
            "type": "parcoords"
           }
          ],
          "pie": [
           {
            "automargin": true,
            "type": "pie"
           }
          ],
          "scatter": [
           {
            "marker": {
             "colorbar": {
              "outlinewidth": 0,
              "ticks": ""
             }
            },
            "type": "scatter"
           }
          ],
          "scatter3d": [
           {
            "line": {
             "colorbar": {
              "outlinewidth": 0,
              "ticks": ""
             }
            },
            "marker": {
             "colorbar": {
              "outlinewidth": 0,
              "ticks": ""
             }
            },
            "type": "scatter3d"
           }
          ],
          "scattercarpet": [
           {
            "marker": {
             "colorbar": {
              "outlinewidth": 0,
              "ticks": ""
             }
            },
            "type": "scattercarpet"
           }
          ],
          "scattergeo": [
           {
            "marker": {
             "colorbar": {
              "outlinewidth": 0,
              "ticks": ""
             }
            },
            "type": "scattergeo"
           }
          ],
          "scattergl": [
           {
            "marker": {
             "colorbar": {
              "outlinewidth": 0,
              "ticks": ""
             }
            },
            "type": "scattergl"
           }
          ],
          "scattermapbox": [
           {
            "marker": {
             "colorbar": {
              "outlinewidth": 0,
              "ticks": ""
             }
            },
            "type": "scattermapbox"
           }
          ],
          "scatterpolar": [
           {
            "marker": {
             "colorbar": {
              "outlinewidth": 0,
              "ticks": ""
             }
            },
            "type": "scatterpolar"
           }
          ],
          "scatterpolargl": [
           {
            "marker": {
             "colorbar": {
              "outlinewidth": 0,
              "ticks": ""
             }
            },
            "type": "scatterpolargl"
           }
          ],
          "scatterternary": [
           {
            "marker": {
             "colorbar": {
              "outlinewidth": 0,
              "ticks": ""
             }
            },
            "type": "scatterternary"
           }
          ],
          "surface": [
           {
            "colorbar": {
             "outlinewidth": 0,
             "ticks": ""
            },
            "colorscale": [
             [
              0,
              "#0d0887"
             ],
             [
              0.1111111111111111,
              "#46039f"
             ],
             [
              0.2222222222222222,
              "#7201a8"
             ],
             [
              0.3333333333333333,
              "#9c179e"
             ],
             [
              0.4444444444444444,
              "#bd3786"
             ],
             [
              0.5555555555555556,
              "#d8576b"
             ],
             [
              0.6666666666666666,
              "#ed7953"
             ],
             [
              0.7777777777777778,
              "#fb9f3a"
             ],
             [
              0.8888888888888888,
              "#fdca26"
             ],
             [
              1,
              "#f0f921"
             ]
            ],
            "type": "surface"
           }
          ],
          "table": [
           {
            "cells": {
             "fill": {
              "color": "#EBF0F8"
             },
             "line": {
              "color": "white"
             }
            },
            "header": {
             "fill": {
              "color": "#C8D4E3"
             },
             "line": {
              "color": "white"
             }
            },
            "type": "table"
           }
          ]
         },
         "layout": {
          "annotationdefaults": {
           "arrowcolor": "#2a3f5f",
           "arrowhead": 0,
           "arrowwidth": 1
          },
          "autotypenumbers": "strict",
          "coloraxis": {
           "colorbar": {
            "outlinewidth": 0,
            "ticks": ""
           }
          },
          "colorscale": {
           "diverging": [
            [
             0,
             "#8e0152"
            ],
            [
             0.1,
             "#c51b7d"
            ],
            [
             0.2,
             "#de77ae"
            ],
            [
             0.3,
             "#f1b6da"
            ],
            [
             0.4,
             "#fde0ef"
            ],
            [
             0.5,
             "#f7f7f7"
            ],
            [
             0.6,
             "#e6f5d0"
            ],
            [
             0.7,
             "#b8e186"
            ],
            [
             0.8,
             "#7fbc41"
            ],
            [
             0.9,
             "#4d9221"
            ],
            [
             1,
             "#276419"
            ]
           ],
           "sequential": [
            [
             0,
             "#0d0887"
            ],
            [
             0.1111111111111111,
             "#46039f"
            ],
            [
             0.2222222222222222,
             "#7201a8"
            ],
            [
             0.3333333333333333,
             "#9c179e"
            ],
            [
             0.4444444444444444,
             "#bd3786"
            ],
            [
             0.5555555555555556,
             "#d8576b"
            ],
            [
             0.6666666666666666,
             "#ed7953"
            ],
            [
             0.7777777777777778,
             "#fb9f3a"
            ],
            [
             0.8888888888888888,
             "#fdca26"
            ],
            [
             1,
             "#f0f921"
            ]
           ],
           "sequentialminus": [
            [
             0,
             "#0d0887"
            ],
            [
             0.1111111111111111,
             "#46039f"
            ],
            [
             0.2222222222222222,
             "#7201a8"
            ],
            [
             0.3333333333333333,
             "#9c179e"
            ],
            [
             0.4444444444444444,
             "#bd3786"
            ],
            [
             0.5555555555555556,
             "#d8576b"
            ],
            [
             0.6666666666666666,
             "#ed7953"
            ],
            [
             0.7777777777777778,
             "#fb9f3a"
            ],
            [
             0.8888888888888888,
             "#fdca26"
            ],
            [
             1,
             "#f0f921"
            ]
           ]
          },
          "colorway": [
           "#636efa",
           "#EF553B",
           "#00cc96",
           "#ab63fa",
           "#FFA15A",
           "#19d3f3",
           "#FF6692",
           "#B6E880",
           "#FF97FF",
           "#FECB52"
          ],
          "font": {
           "color": "#2a3f5f"
          },
          "geo": {
           "bgcolor": "white",
           "lakecolor": "white",
           "landcolor": "#E5ECF6",
           "showlakes": true,
           "showland": true,
           "subunitcolor": "white"
          },
          "hoverlabel": {
           "align": "left"
          },
          "hovermode": "closest",
          "mapbox": {
           "style": "light"
          },
          "paper_bgcolor": "white",
          "plot_bgcolor": "#E5ECF6",
          "polar": {
           "angularaxis": {
            "gridcolor": "white",
            "linecolor": "white",
            "ticks": ""
           },
           "bgcolor": "#E5ECF6",
           "radialaxis": {
            "gridcolor": "white",
            "linecolor": "white",
            "ticks": ""
           }
          },
          "scene": {
           "xaxis": {
            "backgroundcolor": "#E5ECF6",
            "gridcolor": "white",
            "gridwidth": 2,
            "linecolor": "white",
            "showbackground": true,
            "ticks": "",
            "zerolinecolor": "white"
           },
           "yaxis": {
            "backgroundcolor": "#E5ECF6",
            "gridcolor": "white",
            "gridwidth": 2,
            "linecolor": "white",
            "showbackground": true,
            "ticks": "",
            "zerolinecolor": "white"
           },
           "zaxis": {
            "backgroundcolor": "#E5ECF6",
            "gridcolor": "white",
            "gridwidth": 2,
            "linecolor": "white",
            "showbackground": true,
            "ticks": "",
            "zerolinecolor": "white"
           }
          },
          "shapedefaults": {
           "line": {
            "color": "#2a3f5f"
           }
          },
          "ternary": {
           "aaxis": {
            "gridcolor": "white",
            "linecolor": "white",
            "ticks": ""
           },
           "baxis": {
            "gridcolor": "white",
            "linecolor": "white",
            "ticks": ""
           },
           "bgcolor": "#E5ECF6",
           "caxis": {
            "gridcolor": "white",
            "linecolor": "white",
            "ticks": ""
           }
          },
          "title": {
           "x": 0.05
          },
          "xaxis": {
           "automargin": true,
           "gridcolor": "white",
           "linecolor": "white",
           "ticks": "",
           "title": {
            "standoff": 15
           },
           "zerolinecolor": "white",
           "zerolinewidth": 2
          },
          "yaxis": {
           "automargin": true,
           "gridcolor": "white",
           "linecolor": "white",
           "ticks": "",
           "title": {
            "standoff": 15
           },
           "zerolinecolor": "white",
           "zerolinewidth": 2
          }
         }
        },
        "xaxis": {
         "anchor": "y",
         "domain": [
          0,
          1
         ],
         "title": {
          "text": "GDP_Per_Capita"
         }
        },
        "yaxis": {
         "anchor": "x",
         "domain": [
          0,
          1
         ],
         "title": {
          "text": "Percent R&D - Business"
         }
        }
       }
      },
      "text/html": [
       "<div>                            <div id=\"b1b34e8a-bd51-46a5-a068-d8038c7c018e\" class=\"plotly-graph-div\" style=\"height:525px; width:100%;\"></div>            <script type=\"text/javascript\">                require([\"plotly\"], function(Plotly) {                    window.PLOTLYENV=window.PLOTLYENV || {};                                    if (document.getElementById(\"b1b34e8a-bd51-46a5-a068-d8038c7c018e\")) {                    Plotly.newPlot(                        \"b1b34e8a-bd51-46a5-a068-d8038c7c018e\",                        [{\"hovertemplate\":\"GDP_Per_Capita=%{x}<br>Percent R&D - Business=%{y}<br>Internet_Users_Pct=%{marker.color}<extra></extra>\",\"legendgroup\":\"\",\"marker\":{\"color\":[23.86,15.0361154084109,51.0,45.0,34.0,28.1126234799907,25.9466329403819,20.9272021035896,17.7205833696065,16.0366841054923,11.9136965509954,10.8821243775325,9.78080728532407,7.0386830862178,3.28448195590463,0.830766679676473,0.280339881830012,71.67,66.0,46.7561156116738,30.8132394396276,3.27524987017728,80.6188,80.0299939169903,78.7399930986888,75.17,73.45,72.87,69.37,63.6,58.0,54.28,42.7,36.56,39.1854501811114,33.7301329516915,23.0443171023274,15.4212193219603,9.53397431748034,6.90916235325567,46.0,27.4,17.08,14.54,11.9921773343674,8.03037535616454,4.99971367812957,0.305564637615618,31.8,27.43,23.0,19.7,16.2,8.95097131467325,4.30061602151712,1.86039812615388,0.494881245327084,0.0738688972841164,0.0490208910370497,81.6099959955952,75.0,70.0,66.0,64.44,59.72,55.82,53.86,49.97,46.33,31.2883955056566,29.4316916924341,13.7722144589561,7.88662270071677,4.93808090966561,2.96841164745362,16.8,3.11719294696997,2.1204625341365,1.4427635847914,0.981815187281861,0.626484062433397,0.44783903590236,0.196081173945832,45.69,40.65,39.22,33.83,30.88,28.1783801797929,21.022747248827,19.073672274442,13.2075861035303,9.14942508560748,4.52849486902851,2.87068515854108,46.23,45.0,39.67,33.64,27.09,19.97,18.13,12.04,9.08,7.6122977487982,5.37092346908696,2.90815402505996,1.84496512093439,1.21981313194706,0.725251166566501,1.13,0.92,83.0,83.0,80.3,80.3,76.7,73.2,72.4,71.66,65.9559634648989,64.2,61.5932992681952,60.2,51.3,36.1864400395459,24.897400303091,15.0723573635834,6.76023965049561,45.0,41.56,37.3,35.9,42.3001174855995,38.3,34.3,28.9,22.6,16.0,10.5231526193851,8.52325700269541,7.3,6.2,1.77591320677415,48.98,40.3509157546318,36.5,30.0,25.6,21.8,15.3416745365682,11.0072638904585,9.1186903029666,7.38892371052557,4.6,2.85419997133433,2.207532992624,0.550521023153909,0.330017772736723,39.2121959961842,36.5,34.33,32.29,61.9399731527956,57.7899789891444,56.55,50.58,44.24,41.44,37.98,33.14,30.91,22.75,17.76,11.5585731811648,6.64488254374396,4.40535911936871,56.8598923503507,52.99,49.81,42.31,40.77,35.83,32.81,33.83,30.09,28.32,18.8187590408455,15.2553943710137,11.3423986595347,8.8905391589027,73.4300078241036,70.49,68.82,64.43,62.97,51.93,47.93,35.27,35.5,34.3,23.93,14.6971721171129,9.78052788834393,6.83280201790214,3.89590606502968,2.91569869519568,1.94037819329252,92.2600117153012,89.8100133895232,88.72,86.84,85.03,82.74,76.26,42.9575247201878,30.5920406509143,11.3820049363755,5.71498784136337,18.8,10.8,7.2,18.9,15.9,12.11,10.08,6.11,0.425253672320613,78.3899259259259,76.5,74.1,72.5,70.58,66.19,63.51,61.45,53.2,45.32,41.52,31.5274897673756,28.5769538105646,14.5008972430169,10.7960348323268,0.75,89.879997974222,88.70999491353,86.89,82.49,83.67,80.78,79.66,74.48,72.39,69.22,62.43,43.1053633522263,37.2484617371121,32.2950922889897,25.4525249254189,19.4586827950608,77.8199989926706,77.28,71.58,70.68,66.09,46.87,42.87,39.15,36.14,30.18,26.3259035521688,14.3079239430677,9.12531788860536,6.31977872175207,4.25500387171107,2.58403397908468,6.7,6.21,81.26999953602,82.0,79.0,78.0,75.16,72.16,68.71,64.73,55.9,48.82,31.650939416316,30.2163466048889,20.8459826390268,9.87785242805539,6.71108747669468,3.05480523429391,7.8,3.85,55.0699934418411,51.6499951676815,24.0,17.8,10.9350258080278,6.87729214416088,1.84963468790097,70.579998153838,68.0199878861296,65.0,62.0,61.0,53.3,47.06,38.97,27.74,21.63,16.67,14.5285543028277,6.99967635062916,5.85784074913192,3.89464327842503,1.94244987216737,0.969239535629585,94.8196868008949,93.0,91.0,90.6,89.51,87.0,83.14,49.3929953676426,41.2945667122702,36.2642065028975,27.4788687499313,2.01861385948459,0.925563864466858,5.0,76.919992540097,74.8899729670944,69.85,67.38,65.34,61.158324551,54.82,41.61,36.99,34.31,25.85,23.1388121904053,17.8504672405807,10.9338085895467,8.09601004337033,4.08825507004952,2.19930183163355,67.5,63.12,59.39,48.1280621948445,27.8810744577346,25.1940424216829,22.7704855254035,19.5933936579649,17.7645990630493,17.3786238639049,20.8737899981674,13.4361219052622,10.3070699456663,4.39940548194079,2.16836760046815,54.3899983018814,53.68,48.83,44.53,40.79,37.99,35.0,1.02328990327724,79.0541135244739,78.21,78.0,75.4,74.3,68.6852703213795,66.9210661042901,62.3939296327259,48.4352658899653,46.5942011179917,38.5320608612719,29.9907403589142,21.391290312434,13.4140408820215,9.16307714028121,4.37298196820763,50.6,31.6,11.0,4.02,3.26836905115978,2.96170749150089,2.6503946570164,2.00041475265872,1.00612421099739,0.668594402621264,0.464277217538881,0.13106960398892,0.0645967541164605,14.0,7.95,65.7690706867398,61.4,50.8,42.0,34.8,28.7911979549612,25.9261083689107,22.9271120360078,22.4029383804612,10.2489679289296,8.55179243431475,6.73139576837536,4.75622220879911,3.05239745470751,2.17453585891176,73.1199437663748,69.7499545592245,68.42,66.84,63.41,59.17,53.63,46.0,38.58,26.98,21.94,7.21934580836289,6.31906208267861,4.38740905527801,3.31526788607745,2.05345471167237,0.812717071650356,3.72,67.2299893276414,63.6399774002179,62.12,59.76,55.22,49.9,43.9,36.22,31.23,25.91,17.69,7.17935699381369,6.42706749477765,91.9499237417387,90.0298585646936,90.62,87.31,78.92,70.0,54.55,22.8873279731211,61.0,56.3,55.9,55.8,51.6379889864403,42.2522656295248,32.3382043389359,6.75177048301491,0.81,68.1998742928975,68.0198237885462,63.0,58.86,50.08,46.9,40.41,41.24,28.92,37.1762954125184,31.05,26.34,21.71,20.81,19.52,17.21,14.1,12.9,11.9,7.0380231165045,5.08138415338066,1.85743622125093,1.26578327821238,0.627311539559522,0.20040628032987,0.0281288083769467,12.4999911084745,10.2,9.8,9.0,35.6115412460109,52.0,19.7711915653115,3.35336668122363,2.37325319241544,11.6,91.4199957622284,89.63,85.82,81.0,64.35,49.3730621073123,39.1760072483196,22.2438276873626,14.0655113980191,9.64906914465055,81.23,79.7,69.76,62.7202123689541,60.9625398663824,53.2410152941279,41.4944826585159,14.6015243991473,6.77,93.4899826515194,92.08,86.93,81.99,78.13,64.0,40.0,20.4178814360849,48.0,40.1,39.08,33.82,22.29,17.3495661695931,11.4840092783071,11.1408625409415,9.98742407723405,8.51807781515595,7.26839987788729,6.55479647729549,3.83686450851963,0.539065540666565,0.219998526009876,24.7635158793993,14.27,7.90700786141285,3.45243843137079,2.11194208210034,1.79496959770244,1.09879383569333,5.97,5.3976363293955,4.85767226708512,4.33227574643007,62.3099972714691,61.94999896898,62.32,58.97,53.13,48.6,44.58,38.81,32.53,24.87,21.15,9.9006697073534,7.2854287080601,5.45644373006027,4.10227200222192,2.07346547356008,1.29520025466745,55.2499968797194,53.3,48.27,44.13,42.09,38.01,34.99,31.78,29.67,19.37,18.0871365595338,16.4304676923534,14.7423378419006,9.87044644226667,4.95300195504893,2.98087766974856,45.8799942529424,40.0099967810008,39.93,36.6,32.42,28.3,24.66,21.5,15.0,8.9,6.58,4.53866902895312,3.61371729139783,2.69758021659411,2.23764947274713,0.445444675615383,0.221622649231938,8.0,7.12,48.1,42.2,40.9,38.1,35.6,33.15,72.0,71.0,71.0,69.0,69.0,69.9,59.0,61.0,62.0,53.8379432881911,47.0,41.6704251756041,36.0,24.1554369311712,19.5907671587693,13.4716204150014,8.34995902953436,68.3499745287825,67.3399948092396,70.0,64.0,58.0,56.74,54.01,46.81,40.81,31.8547930120441,27.8388854180687,30.1759104700854,15.1102595640388,12.6109384253276,10.1046028486896,7.59192300372915,5.0722722714599,24.0,10.0,8.43,8.06537517355504,7.60713967477381,7.48854252992921,8.4251186825406,7.00769172611251,6.34661931839768,67.6,65.8,62.4,59.6,55.11,50.37,47.88,44.01,39.93,20.39,18.1487226902932,13.6249608089899,7.08503967835022,4.36189239380101,2.8033196254371,1.33184740350778,12.0,5.8,2.53756612897332,1.44615998041486,0.647410010940963,0.054464498514862,92.7699860554046,91.0,82.01,84.83,79.13,51.7656649372808,41.4327831641401,23.7279475562643,79.2,67.8,47.1,4.54965674817947,11.55,10.07,8.78,7.19761951797855,3.77240620666448,0.298690023682825,0.0774799071356825,0.0645837771508553,0.0554628269910006,0.0512591325352927,20.1,20.03,15.0260043588909,10.6773033237281,9.29902723805965,7.53125033488567,0.360522184921104,0.115472136284834,34.07,27.53,17.1,12.9864086534204,9.65508654217982,8.52881775162591,6.49084579532797,5.25288729548421,4.29796603474685,2.75074029298135,0.0436569744909024,43.065710430925,39.82,36.4,34.37,28.63,18.24,15.46,14.58,12.33,11.38,5.18948146078506,3.761685035075,2.29211768539022,0.698805128639542,0.473695432121789,0.19272493561622,12.5,9.78,7.9,3.67196535074744,2.52936303826279,1.7422055032439,0.719970679914031,0.464849840113968,0.384093504951945,23.3,17.9,11.0,6.55,4.50612456357379,3.749764414659,3.4894778812677,3.14812758815439,1.87388511643427,1.23875954748114,79.3,69.7294607619268,71.69,71.0,74.0,75.0,68.9311932699721,67.968052915002,64.7582564759896,61.6971171244207,58.7854038836952,49.0808315896951,43.0791626375201,35.8487244559914,30.093196588091,21.6164009686742,16.4193529600768,51.4046610563616,46.4,41.8,39.3,34.0,29.4,11.4194701966853,10.5390577480141,9.97276528462272,6.98706936489058,3.36323966812774,1.84747208854564,5.55],\"coloraxis\":\"coloraxis\",\"line\":{\"color\":\"DarkSlateGrey\",\"width\":2},\"size\":12,\"symbol\":\"circle\"},\"mode\":\"markers\",\"name\":\"\",\"orientation\":\"v\",\"showlegend\":false,\"type\":\"scatter\",\"x\":[9944.23328284139,9179.74113635371,24647.6292752459,23521.2701763288,21519.8925539826,23103.4559463136,22424.1222504319,20777.6516537547,19426.4366481069,18032.6104914271,16714.6692563706,15523.0363054169,17610.7516076702,18625.2881011086,18981.1683837255,19866.2406470539,19347.5419244468,44974.5263202105,42894.1331487911,38462.0153634672,36051.5717033416,33882.9075979721,53090.8151927455,53391.032403354,53272.527358892,51934.4627664247,51120.3320501803,53259.4111045692,52657.3755809339,50929.9681510672,49473.7489879843,48718.6693821179,47716.7553407919,47502.5442670715,46961.2332465252,46551.4597865552,45139.742922611,43674.4457616775,42210.6521287598,41391.9297308046,14312.7561158751,13822.0911094279,12903.1519167445,11914.994832597,9605.09610840819,7222.03607503781,4813.50418477741,4431.28987324473,17288.4043493433,16010.439955622,15942.8976797373,14417.3535308989,13214.87158024,8961.64111959338,8477.08401148315,8053.17363808324,7575.91832595163,7296.05459067832,6698.74456753512,48307.7068316362,48124.815894586,47214.1659661315,48577.2038026647,48744.6185198965,47362.4227731796,46489.2691305788,45685.0049060563,44301.0709398087,44029.8996903099,43485.4683209326,43160.6914937795,41715.0753426946,40380.2236589063,39687.9374817912,38329.9868977007,6455.97424355548,5434.08881516848,5402.76514668128,5415.52991539303,5386.17921449768,5469.46973718794,5312.07766466358,5164.2507332886,15318.3063061666,14868.3301408841,13957.6791202509,14110.3451381369,13560.5451000637,12917.9168849667,12561.8201732326,12312.3344290767,11782.4677716666,11796.9705534406,11598.6938525952,11597.1433448662,17496.3584372976,17284.86289832,17773.6910633803,16636.9099279988,15498.7638009691,14401.8572044246,13339.5700558705,12438.0224944615,11735.3041880029,10838.114310443,10233.8499159564,9718.67847705042,10536.9063884279,10036.7254363598,11625.8419572762,1631.19382841923,1632.94858853561,46230.73199756,45926.127875307,44962.8839612883,44103.0386866527,45955.2272888233,45992.1566168139,43456.1457423522,42141.870158423,40517.5702438298,39356.9349136235,38255.3455262111,37393.9471098308,37278.4325128102,35863.5375708431,34775.4850855381,34111.3525248748,35829.7985364986,21328.9418196388,20361.7147945387,20905.5618857055,20410.3661592134,10397.5614154923,9686.61528974268,8884.58803122452,8069.35463838628,7412.87436348628,6795.17401238784,5979.78171182139,5334.64663937839,4817.21184451855,4400.82518340985,3451.67923093446,12896.3516812902,12523.006680201,11823.3879357365,11434.331033923,11431.9631032354,11199.4859551416,10622.8122667083,10083.3143613973,9749.55565568711,9388.04049044271,9168.55091395225,9082.20809505088,9073.42687807926,9612.67920008,9456.15871231116,16950.440233698,16448.2874784145,15868.5695581522,16230.9479607969,23883.3027281718,24393.8595003337,24358.1004432062,24627.1455832697,26545.3526929265,26048.9743754834,24787.1621445504,23613.8843771044,22667.667797964,21769.5607951756,20613.9961643951,19517.8796690432,18241.6256840672,17560.0445034007,37413.59020453,38226.9931607121,38464.9612046221,40324.1692781575,39894.6789669111,38776.3321181233,37653.765432119,36431.9289389505,35155.5109035799,34675.7340585353,33816.4340812793,32883.1749117926,31363.860495984,30207.0547909235,33795.6721922485,34110.7650805102,33590.0554701118,32887.2933173433,34690.8651226074,34064.6745829146,32456.1215053472,30481.4698285486,28633.3955364731,27326.540415033,26373.5737965267,25915.9055596397,25056.2609404689,24024.8566740516,23672.6567604609,23734.8693981326,23832.838828975,51379.8548206608,51456.9971379348,50987.7094796128,50274.0756963766,53740.0862041295,51647.6716754489,49419.9518858163,49290.116741525,47449.5724187488,45404.6631065992,44153.9304097675,10257.4003390408,9805.6491552277,9757.37163256092,7575.6291506757,7328.71321626195,7208.14502971999,7392.84099578164,7238.18319271428,6437.3316154399,29232.5955632784,28245.5171498813,26208.9231461421,25464.1504426108,29702.3018052451,31211.0806708638,28881.6487725494,26168.5856675526,23763.9889441822,22125.0441819375,20439.9868349567,19017.2906611985,17830.3586755235,16272.2558134908,16386.3532969518,1259.02255177893,45989.3581957772,46863.6421680497,45911.7104555256,44698.1700088519,48857.4157278667,48703.5677922179,46449.6836268401,44823.0803310483,43760.2791457502,42202.7496181892,41472.4860871784,40875.3267393321,39926.4136840468,37825.5816892033,36322.7027176911,34534.6401324377,43000.9383498115,42282.2957244874,41679.1924537472,43133.542125033,43264.9683422552,42502.8942570932,41777.0087101363,41404.4666920174,40562.6361495585,40517.6317132385,40355.1176557854,39859.1927208374,38617.8984847262,37532.9404381613,36366.4724858698,35662.172650138,13934.8299233835,14378.4740408675,49843.2880653144,47079.8711246185,45121.7639963043,47724.9586975298,47181.4147666392,45756.446515015,44024.686883696,43680.0871995518,43163.3974403361,43491.7940465272,43651.3959152396,43001.8282464201,41841.4716625783,41092.9923807508,40287.8456982938,39636.4857434084,3732.38206331236,3261.71023964934,28951.6928118595,31063.3351484817,35124.8475404881,33413.8668953018,30576.0072738274,28518.9988462893,26882.4667116926,24833.2712654361,25051.2164438087,24505.631193101,24178.976395187,25875.0639423567,25559.30564469,25458.0863856514,24433.5549555262,23392.3278932127,22266.6952909184,21331.7085701828,20308.1840632027,19468.4903710642,18585.5034585674,17980.7386803397,17265.5920402702,16705.7603664546,47320.6271438972,48177.0841226297,51856.1695215737,51797.6940727927,48575.6725606,47249.4011064694,42153.5637390894,41593.9025421458,39210.086110749,38144.8909907341,36001.0851387679,5816.42546664123,5689.26019604017,9435.59035577969,52834.9923588177,52939.8592926248,52989.2327005586,52331.5603912742,55694.6297626987,59507.9168360789,58156.9442866212,56862.7329142146,54981.2184483057,52469.0621384413,51767.3976115259,49704.7189508649,47970.3452837184,44418.436837849,40652.0826582588,37793.5658990833,34421.2696169463,34978.016099314,33733.3957542753,34233.0043085197,33832.8204782236,32559.2887311097,31393.1405346761,30748.6823171468,30039.6125673924,30292.9292985628,30913.8260709378,31613.5932530568,30208.0017748517,30051.1344067673,29587.379579202,29188.8735965446,43029.2717412854,42800.5935459019,42209.2773039811,44766.0966677999,45501.3718210946,45061.6056382027,44402.1636371344,39555.404088209,37728.9049814787,37702.6025872772,36192.2884245538,38260.0910835428,38701.8435426394,38115.8349480943,37605.9904467099,36994.4272106767,36208.5959395551,35739.9729243431,35780.955830646,35722.1231102612,34814.2200159619,34965.9422901249,35461.2323460047,35167.4097616673,21970.0839239319,20751.2572399462,19770.2166481541,19500.4789415616,18112.7787011954,16536.0154072377,15208.440248666,13973.077738521,11682.8417915151,10275.7618712984,9330.56478866572,8998.90120883664,9016.00324724515,3329.85438577199,3221.25313854985,60887.4593669853,58810.3001967563,63886.0473795935,73022.8633510581,75581.0105136491,75224.3180620525,73155.5175576997,68233.9302714652,63008.515434926,54322.7253249399,53578.4952886431,54984.8544849844,55035.0652475184,59725.7544596746,61687.5153146506,24137.8023851873,22867.9731931828,21091.0218142024,21608.8539979281,24789.9996265413,25375.1430753236,22875.1646921232,20240.2291018432,18083.2519960228,16485.5033070323,15056.9775967088,13898.6408700306,12904.3764868676,12094.5825421547,11676.4794166588,10877.1965889322,9892.48532567057,2261.5063065251,27418.2190620411,26051.5539036748,24019.2582654889,23138.7555915642,26870.4586091281,25917.9128683143,23051.4121041779,21120.4502237547,19287.8984684309,17896.7814316473,16055.5736096672,14919.8968357261,13890.9238980929,105411.464570926,108355.582583156,108047.346867064,104932.811953115,115256.016699066,104357.564987409,100546.540938853,96207.2286509716,21289.262740357,20536.367417243,19442.9839476438,20103.5019232228,18752.5407834934,17538.4822176703,16155.6016212127,14448.7365264128,1985.62211848941,33944.1705701275,32896.206915891,32882.3071326312,31308.5816256448,31907.2996491199,30932.0131839373,29625.5458284916,29005.5975941623,27454.9467978378,18245.8358480256,17848.3249422511,17225.2548436832,18457.1134264157,18523.3590690205,18379.5267568773,17846.8971164882,17693.0532237514,17262.385535499,17249.9203436728,17495.3685135009,17814.7701714794,17222.1581418254,17009.9022695328,16421.7462787459,15610.980107657,5480.85433270117,8613.29807861083,7479.79740248469,7360.68740559009,6858.32792630431,17342.588588237,6284.12011608832,5560.40328268073,4946.48226767752,4723.94601769485,8888.4131192552,52762.1991860152,51772.4249282435,53078.9483179977,49625.4195662187,47959.5652667536,48314.5954551575,45985.527889255,44073.8787354131,42370.3765425754,40821.8479994322,38361.1941936905,37601.1428289373,38757.8552718713,37357.7209663552,35678.0533262587,33833.9393754117,32154.1299239368,30680.9402685819,4288.27013112096,61352.4568450381,61886.5644978857,64267.0006960529,62067.9707102713,58915.7056929217,58203.5932330281,55891.6780850002,54075.5787553008,32529.0136526611,21347.3327494385,20529.4710206573,20640.7992376114,19129.1947746445,17394.3882205425,16304.5988099709,15493.9083428384,14680.7866395679,14356.095126788,14313.6754055609,14510.5417877503,14408.0933205783,13447.5125448331,12891.6890206259,10700.1553153437,9643.50266882963,8568.54754975229,8526.51048470753,8335.96866207636,8136.63142632647,8293.56853787392,5474.68132696435,5054.23899156508,4697.48559352729,4562.76149407829,25538.4869069143,25204.4938237169,24072.7552963173,23138.596100825,22516.5700469463,21611.9472896467,20175.5115179586,18997.9392297003,18346.2177971017,17465.2249695964,16863.4890317867,16519.3615906136,16309.5537222246,15436.0704753513,14748.2819498227,14099.2607501771,13253.7502128055,31404.7543907793,31899.6676271551,31369.2362970917,32411.0539639812,32354.5304197908,31625.3905595723,31175.8545606093,30991.4434726519,30519.7244760262,30922.2524500836,30854.2058168611,30480.1342776956,29566.7998500771,28616.5835439205,27442.1655911201,26402.9969755015,21379.1482269711,20858.5317279383,20367.9604456617,21069.3050130757,22114.66120032,19897.2680798144,18282.9480772005,16824.1781268987,15974.8730260466,14384.1172177819,13954.0581897216,12961.7254154846,12148.2000985467,11841.046290561,11867.1719354281,12087.9983880075,12667.5024785722,2742.99502020728,2739.88276208724,14941.7574700361,14971.4576830224,14557.3010690767,14393.6731680551,14738.6954464009,13890.4976270822,82969.5617208165,81398.6166283515,78159.8433287318,69466.5817461326,71507.0611186188,74032.2856547611,70794.4486354387,67010.5181761266,63901.716367617,58920.9450034965,55539.3670740227,53937.1331944717,56010.5707212541,52264.8510904414,49831.8206008198,52711.0029933381,50323.8836565231,32722.7202879947,33680.4941921837,33462.3121393172,33162.9267279508,36196.2916486969,35024.2812886403,32922.6355698393,31233.0871448787,30142.4312205199,28901.8606945113,28087.8202525569,27170.1700203521,26364.9518302198,25506.436409014,24232.4278036241,23411.8694450462,22256.5047992377,12452.3375290857,12262.1430334211,12628.200837388,12402.0494604229,11924.0734129115,11434.9152380948,10997.0109109346,10646.8315142747,10224.0233326686,37002.0390484298,37438.6457745616,37550.2031502031,39365.6986690513,39647.0212144592,38982.554979596,38084.5914726208,37368.7204869039,36867.7943437807,36453.5892502757,35989.3091506889,34868.6039692004,33279.0464825664,31978.2282913878,30759.564451537,29785.9072025449,9126.86579479194,8274.17512000304,7419.41553371741,6589.46331448696,5949.97143880894,4938.71066652689,49103.7381616861,45638.0355774912,48712.4376755843,45585.3966001731,42814.5643374702,41234.9787836342,38963.4482380088,35878.8884730444,65282.3275167943,59242.7566381109,58404.1047701058,53257.8062214539,2259.59458613619,2168.11869778719,2131.69297108232,2016.61428958485,1909.26104271471,1818.55722387341,1737.74363021805,1603.55076157191,1471.36591849479,1350.25833012171,13471.8974954811,13473.4332665941,12316.627183929,11898.1350787691,11271.3458791344,10594.2784115442,10069.3723494864,10477.8553031358,9872.03900132034,9682.81391908271,9388.05504673581,8887.02992810892,8523.10667426948,8305.39129804982,7878.41309760168,7581.00445637628,7541.13957464232,7329.35851951096,6508.75165727454,22002.1422126804,20091.6165262608,18791.3311993325,19996.7160705344,20073.581808165,19339.083801687,18309.9447485208,17023.0554281874,15720.4534658126,15079.2155459918,14376.1753412165,15482.8672406467,14700.4854568323,15433.6742489655,15310.2679814859,14459.1811589759,1861.28228564753,1819.00118154645,1757.97186705034,1668.98832753468,1588.77506313767,1480.05242341453,1436.70978658592,1388.67234145431,1346.39264233098,11778.3136960259,11298.3909564957,13195.8768378635,12829.03064807,11852.6523644491,10957.5582756783,10561.0095264702,9349.13468844413,8467.79599207072,7969.42102827251,55632.9297643152,54806.1169274869,54359.1339744884,53440.9115376752,55314.6600600556,55916.7153825593,55411.4375480389,54395.3564837089,53035.7829128595,51569.8176904018,50568.1011093528,50165.7199406447,50163.8894682396,48714.5305541034,47041.1847777655,45551.4148049007,44140.1427859365,18573.8544665676,17712.8969892031,16477.8238595598,15851.7967534658,14828.024360075,13944.1707655947,11774.0880589987,13296.1015865839,13605.8072419817,13946.3684824662,13428.6294349873,12457.9739652764,2747.43871787339],\"xaxis\":\"x\",\"y\":[3.26028,1.54938,23.93386,22.31766,21.43839,26.5221,29.27521,29.37905,31.01999,30.71935,26.30862,24.31098,20.77307,23.28416,25.7663,27.00878,27.21354,61.90762,58.06899,47.93657,47.59929,49.44358,43.86036,43.819,46.16662,44.76357,47.06064,46.11211,48.69671,48.38105,45.6225,47.15739,45.12017,44.63037,41.76718,41.81082,41.07741,41.72061,43.30769,44.73185,9.60829,24.76307,25.15984,20.76849,18.2837,18.73198,21.29213,25.8482,27.1022,28.8185,36.4993,45.14897,20.65693,24.43307,24.27566,23.76064,17.89333,23.82837,29.26628,60.15088,57.58209,58.62387,60.99179,61.38192,61.03582,59.68141,60.15245,60.30723,59.37837,63.36815,62.41306,66.19672,65.67198,67.56046,67.61234,5.20358,16.0,18.0,22.0,20.0,20.0,20.0,24.0,45.21178,45.43497,46.25014,45.46248,45.59862,48.17288,48.29023,44.48669,43.82864,45.0077,43.83579,44.73485,16.66319,30.22794,30.62374,34.15712,30.60463,27.84397,28.22629,26.76724,24.8252,27.09129,24.36362,22.82633,23.61479,23.2834,60.36292,11.93227,16.44522,48.37439,47.98345,46.44098,48.51804,49.45216,49.19419,51.15031,49.34161,50.18179,50.32603,51.48283,50.30476,44.86768,44.88859,45.7173,48.04591,46.29415,35.37265,31.28804,43.72801,38.88848,74.04079,73.91087,71.68975,71.74494,71.74104,70.37239,69.051,67.04113,65.67056,60.10275,57.58961,33.67925,30.85499,31.94699,20.66619,37.41422,30.4505,26.92187,28.66598,31.6326,30.41793,35.12261,37.11606,38.43275,45.0,34.81,18.84658,20.70577,28.7345,33.74896,38.22083,38.18608,38.81778,39.78727,40.83279,35.50421,34.57391,34.27348,42.9621,41.96469,45.66301,43.12256,40.22264,44.5036,11.00435,12.74972,15.72758,17.82185,16.42782,15.94869,16.75668,18.91288,19.9012,17.41578,15.27855,17.48336,17.39315,13.73039,36.38471,37.68345,40.76913,39.75604,45.0499,47.17519,49.07506,48.19529,52.81819,51.44689,53.72223,52.46039,51.20964,52.60565,60.192,59.82113,59.64659,60.05309,60.25018,61.08765,62.13738,61.04465,59.52574,59.88517,61.41134,58.97004,53.38953,50.49906,8.52939,21.54532,17.44186,1.38889,0.55556,0.6875,0.6817,1.79802,1.16,51.20979,55.00628,43.60328,38.48566,39.78677,41.63077,38.1334,38.49245,36.484,32.94748,29.13338,32.94055,24.1966,24.19624,23.2216,10.77068,63.05659,67.01006,66.09809,68.10225,70.28762,68.20252,66.55734,66.8577,69.25418,70.00221,69.5222,70.78115,70.24924,66.94823,63.87616,62.89537,55.00289,53.49814,52.26525,50.81922,52.27445,52.32643,51.93448,50.73344,50.77779,52.10514,54.21257,52.51557,54.11413,53.45874,51.62359,48.51852,29.26452,19.72887,65.63405,65.58644,66.12708,67.27309,68.11996,68.29468,67.57478,66.56024,66.26292,65.51884,65.65844,66.04496,65.42619,62.40336,61.33055,59.58286,0.10152,50.85511,31.01077,32.7391,31.06285,28.22619,33.04756,24.15904,21.57699,46.88226,47.46166,47.37328,46.42767,48.30646,43.86311,43.30276,39.44562,37.10307,30.67959,29.66375,34.83826,37.75577,38.45812,36.09466,36.55151,38.85505,49.84549,47.80594,50.35,50.35,49.29673,47.99583,43.87858,46.15706,43.4148,37.72658,41.94814,14.68996,25.71005,0.0,48.63057,48.35838,52.2274,52.08528,48.75978,49.5477,53.42144,57.44828,58.55792,60.26393,63.42109,66.72896,65.78791,64.36728,65.42814,67.27153,66.80923,36.55204,37.42383,52.95625,56.57826,55.00507,56.23771,54.52021,51.20479,53.14774,53.63541,52.76172,46.95112,43.43103,40.4862,38.01885,45.08849,44.66163,44.15743,45.91529,42.01926,40.42409,39.66331,42.97893,76.52337,75.93114,75.26743,78.17249,77.7054,77.06944,76.12156,74.81141,74.6464,74.07638,73.05065,72.42006,72.1773,72.56669,73.98461,73.3754,51.58933,36.60284,50.73673,44.51119,35.15982,39.14593,41.78109,25.49233,0.05813,0.0556,0.05622,0.03477,0.05414,4.34074,16.82958,5.18401,5.18519,2.3318,2.63383,2.36046,6.57682,7.29384,5.97375,4.40186,19.99981,20.0763,20.8586,18.10507,20.21965,20.40827,23.77691,24.84909,38.83117,36.89482,27.03518,36.35164,52.68542,34.3022,46.28259,33.223,21.71571,18.25922,29.44259,22.24371,22.20836,14.03888,17.61103,3.37766,26.14334,28.23481,32.39251,30.80612,29.30008,32.81036,26.17817,20.84871,19.94923,16.73651,27.8503,37.0869,31.56003,47.1454,48.39038,44.30358,70.26504,76.0142,79.72458,80.38985,90.68425,55.00637,59.58499,68.5204,66.44759,84.49009,71.23215,51.45165,61.42857,10.10068,46.57302,51.87176,53.8848,51.56639,56.5091,51.86827,45.69481,46.79828,18.55196,36.75506,36.20898,39.06294,38.25287,44.57956,45.22071,41.51008,38.61637,34.69624,34.69148,29.83921,29.51683,23.57877,23.57983,16.9155,19.44232,51.38794,11.35714,7.24037,1.93786,2.70957,22.27725,29.93796,22.7025,12.30916,21.62306,19.82981,49.91867,45.14796,48.78167,46.316,46.99388,48.20335,49.07141,48.58295,45.57088,48.45862,39.9619,39.00534,40.72189,41.055,38.23636,37.80539,34.10086,30.48083,0.15877,44.19701,43.61399,45.01335,46.78755,50.52673,52.8762,49.5327,49.39518,4.55947,2.31214,2.20441,2.23103,0.2584,0.93677,0.42042,0.11,0.6,0.6,10.2,0.6,1.4,0.67,2.22,4.28187,0.25,0.30988,0.01168,0.01491,0.01168,0.02834,61.95637,62.62203,69.05267,68.61352,32.30446,28.11572,24.41485,27.09512,30.45859,34.25746,33.0522,33.35008,30.47931,30.26633,30.05529,30.77192,29.50731,38.13964,37.82427,35.0848,38.8571,44.04776,44.08664,43.98322,48.0817,47.02851,42.95605,36.26739,34.18205,31.72539,31.63198,31.54025,27.0477,21.32171,21.28643,21.2355,20.45423,34.40681,37.40551,32.26955,34.75258,23.26299,26.86982,30.4101,37.22944,43.95585,45.38615,41.56978,47.59646,48.95596,50.20607,42.35324,52.81911,41.55919,4.09562,4.03944,0.00578,9.14798,8.6205,8.33043,7.76999,10.16,53.37318,55.32389,53.1235,52.14075,63.47959,59.84472,58.33852,58.75177,55.2942,51.56889,49.86894,54.19254,54.99249,53.63635,53.06932,53.11944,57.51607,62.83413,61.22758,58.37585,57.98363,62.80811,58.26797,59.32717,54.79437,58.49558,52.17969,60.02177,54.65497,53.31555,56.91409,52.54813,53.65731,49.07375,40.13195,42.50854,42.64755,42.66497,44.79083,43.86693,48.61601,54.76172,55.82324,44.31185,42.99036,43.35975,44.95186,45.45694,47.07174,46.28964,48.0409,48.35509,48.86285,47.17623,49.7271,48.85524,49.80412,44.70679,45.47253,40.92634,19.89013,19.04594,0.57518,7.73481,1.65248,57.30899,59.13983,62.76031,63.85772,65.12767,71.73202,67.11295,67.69866,68.19018,69.73282,69.08665,67.46747,0.00191,0.00108,0.00037,0.0013,0.00018,0.00223,0.0048,0.00793,0.00234,0.00061,41.42653,43.85344,48.65303,35.54402,41.80915,36.82153,10.42419,18.44787,20.03082,18.94737,18.0,16.93364,14.0625,12.57143,9.61538,7.97872,6.86275,5.7377,8.21147,45.82497,45.12429,40.96736,47.25352,48.44539,46.04563,43.30571,37.91593,36.21276,41.27971,44.8729,42.91554,43.31787,41.76644,41.80573,36.79563,13.67402,8.23317,4.33662,7.53809,0.0,1.66114,2.14234,1.66535,1.28374,26.20983,25.90415,27.06032,30.21966,32.54109,32.25471,32.88613,35.64437,33.40802,32.01175,59.12877,58.58304,57.17836,60.90394,63.5233,64.87789,64.27739,63.30609,62.59227,63.33562,64.54048,67.20573,69.0271,67.05817,65.1489,64.04396,62.3969,8.49521,47.14286,38.86013,42.78192,39.54948,32.55408,46.7,39.27,35.63,37.78,32.39,30.38,3.22766],\"yaxis\":\"y\"}],                        {\"coloraxis\":{\"colorbar\":{\"title\":{\"text\":\"Internet_Users_Pct\"}},\"colorscale\":[[0.0,\"#0d0887\"],[0.1111111111111111,\"#46039f\"],[0.2222222222222222,\"#7201a8\"],[0.3333333333333333,\"#9c179e\"],[0.4444444444444444,\"#bd3786\"],[0.5555555555555556,\"#d8576b\"],[0.6666666666666666,\"#ed7953\"],[0.7777777777777778,\"#fb9f3a\"],[0.8888888888888888,\"#fdca26\"],[1.0,\"#f0f921\"]]},\"legend\":{\"tracegroupgap\":0},\"margin\":{\"t\":60},\"template\":{\"data\":{\"bar\":[{\"error_x\":{\"color\":\"#2a3f5f\"},\"error_y\":{\"color\":\"#2a3f5f\"},\"marker\":{\"line\":{\"color\":\"#E5ECF6\",\"width\":0.5},\"pattern\":{\"fillmode\":\"overlay\",\"size\":10,\"solidity\":0.2}},\"type\":\"bar\"}],\"barpolar\":[{\"marker\":{\"line\":{\"color\":\"#E5ECF6\",\"width\":0.5},\"pattern\":{\"fillmode\":\"overlay\",\"size\":10,\"solidity\":0.2}},\"type\":\"barpolar\"}],\"carpet\":[{\"aaxis\":{\"endlinecolor\":\"#2a3f5f\",\"gridcolor\":\"white\",\"linecolor\":\"white\",\"minorgridcolor\":\"white\",\"startlinecolor\":\"#2a3f5f\"},\"baxis\":{\"endlinecolor\":\"#2a3f5f\",\"gridcolor\":\"white\",\"linecolor\":\"white\",\"minorgridcolor\":\"white\",\"startlinecolor\":\"#2a3f5f\"},\"type\":\"carpet\"}],\"choropleth\":[{\"colorbar\":{\"outlinewidth\":0,\"ticks\":\"\"},\"type\":\"choropleth\"}],\"contour\":[{\"colorbar\":{\"outlinewidth\":0,\"ticks\":\"\"},\"colorscale\":[[0.0,\"#0d0887\"],[0.1111111111111111,\"#46039f\"],[0.2222222222222222,\"#7201a8\"],[0.3333333333333333,\"#9c179e\"],[0.4444444444444444,\"#bd3786\"],[0.5555555555555556,\"#d8576b\"],[0.6666666666666666,\"#ed7953\"],[0.7777777777777778,\"#fb9f3a\"],[0.8888888888888888,\"#fdca26\"],[1.0,\"#f0f921\"]],\"type\":\"contour\"}],\"contourcarpet\":[{\"colorbar\":{\"outlinewidth\":0,\"ticks\":\"\"},\"type\":\"contourcarpet\"}],\"heatmap\":[{\"colorbar\":{\"outlinewidth\":0,\"ticks\":\"\"},\"colorscale\":[[0.0,\"#0d0887\"],[0.1111111111111111,\"#46039f\"],[0.2222222222222222,\"#7201a8\"],[0.3333333333333333,\"#9c179e\"],[0.4444444444444444,\"#bd3786\"],[0.5555555555555556,\"#d8576b\"],[0.6666666666666666,\"#ed7953\"],[0.7777777777777778,\"#fb9f3a\"],[0.8888888888888888,\"#fdca26\"],[1.0,\"#f0f921\"]],\"type\":\"heatmap\"}],\"heatmapgl\":[{\"colorbar\":{\"outlinewidth\":0,\"ticks\":\"\"},\"colorscale\":[[0.0,\"#0d0887\"],[0.1111111111111111,\"#46039f\"],[0.2222222222222222,\"#7201a8\"],[0.3333333333333333,\"#9c179e\"],[0.4444444444444444,\"#bd3786\"],[0.5555555555555556,\"#d8576b\"],[0.6666666666666666,\"#ed7953\"],[0.7777777777777778,\"#fb9f3a\"],[0.8888888888888888,\"#fdca26\"],[1.0,\"#f0f921\"]],\"type\":\"heatmapgl\"}],\"histogram\":[{\"marker\":{\"pattern\":{\"fillmode\":\"overlay\",\"size\":10,\"solidity\":0.2}},\"type\":\"histogram\"}],\"histogram2d\":[{\"colorbar\":{\"outlinewidth\":0,\"ticks\":\"\"},\"colorscale\":[[0.0,\"#0d0887\"],[0.1111111111111111,\"#46039f\"],[0.2222222222222222,\"#7201a8\"],[0.3333333333333333,\"#9c179e\"],[0.4444444444444444,\"#bd3786\"],[0.5555555555555556,\"#d8576b\"],[0.6666666666666666,\"#ed7953\"],[0.7777777777777778,\"#fb9f3a\"],[0.8888888888888888,\"#fdca26\"],[1.0,\"#f0f921\"]],\"type\":\"histogram2d\"}],\"histogram2dcontour\":[{\"colorbar\":{\"outlinewidth\":0,\"ticks\":\"\"},\"colorscale\":[[0.0,\"#0d0887\"],[0.1111111111111111,\"#46039f\"],[0.2222222222222222,\"#7201a8\"],[0.3333333333333333,\"#9c179e\"],[0.4444444444444444,\"#bd3786\"],[0.5555555555555556,\"#d8576b\"],[0.6666666666666666,\"#ed7953\"],[0.7777777777777778,\"#fb9f3a\"],[0.8888888888888888,\"#fdca26\"],[1.0,\"#f0f921\"]],\"type\":\"histogram2dcontour\"}],\"mesh3d\":[{\"colorbar\":{\"outlinewidth\":0,\"ticks\":\"\"},\"type\":\"mesh3d\"}],\"parcoords\":[{\"line\":{\"colorbar\":{\"outlinewidth\":0,\"ticks\":\"\"}},\"type\":\"parcoords\"}],\"pie\":[{\"automargin\":true,\"type\":\"pie\"}],\"scatter\":[{\"marker\":{\"colorbar\":{\"outlinewidth\":0,\"ticks\":\"\"}},\"type\":\"scatter\"}],\"scatter3d\":[{\"line\":{\"colorbar\":{\"outlinewidth\":0,\"ticks\":\"\"}},\"marker\":{\"colorbar\":{\"outlinewidth\":0,\"ticks\":\"\"}},\"type\":\"scatter3d\"}],\"scattercarpet\":[{\"marker\":{\"colorbar\":{\"outlinewidth\":0,\"ticks\":\"\"}},\"type\":\"scattercarpet\"}],\"scattergeo\":[{\"marker\":{\"colorbar\":{\"outlinewidth\":0,\"ticks\":\"\"}},\"type\":\"scattergeo\"}],\"scattergl\":[{\"marker\":{\"colorbar\":{\"outlinewidth\":0,\"ticks\":\"\"}},\"type\":\"scattergl\"}],\"scattermapbox\":[{\"marker\":{\"colorbar\":{\"outlinewidth\":0,\"ticks\":\"\"}},\"type\":\"scattermapbox\"}],\"scatterpolar\":[{\"marker\":{\"colorbar\":{\"outlinewidth\":0,\"ticks\":\"\"}},\"type\":\"scatterpolar\"}],\"scatterpolargl\":[{\"marker\":{\"colorbar\":{\"outlinewidth\":0,\"ticks\":\"\"}},\"type\":\"scatterpolargl\"}],\"scatterternary\":[{\"marker\":{\"colorbar\":{\"outlinewidth\":0,\"ticks\":\"\"}},\"type\":\"scatterternary\"}],\"surface\":[{\"colorbar\":{\"outlinewidth\":0,\"ticks\":\"\"},\"colorscale\":[[0.0,\"#0d0887\"],[0.1111111111111111,\"#46039f\"],[0.2222222222222222,\"#7201a8\"],[0.3333333333333333,\"#9c179e\"],[0.4444444444444444,\"#bd3786\"],[0.5555555555555556,\"#d8576b\"],[0.6666666666666666,\"#ed7953\"],[0.7777777777777778,\"#fb9f3a\"],[0.8888888888888888,\"#fdca26\"],[1.0,\"#f0f921\"]],\"type\":\"surface\"}],\"table\":[{\"cells\":{\"fill\":{\"color\":\"#EBF0F8\"},\"line\":{\"color\":\"white\"}},\"header\":{\"fill\":{\"color\":\"#C8D4E3\"},\"line\":{\"color\":\"white\"}},\"type\":\"table\"}]},\"layout\":{\"annotationdefaults\":{\"arrowcolor\":\"#2a3f5f\",\"arrowhead\":0,\"arrowwidth\":1},\"autotypenumbers\":\"strict\",\"coloraxis\":{\"colorbar\":{\"outlinewidth\":0,\"ticks\":\"\"}},\"colorscale\":{\"diverging\":[[0,\"#8e0152\"],[0.1,\"#c51b7d\"],[0.2,\"#de77ae\"],[0.3,\"#f1b6da\"],[0.4,\"#fde0ef\"],[0.5,\"#f7f7f7\"],[0.6,\"#e6f5d0\"],[0.7,\"#b8e186\"],[0.8,\"#7fbc41\"],[0.9,\"#4d9221\"],[1,\"#276419\"]],\"sequential\":[[0.0,\"#0d0887\"],[0.1111111111111111,\"#46039f\"],[0.2222222222222222,\"#7201a8\"],[0.3333333333333333,\"#9c179e\"],[0.4444444444444444,\"#bd3786\"],[0.5555555555555556,\"#d8576b\"],[0.6666666666666666,\"#ed7953\"],[0.7777777777777778,\"#fb9f3a\"],[0.8888888888888888,\"#fdca26\"],[1.0,\"#f0f921\"]],\"sequentialminus\":[[0.0,\"#0d0887\"],[0.1111111111111111,\"#46039f\"],[0.2222222222222222,\"#7201a8\"],[0.3333333333333333,\"#9c179e\"],[0.4444444444444444,\"#bd3786\"],[0.5555555555555556,\"#d8576b\"],[0.6666666666666666,\"#ed7953\"],[0.7777777777777778,\"#fb9f3a\"],[0.8888888888888888,\"#fdca26\"],[1.0,\"#f0f921\"]]},\"colorway\":[\"#636efa\",\"#EF553B\",\"#00cc96\",\"#ab63fa\",\"#FFA15A\",\"#19d3f3\",\"#FF6692\",\"#B6E880\",\"#FF97FF\",\"#FECB52\"],\"font\":{\"color\":\"#2a3f5f\"},\"geo\":{\"bgcolor\":\"white\",\"lakecolor\":\"white\",\"landcolor\":\"#E5ECF6\",\"showlakes\":true,\"showland\":true,\"subunitcolor\":\"white\"},\"hoverlabel\":{\"align\":\"left\"},\"hovermode\":\"closest\",\"mapbox\":{\"style\":\"light\"},\"paper_bgcolor\":\"white\",\"plot_bgcolor\":\"#E5ECF6\",\"polar\":{\"angularaxis\":{\"gridcolor\":\"white\",\"linecolor\":\"white\",\"ticks\":\"\"},\"bgcolor\":\"#E5ECF6\",\"radialaxis\":{\"gridcolor\":\"white\",\"linecolor\":\"white\",\"ticks\":\"\"}},\"scene\":{\"xaxis\":{\"backgroundcolor\":\"#E5ECF6\",\"gridcolor\":\"white\",\"gridwidth\":2,\"linecolor\":\"white\",\"showbackground\":true,\"ticks\":\"\",\"zerolinecolor\":\"white\"},\"yaxis\":{\"backgroundcolor\":\"#E5ECF6\",\"gridcolor\":\"white\",\"gridwidth\":2,\"linecolor\":\"white\",\"showbackground\":true,\"ticks\":\"\",\"zerolinecolor\":\"white\"},\"zaxis\":{\"backgroundcolor\":\"#E5ECF6\",\"gridcolor\":\"white\",\"gridwidth\":2,\"linecolor\":\"white\",\"showbackground\":true,\"ticks\":\"\",\"zerolinecolor\":\"white\"}},\"shapedefaults\":{\"line\":{\"color\":\"#2a3f5f\"}},\"ternary\":{\"aaxis\":{\"gridcolor\":\"white\",\"linecolor\":\"white\",\"ticks\":\"\"},\"baxis\":{\"gridcolor\":\"white\",\"linecolor\":\"white\",\"ticks\":\"\"},\"bgcolor\":\"#E5ECF6\",\"caxis\":{\"gridcolor\":\"white\",\"linecolor\":\"white\",\"ticks\":\"\"}},\"title\":{\"x\":0.05},\"xaxis\":{\"automargin\":true,\"gridcolor\":\"white\",\"linecolor\":\"white\",\"ticks\":\"\",\"title\":{\"standoff\":15},\"zerolinecolor\":\"white\",\"zerolinewidth\":2},\"yaxis\":{\"automargin\":true,\"gridcolor\":\"white\",\"linecolor\":\"white\",\"ticks\":\"\",\"title\":{\"standoff\":15},\"zerolinecolor\":\"white\",\"zerolinewidth\":2}}},\"xaxis\":{\"anchor\":\"y\",\"domain\":[0.0,1.0],\"title\":{\"text\":\"GDP_Per_Capita\"}},\"yaxis\":{\"anchor\":\"x\",\"domain\":[0.0,1.0],\"title\":{\"text\":\"Percent R&D - Business\"}}},                        {\"responsive\": true}                    ).then(function(){\n",
       "                            \n",
       "var gd = document.getElementById('b1b34e8a-bd51-46a5-a068-d8038c7c018e');\n",
       "var x = new MutationObserver(function (mutations, observer) {{\n",
       "        var display = window.getComputedStyle(gd).display;\n",
       "        if (!display || display === 'none') {{\n",
       "            console.log([gd, 'removed!']);\n",
       "            Plotly.purge(gd);\n",
       "            observer.disconnect();\n",
       "        }}\n",
       "}});\n",
       "\n",
       "// Listen for the removal of the full notebook cells\n",
       "var notebookContainer = gd.closest('#notebook-container');\n",
       "if (notebookContainer) {{\n",
       "    x.observe(notebookContainer, {childList: true});\n",
       "}}\n",
       "\n",
       "// Listen for the clearing of the current output cell\n",
       "var outputEl = gd.closest('.output');\n",
       "if (outputEl) {{\n",
       "    x.observe(outputEl, {childList: true});\n",
       "}}\n",
       "\n",
       "                        })                };                });            </script>        </div>"
      ]
     },
     "metadata": {},
     "output_type": "display_data"
    }
   ],
   "source": [
    "fig = px.scatter(r_d, x=\"GDP_Per_Capita\", y=\"Percent R&D - Business\", color=\"Internet_Users_Pct\")\n",
    "fig.update_traces(marker=dict(size=12,\n",
    "                              line=dict(width=2,\n",
    "                                        color='DarkSlateGrey')),\n",
    "                  selector=dict(mode='markers'))\n",
    "fig.show()"
   ]
  },
  {
   "cell_type": "code",
   "execution_count": 88,
   "id": "e70ff9ad",
   "metadata": {},
   "outputs": [
    {
     "data": {
      "application/vnd.plotly.v1+json": {
       "config": {
        "plotlyServerURL": "https://plot.ly"
       },
       "data": [
        {
         "hovertemplate": "GDP_Per_Capita=%{x}<br>Percent R&D - Business=%{y}<br>Internet_Users_Pct=%{marker.color}<extra></extra>",
         "legendgroup": "",
         "marker": {
          "color": [
           23.86,
           15.0361154084109,
           51,
           45,
           34,
           28.1126234799907,
           25.9466329403819,
           20.9272021035896,
           17.7205833696065,
           16.0366841054923,
           11.9136965509954,
           10.8821243775325,
           9.78080728532407,
           7.0386830862178,
           3.28448195590463,
           0.830766679676473,
           0.280339881830012,
           71.67,
           66,
           46.7561156116738,
           30.8132394396276,
           3.27524987017728,
           80.6188,
           80.0299939169903,
           78.7399930986888,
           75.17,
           73.45,
           72.87,
           69.37,
           63.6,
           58,
           54.28,
           42.7,
           36.56,
           39.1854501811114,
           33.7301329516915,
           23.0443171023274,
           15.4212193219603,
           9.53397431748034,
           6.90916235325567,
           46,
           27.4,
           17.08,
           14.54,
           11.9921773343674,
           8.03037535616454,
           4.99971367812957,
           0.305564637615618,
           31.8,
           27.43,
           23,
           19.7,
           16.2,
           8.95097131467325,
           4.30061602151712,
           1.86039812615388,
           0.494881245327084,
           0.0738688972841164,
           0.0490208910370497,
           81.6099959955952,
           75,
           70,
           66,
           64.44,
           59.72,
           55.82,
           53.86,
           49.97,
           46.33,
           31.2883955056566,
           29.4316916924341,
           13.7722144589561,
           7.88662270071677,
           4.93808090966561,
           2.96841164745362,
           16.8,
           3.11719294696997,
           2.1204625341365,
           1.4427635847914,
           0.981815187281861,
           0.626484062433397,
           0.44783903590236,
           0.196081173945832,
           45.69,
           40.65,
           39.22,
           33.83,
           30.88,
           28.1783801797929,
           21.022747248827,
           19.073672274442,
           13.2075861035303,
           9.14942508560748,
           4.52849486902851,
           2.87068515854108,
           46.23,
           45,
           39.67,
           33.64,
           27.09,
           19.97,
           18.13,
           12.04,
           9.08,
           7.6122977487982,
           5.37092346908696,
           2.90815402505996,
           1.84496512093439,
           1.21981313194706,
           0.725251166566501,
           1.13,
           0.92,
           83,
           83,
           80.3,
           80.3,
           76.7,
           73.2,
           72.4,
           71.66,
           65.9559634648989,
           64.2,
           61.5932992681952,
           60.2,
           51.3,
           36.1864400395459,
           24.897400303091,
           15.0723573635834,
           6.76023965049561,
           45,
           41.56,
           37.3,
           35.9,
           42.3001174855995,
           38.3,
           34.3,
           28.9,
           22.6,
           16,
           10.5231526193851,
           8.52325700269541,
           7.3,
           6.2,
           1.77591320677415,
           48.98,
           40.3509157546318,
           36.5,
           30,
           25.6,
           21.8,
           15.3416745365682,
           11.0072638904585,
           9.1186903029666,
           7.38892371052557,
           4.6,
           2.85419997133433,
           2.207532992624,
           0.550521023153909,
           0.330017772736723,
           39.2121959961842,
           36.5,
           34.33,
           32.29,
           61.9399731527956,
           57.7899789891444,
           56.55,
           50.58,
           44.24,
           41.44,
           37.98,
           33.14,
           30.91,
           22.75,
           17.76,
           11.5585731811648,
           6.64488254374396,
           4.40535911936871,
           56.8598923503507,
           52.99,
           49.81,
           42.31,
           40.77,
           35.83,
           32.81,
           33.83,
           30.09,
           28.32,
           18.8187590408455,
           15.2553943710137,
           11.3423986595347,
           8.8905391589027,
           73.4300078241036,
           70.49,
           68.82,
           64.43,
           62.97,
           51.93,
           47.93,
           35.27,
           35.5,
           34.3,
           23.93,
           14.6971721171129,
           9.78052788834393,
           6.83280201790214,
           3.89590606502968,
           2.91569869519568,
           1.94037819329252,
           92.2600117153012,
           89.8100133895232,
           88.72,
           86.84,
           85.03,
           82.74,
           76.26,
           42.9575247201878,
           30.5920406509143,
           11.3820049363755,
           5.71498784136337,
           18.8,
           10.8,
           7.2,
           18.9,
           15.9,
           12.11,
           10.08,
           6.11,
           0.425253672320613,
           78.3899259259259,
           76.5,
           74.1,
           72.5,
           70.58,
           66.19,
           63.51,
           61.45,
           53.2,
           45.32,
           41.52,
           31.5274897673756,
           28.5769538105646,
           14.5008972430169,
           10.7960348323268,
           0.75,
           89.879997974222,
           88.70999491353,
           86.89,
           82.49,
           83.67,
           80.78,
           79.66,
           74.48,
           72.39,
           69.22,
           62.43,
           43.1053633522263,
           37.2484617371121,
           32.2950922889897,
           25.4525249254189,
           19.4586827950608,
           77.8199989926706,
           77.28,
           71.58,
           70.68,
           66.09,
           46.87,
           42.87,
           39.15,
           36.14,
           30.18,
           26.3259035521688,
           14.3079239430677,
           9.12531788860536,
           6.31977872175207,
           4.25500387171107,
           2.58403397908468,
           6.7,
           6.21,
           81.26999953602,
           82,
           79,
           78,
           75.16,
           72.16,
           68.71,
           64.73,
           55.9,
           48.82,
           31.650939416316,
           30.2163466048889,
           20.8459826390268,
           9.87785242805539,
           6.71108747669468,
           3.05480523429391,
           7.8,
           3.85,
           55.0699934418411,
           51.6499951676815,
           24,
           17.8,
           10.9350258080278,
           6.87729214416088,
           1.84963468790097,
           70.579998153838,
           68.0199878861296,
           65,
           62,
           61,
           53.3,
           47.06,
           38.97,
           27.74,
           21.63,
           16.67,
           14.5285543028277,
           6.99967635062916,
           5.85784074913192,
           3.89464327842503,
           1.94244987216737,
           0.969239535629585,
           94.8196868008949,
           93,
           91,
           90.6,
           89.51,
           87,
           83.14,
           49.3929953676426,
           41.2945667122702,
           36.2642065028975,
           27.4788687499313,
           2.01861385948459,
           0.925563864466858,
           5,
           76.919992540097,
           74.8899729670944,
           69.85,
           67.38,
           65.34,
           61.158324551,
           54.82,
           41.61,
           36.99,
           34.31,
           25.85,
           23.1388121904053,
           17.8504672405807,
           10.9338085895467,
           8.09601004337033,
           4.08825507004952,
           2.19930183163355,
           67.5,
           63.12,
           59.39,
           48.1280621948445,
           27.8810744577346,
           25.1940424216829,
           22.7704855254035,
           19.5933936579649,
           17.7645990630493,
           17.3786238639049,
           20.8737899981674,
           13.4361219052622,
           10.3070699456663,
           4.39940548194079,
           2.16836760046815,
           54.3899983018814,
           53.68,
           48.83,
           44.53,
           40.79,
           37.99,
           35,
           1.02328990327724,
           79.0541135244739,
           78.21,
           78,
           75.4,
           74.3,
           68.6852703213795,
           66.9210661042901,
           62.3939296327259,
           48.4352658899653,
           46.5942011179917,
           38.5320608612719,
           29.9907403589142,
           21.391290312434,
           13.4140408820215,
           9.16307714028121,
           4.37298196820763,
           50.6,
           31.6,
           11,
           4.02,
           3.26836905115978,
           2.96170749150089,
           2.6503946570164,
           2.00041475265872,
           1.00612421099739,
           0.668594402621264,
           0.464277217538881,
           0.13106960398892,
           0.0645967541164605,
           14,
           7.95,
           65.7690706867398,
           61.4,
           50.8,
           42,
           34.8,
           28.7911979549612,
           25.9261083689107,
           22.9271120360078,
           22.4029383804612,
           10.2489679289296,
           8.55179243431475,
           6.73139576837536,
           4.75622220879911,
           3.05239745470751,
           2.17453585891176,
           73.1199437663748,
           69.7499545592245,
           68.42,
           66.84,
           63.41,
           59.17,
           53.63,
           46,
           38.58,
           26.98,
           21.94,
           7.21934580836289,
           6.31906208267861,
           4.38740905527801,
           3.31526788607745,
           2.05345471167237,
           0.812717071650356,
           3.72,
           67.2299893276414,
           63.6399774002179,
           62.12,
           59.76,
           55.22,
           49.9,
           43.9,
           36.22,
           31.23,
           25.91,
           17.69,
           7.17935699381369,
           6.42706749477765,
           91.9499237417387,
           90.0298585646936,
           90.62,
           87.31,
           78.92,
           70,
           54.55,
           22.8873279731211,
           61,
           56.3,
           55.9,
           55.8,
           51.6379889864403,
           42.2522656295248,
           32.3382043389359,
           6.75177048301491,
           0.81,
           68.1998742928975,
           68.0198237885462,
           63,
           58.86,
           50.08,
           46.9,
           40.41,
           41.24,
           28.92,
           37.1762954125184,
           31.05,
           26.34,
           21.71,
           20.81,
           19.52,
           17.21,
           14.1,
           12.9,
           11.9,
           7.0380231165045,
           5.08138415338066,
           1.85743622125093,
           1.26578327821238,
           0.627311539559522,
           0.20040628032987,
           0.0281288083769467,
           12.4999911084745,
           10.2,
           9.8,
           9,
           35.6115412460109,
           52,
           19.7711915653115,
           3.35336668122363,
           2.37325319241544,
           11.6,
           91.4199957622284,
           89.63,
           85.82,
           81,
           64.35,
           49.3730621073123,
           39.1760072483196,
           22.2438276873626,
           14.0655113980191,
           9.64906914465055,
           81.23,
           79.7,
           69.76,
           62.7202123689541,
           60.9625398663824,
           53.2410152941279,
           41.4944826585159,
           14.6015243991473,
           6.77,
           93.4899826515194,
           92.08,
           86.93,
           81.99,
           78.13,
           64,
           40,
           20.4178814360849,
           48,
           40.1,
           39.08,
           33.82,
           22.29,
           17.3495661695931,
           11.4840092783071,
           11.1408625409415,
           9.98742407723405,
           8.51807781515595,
           7.26839987788729,
           6.55479647729549,
           3.83686450851963,
           0.539065540666565,
           0.219998526009876,
           24.7635158793993,
           14.27,
           7.90700786141285,
           3.45243843137079,
           2.11194208210034,
           1.79496959770244,
           1.09879383569333,
           5.97,
           5.3976363293955,
           4.85767226708512,
           4.33227574643007,
           62.3099972714691,
           61.94999896898,
           62.32,
           58.97,
           53.13,
           48.6,
           44.58,
           38.81,
           32.53,
           24.87,
           21.15,
           9.9006697073534,
           7.2854287080601,
           5.45644373006027,
           4.10227200222192,
           2.07346547356008,
           1.29520025466745,
           55.2499968797194,
           53.3,
           48.27,
           44.13,
           42.09,
           38.01,
           34.99,
           31.78,
           29.67,
           19.37,
           18.0871365595338,
           16.4304676923534,
           14.7423378419006,
           9.87044644226667,
           4.95300195504893,
           2.98087766974856,
           45.8799942529424,
           40.0099967810008,
           39.93,
           36.6,
           32.42,
           28.3,
           24.66,
           21.5,
           15,
           8.9,
           6.58,
           4.53866902895312,
           3.61371729139783,
           2.69758021659411,
           2.23764947274713,
           0.445444675615383,
           0.221622649231938,
           8,
           7.12,
           48.1,
           42.2,
           40.9,
           38.1,
           35.6,
           33.15,
           72,
           71,
           71,
           69,
           69,
           69.9,
           59,
           61,
           62,
           53.8379432881911,
           47,
           41.6704251756041,
           36,
           24.1554369311712,
           19.5907671587693,
           13.4716204150014,
           8.34995902953436,
           68.3499745287825,
           67.3399948092396,
           70,
           64,
           58,
           56.74,
           54.01,
           46.81,
           40.81,
           31.8547930120441,
           27.8388854180687,
           30.1759104700854,
           15.1102595640388,
           12.6109384253276,
           10.1046028486896,
           7.59192300372915,
           5.0722722714599,
           24,
           10,
           8.43,
           8.06537517355504,
           7.60713967477381,
           7.48854252992921,
           8.4251186825406,
           7.00769172611251,
           6.34661931839768,
           67.6,
           65.8,
           62.4,
           59.6,
           55.11,
           50.37,
           47.88,
           44.01,
           39.93,
           20.39,
           18.1487226902932,
           13.6249608089899,
           7.08503967835022,
           4.36189239380101,
           2.8033196254371,
           1.33184740350778,
           12,
           5.8,
           2.53756612897332,
           1.44615998041486,
           0.647410010940963,
           0.054464498514862,
           92.7699860554046,
           91,
           82.01,
           84.83,
           79.13,
           51.7656649372808,
           41.4327831641401,
           23.7279475562643,
           79.2,
           67.8,
           47.1,
           4.54965674817947,
           11.55,
           10.07,
           8.78,
           7.19761951797855,
           3.77240620666448,
           0.298690023682825,
           0.0774799071356825,
           0.0645837771508553,
           0.0554628269910006,
           0.0512591325352927,
           20.1,
           20.03,
           15.0260043588909,
           10.6773033237281,
           9.29902723805965,
           7.53125033488567,
           0.360522184921104,
           0.115472136284834,
           34.07,
           27.53,
           17.1,
           12.9864086534204,
           9.65508654217982,
           8.52881775162591,
           6.49084579532797,
           5.25288729548421,
           4.29796603474685,
           2.75074029298135,
           0.0436569744909024,
           43.065710430925,
           39.82,
           36.4,
           34.37,
           28.63,
           18.24,
           15.46,
           14.58,
           12.33,
           11.38,
           5.18948146078506,
           3.761685035075,
           2.29211768539022,
           0.698805128639542,
           0.473695432121789,
           0.19272493561622,
           12.5,
           9.78,
           7.9,
           3.67196535074744,
           2.52936303826279,
           1.7422055032439,
           0.719970679914031,
           0.464849840113968,
           0.384093504951945,
           23.3,
           17.9,
           11,
           6.55,
           4.50612456357379,
           3.749764414659,
           3.4894778812677,
           3.14812758815439,
           1.87388511643427,
           1.23875954748114,
           79.3,
           69.7294607619268,
           71.69,
           71,
           74,
           75,
           68.9311932699721,
           67.968052915002,
           64.7582564759896,
           61.6971171244207,
           58.7854038836952,
           49.0808315896951,
           43.0791626375201,
           35.8487244559914,
           30.093196588091,
           21.6164009686742,
           16.4193529600768,
           51.4046610563616,
           46.4,
           41.8,
           39.3,
           34,
           29.4,
           11.4194701966853,
           10.5390577480141,
           9.97276528462272,
           6.98706936489058,
           3.36323966812774,
           1.84747208854564,
           5.55
          ],
          "coloraxis": "coloraxis",
          "symbol": "circle"
         },
         "mode": "markers",
         "name": "",
         "orientation": "v",
         "showlegend": false,
         "type": "scatter",
         "x": [
          9944.23328284139,
          9179.74113635371,
          24647.6292752459,
          23521.2701763288,
          21519.8925539826,
          23103.4559463136,
          22424.1222504319,
          20777.6516537547,
          19426.4366481069,
          18032.6104914271,
          16714.6692563706,
          15523.0363054169,
          17610.7516076702,
          18625.2881011086,
          18981.1683837255,
          19866.2406470539,
          19347.5419244468,
          44974.5263202105,
          42894.1331487911,
          38462.0153634672,
          36051.5717033416,
          33882.9075979721,
          53090.8151927455,
          53391.032403354,
          53272.527358892,
          51934.4627664247,
          51120.3320501803,
          53259.4111045692,
          52657.3755809339,
          50929.9681510672,
          49473.7489879843,
          48718.6693821179,
          47716.7553407919,
          47502.5442670715,
          46961.2332465252,
          46551.4597865552,
          45139.742922611,
          43674.4457616775,
          42210.6521287598,
          41391.9297308046,
          14312.7561158751,
          13822.0911094279,
          12903.1519167445,
          11914.994832597,
          9605.09610840819,
          7222.03607503781,
          4813.50418477741,
          4431.28987324473,
          17288.4043493433,
          16010.439955622,
          15942.8976797373,
          14417.3535308989,
          13214.87158024,
          8961.64111959338,
          8477.08401148315,
          8053.17363808324,
          7575.91832595163,
          7296.05459067832,
          6698.74456753512,
          48307.7068316362,
          48124.815894586,
          47214.1659661315,
          48577.2038026647,
          48744.6185198965,
          47362.4227731796,
          46489.2691305788,
          45685.0049060563,
          44301.0709398087,
          44029.8996903099,
          43485.4683209326,
          43160.6914937795,
          41715.0753426946,
          40380.2236589063,
          39687.9374817912,
          38329.9868977007,
          6455.97424355548,
          5434.08881516848,
          5402.76514668128,
          5415.52991539303,
          5386.17921449768,
          5469.46973718794,
          5312.07766466358,
          5164.2507332886,
          15318.3063061666,
          14868.3301408841,
          13957.6791202509,
          14110.3451381369,
          13560.5451000637,
          12917.9168849667,
          12561.8201732326,
          12312.3344290767,
          11782.4677716666,
          11796.9705534406,
          11598.6938525952,
          11597.1433448662,
          17496.3584372976,
          17284.86289832,
          17773.6910633803,
          16636.9099279988,
          15498.7638009691,
          14401.8572044246,
          13339.5700558705,
          12438.0224944615,
          11735.3041880029,
          10838.114310443,
          10233.8499159564,
          9718.67847705042,
          10536.9063884279,
          10036.7254363598,
          11625.8419572762,
          1631.19382841923,
          1632.94858853561,
          46230.73199756,
          45926.127875307,
          44962.8839612883,
          44103.0386866527,
          45955.2272888233,
          45992.1566168139,
          43456.1457423522,
          42141.870158423,
          40517.5702438298,
          39356.9349136235,
          38255.3455262111,
          37393.9471098308,
          37278.4325128102,
          35863.5375708431,
          34775.4850855381,
          34111.3525248748,
          35829.7985364986,
          21328.9418196388,
          20361.7147945387,
          20905.5618857055,
          20410.3661592134,
          10397.5614154923,
          9686.61528974268,
          8884.58803122452,
          8069.35463838628,
          7412.87436348628,
          6795.17401238784,
          5979.78171182139,
          5334.64663937839,
          4817.21184451855,
          4400.82518340985,
          3451.67923093446,
          12896.3516812902,
          12523.006680201,
          11823.3879357365,
          11434.331033923,
          11431.9631032354,
          11199.4859551416,
          10622.8122667083,
          10083.3143613973,
          9749.55565568711,
          9388.04049044271,
          9168.55091395225,
          9082.20809505088,
          9073.42687807926,
          9612.67920008,
          9456.15871231116,
          16950.440233698,
          16448.2874784145,
          15868.5695581522,
          16230.9479607969,
          23883.3027281718,
          24393.8595003337,
          24358.1004432062,
          24627.1455832697,
          26545.3526929265,
          26048.9743754834,
          24787.1621445504,
          23613.8843771044,
          22667.667797964,
          21769.5607951756,
          20613.9961643951,
          19517.8796690432,
          18241.6256840672,
          17560.0445034007,
          37413.59020453,
          38226.9931607121,
          38464.9612046221,
          40324.1692781575,
          39894.6789669111,
          38776.3321181233,
          37653.765432119,
          36431.9289389505,
          35155.5109035799,
          34675.7340585353,
          33816.4340812793,
          32883.1749117926,
          31363.860495984,
          30207.0547909235,
          33795.6721922485,
          34110.7650805102,
          33590.0554701118,
          32887.2933173433,
          34690.8651226074,
          34064.6745829146,
          32456.1215053472,
          30481.4698285486,
          28633.3955364731,
          27326.540415033,
          26373.5737965267,
          25915.9055596397,
          25056.2609404689,
          24024.8566740516,
          23672.6567604609,
          23734.8693981326,
          23832.838828975,
          51379.8548206608,
          51456.9971379348,
          50987.7094796128,
          50274.0756963766,
          53740.0862041295,
          51647.6716754489,
          49419.9518858163,
          49290.116741525,
          47449.5724187488,
          45404.6631065992,
          44153.9304097675,
          10257.4003390408,
          9805.6491552277,
          9757.37163256092,
          7575.6291506757,
          7328.71321626195,
          7208.14502971999,
          7392.84099578164,
          7238.18319271428,
          6437.3316154399,
          29232.5955632784,
          28245.5171498813,
          26208.9231461421,
          25464.1504426108,
          29702.3018052451,
          31211.0806708638,
          28881.6487725494,
          26168.5856675526,
          23763.9889441822,
          22125.0441819375,
          20439.9868349567,
          19017.2906611985,
          17830.3586755235,
          16272.2558134908,
          16386.3532969518,
          1259.02255177893,
          45989.3581957772,
          46863.6421680497,
          45911.7104555256,
          44698.1700088519,
          48857.4157278667,
          48703.5677922179,
          46449.6836268401,
          44823.0803310483,
          43760.2791457502,
          42202.7496181892,
          41472.4860871784,
          40875.3267393321,
          39926.4136840468,
          37825.5816892033,
          36322.7027176911,
          34534.6401324377,
          43000.9383498115,
          42282.2957244874,
          41679.1924537472,
          43133.542125033,
          43264.9683422552,
          42502.8942570932,
          41777.0087101363,
          41404.4666920174,
          40562.6361495585,
          40517.6317132385,
          40355.1176557854,
          39859.1927208374,
          38617.8984847262,
          37532.9404381613,
          36366.4724858698,
          35662.172650138,
          13934.8299233835,
          14378.4740408675,
          49843.2880653144,
          47079.8711246185,
          45121.7639963043,
          47724.9586975298,
          47181.4147666392,
          45756.446515015,
          44024.686883696,
          43680.0871995518,
          43163.3974403361,
          43491.7940465272,
          43651.3959152396,
          43001.8282464201,
          41841.4716625783,
          41092.9923807508,
          40287.8456982938,
          39636.4857434084,
          3732.38206331236,
          3261.71023964934,
          28951.6928118595,
          31063.3351484817,
          35124.8475404881,
          33413.8668953018,
          30576.0072738274,
          28518.9988462893,
          26882.4667116926,
          24833.2712654361,
          25051.2164438087,
          24505.631193101,
          24178.976395187,
          25875.0639423567,
          25559.30564469,
          25458.0863856514,
          24433.5549555262,
          23392.3278932127,
          22266.6952909184,
          21331.7085701828,
          20308.1840632027,
          19468.4903710642,
          18585.5034585674,
          17980.7386803397,
          17265.5920402702,
          16705.7603664546,
          47320.6271438972,
          48177.0841226297,
          51856.1695215737,
          51797.6940727927,
          48575.6725606,
          47249.4011064694,
          42153.5637390894,
          41593.9025421458,
          39210.086110749,
          38144.8909907341,
          36001.0851387679,
          5816.42546664123,
          5689.26019604017,
          9435.59035577969,
          52834.9923588177,
          52939.8592926248,
          52989.2327005586,
          52331.5603912742,
          55694.6297626987,
          59507.9168360789,
          58156.9442866212,
          56862.7329142146,
          54981.2184483057,
          52469.0621384413,
          51767.3976115259,
          49704.7189508649,
          47970.3452837184,
          44418.436837849,
          40652.0826582588,
          37793.5658990833,
          34421.2696169463,
          34978.016099314,
          33733.3957542753,
          34233.0043085197,
          33832.8204782236,
          32559.2887311097,
          31393.1405346761,
          30748.6823171468,
          30039.6125673924,
          30292.9292985628,
          30913.8260709378,
          31613.5932530568,
          30208.0017748517,
          30051.1344067673,
          29587.379579202,
          29188.8735965446,
          43029.2717412854,
          42800.5935459019,
          42209.2773039811,
          44766.0966677999,
          45501.3718210946,
          45061.6056382027,
          44402.1636371344,
          39555.404088209,
          37728.9049814787,
          37702.6025872772,
          36192.2884245538,
          38260.0910835428,
          38701.8435426394,
          38115.8349480943,
          37605.9904467099,
          36994.4272106767,
          36208.5959395551,
          35739.9729243431,
          35780.955830646,
          35722.1231102612,
          34814.2200159619,
          34965.9422901249,
          35461.2323460047,
          35167.4097616673,
          21970.0839239319,
          20751.2572399462,
          19770.2166481541,
          19500.4789415616,
          18112.7787011954,
          16536.0154072377,
          15208.440248666,
          13973.077738521,
          11682.8417915151,
          10275.7618712984,
          9330.56478866572,
          8998.90120883664,
          9016.00324724515,
          3329.85438577199,
          3221.25313854985,
          60887.4593669853,
          58810.3001967563,
          63886.0473795935,
          73022.8633510581,
          75581.0105136491,
          75224.3180620525,
          73155.5175576997,
          68233.9302714652,
          63008.515434926,
          54322.7253249399,
          53578.4952886431,
          54984.8544849844,
          55035.0652475184,
          59725.7544596746,
          61687.5153146506,
          24137.8023851873,
          22867.9731931828,
          21091.0218142024,
          21608.8539979281,
          24789.9996265413,
          25375.1430753236,
          22875.1646921232,
          20240.2291018432,
          18083.2519960228,
          16485.5033070323,
          15056.9775967088,
          13898.6408700306,
          12904.3764868676,
          12094.5825421547,
          11676.4794166588,
          10877.1965889322,
          9892.48532567057,
          2261.5063065251,
          27418.2190620411,
          26051.5539036748,
          24019.2582654889,
          23138.7555915642,
          26870.4586091281,
          25917.9128683143,
          23051.4121041779,
          21120.4502237547,
          19287.8984684309,
          17896.7814316473,
          16055.5736096672,
          14919.8968357261,
          13890.9238980929,
          105411.464570926,
          108355.582583156,
          108047.346867064,
          104932.811953115,
          115256.016699066,
          104357.564987409,
          100546.540938853,
          96207.2286509716,
          21289.262740357,
          20536.367417243,
          19442.9839476438,
          20103.5019232228,
          18752.5407834934,
          17538.4822176703,
          16155.6016212127,
          14448.7365264128,
          1985.62211848941,
          33944.1705701275,
          32896.206915891,
          32882.3071326312,
          31308.5816256448,
          31907.2996491199,
          30932.0131839373,
          29625.5458284916,
          29005.5975941623,
          27454.9467978378,
          18245.8358480256,
          17848.3249422511,
          17225.2548436832,
          18457.1134264157,
          18523.3590690205,
          18379.5267568773,
          17846.8971164882,
          17693.0532237514,
          17262.385535499,
          17249.9203436728,
          17495.3685135009,
          17814.7701714794,
          17222.1581418254,
          17009.9022695328,
          16421.7462787459,
          15610.980107657,
          5480.85433270117,
          8613.29807861083,
          7479.79740248469,
          7360.68740559009,
          6858.32792630431,
          17342.588588237,
          6284.12011608832,
          5560.40328268073,
          4946.48226767752,
          4723.94601769485,
          8888.4131192552,
          52762.1991860152,
          51772.4249282435,
          53078.9483179977,
          49625.4195662187,
          47959.5652667536,
          48314.5954551575,
          45985.527889255,
          44073.8787354131,
          42370.3765425754,
          40821.8479994322,
          38361.1941936905,
          37601.1428289373,
          38757.8552718713,
          37357.7209663552,
          35678.0533262587,
          33833.9393754117,
          32154.1299239368,
          30680.9402685819,
          4288.27013112096,
          61352.4568450381,
          61886.5644978857,
          64267.0006960529,
          62067.9707102713,
          58915.7056929217,
          58203.5932330281,
          55891.6780850002,
          54075.5787553008,
          32529.0136526611,
          21347.3327494385,
          20529.4710206573,
          20640.7992376114,
          19129.1947746445,
          17394.3882205425,
          16304.5988099709,
          15493.9083428384,
          14680.7866395679,
          14356.095126788,
          14313.6754055609,
          14510.5417877503,
          14408.0933205783,
          13447.5125448331,
          12891.6890206259,
          10700.1553153437,
          9643.50266882963,
          8568.54754975229,
          8526.51048470753,
          8335.96866207636,
          8136.63142632647,
          8293.56853787392,
          5474.68132696435,
          5054.23899156508,
          4697.48559352729,
          4562.76149407829,
          25538.4869069143,
          25204.4938237169,
          24072.7552963173,
          23138.596100825,
          22516.5700469463,
          21611.9472896467,
          20175.5115179586,
          18997.9392297003,
          18346.2177971017,
          17465.2249695964,
          16863.4890317867,
          16519.3615906136,
          16309.5537222246,
          15436.0704753513,
          14748.2819498227,
          14099.2607501771,
          13253.7502128055,
          31404.7543907793,
          31899.6676271551,
          31369.2362970917,
          32411.0539639812,
          32354.5304197908,
          31625.3905595723,
          31175.8545606093,
          30991.4434726519,
          30519.7244760262,
          30922.2524500836,
          30854.2058168611,
          30480.1342776956,
          29566.7998500771,
          28616.5835439205,
          27442.1655911201,
          26402.9969755015,
          21379.1482269711,
          20858.5317279383,
          20367.9604456617,
          21069.3050130757,
          22114.66120032,
          19897.2680798144,
          18282.9480772005,
          16824.1781268987,
          15974.8730260466,
          14384.1172177819,
          13954.0581897216,
          12961.7254154846,
          12148.2000985467,
          11841.046290561,
          11867.1719354281,
          12087.9983880075,
          12667.5024785722,
          2742.99502020728,
          2739.88276208724,
          14941.7574700361,
          14971.4576830224,
          14557.3010690767,
          14393.6731680551,
          14738.6954464009,
          13890.4976270822,
          82969.5617208165,
          81398.6166283515,
          78159.8433287318,
          69466.5817461326,
          71507.0611186188,
          74032.2856547611,
          70794.4486354387,
          67010.5181761266,
          63901.716367617,
          58920.9450034965,
          55539.3670740227,
          53937.1331944717,
          56010.5707212541,
          52264.8510904414,
          49831.8206008198,
          52711.0029933381,
          50323.8836565231,
          32722.7202879947,
          33680.4941921837,
          33462.3121393172,
          33162.9267279508,
          36196.2916486969,
          35024.2812886403,
          32922.6355698393,
          31233.0871448787,
          30142.4312205199,
          28901.8606945113,
          28087.8202525569,
          27170.1700203521,
          26364.9518302198,
          25506.436409014,
          24232.4278036241,
          23411.8694450462,
          22256.5047992377,
          12452.3375290857,
          12262.1430334211,
          12628.200837388,
          12402.0494604229,
          11924.0734129115,
          11434.9152380948,
          10997.0109109346,
          10646.8315142747,
          10224.0233326686,
          37002.0390484298,
          37438.6457745616,
          37550.2031502031,
          39365.6986690513,
          39647.0212144592,
          38982.554979596,
          38084.5914726208,
          37368.7204869039,
          36867.7943437807,
          36453.5892502757,
          35989.3091506889,
          34868.6039692004,
          33279.0464825664,
          31978.2282913878,
          30759.564451537,
          29785.9072025449,
          9126.86579479194,
          8274.17512000304,
          7419.41553371741,
          6589.46331448696,
          5949.97143880894,
          4938.71066652689,
          49103.7381616861,
          45638.0355774912,
          48712.4376755843,
          45585.3966001731,
          42814.5643374702,
          41234.9787836342,
          38963.4482380088,
          35878.8884730444,
          65282.3275167943,
          59242.7566381109,
          58404.1047701058,
          53257.8062214539,
          2259.59458613619,
          2168.11869778719,
          2131.69297108232,
          2016.61428958485,
          1909.26104271471,
          1818.55722387341,
          1737.74363021805,
          1603.55076157191,
          1471.36591849479,
          1350.25833012171,
          13471.8974954811,
          13473.4332665941,
          12316.627183929,
          11898.1350787691,
          11271.3458791344,
          10594.2784115442,
          10069.3723494864,
          10477.8553031358,
          9872.03900132034,
          9682.81391908271,
          9388.05504673581,
          8887.02992810892,
          8523.10667426948,
          8305.39129804982,
          7878.41309760168,
          7581.00445637628,
          7541.13957464232,
          7329.35851951096,
          6508.75165727454,
          22002.1422126804,
          20091.6165262608,
          18791.3311993325,
          19996.7160705344,
          20073.581808165,
          19339.083801687,
          18309.9447485208,
          17023.0554281874,
          15720.4534658126,
          15079.2155459918,
          14376.1753412165,
          15482.8672406467,
          14700.4854568323,
          15433.6742489655,
          15310.2679814859,
          14459.1811589759,
          1861.28228564753,
          1819.00118154645,
          1757.97186705034,
          1668.98832753468,
          1588.77506313767,
          1480.05242341453,
          1436.70978658592,
          1388.67234145431,
          1346.39264233098,
          11778.3136960259,
          11298.3909564957,
          13195.8768378635,
          12829.03064807,
          11852.6523644491,
          10957.5582756783,
          10561.0095264702,
          9349.13468844413,
          8467.79599207072,
          7969.42102827251,
          55632.9297643152,
          54806.1169274869,
          54359.1339744884,
          53440.9115376752,
          55314.6600600556,
          55916.7153825593,
          55411.4375480389,
          54395.3564837089,
          53035.7829128595,
          51569.8176904018,
          50568.1011093528,
          50165.7199406447,
          50163.8894682396,
          48714.5305541034,
          47041.1847777655,
          45551.4148049007,
          44140.1427859365,
          18573.8544665676,
          17712.8969892031,
          16477.8238595598,
          15851.7967534658,
          14828.024360075,
          13944.1707655947,
          11774.0880589987,
          13296.1015865839,
          13605.8072419817,
          13946.3684824662,
          13428.6294349873,
          12457.9739652764,
          2747.43871787339
         ],
         "xaxis": "x",
         "y": [
          3.26028,
          1.54938,
          23.93386,
          22.31766,
          21.43839,
          26.5221,
          29.27521,
          29.37905,
          31.01999,
          30.71935,
          26.30862,
          24.31098,
          20.77307,
          23.28416,
          25.7663,
          27.00878,
          27.21354,
          61.90762,
          58.06899,
          47.93657,
          47.59929,
          49.44358,
          43.86036,
          43.819,
          46.16662,
          44.76357,
          47.06064,
          46.11211,
          48.69671,
          48.38105,
          45.6225,
          47.15739,
          45.12017,
          44.63037,
          41.76718,
          41.81082,
          41.07741,
          41.72061,
          43.30769,
          44.73185,
          9.60829,
          24.76307,
          25.15984,
          20.76849,
          18.2837,
          18.73198,
          21.29213,
          25.8482,
          27.1022,
          28.8185,
          36.4993,
          45.14897,
          20.65693,
          24.43307,
          24.27566,
          23.76064,
          17.89333,
          23.82837,
          29.26628,
          60.15088,
          57.58209,
          58.62387,
          60.99179,
          61.38192,
          61.03582,
          59.68141,
          60.15245,
          60.30723,
          59.37837,
          63.36815,
          62.41306,
          66.19672,
          65.67198,
          67.56046,
          67.61234,
          5.20358,
          16,
          18,
          22,
          20,
          20,
          20,
          24,
          45.21178,
          45.43497,
          46.25014,
          45.46248,
          45.59862,
          48.17288,
          48.29023,
          44.48669,
          43.82864,
          45.0077,
          43.83579,
          44.73485,
          16.66319,
          30.22794,
          30.62374,
          34.15712,
          30.60463,
          27.84397,
          28.22629,
          26.76724,
          24.8252,
          27.09129,
          24.36362,
          22.82633,
          23.61479,
          23.2834,
          60.36292,
          11.93227,
          16.44522,
          48.37439,
          47.98345,
          46.44098,
          48.51804,
          49.45216,
          49.19419,
          51.15031,
          49.34161,
          50.18179,
          50.32603,
          51.48283,
          50.30476,
          44.86768,
          44.88859,
          45.7173,
          48.04591,
          46.29415,
          35.37265,
          31.28804,
          43.72801,
          38.88848,
          74.04079,
          73.91087,
          71.68975,
          71.74494,
          71.74104,
          70.37239,
          69.051,
          67.04113,
          65.67056,
          60.10275,
          57.58961,
          33.67925,
          30.85499,
          31.94699,
          20.66619,
          37.41422,
          30.4505,
          26.92187,
          28.66598,
          31.6326,
          30.41793,
          35.12261,
          37.11606,
          38.43275,
          45,
          34.81,
          18.84658,
          20.70577,
          28.7345,
          33.74896,
          38.22083,
          38.18608,
          38.81778,
          39.78727,
          40.83279,
          35.50421,
          34.57391,
          34.27348,
          42.9621,
          41.96469,
          45.66301,
          43.12256,
          40.22264,
          44.5036,
          11.00435,
          12.74972,
          15.72758,
          17.82185,
          16.42782,
          15.94869,
          16.75668,
          18.91288,
          19.9012,
          17.41578,
          15.27855,
          17.48336,
          17.39315,
          13.73039,
          36.38471,
          37.68345,
          40.76913,
          39.75604,
          45.0499,
          47.17519,
          49.07506,
          48.19529,
          52.81819,
          51.44689,
          53.72223,
          52.46039,
          51.20964,
          52.60565,
          60.192,
          59.82113,
          59.64659,
          60.05309,
          60.25018,
          61.08765,
          62.13738,
          61.04465,
          59.52574,
          59.88517,
          61.41134,
          58.97004,
          53.38953,
          50.49906,
          8.52939,
          21.54532,
          17.44186,
          1.38889,
          0.55556,
          0.6875,
          0.6817,
          1.79802,
          1.16,
          51.20979,
          55.00628,
          43.60328,
          38.48566,
          39.78677,
          41.63077,
          38.1334,
          38.49245,
          36.484,
          32.94748,
          29.13338,
          32.94055,
          24.1966,
          24.19624,
          23.2216,
          10.77068,
          63.05659,
          67.01006,
          66.09809,
          68.10225,
          70.28762,
          68.20252,
          66.55734,
          66.8577,
          69.25418,
          70.00221,
          69.5222,
          70.78115,
          70.24924,
          66.94823,
          63.87616,
          62.89537,
          55.00289,
          53.49814,
          52.26525,
          50.81922,
          52.27445,
          52.32643,
          51.93448,
          50.73344,
          50.77779,
          52.10514,
          54.21257,
          52.51557,
          54.11413,
          53.45874,
          51.62359,
          48.51852,
          29.26452,
          19.72887,
          65.63405,
          65.58644,
          66.12708,
          67.27309,
          68.11996,
          68.29468,
          67.57478,
          66.56024,
          66.26292,
          65.51884,
          65.65844,
          66.04496,
          65.42619,
          62.40336,
          61.33055,
          59.58286,
          0.10152,
          50.85511,
          31.01077,
          32.7391,
          31.06285,
          28.22619,
          33.04756,
          24.15904,
          21.57699,
          46.88226,
          47.46166,
          47.37328,
          46.42767,
          48.30646,
          43.86311,
          43.30276,
          39.44562,
          37.10307,
          30.67959,
          29.66375,
          34.83826,
          37.75577,
          38.45812,
          36.09466,
          36.55151,
          38.85505,
          49.84549,
          47.80594,
          50.35,
          50.35,
          49.29673,
          47.99583,
          43.87858,
          46.15706,
          43.4148,
          37.72658,
          41.94814,
          14.68996,
          25.71005,
          0,
          48.63057,
          48.35838,
          52.2274,
          52.08528,
          48.75978,
          49.5477,
          53.42144,
          57.44828,
          58.55792,
          60.26393,
          63.42109,
          66.72896,
          65.78791,
          64.36728,
          65.42814,
          67.27153,
          66.80923,
          36.55204,
          37.42383,
          52.95625,
          56.57826,
          55.00507,
          56.23771,
          54.52021,
          51.20479,
          53.14774,
          53.63541,
          52.76172,
          46.95112,
          43.43103,
          40.4862,
          38.01885,
          45.08849,
          44.66163,
          44.15743,
          45.91529,
          42.01926,
          40.42409,
          39.66331,
          42.97893,
          76.52337,
          75.93114,
          75.26743,
          78.17249,
          77.7054,
          77.06944,
          76.12156,
          74.81141,
          74.6464,
          74.07638,
          73.05065,
          72.42006,
          72.1773,
          72.56669,
          73.98461,
          73.3754,
          51.58933,
          36.60284,
          50.73673,
          44.51119,
          35.15982,
          39.14593,
          41.78109,
          25.49233,
          0.05813,
          0.0556,
          0.05622,
          0.03477,
          0.05414,
          4.34074,
          16.82958,
          5.18401,
          5.18519,
          2.3318,
          2.63383,
          2.36046,
          6.57682,
          7.29384,
          5.97375,
          4.40186,
          19.99981,
          20.0763,
          20.8586,
          18.10507,
          20.21965,
          20.40827,
          23.77691,
          24.84909,
          38.83117,
          36.89482,
          27.03518,
          36.35164,
          52.68542,
          34.3022,
          46.28259,
          33.223,
          21.71571,
          18.25922,
          29.44259,
          22.24371,
          22.20836,
          14.03888,
          17.61103,
          3.37766,
          26.14334,
          28.23481,
          32.39251,
          30.80612,
          29.30008,
          32.81036,
          26.17817,
          20.84871,
          19.94923,
          16.73651,
          27.8503,
          37.0869,
          31.56003,
          47.1454,
          48.39038,
          44.30358,
          70.26504,
          76.0142,
          79.72458,
          80.38985,
          90.68425,
          55.00637,
          59.58499,
          68.5204,
          66.44759,
          84.49009,
          71.23215,
          51.45165,
          61.42857,
          10.10068,
          46.57302,
          51.87176,
          53.8848,
          51.56639,
          56.5091,
          51.86827,
          45.69481,
          46.79828,
          18.55196,
          36.75506,
          36.20898,
          39.06294,
          38.25287,
          44.57956,
          45.22071,
          41.51008,
          38.61637,
          34.69624,
          34.69148,
          29.83921,
          29.51683,
          23.57877,
          23.57983,
          16.9155,
          19.44232,
          51.38794,
          11.35714,
          7.24037,
          1.93786,
          2.70957,
          22.27725,
          29.93796,
          22.7025,
          12.30916,
          21.62306,
          19.82981,
          49.91867,
          45.14796,
          48.78167,
          46.316,
          46.99388,
          48.20335,
          49.07141,
          48.58295,
          45.57088,
          48.45862,
          39.9619,
          39.00534,
          40.72189,
          41.055,
          38.23636,
          37.80539,
          34.10086,
          30.48083,
          0.15877,
          44.19701,
          43.61399,
          45.01335,
          46.78755,
          50.52673,
          52.8762,
          49.5327,
          49.39518,
          4.55947,
          2.31214,
          2.20441,
          2.23103,
          0.2584,
          0.93677,
          0.42042,
          0.11,
          0.6,
          0.6,
          10.2,
          0.6,
          1.4,
          0.67,
          2.22,
          4.28187,
          0.25,
          0.30988,
          0.01168,
          0.01491,
          0.01168,
          0.02834,
          61.95637,
          62.62203,
          69.05267,
          68.61352,
          32.30446,
          28.11572,
          24.41485,
          27.09512,
          30.45859,
          34.25746,
          33.0522,
          33.35008,
          30.47931,
          30.26633,
          30.05529,
          30.77192,
          29.50731,
          38.13964,
          37.82427,
          35.0848,
          38.8571,
          44.04776,
          44.08664,
          43.98322,
          48.0817,
          47.02851,
          42.95605,
          36.26739,
          34.18205,
          31.72539,
          31.63198,
          31.54025,
          27.0477,
          21.32171,
          21.28643,
          21.2355,
          20.45423,
          34.40681,
          37.40551,
          32.26955,
          34.75258,
          23.26299,
          26.86982,
          30.4101,
          37.22944,
          43.95585,
          45.38615,
          41.56978,
          47.59646,
          48.95596,
          50.20607,
          42.35324,
          52.81911,
          41.55919,
          4.09562,
          4.03944,
          0.00578,
          9.14798,
          8.6205,
          8.33043,
          7.76999,
          10.16,
          53.37318,
          55.32389,
          53.1235,
          52.14075,
          63.47959,
          59.84472,
          58.33852,
          58.75177,
          55.2942,
          51.56889,
          49.86894,
          54.19254,
          54.99249,
          53.63635,
          53.06932,
          53.11944,
          57.51607,
          62.83413,
          61.22758,
          58.37585,
          57.98363,
          62.80811,
          58.26797,
          59.32717,
          54.79437,
          58.49558,
          52.17969,
          60.02177,
          54.65497,
          53.31555,
          56.91409,
          52.54813,
          53.65731,
          49.07375,
          40.13195,
          42.50854,
          42.64755,
          42.66497,
          44.79083,
          43.86693,
          48.61601,
          54.76172,
          55.82324,
          44.31185,
          42.99036,
          43.35975,
          44.95186,
          45.45694,
          47.07174,
          46.28964,
          48.0409,
          48.35509,
          48.86285,
          47.17623,
          49.7271,
          48.85524,
          49.80412,
          44.70679,
          45.47253,
          40.92634,
          19.89013,
          19.04594,
          0.57518,
          7.73481,
          1.65248,
          57.30899,
          59.13983,
          62.76031,
          63.85772,
          65.12767,
          71.73202,
          67.11295,
          67.69866,
          68.19018,
          69.73282,
          69.08665,
          67.46747,
          0.00191,
          0.00108,
          0.00037,
          0.0013,
          0.00018,
          0.00223,
          0.0048,
          0.00793,
          0.00234,
          0.00061,
          41.42653,
          43.85344,
          48.65303,
          35.54402,
          41.80915,
          36.82153,
          10.42419,
          18.44787,
          20.03082,
          18.94737,
          18,
          16.93364,
          14.0625,
          12.57143,
          9.61538,
          7.97872,
          6.86275,
          5.7377,
          8.21147,
          45.82497,
          45.12429,
          40.96736,
          47.25352,
          48.44539,
          46.04563,
          43.30571,
          37.91593,
          36.21276,
          41.27971,
          44.8729,
          42.91554,
          43.31787,
          41.76644,
          41.80573,
          36.79563,
          13.67402,
          8.23317,
          4.33662,
          7.53809,
          0,
          1.66114,
          2.14234,
          1.66535,
          1.28374,
          26.20983,
          25.90415,
          27.06032,
          30.21966,
          32.54109,
          32.25471,
          32.88613,
          35.64437,
          33.40802,
          32.01175,
          59.12877,
          58.58304,
          57.17836,
          60.90394,
          63.5233,
          64.87789,
          64.27739,
          63.30609,
          62.59227,
          63.33562,
          64.54048,
          67.20573,
          69.0271,
          67.05817,
          65.1489,
          64.04396,
          62.3969,
          8.49521,
          47.14286,
          38.86013,
          42.78192,
          39.54948,
          32.55408,
          46.7,
          39.27,
          35.63,
          37.78,
          32.39,
          30.38,
          3.22766
         ],
         "yaxis": "y"
        }
       ],
       "layout": {
        "coloraxis": {
         "colorbar": {
          "title": {
           "text": "Internet_Users_Pct"
          }
         },
         "colorscale": [
          [
           0,
           "#0d0887"
          ],
          [
           0.1111111111111111,
           "#46039f"
          ],
          [
           0.2222222222222222,
           "#7201a8"
          ],
          [
           0.3333333333333333,
           "#9c179e"
          ],
          [
           0.4444444444444444,
           "#bd3786"
          ],
          [
           0.5555555555555556,
           "#d8576b"
          ],
          [
           0.6666666666666666,
           "#ed7953"
          ],
          [
           0.7777777777777778,
           "#fb9f3a"
          ],
          [
           0.8888888888888888,
           "#fdca26"
          ],
          [
           1,
           "#f0f921"
          ]
         ]
        },
        "legend": {
         "tracegroupgap": 0
        },
        "margin": {
         "t": 60
        },
        "template": {
         "data": {
          "bar": [
           {
            "error_x": {
             "color": "#2a3f5f"
            },
            "error_y": {
             "color": "#2a3f5f"
            },
            "marker": {
             "line": {
              "color": "#E5ECF6",
              "width": 0.5
             },
             "pattern": {
              "fillmode": "overlay",
              "size": 10,
              "solidity": 0.2
             }
            },
            "type": "bar"
           }
          ],
          "barpolar": [
           {
            "marker": {
             "line": {
              "color": "#E5ECF6",
              "width": 0.5
             },
             "pattern": {
              "fillmode": "overlay",
              "size": 10,
              "solidity": 0.2
             }
            },
            "type": "barpolar"
           }
          ],
          "carpet": [
           {
            "aaxis": {
             "endlinecolor": "#2a3f5f",
             "gridcolor": "white",
             "linecolor": "white",
             "minorgridcolor": "white",
             "startlinecolor": "#2a3f5f"
            },
            "baxis": {
             "endlinecolor": "#2a3f5f",
             "gridcolor": "white",
             "linecolor": "white",
             "minorgridcolor": "white",
             "startlinecolor": "#2a3f5f"
            },
            "type": "carpet"
           }
          ],
          "choropleth": [
           {
            "colorbar": {
             "outlinewidth": 0,
             "ticks": ""
            },
            "type": "choropleth"
           }
          ],
          "contour": [
           {
            "colorbar": {
             "outlinewidth": 0,
             "ticks": ""
            },
            "colorscale": [
             [
              0,
              "#0d0887"
             ],
             [
              0.1111111111111111,
              "#46039f"
             ],
             [
              0.2222222222222222,
              "#7201a8"
             ],
             [
              0.3333333333333333,
              "#9c179e"
             ],
             [
              0.4444444444444444,
              "#bd3786"
             ],
             [
              0.5555555555555556,
              "#d8576b"
             ],
             [
              0.6666666666666666,
              "#ed7953"
             ],
             [
              0.7777777777777778,
              "#fb9f3a"
             ],
             [
              0.8888888888888888,
              "#fdca26"
             ],
             [
              1,
              "#f0f921"
             ]
            ],
            "type": "contour"
           }
          ],
          "contourcarpet": [
           {
            "colorbar": {
             "outlinewidth": 0,
             "ticks": ""
            },
            "type": "contourcarpet"
           }
          ],
          "heatmap": [
           {
            "colorbar": {
             "outlinewidth": 0,
             "ticks": ""
            },
            "colorscale": [
             [
              0,
              "#0d0887"
             ],
             [
              0.1111111111111111,
              "#46039f"
             ],
             [
              0.2222222222222222,
              "#7201a8"
             ],
             [
              0.3333333333333333,
              "#9c179e"
             ],
             [
              0.4444444444444444,
              "#bd3786"
             ],
             [
              0.5555555555555556,
              "#d8576b"
             ],
             [
              0.6666666666666666,
              "#ed7953"
             ],
             [
              0.7777777777777778,
              "#fb9f3a"
             ],
             [
              0.8888888888888888,
              "#fdca26"
             ],
             [
              1,
              "#f0f921"
             ]
            ],
            "type": "heatmap"
           }
          ],
          "heatmapgl": [
           {
            "colorbar": {
             "outlinewidth": 0,
             "ticks": ""
            },
            "colorscale": [
             [
              0,
              "#0d0887"
             ],
             [
              0.1111111111111111,
              "#46039f"
             ],
             [
              0.2222222222222222,
              "#7201a8"
             ],
             [
              0.3333333333333333,
              "#9c179e"
             ],
             [
              0.4444444444444444,
              "#bd3786"
             ],
             [
              0.5555555555555556,
              "#d8576b"
             ],
             [
              0.6666666666666666,
              "#ed7953"
             ],
             [
              0.7777777777777778,
              "#fb9f3a"
             ],
             [
              0.8888888888888888,
              "#fdca26"
             ],
             [
              1,
              "#f0f921"
             ]
            ],
            "type": "heatmapgl"
           }
          ],
          "histogram": [
           {
            "marker": {
             "pattern": {
              "fillmode": "overlay",
              "size": 10,
              "solidity": 0.2
             }
            },
            "type": "histogram"
           }
          ],
          "histogram2d": [
           {
            "colorbar": {
             "outlinewidth": 0,
             "ticks": ""
            },
            "colorscale": [
             [
              0,
              "#0d0887"
             ],
             [
              0.1111111111111111,
              "#46039f"
             ],
             [
              0.2222222222222222,
              "#7201a8"
             ],
             [
              0.3333333333333333,
              "#9c179e"
             ],
             [
              0.4444444444444444,
              "#bd3786"
             ],
             [
              0.5555555555555556,
              "#d8576b"
             ],
             [
              0.6666666666666666,
              "#ed7953"
             ],
             [
              0.7777777777777778,
              "#fb9f3a"
             ],
             [
              0.8888888888888888,
              "#fdca26"
             ],
             [
              1,
              "#f0f921"
             ]
            ],
            "type": "histogram2d"
           }
          ],
          "histogram2dcontour": [
           {
            "colorbar": {
             "outlinewidth": 0,
             "ticks": ""
            },
            "colorscale": [
             [
              0,
              "#0d0887"
             ],
             [
              0.1111111111111111,
              "#46039f"
             ],
             [
              0.2222222222222222,
              "#7201a8"
             ],
             [
              0.3333333333333333,
              "#9c179e"
             ],
             [
              0.4444444444444444,
              "#bd3786"
             ],
             [
              0.5555555555555556,
              "#d8576b"
             ],
             [
              0.6666666666666666,
              "#ed7953"
             ],
             [
              0.7777777777777778,
              "#fb9f3a"
             ],
             [
              0.8888888888888888,
              "#fdca26"
             ],
             [
              1,
              "#f0f921"
             ]
            ],
            "type": "histogram2dcontour"
           }
          ],
          "mesh3d": [
           {
            "colorbar": {
             "outlinewidth": 0,
             "ticks": ""
            },
            "type": "mesh3d"
           }
          ],
          "parcoords": [
           {
            "line": {
             "colorbar": {
              "outlinewidth": 0,
              "ticks": ""
             }
            },
            "type": "parcoords"
           }
          ],
          "pie": [
           {
            "automargin": true,
            "type": "pie"
           }
          ],
          "scatter": [
           {
            "marker": {
             "colorbar": {
              "outlinewidth": 0,
              "ticks": ""
             }
            },
            "type": "scatter"
           }
          ],
          "scatter3d": [
           {
            "line": {
             "colorbar": {
              "outlinewidth": 0,
              "ticks": ""
             }
            },
            "marker": {
             "colorbar": {
              "outlinewidth": 0,
              "ticks": ""
             }
            },
            "type": "scatter3d"
           }
          ],
          "scattercarpet": [
           {
            "marker": {
             "colorbar": {
              "outlinewidth": 0,
              "ticks": ""
             }
            },
            "type": "scattercarpet"
           }
          ],
          "scattergeo": [
           {
            "marker": {
             "colorbar": {
              "outlinewidth": 0,
              "ticks": ""
             }
            },
            "type": "scattergeo"
           }
          ],
          "scattergl": [
           {
            "marker": {
             "colorbar": {
              "outlinewidth": 0,
              "ticks": ""
             }
            },
            "type": "scattergl"
           }
          ],
          "scattermapbox": [
           {
            "marker": {
             "colorbar": {
              "outlinewidth": 0,
              "ticks": ""
             }
            },
            "type": "scattermapbox"
           }
          ],
          "scatterpolar": [
           {
            "marker": {
             "colorbar": {
              "outlinewidth": 0,
              "ticks": ""
             }
            },
            "type": "scatterpolar"
           }
          ],
          "scatterpolargl": [
           {
            "marker": {
             "colorbar": {
              "outlinewidth": 0,
              "ticks": ""
             }
            },
            "type": "scatterpolargl"
           }
          ],
          "scatterternary": [
           {
            "marker": {
             "colorbar": {
              "outlinewidth": 0,
              "ticks": ""
             }
            },
            "type": "scatterternary"
           }
          ],
          "surface": [
           {
            "colorbar": {
             "outlinewidth": 0,
             "ticks": ""
            },
            "colorscale": [
             [
              0,
              "#0d0887"
             ],
             [
              0.1111111111111111,
              "#46039f"
             ],
             [
              0.2222222222222222,
              "#7201a8"
             ],
             [
              0.3333333333333333,
              "#9c179e"
             ],
             [
              0.4444444444444444,
              "#bd3786"
             ],
             [
              0.5555555555555556,
              "#d8576b"
             ],
             [
              0.6666666666666666,
              "#ed7953"
             ],
             [
              0.7777777777777778,
              "#fb9f3a"
             ],
             [
              0.8888888888888888,
              "#fdca26"
             ],
             [
              1,
              "#f0f921"
             ]
            ],
            "type": "surface"
           }
          ],
          "table": [
           {
            "cells": {
             "fill": {
              "color": "#EBF0F8"
             },
             "line": {
              "color": "white"
             }
            },
            "header": {
             "fill": {
              "color": "#C8D4E3"
             },
             "line": {
              "color": "white"
             }
            },
            "type": "table"
           }
          ]
         },
         "layout": {
          "annotationdefaults": {
           "arrowcolor": "#2a3f5f",
           "arrowhead": 0,
           "arrowwidth": 1
          },
          "autotypenumbers": "strict",
          "coloraxis": {
           "colorbar": {
            "outlinewidth": 0,
            "ticks": ""
           }
          },
          "colorscale": {
           "diverging": [
            [
             0,
             "#8e0152"
            ],
            [
             0.1,
             "#c51b7d"
            ],
            [
             0.2,
             "#de77ae"
            ],
            [
             0.3,
             "#f1b6da"
            ],
            [
             0.4,
             "#fde0ef"
            ],
            [
             0.5,
             "#f7f7f7"
            ],
            [
             0.6,
             "#e6f5d0"
            ],
            [
             0.7,
             "#b8e186"
            ],
            [
             0.8,
             "#7fbc41"
            ],
            [
             0.9,
             "#4d9221"
            ],
            [
             1,
             "#276419"
            ]
           ],
           "sequential": [
            [
             0,
             "#0d0887"
            ],
            [
             0.1111111111111111,
             "#46039f"
            ],
            [
             0.2222222222222222,
             "#7201a8"
            ],
            [
             0.3333333333333333,
             "#9c179e"
            ],
            [
             0.4444444444444444,
             "#bd3786"
            ],
            [
             0.5555555555555556,
             "#d8576b"
            ],
            [
             0.6666666666666666,
             "#ed7953"
            ],
            [
             0.7777777777777778,
             "#fb9f3a"
            ],
            [
             0.8888888888888888,
             "#fdca26"
            ],
            [
             1,
             "#f0f921"
            ]
           ],
           "sequentialminus": [
            [
             0,
             "#0d0887"
            ],
            [
             0.1111111111111111,
             "#46039f"
            ],
            [
             0.2222222222222222,
             "#7201a8"
            ],
            [
             0.3333333333333333,
             "#9c179e"
            ],
            [
             0.4444444444444444,
             "#bd3786"
            ],
            [
             0.5555555555555556,
             "#d8576b"
            ],
            [
             0.6666666666666666,
             "#ed7953"
            ],
            [
             0.7777777777777778,
             "#fb9f3a"
            ],
            [
             0.8888888888888888,
             "#fdca26"
            ],
            [
             1,
             "#f0f921"
            ]
           ]
          },
          "colorway": [
           "#636efa",
           "#EF553B",
           "#00cc96",
           "#ab63fa",
           "#FFA15A",
           "#19d3f3",
           "#FF6692",
           "#B6E880",
           "#FF97FF",
           "#FECB52"
          ],
          "font": {
           "color": "#2a3f5f"
          },
          "geo": {
           "bgcolor": "white",
           "lakecolor": "white",
           "landcolor": "#E5ECF6",
           "showlakes": true,
           "showland": true,
           "subunitcolor": "white"
          },
          "hoverlabel": {
           "align": "left"
          },
          "hovermode": "closest",
          "mapbox": {
           "style": "light"
          },
          "paper_bgcolor": "white",
          "plot_bgcolor": "#E5ECF6",
          "polar": {
           "angularaxis": {
            "gridcolor": "white",
            "linecolor": "white",
            "ticks": ""
           },
           "bgcolor": "#E5ECF6",
           "radialaxis": {
            "gridcolor": "white",
            "linecolor": "white",
            "ticks": ""
           }
          },
          "scene": {
           "xaxis": {
            "backgroundcolor": "#E5ECF6",
            "gridcolor": "white",
            "gridwidth": 2,
            "linecolor": "white",
            "showbackground": true,
            "ticks": "",
            "zerolinecolor": "white"
           },
           "yaxis": {
            "backgroundcolor": "#E5ECF6",
            "gridcolor": "white",
            "gridwidth": 2,
            "linecolor": "white",
            "showbackground": true,
            "ticks": "",
            "zerolinecolor": "white"
           },
           "zaxis": {
            "backgroundcolor": "#E5ECF6",
            "gridcolor": "white",
            "gridwidth": 2,
            "linecolor": "white",
            "showbackground": true,
            "ticks": "",
            "zerolinecolor": "white"
           }
          },
          "shapedefaults": {
           "line": {
            "color": "#2a3f5f"
           }
          },
          "ternary": {
           "aaxis": {
            "gridcolor": "white",
            "linecolor": "white",
            "ticks": ""
           },
           "baxis": {
            "gridcolor": "white",
            "linecolor": "white",
            "ticks": ""
           },
           "bgcolor": "#E5ECF6",
           "caxis": {
            "gridcolor": "white",
            "linecolor": "white",
            "ticks": ""
           }
          },
          "title": {
           "x": 0.05
          },
          "xaxis": {
           "automargin": true,
           "gridcolor": "white",
           "linecolor": "white",
           "ticks": "",
           "title": {
            "standoff": 15
           },
           "zerolinecolor": "white",
           "zerolinewidth": 2
          },
          "yaxis": {
           "automargin": true,
           "gridcolor": "white",
           "linecolor": "white",
           "ticks": "",
           "title": {
            "standoff": 15
           },
           "zerolinecolor": "white",
           "zerolinewidth": 2
          }
         }
        },
        "xaxis": {
         "anchor": "y",
         "domain": [
          0,
          1
         ],
         "title": {
          "text": "GDP_Per_Capita"
         },
         "type": "log"
        },
        "yaxis": {
         "anchor": "x",
         "domain": [
          0,
          1
         ],
         "title": {
          "text": "Percent R&D - Business"
         }
        }
       }
      },
      "text/html": [
       "<div>                            <div id=\"e2a0e50f-8304-45ab-be10-f56fe213f1ce\" class=\"plotly-graph-div\" style=\"height:525px; width:100%;\"></div>            <script type=\"text/javascript\">                require([\"plotly\"], function(Plotly) {                    window.PLOTLYENV=window.PLOTLYENV || {};                                    if (document.getElementById(\"e2a0e50f-8304-45ab-be10-f56fe213f1ce\")) {                    Plotly.newPlot(                        \"e2a0e50f-8304-45ab-be10-f56fe213f1ce\",                        [{\"hovertemplate\":\"GDP_Per_Capita=%{x}<br>Percent R&D - Business=%{y}<br>Internet_Users_Pct=%{marker.color}<extra></extra>\",\"legendgroup\":\"\",\"marker\":{\"color\":[23.86,15.0361154084109,51.0,45.0,34.0,28.1126234799907,25.9466329403819,20.9272021035896,17.7205833696065,16.0366841054923,11.9136965509954,10.8821243775325,9.78080728532407,7.0386830862178,3.28448195590463,0.830766679676473,0.280339881830012,71.67,66.0,46.7561156116738,30.8132394396276,3.27524987017728,80.6188,80.0299939169903,78.7399930986888,75.17,73.45,72.87,69.37,63.6,58.0,54.28,42.7,36.56,39.1854501811114,33.7301329516915,23.0443171023274,15.4212193219603,9.53397431748034,6.90916235325567,46.0,27.4,17.08,14.54,11.9921773343674,8.03037535616454,4.99971367812957,0.305564637615618,31.8,27.43,23.0,19.7,16.2,8.95097131467325,4.30061602151712,1.86039812615388,0.494881245327084,0.0738688972841164,0.0490208910370497,81.6099959955952,75.0,70.0,66.0,64.44,59.72,55.82,53.86,49.97,46.33,31.2883955056566,29.4316916924341,13.7722144589561,7.88662270071677,4.93808090966561,2.96841164745362,16.8,3.11719294696997,2.1204625341365,1.4427635847914,0.981815187281861,0.626484062433397,0.44783903590236,0.196081173945832,45.69,40.65,39.22,33.83,30.88,28.1783801797929,21.022747248827,19.073672274442,13.2075861035303,9.14942508560748,4.52849486902851,2.87068515854108,46.23,45.0,39.67,33.64,27.09,19.97,18.13,12.04,9.08,7.6122977487982,5.37092346908696,2.90815402505996,1.84496512093439,1.21981313194706,0.725251166566501,1.13,0.92,83.0,83.0,80.3,80.3,76.7,73.2,72.4,71.66,65.9559634648989,64.2,61.5932992681952,60.2,51.3,36.1864400395459,24.897400303091,15.0723573635834,6.76023965049561,45.0,41.56,37.3,35.9,42.3001174855995,38.3,34.3,28.9,22.6,16.0,10.5231526193851,8.52325700269541,7.3,6.2,1.77591320677415,48.98,40.3509157546318,36.5,30.0,25.6,21.8,15.3416745365682,11.0072638904585,9.1186903029666,7.38892371052557,4.6,2.85419997133433,2.207532992624,0.550521023153909,0.330017772736723,39.2121959961842,36.5,34.33,32.29,61.9399731527956,57.7899789891444,56.55,50.58,44.24,41.44,37.98,33.14,30.91,22.75,17.76,11.5585731811648,6.64488254374396,4.40535911936871,56.8598923503507,52.99,49.81,42.31,40.77,35.83,32.81,33.83,30.09,28.32,18.8187590408455,15.2553943710137,11.3423986595347,8.8905391589027,73.4300078241036,70.49,68.82,64.43,62.97,51.93,47.93,35.27,35.5,34.3,23.93,14.6971721171129,9.78052788834393,6.83280201790214,3.89590606502968,2.91569869519568,1.94037819329252,92.2600117153012,89.8100133895232,88.72,86.84,85.03,82.74,76.26,42.9575247201878,30.5920406509143,11.3820049363755,5.71498784136337,18.8,10.8,7.2,18.9,15.9,12.11,10.08,6.11,0.425253672320613,78.3899259259259,76.5,74.1,72.5,70.58,66.19,63.51,61.45,53.2,45.32,41.52,31.5274897673756,28.5769538105646,14.5008972430169,10.7960348323268,0.75,89.879997974222,88.70999491353,86.89,82.49,83.67,80.78,79.66,74.48,72.39,69.22,62.43,43.1053633522263,37.2484617371121,32.2950922889897,25.4525249254189,19.4586827950608,77.8199989926706,77.28,71.58,70.68,66.09,46.87,42.87,39.15,36.14,30.18,26.3259035521688,14.3079239430677,9.12531788860536,6.31977872175207,4.25500387171107,2.58403397908468,6.7,6.21,81.26999953602,82.0,79.0,78.0,75.16,72.16,68.71,64.73,55.9,48.82,31.650939416316,30.2163466048889,20.8459826390268,9.87785242805539,6.71108747669468,3.05480523429391,7.8,3.85,55.0699934418411,51.6499951676815,24.0,17.8,10.9350258080278,6.87729214416088,1.84963468790097,70.579998153838,68.0199878861296,65.0,62.0,61.0,53.3,47.06,38.97,27.74,21.63,16.67,14.5285543028277,6.99967635062916,5.85784074913192,3.89464327842503,1.94244987216737,0.969239535629585,94.8196868008949,93.0,91.0,90.6,89.51,87.0,83.14,49.3929953676426,41.2945667122702,36.2642065028975,27.4788687499313,2.01861385948459,0.925563864466858,5.0,76.919992540097,74.8899729670944,69.85,67.38,65.34,61.158324551,54.82,41.61,36.99,34.31,25.85,23.1388121904053,17.8504672405807,10.9338085895467,8.09601004337033,4.08825507004952,2.19930183163355,67.5,63.12,59.39,48.1280621948445,27.8810744577346,25.1940424216829,22.7704855254035,19.5933936579649,17.7645990630493,17.3786238639049,20.8737899981674,13.4361219052622,10.3070699456663,4.39940548194079,2.16836760046815,54.3899983018814,53.68,48.83,44.53,40.79,37.99,35.0,1.02328990327724,79.0541135244739,78.21,78.0,75.4,74.3,68.6852703213795,66.9210661042901,62.3939296327259,48.4352658899653,46.5942011179917,38.5320608612719,29.9907403589142,21.391290312434,13.4140408820215,9.16307714028121,4.37298196820763,50.6,31.6,11.0,4.02,3.26836905115978,2.96170749150089,2.6503946570164,2.00041475265872,1.00612421099739,0.668594402621264,0.464277217538881,0.13106960398892,0.0645967541164605,14.0,7.95,65.7690706867398,61.4,50.8,42.0,34.8,28.7911979549612,25.9261083689107,22.9271120360078,22.4029383804612,10.2489679289296,8.55179243431475,6.73139576837536,4.75622220879911,3.05239745470751,2.17453585891176,73.1199437663748,69.7499545592245,68.42,66.84,63.41,59.17,53.63,46.0,38.58,26.98,21.94,7.21934580836289,6.31906208267861,4.38740905527801,3.31526788607745,2.05345471167237,0.812717071650356,3.72,67.2299893276414,63.6399774002179,62.12,59.76,55.22,49.9,43.9,36.22,31.23,25.91,17.69,7.17935699381369,6.42706749477765,91.9499237417387,90.0298585646936,90.62,87.31,78.92,70.0,54.55,22.8873279731211,61.0,56.3,55.9,55.8,51.6379889864403,42.2522656295248,32.3382043389359,6.75177048301491,0.81,68.1998742928975,68.0198237885462,63.0,58.86,50.08,46.9,40.41,41.24,28.92,37.1762954125184,31.05,26.34,21.71,20.81,19.52,17.21,14.1,12.9,11.9,7.0380231165045,5.08138415338066,1.85743622125093,1.26578327821238,0.627311539559522,0.20040628032987,0.0281288083769467,12.4999911084745,10.2,9.8,9.0,35.6115412460109,52.0,19.7711915653115,3.35336668122363,2.37325319241544,11.6,91.4199957622284,89.63,85.82,81.0,64.35,49.3730621073123,39.1760072483196,22.2438276873626,14.0655113980191,9.64906914465055,81.23,79.7,69.76,62.7202123689541,60.9625398663824,53.2410152941279,41.4944826585159,14.6015243991473,6.77,93.4899826515194,92.08,86.93,81.99,78.13,64.0,40.0,20.4178814360849,48.0,40.1,39.08,33.82,22.29,17.3495661695931,11.4840092783071,11.1408625409415,9.98742407723405,8.51807781515595,7.26839987788729,6.55479647729549,3.83686450851963,0.539065540666565,0.219998526009876,24.7635158793993,14.27,7.90700786141285,3.45243843137079,2.11194208210034,1.79496959770244,1.09879383569333,5.97,5.3976363293955,4.85767226708512,4.33227574643007,62.3099972714691,61.94999896898,62.32,58.97,53.13,48.6,44.58,38.81,32.53,24.87,21.15,9.9006697073534,7.2854287080601,5.45644373006027,4.10227200222192,2.07346547356008,1.29520025466745,55.2499968797194,53.3,48.27,44.13,42.09,38.01,34.99,31.78,29.67,19.37,18.0871365595338,16.4304676923534,14.7423378419006,9.87044644226667,4.95300195504893,2.98087766974856,45.8799942529424,40.0099967810008,39.93,36.6,32.42,28.3,24.66,21.5,15.0,8.9,6.58,4.53866902895312,3.61371729139783,2.69758021659411,2.23764947274713,0.445444675615383,0.221622649231938,8.0,7.12,48.1,42.2,40.9,38.1,35.6,33.15,72.0,71.0,71.0,69.0,69.0,69.9,59.0,61.0,62.0,53.8379432881911,47.0,41.6704251756041,36.0,24.1554369311712,19.5907671587693,13.4716204150014,8.34995902953436,68.3499745287825,67.3399948092396,70.0,64.0,58.0,56.74,54.01,46.81,40.81,31.8547930120441,27.8388854180687,30.1759104700854,15.1102595640388,12.6109384253276,10.1046028486896,7.59192300372915,5.0722722714599,24.0,10.0,8.43,8.06537517355504,7.60713967477381,7.48854252992921,8.4251186825406,7.00769172611251,6.34661931839768,67.6,65.8,62.4,59.6,55.11,50.37,47.88,44.01,39.93,20.39,18.1487226902932,13.6249608089899,7.08503967835022,4.36189239380101,2.8033196254371,1.33184740350778,12.0,5.8,2.53756612897332,1.44615998041486,0.647410010940963,0.054464498514862,92.7699860554046,91.0,82.01,84.83,79.13,51.7656649372808,41.4327831641401,23.7279475562643,79.2,67.8,47.1,4.54965674817947,11.55,10.07,8.78,7.19761951797855,3.77240620666448,0.298690023682825,0.0774799071356825,0.0645837771508553,0.0554628269910006,0.0512591325352927,20.1,20.03,15.0260043588909,10.6773033237281,9.29902723805965,7.53125033488567,0.360522184921104,0.115472136284834,34.07,27.53,17.1,12.9864086534204,9.65508654217982,8.52881775162591,6.49084579532797,5.25288729548421,4.29796603474685,2.75074029298135,0.0436569744909024,43.065710430925,39.82,36.4,34.37,28.63,18.24,15.46,14.58,12.33,11.38,5.18948146078506,3.761685035075,2.29211768539022,0.698805128639542,0.473695432121789,0.19272493561622,12.5,9.78,7.9,3.67196535074744,2.52936303826279,1.7422055032439,0.719970679914031,0.464849840113968,0.384093504951945,23.3,17.9,11.0,6.55,4.50612456357379,3.749764414659,3.4894778812677,3.14812758815439,1.87388511643427,1.23875954748114,79.3,69.7294607619268,71.69,71.0,74.0,75.0,68.9311932699721,67.968052915002,64.7582564759896,61.6971171244207,58.7854038836952,49.0808315896951,43.0791626375201,35.8487244559914,30.093196588091,21.6164009686742,16.4193529600768,51.4046610563616,46.4,41.8,39.3,34.0,29.4,11.4194701966853,10.5390577480141,9.97276528462272,6.98706936489058,3.36323966812774,1.84747208854564,5.55],\"coloraxis\":\"coloraxis\",\"symbol\":\"circle\"},\"mode\":\"markers\",\"name\":\"\",\"orientation\":\"v\",\"showlegend\":false,\"type\":\"scatter\",\"x\":[9944.23328284139,9179.74113635371,24647.6292752459,23521.2701763288,21519.8925539826,23103.4559463136,22424.1222504319,20777.6516537547,19426.4366481069,18032.6104914271,16714.6692563706,15523.0363054169,17610.7516076702,18625.2881011086,18981.1683837255,19866.2406470539,19347.5419244468,44974.5263202105,42894.1331487911,38462.0153634672,36051.5717033416,33882.9075979721,53090.8151927455,53391.032403354,53272.527358892,51934.4627664247,51120.3320501803,53259.4111045692,52657.3755809339,50929.9681510672,49473.7489879843,48718.6693821179,47716.7553407919,47502.5442670715,46961.2332465252,46551.4597865552,45139.742922611,43674.4457616775,42210.6521287598,41391.9297308046,14312.7561158751,13822.0911094279,12903.1519167445,11914.994832597,9605.09610840819,7222.03607503781,4813.50418477741,4431.28987324473,17288.4043493433,16010.439955622,15942.8976797373,14417.3535308989,13214.87158024,8961.64111959338,8477.08401148315,8053.17363808324,7575.91832595163,7296.05459067832,6698.74456753512,48307.7068316362,48124.815894586,47214.1659661315,48577.2038026647,48744.6185198965,47362.4227731796,46489.2691305788,45685.0049060563,44301.0709398087,44029.8996903099,43485.4683209326,43160.6914937795,41715.0753426946,40380.2236589063,39687.9374817912,38329.9868977007,6455.97424355548,5434.08881516848,5402.76514668128,5415.52991539303,5386.17921449768,5469.46973718794,5312.07766466358,5164.2507332886,15318.3063061666,14868.3301408841,13957.6791202509,14110.3451381369,13560.5451000637,12917.9168849667,12561.8201732326,12312.3344290767,11782.4677716666,11796.9705534406,11598.6938525952,11597.1433448662,17496.3584372976,17284.86289832,17773.6910633803,16636.9099279988,15498.7638009691,14401.8572044246,13339.5700558705,12438.0224944615,11735.3041880029,10838.114310443,10233.8499159564,9718.67847705042,10536.9063884279,10036.7254363598,11625.8419572762,1631.19382841923,1632.94858853561,46230.73199756,45926.127875307,44962.8839612883,44103.0386866527,45955.2272888233,45992.1566168139,43456.1457423522,42141.870158423,40517.5702438298,39356.9349136235,38255.3455262111,37393.9471098308,37278.4325128102,35863.5375708431,34775.4850855381,34111.3525248748,35829.7985364986,21328.9418196388,20361.7147945387,20905.5618857055,20410.3661592134,10397.5614154923,9686.61528974268,8884.58803122452,8069.35463838628,7412.87436348628,6795.17401238784,5979.78171182139,5334.64663937839,4817.21184451855,4400.82518340985,3451.67923093446,12896.3516812902,12523.006680201,11823.3879357365,11434.331033923,11431.9631032354,11199.4859551416,10622.8122667083,10083.3143613973,9749.55565568711,9388.04049044271,9168.55091395225,9082.20809505088,9073.42687807926,9612.67920008,9456.15871231116,16950.440233698,16448.2874784145,15868.5695581522,16230.9479607969,23883.3027281718,24393.8595003337,24358.1004432062,24627.1455832697,26545.3526929265,26048.9743754834,24787.1621445504,23613.8843771044,22667.667797964,21769.5607951756,20613.9961643951,19517.8796690432,18241.6256840672,17560.0445034007,37413.59020453,38226.9931607121,38464.9612046221,40324.1692781575,39894.6789669111,38776.3321181233,37653.765432119,36431.9289389505,35155.5109035799,34675.7340585353,33816.4340812793,32883.1749117926,31363.860495984,30207.0547909235,33795.6721922485,34110.7650805102,33590.0554701118,32887.2933173433,34690.8651226074,34064.6745829146,32456.1215053472,30481.4698285486,28633.3955364731,27326.540415033,26373.5737965267,25915.9055596397,25056.2609404689,24024.8566740516,23672.6567604609,23734.8693981326,23832.838828975,51379.8548206608,51456.9971379348,50987.7094796128,50274.0756963766,53740.0862041295,51647.6716754489,49419.9518858163,49290.116741525,47449.5724187488,45404.6631065992,44153.9304097675,10257.4003390408,9805.6491552277,9757.37163256092,7575.6291506757,7328.71321626195,7208.14502971999,7392.84099578164,7238.18319271428,6437.3316154399,29232.5955632784,28245.5171498813,26208.9231461421,25464.1504426108,29702.3018052451,31211.0806708638,28881.6487725494,26168.5856675526,23763.9889441822,22125.0441819375,20439.9868349567,19017.2906611985,17830.3586755235,16272.2558134908,16386.3532969518,1259.02255177893,45989.3581957772,46863.6421680497,45911.7104555256,44698.1700088519,48857.4157278667,48703.5677922179,46449.6836268401,44823.0803310483,43760.2791457502,42202.7496181892,41472.4860871784,40875.3267393321,39926.4136840468,37825.5816892033,36322.7027176911,34534.6401324377,43000.9383498115,42282.2957244874,41679.1924537472,43133.542125033,43264.9683422552,42502.8942570932,41777.0087101363,41404.4666920174,40562.6361495585,40517.6317132385,40355.1176557854,39859.1927208374,38617.8984847262,37532.9404381613,36366.4724858698,35662.172650138,13934.8299233835,14378.4740408675,49843.2880653144,47079.8711246185,45121.7639963043,47724.9586975298,47181.4147666392,45756.446515015,44024.686883696,43680.0871995518,43163.3974403361,43491.7940465272,43651.3959152396,43001.8282464201,41841.4716625783,41092.9923807508,40287.8456982938,39636.4857434084,3732.38206331236,3261.71023964934,28951.6928118595,31063.3351484817,35124.8475404881,33413.8668953018,30576.0072738274,28518.9988462893,26882.4667116926,24833.2712654361,25051.2164438087,24505.631193101,24178.976395187,25875.0639423567,25559.30564469,25458.0863856514,24433.5549555262,23392.3278932127,22266.6952909184,21331.7085701828,20308.1840632027,19468.4903710642,18585.5034585674,17980.7386803397,17265.5920402702,16705.7603664546,47320.6271438972,48177.0841226297,51856.1695215737,51797.6940727927,48575.6725606,47249.4011064694,42153.5637390894,41593.9025421458,39210.086110749,38144.8909907341,36001.0851387679,5816.42546664123,5689.26019604017,9435.59035577969,52834.9923588177,52939.8592926248,52989.2327005586,52331.5603912742,55694.6297626987,59507.9168360789,58156.9442866212,56862.7329142146,54981.2184483057,52469.0621384413,51767.3976115259,49704.7189508649,47970.3452837184,44418.436837849,40652.0826582588,37793.5658990833,34421.2696169463,34978.016099314,33733.3957542753,34233.0043085197,33832.8204782236,32559.2887311097,31393.1405346761,30748.6823171468,30039.6125673924,30292.9292985628,30913.8260709378,31613.5932530568,30208.0017748517,30051.1344067673,29587.379579202,29188.8735965446,43029.2717412854,42800.5935459019,42209.2773039811,44766.0966677999,45501.3718210946,45061.6056382027,44402.1636371344,39555.404088209,37728.9049814787,37702.6025872772,36192.2884245538,38260.0910835428,38701.8435426394,38115.8349480943,37605.9904467099,36994.4272106767,36208.5959395551,35739.9729243431,35780.955830646,35722.1231102612,34814.2200159619,34965.9422901249,35461.2323460047,35167.4097616673,21970.0839239319,20751.2572399462,19770.2166481541,19500.4789415616,18112.7787011954,16536.0154072377,15208.440248666,13973.077738521,11682.8417915151,10275.7618712984,9330.56478866572,8998.90120883664,9016.00324724515,3329.85438577199,3221.25313854985,60887.4593669853,58810.3001967563,63886.0473795935,73022.8633510581,75581.0105136491,75224.3180620525,73155.5175576997,68233.9302714652,63008.515434926,54322.7253249399,53578.4952886431,54984.8544849844,55035.0652475184,59725.7544596746,61687.5153146506,24137.8023851873,22867.9731931828,21091.0218142024,21608.8539979281,24789.9996265413,25375.1430753236,22875.1646921232,20240.2291018432,18083.2519960228,16485.5033070323,15056.9775967088,13898.6408700306,12904.3764868676,12094.5825421547,11676.4794166588,10877.1965889322,9892.48532567057,2261.5063065251,27418.2190620411,26051.5539036748,24019.2582654889,23138.7555915642,26870.4586091281,25917.9128683143,23051.4121041779,21120.4502237547,19287.8984684309,17896.7814316473,16055.5736096672,14919.8968357261,13890.9238980929,105411.464570926,108355.582583156,108047.346867064,104932.811953115,115256.016699066,104357.564987409,100546.540938853,96207.2286509716,21289.262740357,20536.367417243,19442.9839476438,20103.5019232228,18752.5407834934,17538.4822176703,16155.6016212127,14448.7365264128,1985.62211848941,33944.1705701275,32896.206915891,32882.3071326312,31308.5816256448,31907.2996491199,30932.0131839373,29625.5458284916,29005.5975941623,27454.9467978378,18245.8358480256,17848.3249422511,17225.2548436832,18457.1134264157,18523.3590690205,18379.5267568773,17846.8971164882,17693.0532237514,17262.385535499,17249.9203436728,17495.3685135009,17814.7701714794,17222.1581418254,17009.9022695328,16421.7462787459,15610.980107657,5480.85433270117,8613.29807861083,7479.79740248469,7360.68740559009,6858.32792630431,17342.588588237,6284.12011608832,5560.40328268073,4946.48226767752,4723.94601769485,8888.4131192552,52762.1991860152,51772.4249282435,53078.9483179977,49625.4195662187,47959.5652667536,48314.5954551575,45985.527889255,44073.8787354131,42370.3765425754,40821.8479994322,38361.1941936905,37601.1428289373,38757.8552718713,37357.7209663552,35678.0533262587,33833.9393754117,32154.1299239368,30680.9402685819,4288.27013112096,61352.4568450381,61886.5644978857,64267.0006960529,62067.9707102713,58915.7056929217,58203.5932330281,55891.6780850002,54075.5787553008,32529.0136526611,21347.3327494385,20529.4710206573,20640.7992376114,19129.1947746445,17394.3882205425,16304.5988099709,15493.9083428384,14680.7866395679,14356.095126788,14313.6754055609,14510.5417877503,14408.0933205783,13447.5125448331,12891.6890206259,10700.1553153437,9643.50266882963,8568.54754975229,8526.51048470753,8335.96866207636,8136.63142632647,8293.56853787392,5474.68132696435,5054.23899156508,4697.48559352729,4562.76149407829,25538.4869069143,25204.4938237169,24072.7552963173,23138.596100825,22516.5700469463,21611.9472896467,20175.5115179586,18997.9392297003,18346.2177971017,17465.2249695964,16863.4890317867,16519.3615906136,16309.5537222246,15436.0704753513,14748.2819498227,14099.2607501771,13253.7502128055,31404.7543907793,31899.6676271551,31369.2362970917,32411.0539639812,32354.5304197908,31625.3905595723,31175.8545606093,30991.4434726519,30519.7244760262,30922.2524500836,30854.2058168611,30480.1342776956,29566.7998500771,28616.5835439205,27442.1655911201,26402.9969755015,21379.1482269711,20858.5317279383,20367.9604456617,21069.3050130757,22114.66120032,19897.2680798144,18282.9480772005,16824.1781268987,15974.8730260466,14384.1172177819,13954.0581897216,12961.7254154846,12148.2000985467,11841.046290561,11867.1719354281,12087.9983880075,12667.5024785722,2742.99502020728,2739.88276208724,14941.7574700361,14971.4576830224,14557.3010690767,14393.6731680551,14738.6954464009,13890.4976270822,82969.5617208165,81398.6166283515,78159.8433287318,69466.5817461326,71507.0611186188,74032.2856547611,70794.4486354387,67010.5181761266,63901.716367617,58920.9450034965,55539.3670740227,53937.1331944717,56010.5707212541,52264.8510904414,49831.8206008198,52711.0029933381,50323.8836565231,32722.7202879947,33680.4941921837,33462.3121393172,33162.9267279508,36196.2916486969,35024.2812886403,32922.6355698393,31233.0871448787,30142.4312205199,28901.8606945113,28087.8202525569,27170.1700203521,26364.9518302198,25506.436409014,24232.4278036241,23411.8694450462,22256.5047992377,12452.3375290857,12262.1430334211,12628.200837388,12402.0494604229,11924.0734129115,11434.9152380948,10997.0109109346,10646.8315142747,10224.0233326686,37002.0390484298,37438.6457745616,37550.2031502031,39365.6986690513,39647.0212144592,38982.554979596,38084.5914726208,37368.7204869039,36867.7943437807,36453.5892502757,35989.3091506889,34868.6039692004,33279.0464825664,31978.2282913878,30759.564451537,29785.9072025449,9126.86579479194,8274.17512000304,7419.41553371741,6589.46331448696,5949.97143880894,4938.71066652689,49103.7381616861,45638.0355774912,48712.4376755843,45585.3966001731,42814.5643374702,41234.9787836342,38963.4482380088,35878.8884730444,65282.3275167943,59242.7566381109,58404.1047701058,53257.8062214539,2259.59458613619,2168.11869778719,2131.69297108232,2016.61428958485,1909.26104271471,1818.55722387341,1737.74363021805,1603.55076157191,1471.36591849479,1350.25833012171,13471.8974954811,13473.4332665941,12316.627183929,11898.1350787691,11271.3458791344,10594.2784115442,10069.3723494864,10477.8553031358,9872.03900132034,9682.81391908271,9388.05504673581,8887.02992810892,8523.10667426948,8305.39129804982,7878.41309760168,7581.00445637628,7541.13957464232,7329.35851951096,6508.75165727454,22002.1422126804,20091.6165262608,18791.3311993325,19996.7160705344,20073.581808165,19339.083801687,18309.9447485208,17023.0554281874,15720.4534658126,15079.2155459918,14376.1753412165,15482.8672406467,14700.4854568323,15433.6742489655,15310.2679814859,14459.1811589759,1861.28228564753,1819.00118154645,1757.97186705034,1668.98832753468,1588.77506313767,1480.05242341453,1436.70978658592,1388.67234145431,1346.39264233098,11778.3136960259,11298.3909564957,13195.8768378635,12829.03064807,11852.6523644491,10957.5582756783,10561.0095264702,9349.13468844413,8467.79599207072,7969.42102827251,55632.9297643152,54806.1169274869,54359.1339744884,53440.9115376752,55314.6600600556,55916.7153825593,55411.4375480389,54395.3564837089,53035.7829128595,51569.8176904018,50568.1011093528,50165.7199406447,50163.8894682396,48714.5305541034,47041.1847777655,45551.4148049007,44140.1427859365,18573.8544665676,17712.8969892031,16477.8238595598,15851.7967534658,14828.024360075,13944.1707655947,11774.0880589987,13296.1015865839,13605.8072419817,13946.3684824662,13428.6294349873,12457.9739652764,2747.43871787339],\"xaxis\":\"x\",\"y\":[3.26028,1.54938,23.93386,22.31766,21.43839,26.5221,29.27521,29.37905,31.01999,30.71935,26.30862,24.31098,20.77307,23.28416,25.7663,27.00878,27.21354,61.90762,58.06899,47.93657,47.59929,49.44358,43.86036,43.819,46.16662,44.76357,47.06064,46.11211,48.69671,48.38105,45.6225,47.15739,45.12017,44.63037,41.76718,41.81082,41.07741,41.72061,43.30769,44.73185,9.60829,24.76307,25.15984,20.76849,18.2837,18.73198,21.29213,25.8482,27.1022,28.8185,36.4993,45.14897,20.65693,24.43307,24.27566,23.76064,17.89333,23.82837,29.26628,60.15088,57.58209,58.62387,60.99179,61.38192,61.03582,59.68141,60.15245,60.30723,59.37837,63.36815,62.41306,66.19672,65.67198,67.56046,67.61234,5.20358,16.0,18.0,22.0,20.0,20.0,20.0,24.0,45.21178,45.43497,46.25014,45.46248,45.59862,48.17288,48.29023,44.48669,43.82864,45.0077,43.83579,44.73485,16.66319,30.22794,30.62374,34.15712,30.60463,27.84397,28.22629,26.76724,24.8252,27.09129,24.36362,22.82633,23.61479,23.2834,60.36292,11.93227,16.44522,48.37439,47.98345,46.44098,48.51804,49.45216,49.19419,51.15031,49.34161,50.18179,50.32603,51.48283,50.30476,44.86768,44.88859,45.7173,48.04591,46.29415,35.37265,31.28804,43.72801,38.88848,74.04079,73.91087,71.68975,71.74494,71.74104,70.37239,69.051,67.04113,65.67056,60.10275,57.58961,33.67925,30.85499,31.94699,20.66619,37.41422,30.4505,26.92187,28.66598,31.6326,30.41793,35.12261,37.11606,38.43275,45.0,34.81,18.84658,20.70577,28.7345,33.74896,38.22083,38.18608,38.81778,39.78727,40.83279,35.50421,34.57391,34.27348,42.9621,41.96469,45.66301,43.12256,40.22264,44.5036,11.00435,12.74972,15.72758,17.82185,16.42782,15.94869,16.75668,18.91288,19.9012,17.41578,15.27855,17.48336,17.39315,13.73039,36.38471,37.68345,40.76913,39.75604,45.0499,47.17519,49.07506,48.19529,52.81819,51.44689,53.72223,52.46039,51.20964,52.60565,60.192,59.82113,59.64659,60.05309,60.25018,61.08765,62.13738,61.04465,59.52574,59.88517,61.41134,58.97004,53.38953,50.49906,8.52939,21.54532,17.44186,1.38889,0.55556,0.6875,0.6817,1.79802,1.16,51.20979,55.00628,43.60328,38.48566,39.78677,41.63077,38.1334,38.49245,36.484,32.94748,29.13338,32.94055,24.1966,24.19624,23.2216,10.77068,63.05659,67.01006,66.09809,68.10225,70.28762,68.20252,66.55734,66.8577,69.25418,70.00221,69.5222,70.78115,70.24924,66.94823,63.87616,62.89537,55.00289,53.49814,52.26525,50.81922,52.27445,52.32643,51.93448,50.73344,50.77779,52.10514,54.21257,52.51557,54.11413,53.45874,51.62359,48.51852,29.26452,19.72887,65.63405,65.58644,66.12708,67.27309,68.11996,68.29468,67.57478,66.56024,66.26292,65.51884,65.65844,66.04496,65.42619,62.40336,61.33055,59.58286,0.10152,50.85511,31.01077,32.7391,31.06285,28.22619,33.04756,24.15904,21.57699,46.88226,47.46166,47.37328,46.42767,48.30646,43.86311,43.30276,39.44562,37.10307,30.67959,29.66375,34.83826,37.75577,38.45812,36.09466,36.55151,38.85505,49.84549,47.80594,50.35,50.35,49.29673,47.99583,43.87858,46.15706,43.4148,37.72658,41.94814,14.68996,25.71005,0.0,48.63057,48.35838,52.2274,52.08528,48.75978,49.5477,53.42144,57.44828,58.55792,60.26393,63.42109,66.72896,65.78791,64.36728,65.42814,67.27153,66.80923,36.55204,37.42383,52.95625,56.57826,55.00507,56.23771,54.52021,51.20479,53.14774,53.63541,52.76172,46.95112,43.43103,40.4862,38.01885,45.08849,44.66163,44.15743,45.91529,42.01926,40.42409,39.66331,42.97893,76.52337,75.93114,75.26743,78.17249,77.7054,77.06944,76.12156,74.81141,74.6464,74.07638,73.05065,72.42006,72.1773,72.56669,73.98461,73.3754,51.58933,36.60284,50.73673,44.51119,35.15982,39.14593,41.78109,25.49233,0.05813,0.0556,0.05622,0.03477,0.05414,4.34074,16.82958,5.18401,5.18519,2.3318,2.63383,2.36046,6.57682,7.29384,5.97375,4.40186,19.99981,20.0763,20.8586,18.10507,20.21965,20.40827,23.77691,24.84909,38.83117,36.89482,27.03518,36.35164,52.68542,34.3022,46.28259,33.223,21.71571,18.25922,29.44259,22.24371,22.20836,14.03888,17.61103,3.37766,26.14334,28.23481,32.39251,30.80612,29.30008,32.81036,26.17817,20.84871,19.94923,16.73651,27.8503,37.0869,31.56003,47.1454,48.39038,44.30358,70.26504,76.0142,79.72458,80.38985,90.68425,55.00637,59.58499,68.5204,66.44759,84.49009,71.23215,51.45165,61.42857,10.10068,46.57302,51.87176,53.8848,51.56639,56.5091,51.86827,45.69481,46.79828,18.55196,36.75506,36.20898,39.06294,38.25287,44.57956,45.22071,41.51008,38.61637,34.69624,34.69148,29.83921,29.51683,23.57877,23.57983,16.9155,19.44232,51.38794,11.35714,7.24037,1.93786,2.70957,22.27725,29.93796,22.7025,12.30916,21.62306,19.82981,49.91867,45.14796,48.78167,46.316,46.99388,48.20335,49.07141,48.58295,45.57088,48.45862,39.9619,39.00534,40.72189,41.055,38.23636,37.80539,34.10086,30.48083,0.15877,44.19701,43.61399,45.01335,46.78755,50.52673,52.8762,49.5327,49.39518,4.55947,2.31214,2.20441,2.23103,0.2584,0.93677,0.42042,0.11,0.6,0.6,10.2,0.6,1.4,0.67,2.22,4.28187,0.25,0.30988,0.01168,0.01491,0.01168,0.02834,61.95637,62.62203,69.05267,68.61352,32.30446,28.11572,24.41485,27.09512,30.45859,34.25746,33.0522,33.35008,30.47931,30.26633,30.05529,30.77192,29.50731,38.13964,37.82427,35.0848,38.8571,44.04776,44.08664,43.98322,48.0817,47.02851,42.95605,36.26739,34.18205,31.72539,31.63198,31.54025,27.0477,21.32171,21.28643,21.2355,20.45423,34.40681,37.40551,32.26955,34.75258,23.26299,26.86982,30.4101,37.22944,43.95585,45.38615,41.56978,47.59646,48.95596,50.20607,42.35324,52.81911,41.55919,4.09562,4.03944,0.00578,9.14798,8.6205,8.33043,7.76999,10.16,53.37318,55.32389,53.1235,52.14075,63.47959,59.84472,58.33852,58.75177,55.2942,51.56889,49.86894,54.19254,54.99249,53.63635,53.06932,53.11944,57.51607,62.83413,61.22758,58.37585,57.98363,62.80811,58.26797,59.32717,54.79437,58.49558,52.17969,60.02177,54.65497,53.31555,56.91409,52.54813,53.65731,49.07375,40.13195,42.50854,42.64755,42.66497,44.79083,43.86693,48.61601,54.76172,55.82324,44.31185,42.99036,43.35975,44.95186,45.45694,47.07174,46.28964,48.0409,48.35509,48.86285,47.17623,49.7271,48.85524,49.80412,44.70679,45.47253,40.92634,19.89013,19.04594,0.57518,7.73481,1.65248,57.30899,59.13983,62.76031,63.85772,65.12767,71.73202,67.11295,67.69866,68.19018,69.73282,69.08665,67.46747,0.00191,0.00108,0.00037,0.0013,0.00018,0.00223,0.0048,0.00793,0.00234,0.00061,41.42653,43.85344,48.65303,35.54402,41.80915,36.82153,10.42419,18.44787,20.03082,18.94737,18.0,16.93364,14.0625,12.57143,9.61538,7.97872,6.86275,5.7377,8.21147,45.82497,45.12429,40.96736,47.25352,48.44539,46.04563,43.30571,37.91593,36.21276,41.27971,44.8729,42.91554,43.31787,41.76644,41.80573,36.79563,13.67402,8.23317,4.33662,7.53809,0.0,1.66114,2.14234,1.66535,1.28374,26.20983,25.90415,27.06032,30.21966,32.54109,32.25471,32.88613,35.64437,33.40802,32.01175,59.12877,58.58304,57.17836,60.90394,63.5233,64.87789,64.27739,63.30609,62.59227,63.33562,64.54048,67.20573,69.0271,67.05817,65.1489,64.04396,62.3969,8.49521,47.14286,38.86013,42.78192,39.54948,32.55408,46.7,39.27,35.63,37.78,32.39,30.38,3.22766],\"yaxis\":\"y\"}],                        {\"coloraxis\":{\"colorbar\":{\"title\":{\"text\":\"Internet_Users_Pct\"}},\"colorscale\":[[0.0,\"#0d0887\"],[0.1111111111111111,\"#46039f\"],[0.2222222222222222,\"#7201a8\"],[0.3333333333333333,\"#9c179e\"],[0.4444444444444444,\"#bd3786\"],[0.5555555555555556,\"#d8576b\"],[0.6666666666666666,\"#ed7953\"],[0.7777777777777778,\"#fb9f3a\"],[0.8888888888888888,\"#fdca26\"],[1.0,\"#f0f921\"]]},\"legend\":{\"tracegroupgap\":0},\"margin\":{\"t\":60},\"template\":{\"data\":{\"bar\":[{\"error_x\":{\"color\":\"#2a3f5f\"},\"error_y\":{\"color\":\"#2a3f5f\"},\"marker\":{\"line\":{\"color\":\"#E5ECF6\",\"width\":0.5},\"pattern\":{\"fillmode\":\"overlay\",\"size\":10,\"solidity\":0.2}},\"type\":\"bar\"}],\"barpolar\":[{\"marker\":{\"line\":{\"color\":\"#E5ECF6\",\"width\":0.5},\"pattern\":{\"fillmode\":\"overlay\",\"size\":10,\"solidity\":0.2}},\"type\":\"barpolar\"}],\"carpet\":[{\"aaxis\":{\"endlinecolor\":\"#2a3f5f\",\"gridcolor\":\"white\",\"linecolor\":\"white\",\"minorgridcolor\":\"white\",\"startlinecolor\":\"#2a3f5f\"},\"baxis\":{\"endlinecolor\":\"#2a3f5f\",\"gridcolor\":\"white\",\"linecolor\":\"white\",\"minorgridcolor\":\"white\",\"startlinecolor\":\"#2a3f5f\"},\"type\":\"carpet\"}],\"choropleth\":[{\"colorbar\":{\"outlinewidth\":0,\"ticks\":\"\"},\"type\":\"choropleth\"}],\"contour\":[{\"colorbar\":{\"outlinewidth\":0,\"ticks\":\"\"},\"colorscale\":[[0.0,\"#0d0887\"],[0.1111111111111111,\"#46039f\"],[0.2222222222222222,\"#7201a8\"],[0.3333333333333333,\"#9c179e\"],[0.4444444444444444,\"#bd3786\"],[0.5555555555555556,\"#d8576b\"],[0.6666666666666666,\"#ed7953\"],[0.7777777777777778,\"#fb9f3a\"],[0.8888888888888888,\"#fdca26\"],[1.0,\"#f0f921\"]],\"type\":\"contour\"}],\"contourcarpet\":[{\"colorbar\":{\"outlinewidth\":0,\"ticks\":\"\"},\"type\":\"contourcarpet\"}],\"heatmap\":[{\"colorbar\":{\"outlinewidth\":0,\"ticks\":\"\"},\"colorscale\":[[0.0,\"#0d0887\"],[0.1111111111111111,\"#46039f\"],[0.2222222222222222,\"#7201a8\"],[0.3333333333333333,\"#9c179e\"],[0.4444444444444444,\"#bd3786\"],[0.5555555555555556,\"#d8576b\"],[0.6666666666666666,\"#ed7953\"],[0.7777777777777778,\"#fb9f3a\"],[0.8888888888888888,\"#fdca26\"],[1.0,\"#f0f921\"]],\"type\":\"heatmap\"}],\"heatmapgl\":[{\"colorbar\":{\"outlinewidth\":0,\"ticks\":\"\"},\"colorscale\":[[0.0,\"#0d0887\"],[0.1111111111111111,\"#46039f\"],[0.2222222222222222,\"#7201a8\"],[0.3333333333333333,\"#9c179e\"],[0.4444444444444444,\"#bd3786\"],[0.5555555555555556,\"#d8576b\"],[0.6666666666666666,\"#ed7953\"],[0.7777777777777778,\"#fb9f3a\"],[0.8888888888888888,\"#fdca26\"],[1.0,\"#f0f921\"]],\"type\":\"heatmapgl\"}],\"histogram\":[{\"marker\":{\"pattern\":{\"fillmode\":\"overlay\",\"size\":10,\"solidity\":0.2}},\"type\":\"histogram\"}],\"histogram2d\":[{\"colorbar\":{\"outlinewidth\":0,\"ticks\":\"\"},\"colorscale\":[[0.0,\"#0d0887\"],[0.1111111111111111,\"#46039f\"],[0.2222222222222222,\"#7201a8\"],[0.3333333333333333,\"#9c179e\"],[0.4444444444444444,\"#bd3786\"],[0.5555555555555556,\"#d8576b\"],[0.6666666666666666,\"#ed7953\"],[0.7777777777777778,\"#fb9f3a\"],[0.8888888888888888,\"#fdca26\"],[1.0,\"#f0f921\"]],\"type\":\"histogram2d\"}],\"histogram2dcontour\":[{\"colorbar\":{\"outlinewidth\":0,\"ticks\":\"\"},\"colorscale\":[[0.0,\"#0d0887\"],[0.1111111111111111,\"#46039f\"],[0.2222222222222222,\"#7201a8\"],[0.3333333333333333,\"#9c179e\"],[0.4444444444444444,\"#bd3786\"],[0.5555555555555556,\"#d8576b\"],[0.6666666666666666,\"#ed7953\"],[0.7777777777777778,\"#fb9f3a\"],[0.8888888888888888,\"#fdca26\"],[1.0,\"#f0f921\"]],\"type\":\"histogram2dcontour\"}],\"mesh3d\":[{\"colorbar\":{\"outlinewidth\":0,\"ticks\":\"\"},\"type\":\"mesh3d\"}],\"parcoords\":[{\"line\":{\"colorbar\":{\"outlinewidth\":0,\"ticks\":\"\"}},\"type\":\"parcoords\"}],\"pie\":[{\"automargin\":true,\"type\":\"pie\"}],\"scatter\":[{\"marker\":{\"colorbar\":{\"outlinewidth\":0,\"ticks\":\"\"}},\"type\":\"scatter\"}],\"scatter3d\":[{\"line\":{\"colorbar\":{\"outlinewidth\":0,\"ticks\":\"\"}},\"marker\":{\"colorbar\":{\"outlinewidth\":0,\"ticks\":\"\"}},\"type\":\"scatter3d\"}],\"scattercarpet\":[{\"marker\":{\"colorbar\":{\"outlinewidth\":0,\"ticks\":\"\"}},\"type\":\"scattercarpet\"}],\"scattergeo\":[{\"marker\":{\"colorbar\":{\"outlinewidth\":0,\"ticks\":\"\"}},\"type\":\"scattergeo\"}],\"scattergl\":[{\"marker\":{\"colorbar\":{\"outlinewidth\":0,\"ticks\":\"\"}},\"type\":\"scattergl\"}],\"scattermapbox\":[{\"marker\":{\"colorbar\":{\"outlinewidth\":0,\"ticks\":\"\"}},\"type\":\"scattermapbox\"}],\"scatterpolar\":[{\"marker\":{\"colorbar\":{\"outlinewidth\":0,\"ticks\":\"\"}},\"type\":\"scatterpolar\"}],\"scatterpolargl\":[{\"marker\":{\"colorbar\":{\"outlinewidth\":0,\"ticks\":\"\"}},\"type\":\"scatterpolargl\"}],\"scatterternary\":[{\"marker\":{\"colorbar\":{\"outlinewidth\":0,\"ticks\":\"\"}},\"type\":\"scatterternary\"}],\"surface\":[{\"colorbar\":{\"outlinewidth\":0,\"ticks\":\"\"},\"colorscale\":[[0.0,\"#0d0887\"],[0.1111111111111111,\"#46039f\"],[0.2222222222222222,\"#7201a8\"],[0.3333333333333333,\"#9c179e\"],[0.4444444444444444,\"#bd3786\"],[0.5555555555555556,\"#d8576b\"],[0.6666666666666666,\"#ed7953\"],[0.7777777777777778,\"#fb9f3a\"],[0.8888888888888888,\"#fdca26\"],[1.0,\"#f0f921\"]],\"type\":\"surface\"}],\"table\":[{\"cells\":{\"fill\":{\"color\":\"#EBF0F8\"},\"line\":{\"color\":\"white\"}},\"header\":{\"fill\":{\"color\":\"#C8D4E3\"},\"line\":{\"color\":\"white\"}},\"type\":\"table\"}]},\"layout\":{\"annotationdefaults\":{\"arrowcolor\":\"#2a3f5f\",\"arrowhead\":0,\"arrowwidth\":1},\"autotypenumbers\":\"strict\",\"coloraxis\":{\"colorbar\":{\"outlinewidth\":0,\"ticks\":\"\"}},\"colorscale\":{\"diverging\":[[0,\"#8e0152\"],[0.1,\"#c51b7d\"],[0.2,\"#de77ae\"],[0.3,\"#f1b6da\"],[0.4,\"#fde0ef\"],[0.5,\"#f7f7f7\"],[0.6,\"#e6f5d0\"],[0.7,\"#b8e186\"],[0.8,\"#7fbc41\"],[0.9,\"#4d9221\"],[1,\"#276419\"]],\"sequential\":[[0.0,\"#0d0887\"],[0.1111111111111111,\"#46039f\"],[0.2222222222222222,\"#7201a8\"],[0.3333333333333333,\"#9c179e\"],[0.4444444444444444,\"#bd3786\"],[0.5555555555555556,\"#d8576b\"],[0.6666666666666666,\"#ed7953\"],[0.7777777777777778,\"#fb9f3a\"],[0.8888888888888888,\"#fdca26\"],[1.0,\"#f0f921\"]],\"sequentialminus\":[[0.0,\"#0d0887\"],[0.1111111111111111,\"#46039f\"],[0.2222222222222222,\"#7201a8\"],[0.3333333333333333,\"#9c179e\"],[0.4444444444444444,\"#bd3786\"],[0.5555555555555556,\"#d8576b\"],[0.6666666666666666,\"#ed7953\"],[0.7777777777777778,\"#fb9f3a\"],[0.8888888888888888,\"#fdca26\"],[1.0,\"#f0f921\"]]},\"colorway\":[\"#636efa\",\"#EF553B\",\"#00cc96\",\"#ab63fa\",\"#FFA15A\",\"#19d3f3\",\"#FF6692\",\"#B6E880\",\"#FF97FF\",\"#FECB52\"],\"font\":{\"color\":\"#2a3f5f\"},\"geo\":{\"bgcolor\":\"white\",\"lakecolor\":\"white\",\"landcolor\":\"#E5ECF6\",\"showlakes\":true,\"showland\":true,\"subunitcolor\":\"white\"},\"hoverlabel\":{\"align\":\"left\"},\"hovermode\":\"closest\",\"mapbox\":{\"style\":\"light\"},\"paper_bgcolor\":\"white\",\"plot_bgcolor\":\"#E5ECF6\",\"polar\":{\"angularaxis\":{\"gridcolor\":\"white\",\"linecolor\":\"white\",\"ticks\":\"\"},\"bgcolor\":\"#E5ECF6\",\"radialaxis\":{\"gridcolor\":\"white\",\"linecolor\":\"white\",\"ticks\":\"\"}},\"scene\":{\"xaxis\":{\"backgroundcolor\":\"#E5ECF6\",\"gridcolor\":\"white\",\"gridwidth\":2,\"linecolor\":\"white\",\"showbackground\":true,\"ticks\":\"\",\"zerolinecolor\":\"white\"},\"yaxis\":{\"backgroundcolor\":\"#E5ECF6\",\"gridcolor\":\"white\",\"gridwidth\":2,\"linecolor\":\"white\",\"showbackground\":true,\"ticks\":\"\",\"zerolinecolor\":\"white\"},\"zaxis\":{\"backgroundcolor\":\"#E5ECF6\",\"gridcolor\":\"white\",\"gridwidth\":2,\"linecolor\":\"white\",\"showbackground\":true,\"ticks\":\"\",\"zerolinecolor\":\"white\"}},\"shapedefaults\":{\"line\":{\"color\":\"#2a3f5f\"}},\"ternary\":{\"aaxis\":{\"gridcolor\":\"white\",\"linecolor\":\"white\",\"ticks\":\"\"},\"baxis\":{\"gridcolor\":\"white\",\"linecolor\":\"white\",\"ticks\":\"\"},\"bgcolor\":\"#E5ECF6\",\"caxis\":{\"gridcolor\":\"white\",\"linecolor\":\"white\",\"ticks\":\"\"}},\"title\":{\"x\":0.05},\"xaxis\":{\"automargin\":true,\"gridcolor\":\"white\",\"linecolor\":\"white\",\"ticks\":\"\",\"title\":{\"standoff\":15},\"zerolinecolor\":\"white\",\"zerolinewidth\":2},\"yaxis\":{\"automargin\":true,\"gridcolor\":\"white\",\"linecolor\":\"white\",\"ticks\":\"\",\"title\":{\"standoff\":15},\"zerolinecolor\":\"white\",\"zerolinewidth\":2}}},\"xaxis\":{\"anchor\":\"y\",\"domain\":[0.0,1.0],\"title\":{\"text\":\"GDP_Per_Capita\"},\"type\":\"log\"},\"yaxis\":{\"anchor\":\"x\",\"domain\":[0.0,1.0],\"title\":{\"text\":\"Percent R&D - Business\"}}},                        {\"responsive\": true}                    ).then(function(){\n",
       "                            \n",
       "var gd = document.getElementById('e2a0e50f-8304-45ab-be10-f56fe213f1ce');\n",
       "var x = new MutationObserver(function (mutations, observer) {{\n",
       "        var display = window.getComputedStyle(gd).display;\n",
       "        if (!display || display === 'none') {{\n",
       "            console.log([gd, 'removed!']);\n",
       "            Plotly.purge(gd);\n",
       "            observer.disconnect();\n",
       "        }}\n",
       "}});\n",
       "\n",
       "// Listen for the removal of the full notebook cells\n",
       "var notebookContainer = gd.closest('#notebook-container');\n",
       "if (notebookContainer) {{\n",
       "    x.observe(notebookContainer, {childList: true});\n",
       "}}\n",
       "\n",
       "// Listen for the clearing of the current output cell\n",
       "var outputEl = gd.closest('.output');\n",
       "if (outputEl) {{\n",
       "    x.observe(outputEl, {childList: true});\n",
       "}}\n",
       "\n",
       "                        })                };                });            </script>        </div>"
      ]
     },
     "metadata": {},
     "output_type": "display_data"
    }
   ],
   "source": [
    "fig = px.scatter(r_d, x=\"GDP_Per_Capita\", y=\"Percent R&D - Business\", color=\"Internet_Users_Pct\", log_x=True)\n",
    "fig.show()"
   ]
  },
  {
   "cell_type": "code",
   "execution_count": 80,
   "id": "03465e4a",
   "metadata": {},
   "outputs": [
    {
     "data": {
      "text/plain": [
       "-0.39331204599940534"
      ]
     },
     "execution_count": 80,
     "metadata": {},
     "output_type": "execute_result"
    }
   ],
   "source": [
    "usa_rd = r_d[r_d['Country']=='United States']\n",
    "np.corrcoef(x=[usa_rd['GDP_Per_Capita']], y=[usa_rd['Percent R&D - Business']])[0,1]"
   ]
  },
  {
   "cell_type": "code",
   "execution_count": 95,
   "id": "808200d5",
   "metadata": {},
   "outputs": [
    {
     "data": {
      "application/vnd.plotly.v1+json": {
       "config": {
        "plotlyServerURL": "https://plot.ly"
       },
       "data": [
        {
         "hovertemplate": "Year=%{x}<br>Percent R&D - Business=%{y}<extra></extra>",
         "legendgroup": "",
         "line": {
          "color": "#636efa",
          "dash": "solid"
         },
         "marker": {
          "symbol": "circle"
         },
         "mode": "lines",
         "name": "",
         "orientation": "v",
         "showlegend": false,
         "type": "scatter",
         "x": [
          2012,
          2011,
          2010,
          2009,
          2008,
          2007,
          2006,
          2005,
          2004,
          2003,
          2002,
          2001,
          2000,
          1999,
          1998,
          1997,
          1996
         ],
         "xaxis": "x",
         "y": [
          59.12877,
          58.58304,
          57.17836,
          60.90394,
          63.5233,
          64.87789,
          64.27739,
          63.30609,
          62.59227,
          63.33562,
          64.54048,
          67.20573,
          69.0271,
          67.05817,
          65.1489,
          64.04396,
          62.3969
         ],
         "yaxis": "y"
        }
       ],
       "layout": {
        "legend": {
         "tracegroupgap": 0
        },
        "template": {
         "data": {
          "bar": [
           {
            "error_x": {
             "color": "#2a3f5f"
            },
            "error_y": {
             "color": "#2a3f5f"
            },
            "marker": {
             "line": {
              "color": "#E5ECF6",
              "width": 0.5
             },
             "pattern": {
              "fillmode": "overlay",
              "size": 10,
              "solidity": 0.2
             }
            },
            "type": "bar"
           }
          ],
          "barpolar": [
           {
            "marker": {
             "line": {
              "color": "#E5ECF6",
              "width": 0.5
             },
             "pattern": {
              "fillmode": "overlay",
              "size": 10,
              "solidity": 0.2
             }
            },
            "type": "barpolar"
           }
          ],
          "carpet": [
           {
            "aaxis": {
             "endlinecolor": "#2a3f5f",
             "gridcolor": "white",
             "linecolor": "white",
             "minorgridcolor": "white",
             "startlinecolor": "#2a3f5f"
            },
            "baxis": {
             "endlinecolor": "#2a3f5f",
             "gridcolor": "white",
             "linecolor": "white",
             "minorgridcolor": "white",
             "startlinecolor": "#2a3f5f"
            },
            "type": "carpet"
           }
          ],
          "choropleth": [
           {
            "colorbar": {
             "outlinewidth": 0,
             "ticks": ""
            },
            "type": "choropleth"
           }
          ],
          "contour": [
           {
            "colorbar": {
             "outlinewidth": 0,
             "ticks": ""
            },
            "colorscale": [
             [
              0,
              "#0d0887"
             ],
             [
              0.1111111111111111,
              "#46039f"
             ],
             [
              0.2222222222222222,
              "#7201a8"
             ],
             [
              0.3333333333333333,
              "#9c179e"
             ],
             [
              0.4444444444444444,
              "#bd3786"
             ],
             [
              0.5555555555555556,
              "#d8576b"
             ],
             [
              0.6666666666666666,
              "#ed7953"
             ],
             [
              0.7777777777777778,
              "#fb9f3a"
             ],
             [
              0.8888888888888888,
              "#fdca26"
             ],
             [
              1,
              "#f0f921"
             ]
            ],
            "type": "contour"
           }
          ],
          "contourcarpet": [
           {
            "colorbar": {
             "outlinewidth": 0,
             "ticks": ""
            },
            "type": "contourcarpet"
           }
          ],
          "heatmap": [
           {
            "colorbar": {
             "outlinewidth": 0,
             "ticks": ""
            },
            "colorscale": [
             [
              0,
              "#0d0887"
             ],
             [
              0.1111111111111111,
              "#46039f"
             ],
             [
              0.2222222222222222,
              "#7201a8"
             ],
             [
              0.3333333333333333,
              "#9c179e"
             ],
             [
              0.4444444444444444,
              "#bd3786"
             ],
             [
              0.5555555555555556,
              "#d8576b"
             ],
             [
              0.6666666666666666,
              "#ed7953"
             ],
             [
              0.7777777777777778,
              "#fb9f3a"
             ],
             [
              0.8888888888888888,
              "#fdca26"
             ],
             [
              1,
              "#f0f921"
             ]
            ],
            "type": "heatmap"
           }
          ],
          "heatmapgl": [
           {
            "colorbar": {
             "outlinewidth": 0,
             "ticks": ""
            },
            "colorscale": [
             [
              0,
              "#0d0887"
             ],
             [
              0.1111111111111111,
              "#46039f"
             ],
             [
              0.2222222222222222,
              "#7201a8"
             ],
             [
              0.3333333333333333,
              "#9c179e"
             ],
             [
              0.4444444444444444,
              "#bd3786"
             ],
             [
              0.5555555555555556,
              "#d8576b"
             ],
             [
              0.6666666666666666,
              "#ed7953"
             ],
             [
              0.7777777777777778,
              "#fb9f3a"
             ],
             [
              0.8888888888888888,
              "#fdca26"
             ],
             [
              1,
              "#f0f921"
             ]
            ],
            "type": "heatmapgl"
           }
          ],
          "histogram": [
           {
            "marker": {
             "pattern": {
              "fillmode": "overlay",
              "size": 10,
              "solidity": 0.2
             }
            },
            "type": "histogram"
           }
          ],
          "histogram2d": [
           {
            "colorbar": {
             "outlinewidth": 0,
             "ticks": ""
            },
            "colorscale": [
             [
              0,
              "#0d0887"
             ],
             [
              0.1111111111111111,
              "#46039f"
             ],
             [
              0.2222222222222222,
              "#7201a8"
             ],
             [
              0.3333333333333333,
              "#9c179e"
             ],
             [
              0.4444444444444444,
              "#bd3786"
             ],
             [
              0.5555555555555556,
              "#d8576b"
             ],
             [
              0.6666666666666666,
              "#ed7953"
             ],
             [
              0.7777777777777778,
              "#fb9f3a"
             ],
             [
              0.8888888888888888,
              "#fdca26"
             ],
             [
              1,
              "#f0f921"
             ]
            ],
            "type": "histogram2d"
           }
          ],
          "histogram2dcontour": [
           {
            "colorbar": {
             "outlinewidth": 0,
             "ticks": ""
            },
            "colorscale": [
             [
              0,
              "#0d0887"
             ],
             [
              0.1111111111111111,
              "#46039f"
             ],
             [
              0.2222222222222222,
              "#7201a8"
             ],
             [
              0.3333333333333333,
              "#9c179e"
             ],
             [
              0.4444444444444444,
              "#bd3786"
             ],
             [
              0.5555555555555556,
              "#d8576b"
             ],
             [
              0.6666666666666666,
              "#ed7953"
             ],
             [
              0.7777777777777778,
              "#fb9f3a"
             ],
             [
              0.8888888888888888,
              "#fdca26"
             ],
             [
              1,
              "#f0f921"
             ]
            ],
            "type": "histogram2dcontour"
           }
          ],
          "mesh3d": [
           {
            "colorbar": {
             "outlinewidth": 0,
             "ticks": ""
            },
            "type": "mesh3d"
           }
          ],
          "parcoords": [
           {
            "line": {
             "colorbar": {
              "outlinewidth": 0,
              "ticks": ""
             }
            },
            "type": "parcoords"
           }
          ],
          "pie": [
           {
            "automargin": true,
            "type": "pie"
           }
          ],
          "scatter": [
           {
            "marker": {
             "colorbar": {
              "outlinewidth": 0,
              "ticks": ""
             }
            },
            "type": "scatter"
           }
          ],
          "scatter3d": [
           {
            "line": {
             "colorbar": {
              "outlinewidth": 0,
              "ticks": ""
             }
            },
            "marker": {
             "colorbar": {
              "outlinewidth": 0,
              "ticks": ""
             }
            },
            "type": "scatter3d"
           }
          ],
          "scattercarpet": [
           {
            "marker": {
             "colorbar": {
              "outlinewidth": 0,
              "ticks": ""
             }
            },
            "type": "scattercarpet"
           }
          ],
          "scattergeo": [
           {
            "marker": {
             "colorbar": {
              "outlinewidth": 0,
              "ticks": ""
             }
            },
            "type": "scattergeo"
           }
          ],
          "scattergl": [
           {
            "marker": {
             "colorbar": {
              "outlinewidth": 0,
              "ticks": ""
             }
            },
            "type": "scattergl"
           }
          ],
          "scattermapbox": [
           {
            "marker": {
             "colorbar": {
              "outlinewidth": 0,
              "ticks": ""
             }
            },
            "type": "scattermapbox"
           }
          ],
          "scatterpolar": [
           {
            "marker": {
             "colorbar": {
              "outlinewidth": 0,
              "ticks": ""
             }
            },
            "type": "scatterpolar"
           }
          ],
          "scatterpolargl": [
           {
            "marker": {
             "colorbar": {
              "outlinewidth": 0,
              "ticks": ""
             }
            },
            "type": "scatterpolargl"
           }
          ],
          "scatterternary": [
           {
            "marker": {
             "colorbar": {
              "outlinewidth": 0,
              "ticks": ""
             }
            },
            "type": "scatterternary"
           }
          ],
          "surface": [
           {
            "colorbar": {
             "outlinewidth": 0,
             "ticks": ""
            },
            "colorscale": [
             [
              0,
              "#0d0887"
             ],
             [
              0.1111111111111111,
              "#46039f"
             ],
             [
              0.2222222222222222,
              "#7201a8"
             ],
             [
              0.3333333333333333,
              "#9c179e"
             ],
             [
              0.4444444444444444,
              "#bd3786"
             ],
             [
              0.5555555555555556,
              "#d8576b"
             ],
             [
              0.6666666666666666,
              "#ed7953"
             ],
             [
              0.7777777777777778,
              "#fb9f3a"
             ],
             [
              0.8888888888888888,
              "#fdca26"
             ],
             [
              1,
              "#f0f921"
             ]
            ],
            "type": "surface"
           }
          ],
          "table": [
           {
            "cells": {
             "fill": {
              "color": "#EBF0F8"
             },
             "line": {
              "color": "white"
             }
            },
            "header": {
             "fill": {
              "color": "#C8D4E3"
             },
             "line": {
              "color": "white"
             }
            },
            "type": "table"
           }
          ]
         },
         "layout": {
          "annotationdefaults": {
           "arrowcolor": "#2a3f5f",
           "arrowhead": 0,
           "arrowwidth": 1
          },
          "autotypenumbers": "strict",
          "coloraxis": {
           "colorbar": {
            "outlinewidth": 0,
            "ticks": ""
           }
          },
          "colorscale": {
           "diverging": [
            [
             0,
             "#8e0152"
            ],
            [
             0.1,
             "#c51b7d"
            ],
            [
             0.2,
             "#de77ae"
            ],
            [
             0.3,
             "#f1b6da"
            ],
            [
             0.4,
             "#fde0ef"
            ],
            [
             0.5,
             "#f7f7f7"
            ],
            [
             0.6,
             "#e6f5d0"
            ],
            [
             0.7,
             "#b8e186"
            ],
            [
             0.8,
             "#7fbc41"
            ],
            [
             0.9,
             "#4d9221"
            ],
            [
             1,
             "#276419"
            ]
           ],
           "sequential": [
            [
             0,
             "#0d0887"
            ],
            [
             0.1111111111111111,
             "#46039f"
            ],
            [
             0.2222222222222222,
             "#7201a8"
            ],
            [
             0.3333333333333333,
             "#9c179e"
            ],
            [
             0.4444444444444444,
             "#bd3786"
            ],
            [
             0.5555555555555556,
             "#d8576b"
            ],
            [
             0.6666666666666666,
             "#ed7953"
            ],
            [
             0.7777777777777778,
             "#fb9f3a"
            ],
            [
             0.8888888888888888,
             "#fdca26"
            ],
            [
             1,
             "#f0f921"
            ]
           ],
           "sequentialminus": [
            [
             0,
             "#0d0887"
            ],
            [
             0.1111111111111111,
             "#46039f"
            ],
            [
             0.2222222222222222,
             "#7201a8"
            ],
            [
             0.3333333333333333,
             "#9c179e"
            ],
            [
             0.4444444444444444,
             "#bd3786"
            ],
            [
             0.5555555555555556,
             "#d8576b"
            ],
            [
             0.6666666666666666,
             "#ed7953"
            ],
            [
             0.7777777777777778,
             "#fb9f3a"
            ],
            [
             0.8888888888888888,
             "#fdca26"
            ],
            [
             1,
             "#f0f921"
            ]
           ]
          },
          "colorway": [
           "#636efa",
           "#EF553B",
           "#00cc96",
           "#ab63fa",
           "#FFA15A",
           "#19d3f3",
           "#FF6692",
           "#B6E880",
           "#FF97FF",
           "#FECB52"
          ],
          "font": {
           "color": "#2a3f5f"
          },
          "geo": {
           "bgcolor": "white",
           "lakecolor": "white",
           "landcolor": "#E5ECF6",
           "showlakes": true,
           "showland": true,
           "subunitcolor": "white"
          },
          "hoverlabel": {
           "align": "left"
          },
          "hovermode": "closest",
          "mapbox": {
           "style": "light"
          },
          "paper_bgcolor": "white",
          "plot_bgcolor": "#E5ECF6",
          "polar": {
           "angularaxis": {
            "gridcolor": "white",
            "linecolor": "white",
            "ticks": ""
           },
           "bgcolor": "#E5ECF6",
           "radialaxis": {
            "gridcolor": "white",
            "linecolor": "white",
            "ticks": ""
           }
          },
          "scene": {
           "xaxis": {
            "backgroundcolor": "#E5ECF6",
            "gridcolor": "white",
            "gridwidth": 2,
            "linecolor": "white",
            "showbackground": true,
            "ticks": "",
            "zerolinecolor": "white"
           },
           "yaxis": {
            "backgroundcolor": "#E5ECF6",
            "gridcolor": "white",
            "gridwidth": 2,
            "linecolor": "white",
            "showbackground": true,
            "ticks": "",
            "zerolinecolor": "white"
           },
           "zaxis": {
            "backgroundcolor": "#E5ECF6",
            "gridcolor": "white",
            "gridwidth": 2,
            "linecolor": "white",
            "showbackground": true,
            "ticks": "",
            "zerolinecolor": "white"
           }
          },
          "shapedefaults": {
           "line": {
            "color": "#2a3f5f"
           }
          },
          "ternary": {
           "aaxis": {
            "gridcolor": "white",
            "linecolor": "white",
            "ticks": ""
           },
           "baxis": {
            "gridcolor": "white",
            "linecolor": "white",
            "ticks": ""
           },
           "bgcolor": "#E5ECF6",
           "caxis": {
            "gridcolor": "white",
            "linecolor": "white",
            "ticks": ""
           }
          },
          "title": {
           "x": 0.05
          },
          "xaxis": {
           "automargin": true,
           "gridcolor": "white",
           "linecolor": "white",
           "ticks": "",
           "title": {
            "standoff": 15
           },
           "zerolinecolor": "white",
           "zerolinewidth": 2
          },
          "yaxis": {
           "automargin": true,
           "gridcolor": "white",
           "linecolor": "white",
           "ticks": "",
           "title": {
            "standoff": 15
           },
           "zerolinecolor": "white",
           "zerolinewidth": 2
          }
         }
        },
        "title": {
         "text": "Trend in Business Contribution to R&D in the United States"
        },
        "xaxis": {
         "anchor": "y",
         "domain": [
          0,
          1
         ],
         "title": {
          "text": "Year"
         }
        },
        "yaxis": {
         "anchor": "x",
         "domain": [
          0,
          1
         ],
         "title": {
          "text": "Percent R&D - Business"
         }
        }
       }
      },
      "text/html": [
       "<div>                            <div id=\"7aef8788-8dda-4667-bc0b-7c7445f928ec\" class=\"plotly-graph-div\" style=\"height:525px; width:100%;\"></div>            <script type=\"text/javascript\">                require([\"plotly\"], function(Plotly) {                    window.PLOTLYENV=window.PLOTLYENV || {};                                    if (document.getElementById(\"7aef8788-8dda-4667-bc0b-7c7445f928ec\")) {                    Plotly.newPlot(                        \"7aef8788-8dda-4667-bc0b-7c7445f928ec\",                        [{\"hovertemplate\":\"Year=%{x}<br>Percent R&D - Business=%{y}<extra></extra>\",\"legendgroup\":\"\",\"line\":{\"color\":\"#636efa\",\"dash\":\"solid\"},\"marker\":{\"symbol\":\"circle\"},\"mode\":\"lines\",\"name\":\"\",\"orientation\":\"v\",\"showlegend\":false,\"type\":\"scatter\",\"x\":[2012,2011,2010,2009,2008,2007,2006,2005,2004,2003,2002,2001,2000,1999,1998,1997,1996],\"xaxis\":\"x\",\"y\":[59.12877,58.58304,57.17836,60.90394,63.5233,64.87789,64.27739,63.30609,62.59227,63.33562,64.54048,67.20573,69.0271,67.05817,65.1489,64.04396,62.3969],\"yaxis\":\"y\"}],                        {\"legend\":{\"tracegroupgap\":0},\"template\":{\"data\":{\"bar\":[{\"error_x\":{\"color\":\"#2a3f5f\"},\"error_y\":{\"color\":\"#2a3f5f\"},\"marker\":{\"line\":{\"color\":\"#E5ECF6\",\"width\":0.5},\"pattern\":{\"fillmode\":\"overlay\",\"size\":10,\"solidity\":0.2}},\"type\":\"bar\"}],\"barpolar\":[{\"marker\":{\"line\":{\"color\":\"#E5ECF6\",\"width\":0.5},\"pattern\":{\"fillmode\":\"overlay\",\"size\":10,\"solidity\":0.2}},\"type\":\"barpolar\"}],\"carpet\":[{\"aaxis\":{\"endlinecolor\":\"#2a3f5f\",\"gridcolor\":\"white\",\"linecolor\":\"white\",\"minorgridcolor\":\"white\",\"startlinecolor\":\"#2a3f5f\"},\"baxis\":{\"endlinecolor\":\"#2a3f5f\",\"gridcolor\":\"white\",\"linecolor\":\"white\",\"minorgridcolor\":\"white\",\"startlinecolor\":\"#2a3f5f\"},\"type\":\"carpet\"}],\"choropleth\":[{\"colorbar\":{\"outlinewidth\":0,\"ticks\":\"\"},\"type\":\"choropleth\"}],\"contour\":[{\"colorbar\":{\"outlinewidth\":0,\"ticks\":\"\"},\"colorscale\":[[0.0,\"#0d0887\"],[0.1111111111111111,\"#46039f\"],[0.2222222222222222,\"#7201a8\"],[0.3333333333333333,\"#9c179e\"],[0.4444444444444444,\"#bd3786\"],[0.5555555555555556,\"#d8576b\"],[0.6666666666666666,\"#ed7953\"],[0.7777777777777778,\"#fb9f3a\"],[0.8888888888888888,\"#fdca26\"],[1.0,\"#f0f921\"]],\"type\":\"contour\"}],\"contourcarpet\":[{\"colorbar\":{\"outlinewidth\":0,\"ticks\":\"\"},\"type\":\"contourcarpet\"}],\"heatmap\":[{\"colorbar\":{\"outlinewidth\":0,\"ticks\":\"\"},\"colorscale\":[[0.0,\"#0d0887\"],[0.1111111111111111,\"#46039f\"],[0.2222222222222222,\"#7201a8\"],[0.3333333333333333,\"#9c179e\"],[0.4444444444444444,\"#bd3786\"],[0.5555555555555556,\"#d8576b\"],[0.6666666666666666,\"#ed7953\"],[0.7777777777777778,\"#fb9f3a\"],[0.8888888888888888,\"#fdca26\"],[1.0,\"#f0f921\"]],\"type\":\"heatmap\"}],\"heatmapgl\":[{\"colorbar\":{\"outlinewidth\":0,\"ticks\":\"\"},\"colorscale\":[[0.0,\"#0d0887\"],[0.1111111111111111,\"#46039f\"],[0.2222222222222222,\"#7201a8\"],[0.3333333333333333,\"#9c179e\"],[0.4444444444444444,\"#bd3786\"],[0.5555555555555556,\"#d8576b\"],[0.6666666666666666,\"#ed7953\"],[0.7777777777777778,\"#fb9f3a\"],[0.8888888888888888,\"#fdca26\"],[1.0,\"#f0f921\"]],\"type\":\"heatmapgl\"}],\"histogram\":[{\"marker\":{\"pattern\":{\"fillmode\":\"overlay\",\"size\":10,\"solidity\":0.2}},\"type\":\"histogram\"}],\"histogram2d\":[{\"colorbar\":{\"outlinewidth\":0,\"ticks\":\"\"},\"colorscale\":[[0.0,\"#0d0887\"],[0.1111111111111111,\"#46039f\"],[0.2222222222222222,\"#7201a8\"],[0.3333333333333333,\"#9c179e\"],[0.4444444444444444,\"#bd3786\"],[0.5555555555555556,\"#d8576b\"],[0.6666666666666666,\"#ed7953\"],[0.7777777777777778,\"#fb9f3a\"],[0.8888888888888888,\"#fdca26\"],[1.0,\"#f0f921\"]],\"type\":\"histogram2d\"}],\"histogram2dcontour\":[{\"colorbar\":{\"outlinewidth\":0,\"ticks\":\"\"},\"colorscale\":[[0.0,\"#0d0887\"],[0.1111111111111111,\"#46039f\"],[0.2222222222222222,\"#7201a8\"],[0.3333333333333333,\"#9c179e\"],[0.4444444444444444,\"#bd3786\"],[0.5555555555555556,\"#d8576b\"],[0.6666666666666666,\"#ed7953\"],[0.7777777777777778,\"#fb9f3a\"],[0.8888888888888888,\"#fdca26\"],[1.0,\"#f0f921\"]],\"type\":\"histogram2dcontour\"}],\"mesh3d\":[{\"colorbar\":{\"outlinewidth\":0,\"ticks\":\"\"},\"type\":\"mesh3d\"}],\"parcoords\":[{\"line\":{\"colorbar\":{\"outlinewidth\":0,\"ticks\":\"\"}},\"type\":\"parcoords\"}],\"pie\":[{\"automargin\":true,\"type\":\"pie\"}],\"scatter\":[{\"marker\":{\"colorbar\":{\"outlinewidth\":0,\"ticks\":\"\"}},\"type\":\"scatter\"}],\"scatter3d\":[{\"line\":{\"colorbar\":{\"outlinewidth\":0,\"ticks\":\"\"}},\"marker\":{\"colorbar\":{\"outlinewidth\":0,\"ticks\":\"\"}},\"type\":\"scatter3d\"}],\"scattercarpet\":[{\"marker\":{\"colorbar\":{\"outlinewidth\":0,\"ticks\":\"\"}},\"type\":\"scattercarpet\"}],\"scattergeo\":[{\"marker\":{\"colorbar\":{\"outlinewidth\":0,\"ticks\":\"\"}},\"type\":\"scattergeo\"}],\"scattergl\":[{\"marker\":{\"colorbar\":{\"outlinewidth\":0,\"ticks\":\"\"}},\"type\":\"scattergl\"}],\"scattermapbox\":[{\"marker\":{\"colorbar\":{\"outlinewidth\":0,\"ticks\":\"\"}},\"type\":\"scattermapbox\"}],\"scatterpolar\":[{\"marker\":{\"colorbar\":{\"outlinewidth\":0,\"ticks\":\"\"}},\"type\":\"scatterpolar\"}],\"scatterpolargl\":[{\"marker\":{\"colorbar\":{\"outlinewidth\":0,\"ticks\":\"\"}},\"type\":\"scatterpolargl\"}],\"scatterternary\":[{\"marker\":{\"colorbar\":{\"outlinewidth\":0,\"ticks\":\"\"}},\"type\":\"scatterternary\"}],\"surface\":[{\"colorbar\":{\"outlinewidth\":0,\"ticks\":\"\"},\"colorscale\":[[0.0,\"#0d0887\"],[0.1111111111111111,\"#46039f\"],[0.2222222222222222,\"#7201a8\"],[0.3333333333333333,\"#9c179e\"],[0.4444444444444444,\"#bd3786\"],[0.5555555555555556,\"#d8576b\"],[0.6666666666666666,\"#ed7953\"],[0.7777777777777778,\"#fb9f3a\"],[0.8888888888888888,\"#fdca26\"],[1.0,\"#f0f921\"]],\"type\":\"surface\"}],\"table\":[{\"cells\":{\"fill\":{\"color\":\"#EBF0F8\"},\"line\":{\"color\":\"white\"}},\"header\":{\"fill\":{\"color\":\"#C8D4E3\"},\"line\":{\"color\":\"white\"}},\"type\":\"table\"}]},\"layout\":{\"annotationdefaults\":{\"arrowcolor\":\"#2a3f5f\",\"arrowhead\":0,\"arrowwidth\":1},\"autotypenumbers\":\"strict\",\"coloraxis\":{\"colorbar\":{\"outlinewidth\":0,\"ticks\":\"\"}},\"colorscale\":{\"diverging\":[[0,\"#8e0152\"],[0.1,\"#c51b7d\"],[0.2,\"#de77ae\"],[0.3,\"#f1b6da\"],[0.4,\"#fde0ef\"],[0.5,\"#f7f7f7\"],[0.6,\"#e6f5d0\"],[0.7,\"#b8e186\"],[0.8,\"#7fbc41\"],[0.9,\"#4d9221\"],[1,\"#276419\"]],\"sequential\":[[0.0,\"#0d0887\"],[0.1111111111111111,\"#46039f\"],[0.2222222222222222,\"#7201a8\"],[0.3333333333333333,\"#9c179e\"],[0.4444444444444444,\"#bd3786\"],[0.5555555555555556,\"#d8576b\"],[0.6666666666666666,\"#ed7953\"],[0.7777777777777778,\"#fb9f3a\"],[0.8888888888888888,\"#fdca26\"],[1.0,\"#f0f921\"]],\"sequentialminus\":[[0.0,\"#0d0887\"],[0.1111111111111111,\"#46039f\"],[0.2222222222222222,\"#7201a8\"],[0.3333333333333333,\"#9c179e\"],[0.4444444444444444,\"#bd3786\"],[0.5555555555555556,\"#d8576b\"],[0.6666666666666666,\"#ed7953\"],[0.7777777777777778,\"#fb9f3a\"],[0.8888888888888888,\"#fdca26\"],[1.0,\"#f0f921\"]]},\"colorway\":[\"#636efa\",\"#EF553B\",\"#00cc96\",\"#ab63fa\",\"#FFA15A\",\"#19d3f3\",\"#FF6692\",\"#B6E880\",\"#FF97FF\",\"#FECB52\"],\"font\":{\"color\":\"#2a3f5f\"},\"geo\":{\"bgcolor\":\"white\",\"lakecolor\":\"white\",\"landcolor\":\"#E5ECF6\",\"showlakes\":true,\"showland\":true,\"subunitcolor\":\"white\"},\"hoverlabel\":{\"align\":\"left\"},\"hovermode\":\"closest\",\"mapbox\":{\"style\":\"light\"},\"paper_bgcolor\":\"white\",\"plot_bgcolor\":\"#E5ECF6\",\"polar\":{\"angularaxis\":{\"gridcolor\":\"white\",\"linecolor\":\"white\",\"ticks\":\"\"},\"bgcolor\":\"#E5ECF6\",\"radialaxis\":{\"gridcolor\":\"white\",\"linecolor\":\"white\",\"ticks\":\"\"}},\"scene\":{\"xaxis\":{\"backgroundcolor\":\"#E5ECF6\",\"gridcolor\":\"white\",\"gridwidth\":2,\"linecolor\":\"white\",\"showbackground\":true,\"ticks\":\"\",\"zerolinecolor\":\"white\"},\"yaxis\":{\"backgroundcolor\":\"#E5ECF6\",\"gridcolor\":\"white\",\"gridwidth\":2,\"linecolor\":\"white\",\"showbackground\":true,\"ticks\":\"\",\"zerolinecolor\":\"white\"},\"zaxis\":{\"backgroundcolor\":\"#E5ECF6\",\"gridcolor\":\"white\",\"gridwidth\":2,\"linecolor\":\"white\",\"showbackground\":true,\"ticks\":\"\",\"zerolinecolor\":\"white\"}},\"shapedefaults\":{\"line\":{\"color\":\"#2a3f5f\"}},\"ternary\":{\"aaxis\":{\"gridcolor\":\"white\",\"linecolor\":\"white\",\"ticks\":\"\"},\"baxis\":{\"gridcolor\":\"white\",\"linecolor\":\"white\",\"ticks\":\"\"},\"bgcolor\":\"#E5ECF6\",\"caxis\":{\"gridcolor\":\"white\",\"linecolor\":\"white\",\"ticks\":\"\"}},\"title\":{\"x\":0.05},\"xaxis\":{\"automargin\":true,\"gridcolor\":\"white\",\"linecolor\":\"white\",\"ticks\":\"\",\"title\":{\"standoff\":15},\"zerolinecolor\":\"white\",\"zerolinewidth\":2},\"yaxis\":{\"automargin\":true,\"gridcolor\":\"white\",\"linecolor\":\"white\",\"ticks\":\"\",\"title\":{\"standoff\":15},\"zerolinecolor\":\"white\",\"zerolinewidth\":2}}},\"title\":{\"text\":\"Trend in Business Contribution to R&D in the United States\"},\"xaxis\":{\"anchor\":\"y\",\"domain\":[0.0,1.0],\"title\":{\"text\":\"Year\"}},\"yaxis\":{\"anchor\":\"x\",\"domain\":[0.0,1.0],\"title\":{\"text\":\"Percent R&D - Business\"}}},                        {\"responsive\": true}                    ).then(function(){\n",
       "                            \n",
       "var gd = document.getElementById('7aef8788-8dda-4667-bc0b-7c7445f928ec');\n",
       "var x = new MutationObserver(function (mutations, observer) {{\n",
       "        var display = window.getComputedStyle(gd).display;\n",
       "        if (!display || display === 'none') {{\n",
       "            console.log([gd, 'removed!']);\n",
       "            Plotly.purge(gd);\n",
       "            observer.disconnect();\n",
       "        }}\n",
       "}});\n",
       "\n",
       "// Listen for the removal of the full notebook cells\n",
       "var notebookContainer = gd.closest('#notebook-container');\n",
       "if (notebookContainer) {{\n",
       "    x.observe(notebookContainer, {childList: true});\n",
       "}}\n",
       "\n",
       "// Listen for the clearing of the current output cell\n",
       "var outputEl = gd.closest('.output');\n",
       "if (outputEl) {{\n",
       "    x.observe(outputEl, {childList: true});\n",
       "}}\n",
       "\n",
       "                        })                };                });            </script>        </div>"
      ]
     },
     "metadata": {},
     "output_type": "display_data"
    }
   ],
   "source": [
    "fig = px.line(usa_rd, x=\"Year\", y=\"Percent R&D - Business\", title='Trend in Business Contribution to R&D in the United States')\n",
    "fig.show()"
   ]
  },
  {
   "cell_type": "code",
   "execution_count": 64,
   "id": "7a185974",
   "metadata": {},
   "outputs": [
    {
     "data": {
      "image/png": "[encoded data removed]",
      "text/plain": [
       "<Figure size 864x432 with 2 Axes>"
      ]
     },
     "metadata": {},
     "output_type": "display_data"
    }
   ],
   "source": [
    "fig, ax = plt.subplots(figsize=(12,6))\n",
    "lineplot = sns.lineplot(x=usa_rd['Year'], y=usa_rd['GDP_Per_Capita'], data=usa_rd, \n",
    "                        label = 'GDP Per Capita', legend=False)\n",
    "sns.despine()\n",
    "plt.ylabel('GDP Per Capita')\n",
    "plt.title('GDP Per Capita vs Percent R&D Business in USA', pad=20);\n",
    "\n",
    "ax2 = ax.twinx()\n",
    "lineplot2 = sns.lineplot(x=usa_rd['Year'], y=usa_rd['Percent R&D - Business'], ax=ax2, color=\"r\", \n",
    "                         label ='Percent R&D - Business', legend=False) \n",
    "sns.despine(right=False)\n",
    "plt.ylabel('Percent R&D - Business')\n",
    "ax.figure.legend();"
   ]
  },
  {
   "cell_type": "code",
   "execution_count": 65,
   "id": "b597b97b",
   "metadata": {},
   "outputs": [
    {
     "data": {
      "image/png": "[encoded data removed]",
      "text/plain": [
       "<Figure size 864x432 with 2 Axes>"
      ]
     },
     "metadata": {},
     "output_type": "display_data"
    }
   ],
   "source": [
    "fig, ax = plt.subplots(figsize=(12,6))\n",
    "lineplot = sns.lineplot(x=usa_rd['Year'], y=usa_rd['Internet_Users_Pct'], data=usa_rd, \n",
    "                        label = 'Internet_Users_Pct', legend=False)\n",
    "sns.despine()\n",
    "plt.ylabel('Internet Users Pct')\n",
    "plt.title('Percent Internet Users vs Percent R&D Business in USA', pad=20);\n",
    "\n",
    "ax2 = ax.twinx()\n",
    "lineplot2 = sns.lineplot(x=usa_rd['Year'], y=usa_rd['Percent R&D - Business'], ax=ax2, color=\"r\", \n",
    "                         label ='Percent R&D - Business', legend=False) \n",
    "sns.despine(right=False)\n",
    "plt.ylabel('Percent R&D - Business')\n",
    "ax.figure.legend();"
   ]
  },
  {
   "cell_type": "code",
   "execution_count": 66,
   "id": "cd3b0044",
   "metadata": {},
   "outputs": [
    {
     "data": {
      "image/png": "[encoded data removed]",
      "text/plain": [
       "<Figure size 864x432 with 1 Axes>"
      ]
     },
     "metadata": {},
     "output_type": "display_data"
    }
   ],
   "source": [
    "rdtrend = r_d.groupby('Year', as_index=False)['Percent R&D - Business'].mean()\n",
    "rdtrend.plot(kind='line', x='Year', y='Percent R&D - Business', title='Average Business Investment in R&D Over Time');"
   ]
  },
  {
   "cell_type": "code",
   "execution_count": 67,
   "id": "2ee53f56",
   "metadata": {},
   "outputs": [
    {
     "data": {
      "image/png": "[encoded data removed]",
      "text/plain": [
       "<Figure size 864x432 with 1 Axes>"
      ]
     },
     "metadata": {},
     "output_type": "display_data"
    }
   ],
   "source": [
    "sns.boxplot(x=r_d['Continent'], y=r_d['Percent R&D - Business']);"
   ]
  },
  {
   "cell_type": "code",
   "execution_count": 68,
   "id": "cb0825f8",
   "metadata": {},
   "outputs": [
    {
     "data": {
      "image/png": "[encoded data removed]",
      "text/plain": [
       "<Figure size 648x216 with 3 Axes>"
      ]
     },
     "metadata": {},
     "output_type": "display_data"
    }
   ],
   "source": [
    "rd_grid = sns.FacetGrid(r_d[r_d['Country'].isin(['Luxembourg', 'Singapore', 'United States'])], col='Country')\n",
    "rd_grid = rd_grid.map(sns.lineplot, 'Year', 'Percent R&D - Business')"
   ]
  },
  {
   "cell_type": "code",
   "execution_count": 69,
   "id": "81847fb9",
   "metadata": {},
   "outputs": [
    {
     "data": {
      "text/html": [
       "<div>\n",
       "<style scoped>\n",
       "    .dataframe tbody tr th:only-of-type {\n",
       "        vertical-align: middle;\n",
       "    }\n",
       "\n",
       "    .dataframe tbody tr th {\n",
       "        vertical-align: top;\n",
       "    }\n",
       "\n",
       "    .dataframe thead th {\n",
       "        text-align: right;\n",
       "    }\n",
       "</style>\n",
       "<table border=\"1\" class=\"dataframe\">\n",
       "  <thead>\n",
       "    <tr style=\"text-align: right;\">\n",
       "      <th></th>\n",
       "      <th>Country</th>\n",
       "      <th>Year</th>\n",
       "      <th>Percent R&amp;D - Business</th>\n",
       "      <th>GDP_Per_Capita</th>\n",
       "      <th>Continent</th>\n",
       "      <th>Internet_Users_Pct</th>\n",
       "      <th>log_gdp</th>\n",
       "    </tr>\n",
       "  </thead>\n",
       "  <tbody>\n",
       "    <tr>\n",
       "      <th>458</th>\n",
       "      <td>Luxembourg</td>\n",
       "      <td>2000</td>\n",
       "      <td>90.68425</td>\n",
       "      <td>96207.228651</td>\n",
       "      <td>Europe</td>\n",
       "      <td>22.887328</td>\n",
       "      <td>11.474260</td>\n",
       "    </tr>\n",
       "    <tr>\n",
       "      <th>463</th>\n",
       "      <td>Malaysia</td>\n",
       "      <td>2006</td>\n",
       "      <td>84.49009</td>\n",
       "      <td>18752.540783</td>\n",
       "      <td>Asia</td>\n",
       "      <td>51.637989</td>\n",
       "      <td>9.839085</td>\n",
       "    </tr>\n",
       "    <tr>\n",
       "      <th>457</th>\n",
       "      <td>Luxembourg</td>\n",
       "      <td>2003</td>\n",
       "      <td>80.38985</td>\n",
       "      <td>100546.540939</td>\n",
       "      <td>Europe</td>\n",
       "      <td>54.550000</td>\n",
       "      <td>11.518376</td>\n",
       "    </tr>\n",
       "    <tr>\n",
       "      <th>456</th>\n",
       "      <td>Luxembourg</td>\n",
       "      <td>2005</td>\n",
       "      <td>79.72458</td>\n",
       "      <td>104357.564987</td>\n",
       "      <td>Europe</td>\n",
       "      <td>70.000000</td>\n",
       "      <td>11.555578</td>\n",
       "    </tr>\n",
       "    <tr>\n",
       "      <th>377</th>\n",
       "      <td>Japan</td>\n",
       "      <td>2008</td>\n",
       "      <td>78.17249</td>\n",
       "      <td>38260.091084</td>\n",
       "      <td>Asia</td>\n",
       "      <td>75.400000</td>\n",
       "      <td>10.552163</td>\n",
       "    </tr>\n",
       "    <tr>\n",
       "      <th>378</th>\n",
       "      <td>Japan</td>\n",
       "      <td>2007</td>\n",
       "      <td>77.70540</td>\n",
       "      <td>38701.843543</td>\n",
       "      <td>Asia</td>\n",
       "      <td>74.300000</td>\n",
       "      <td>10.563643</td>\n",
       "    </tr>\n",
       "    <tr>\n",
       "      <th>379</th>\n",
       "      <td>Japan</td>\n",
       "      <td>2006</td>\n",
       "      <td>77.06944</td>\n",
       "      <td>38115.834948</td>\n",
       "      <td>Asia</td>\n",
       "      <td>68.685270</td>\n",
       "      <td>10.548385</td>\n",
       "    </tr>\n",
       "    <tr>\n",
       "      <th>374</th>\n",
       "      <td>Japan</td>\n",
       "      <td>2011</td>\n",
       "      <td>76.52337</td>\n",
       "      <td>37728.904981</td>\n",
       "      <td>Asia</td>\n",
       "      <td>79.054114</td>\n",
       "      <td>10.538182</td>\n",
       "    </tr>\n",
       "    <tr>\n",
       "      <th>380</th>\n",
       "      <td>Japan</td>\n",
       "      <td>2005</td>\n",
       "      <td>76.12156</td>\n",
       "      <td>37605.990447</td>\n",
       "      <td>Asia</td>\n",
       "      <td>66.921066</td>\n",
       "      <td>10.534919</td>\n",
       "    </tr>\n",
       "    <tr>\n",
       "      <th>455</th>\n",
       "      <td>Luxembourg</td>\n",
       "      <td>2007</td>\n",
       "      <td>76.01420</td>\n",
       "      <td>115256.016699</td>\n",
       "      <td>Europe</td>\n",
       "      <td>78.920000</td>\n",
       "      <td>11.654911</td>\n",
       "    </tr>\n",
       "  </tbody>\n",
       "</table>\n",
       "</div>"
      ],
      "text/plain": [
       "        Country  Year  Percent R&D - Business  GDP_Per_Capita Continent  \\\n",
       "458  Luxembourg  2000                90.68425    96207.228651    Europe   \n",
       "463    Malaysia  2006                84.49009    18752.540783      Asia   \n",
       "457  Luxembourg  2003                80.38985   100546.540939    Europe   \n",
       "456  Luxembourg  2005                79.72458   104357.564987    Europe   \n",
       "377       Japan  2008                78.17249    38260.091084      Asia   \n",
       "378       Japan  2007                77.70540    38701.843543      Asia   \n",
       "379       Japan  2006                77.06944    38115.834948      Asia   \n",
       "374       Japan  2011                76.52337    37728.904981      Asia   \n",
       "380       Japan  2005                76.12156    37605.990447      Asia   \n",
       "455  Luxembourg  2007                76.01420   115256.016699    Europe   \n",
       "\n",
       "     Internet_Users_Pct    log_gdp  \n",
       "458           22.887328  11.474260  \n",
       "463           51.637989   9.839085  \n",
       "457           54.550000  11.518376  \n",
       "456           70.000000  11.555578  \n",
       "377           75.400000  10.552163  \n",
       "378           74.300000  10.563643  \n",
       "379           68.685270  10.548385  \n",
       "374           79.054114  10.538182  \n",
       "380           66.921066  10.534919  \n",
       "455           78.920000  11.654911  "
      ]
     },
     "execution_count": 69,
     "metadata": {},
     "output_type": "execute_result"
    }
   ],
   "source": [
    "r_d.sort_values(by=['Percent R&D - Business'], ascending=False).head(n=10)"
   ]
  },
  {
   "cell_type": "code",
   "execution_count": 70,
   "id": "09fe734f",
   "metadata": {
    "scrolled": true
   },
   "outputs": [
    {
     "data": {
      "image/png": "[encoded data removed]",
      "text/plain": [
       "<Figure size 648x216 with 3 Axes>"
      ]
     },
     "metadata": {},
     "output_type": "display_data"
    }
   ],
   "source": [
    "rd_grid2 = sns.FacetGrid(r_d[r_d['Country'].isin(['Luxembourg', 'Malaysia', 'Japan'])], col='Country')\n",
    "rd_grid2 = rd_grid2.map(sns.lineplot, 'Year', 'Percent R&D - Business')"
   ]
  },
  {
   "cell_type": "code",
   "execution_count": null,
   "id": "507dea79",
   "metadata": {},
   "outputs": [],
   "source": []
  }
 ],
 "metadata": {
  "kernelspec": {
   "display_name": "Python 3",
   "language": "python",
   "name": "python3"
  },
  "language_info": {
   "codemirror_mode": {
    "name": "ipython",
    "version": 3
   },
   "file_extension": ".py",
   "mimetype": "text/x-python",
   "name": "python",
   "nbconvert_exporter": "python",
   "pygments_lexer": "ipython3",
   "version": "3.8.8"
  }
 },
 "nbformat": 4,
 "nbformat_minor": 5
}
