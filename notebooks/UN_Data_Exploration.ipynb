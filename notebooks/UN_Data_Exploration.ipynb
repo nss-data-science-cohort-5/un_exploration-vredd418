{
 "cells": [
  {
   "cell_type": "markdown",
   "id": "aff0510a",
   "metadata": {},
   "source": [
    "import"
   ]
  },
  {
   "cell_type": "code",
   "execution_count": 1,
   "id": "0b312c1d",
   "metadata": {},
   "outputs": [],
   "source": [
    "import pandas as pd\n",
    "import numpy as np\n",
    "import matplotlib.pyplot as plt\n",
    "import seaborn as sns\n",
    "%matplotlib inline"
   ]
  },
  {
   "cell_type": "markdown",
   "id": "7e9d267d",
   "metadata": {},
   "source": [
    "read in gdp csv file, skip last 2 rows"
   ]
  },
  {
   "cell_type": "code",
   "execution_count": 2,
   "id": "7afc1afa",
   "metadata": {},
   "outputs": [],
   "source": [
    "gdp_df = pd.read_csv(\"C:/Users/vredd/Documents/data_science_projects/un_exploration-vredd418/data/gdp_per_capita.csv\", skipfooter=2, engine='python')"
   ]
  },
  {
   "cell_type": "markdown",
   "id": "968c5227",
   "metadata": {},
   "source": [
    "print first 10 rows"
   ]
  },
  {
   "cell_type": "code",
   "execution_count": 3,
   "id": "9f0b9964",
   "metadata": {},
   "outputs": [
    {
     "name": "stdout",
     "output_type": "stream",
     "text": [
      "  Country or Area  Year        Value  Value Footnotes\n",
      "0     Afghanistan  2019  2065.036398              NaN\n",
      "1     Afghanistan  2018  2033.779002              NaN\n",
      "2     Afghanistan  2017  2058.383832              NaN\n",
      "3     Afghanistan  2016  2057.062164              NaN\n",
      "4     Afghanistan  2015  2068.265904              NaN\n",
      "5     Afghanistan  2014  2102.385234              NaN\n",
      "6     Afghanistan  2013  2116.465454              NaN\n",
      "7     Afghanistan  2012  2075.491747              NaN\n",
      "8     Afghanistan  2011  1904.559799              NaN\n",
      "9     Afghanistan  2010  1957.029338              NaN\n"
     ]
    }
   ],
   "source": [
    "print(gdp_df[0:10])"
   ]
  },
  {
   "cell_type": "markdown",
   "id": "32e5ac4c",
   "metadata": {},
   "source": [
    "print last 5 rows, last 2 rows are not needed"
   ]
  },
  {
   "cell_type": "code",
   "execution_count": 4,
   "id": "9e185d68",
   "metadata": {},
   "outputs": [
    {
     "name": "stdout",
     "output_type": "stream",
     "text": [
      "     Country or Area  Year        Value  Value Footnotes\n",
      "6862        Zimbabwe  1995  3226.413930              NaN\n",
      "6863        Zimbabwe  1994  3263.934978              NaN\n",
      "6864        Zimbabwe  1993  3033.504852              NaN\n",
      "6865        Zimbabwe  1992  3054.889178              NaN\n",
      "6866        Zimbabwe  1991  3426.598094              NaN\n",
      "6867        Zimbabwe  1990  3324.348171              NaN\n"
     ]
    }
   ],
   "source": [
    "print(gdp_df[-6:])"
   ]
  },
  {
   "cell_type": "markdown",
   "id": "fe64c2ea",
   "metadata": {},
   "source": [
    "drop Value Footnotes column, rename other columns"
   ]
  },
  {
   "cell_type": "code",
   "execution_count": 5,
   "id": "d4bcb9da",
   "metadata": {},
   "outputs": [],
   "source": [
    "gdp_df.drop(columns='Value Footnotes', inplace=True)"
   ]
  },
  {
   "cell_type": "code",
   "execution_count": 6,
   "id": "db7336e8",
   "metadata": {},
   "outputs": [],
   "source": [
    "gdp_df = gdp_df.rename(columns={'Country or Area':'Country', 'Value':'GDP_Per_Capita'})"
   ]
  },
  {
   "cell_type": "markdown",
   "id": "fa633f33",
   "metadata": {},
   "source": [
    "How many rows and columns does gdp_df have? What are the data types of its columns? If any of the columns are not the expected types, figure out why and fix it."
   ]
  },
  {
   "cell_type": "code",
   "execution_count": 7,
   "id": "51f6b24c",
   "metadata": {},
   "outputs": [
    {
     "data": {
      "text/plain": [
       "(6868, 3)"
      ]
     },
     "execution_count": 7,
     "metadata": {},
     "output_type": "execute_result"
    }
   ],
   "source": [
    "gdp_df.shape"
   ]
  },
  {
   "cell_type": "code",
   "execution_count": 8,
   "id": "2da004f8",
   "metadata": {},
   "outputs": [
    {
     "data": {
      "text/plain": [
       "Country            object\n",
       "Year                int64\n",
       "GDP_Per_Capita    float64\n",
       "dtype: object"
      ]
     },
     "execution_count": 8,
     "metadata": {},
     "output_type": "execute_result"
    }
   ],
   "source": [
    "gdp_df.dtypes"
   ]
  },
  {
   "cell_type": "code",
   "execution_count": 9,
   "id": "54ff757e",
   "metadata": {},
   "outputs": [],
   "source": [
    "gdp_df['Country'] = gdp_df['Country'].astype(str)"
   ]
  },
  {
   "cell_type": "code",
   "execution_count": 10,
   "id": "0628a689",
   "metadata": {},
   "outputs": [
    {
     "data": {
      "text/plain": [
       "Country            object\n",
       "Year                int64\n",
       "GDP_Per_Capita    float64\n",
       "dtype: object"
      ]
     },
     "execution_count": 10,
     "metadata": {},
     "output_type": "execute_result"
    }
   ],
   "source": [
    "gdp_df.dtypes"
   ]
  },
  {
   "cell_type": "markdown",
   "id": "a9d23033",
   "metadata": {},
   "source": [
    "Which years are represented in this dataset? Take a look at the number of observations per year. What do you notice?"
   ]
  },
  {
   "cell_type": "code",
   "execution_count": 11,
   "id": "b4691108",
   "metadata": {},
   "outputs": [
    {
     "name": "stdout",
     "output_type": "stream",
     "text": [
      "[2019 2018 2017 2016 2015 2014 2013 2012 2011 2010 2009 2008 2007 2006\n",
      " 2005 2004 2003 2002 2001 2000 1999 1998 1997 1996 1995 1994 1993 1992\n",
      " 1991 1990]\n"
     ]
    }
   ],
   "source": [
    "print(gdp_df['Year'].unique())"
   ]
  },
  {
   "cell_type": "code",
   "execution_count": 12,
   "id": "8815fcef",
   "metadata": {},
   "outputs": [
    {
     "name": "stdout",
     "output_type": "stream",
     "text": [
      "2013    238\n",
      "2014    238\n",
      "2016    238\n",
      "2015    238\n",
      "2017    238\n",
      "2012    237\n",
      "2018    237\n",
      "2011    237\n",
      "2009    236\n",
      "2010    236\n",
      "2007    235\n",
      "2008    235\n",
      "2006    235\n",
      "2004    234\n",
      "2005    234\n",
      "2002    233\n",
      "2003    233\n",
      "2001    232\n",
      "2019    231\n",
      "2000    231\n",
      "1999    224\n",
      "1998    223\n",
      "1997    223\n",
      "1996    221\n",
      "1995    221\n",
      "1994    214\n",
      "1993    212\n",
      "1992    209\n",
      "1991    208\n",
      "1990    207\n",
      "Name: Year, dtype: int64\n"
     ]
    }
   ],
   "source": [
    "print(gdp_df['Year'].value_counts())"
   ]
  },
  {
   "cell_type": "markdown",
   "id": "ad640d77",
   "metadata": {},
   "source": [
    "How many countries are represented in this dataset? Which countries are least represented in the dataset? Why do you think these countries have so few observations?"
   ]
  },
  {
   "cell_type": "code",
   "execution_count": 13,
   "id": "0cff6557",
   "metadata": {},
   "outputs": [
    {
     "name": "stdout",
     "output_type": "stream",
     "text": [
      "238\n"
     ]
    }
   ],
   "source": [
    "print(gdp_df['Country'].nunique())"
   ]
  },
  {
   "cell_type": "code",
   "execution_count": 14,
   "id": "d5899588",
   "metadata": {},
   "outputs": [
    {
     "name": "stdout",
     "output_type": "stream",
     "text": [
      "France                       30\n",
      "Chad                         30\n",
      "Macao SAR, China             30\n",
      "Benin                        30\n",
      "East Asia & Pacific          30\n",
      "                             ..\n",
      "Nauru                        16\n",
      "Cayman Islands               13\n",
      "Sint Maarten (Dutch part)    10\n",
      "Turks and Caicos Islands      9\n",
      "Djibouti                      7\n",
      "Name: Country, Length: 238, dtype: int64\n"
     ]
    }
   ],
   "source": [
    "print(gdp_df['Country'].value_counts())"
   ]
  },
  {
   "cell_type": "markdown",
   "id": "1036a1ad",
   "metadata": {},
   "source": [
    "Create a new dataframe by subsetting gdp_df to just the year 2014. Call this new dataframe gdp_2014."
   ]
  },
  {
   "cell_type": "code",
   "execution_count": 15,
   "id": "38b7551f",
   "metadata": {},
   "outputs": [],
   "source": [
    "gdp_2014 = gdp_df[gdp_df['Year']==2014]"
   ]
  },
  {
   "cell_type": "markdown",
   "id": "1c7011d5",
   "metadata": {},
   "source": [
    "Use .describe() to find the summary statistics for GDP per capita in 2014."
   ]
  },
  {
   "cell_type": "code",
   "execution_count": 16,
   "id": "d5d94ba3",
   "metadata": {},
   "outputs": [
    {
     "data": {
      "text/html": [
       "<div>\n",
       "<style scoped>\n",
       "    .dataframe tbody tr th:only-of-type {\n",
       "        vertical-align: middle;\n",
       "    }\n",
       "\n",
       "    .dataframe tbody tr th {\n",
       "        vertical-align: top;\n",
       "    }\n",
       "\n",
       "    .dataframe thead th {\n",
       "        text-align: right;\n",
       "    }\n",
       "</style>\n",
       "<table border=\"1\" class=\"dataframe\">\n",
       "  <thead>\n",
       "    <tr style=\"text-align: right;\">\n",
       "      <th></th>\n",
       "      <th>Year</th>\n",
       "      <th>GDP_Per_Capita</th>\n",
       "    </tr>\n",
       "  </thead>\n",
       "  <tbody>\n",
       "    <tr>\n",
       "      <th>count</th>\n",
       "      <td>238.0</td>\n",
       "      <td>238.000000</td>\n",
       "    </tr>\n",
       "    <tr>\n",
       "      <th>mean</th>\n",
       "      <td>2014.0</td>\n",
       "      <td>19766.710348</td>\n",
       "    </tr>\n",
       "    <tr>\n",
       "      <th>std</th>\n",
       "      <td>0.0</td>\n",
       "      <td>20983.869623</td>\n",
       "    </tr>\n",
       "    <tr>\n",
       "      <th>min</th>\n",
       "      <td>2014.0</td>\n",
       "      <td>822.610458</td>\n",
       "    </tr>\n",
       "    <tr>\n",
       "      <th>25%</th>\n",
       "      <td>2014.0</td>\n",
       "      <td>4753.110934</td>\n",
       "    </tr>\n",
       "    <tr>\n",
       "      <th>50%</th>\n",
       "      <td>2014.0</td>\n",
       "      <td>12209.385755</td>\n",
       "    </tr>\n",
       "    <tr>\n",
       "      <th>75%</th>\n",
       "      <td>2014.0</td>\n",
       "      <td>26803.610474</td>\n",
       "    </tr>\n",
       "    <tr>\n",
       "      <th>max</th>\n",
       "      <td>2014.0</td>\n",
       "      <td>156514.133850</td>\n",
       "    </tr>\n",
       "  </tbody>\n",
       "</table>\n",
       "</div>"
      ],
      "text/plain": [
       "         Year  GDP_Per_Capita\n",
       "count   238.0      238.000000\n",
       "mean   2014.0    19766.710348\n",
       "std       0.0    20983.869623\n",
       "min    2014.0      822.610458\n",
       "25%    2014.0     4753.110934\n",
       "50%    2014.0    12209.385755\n",
       "75%    2014.0    26803.610474\n",
       "max    2014.0   156514.133850"
      ]
     },
     "execution_count": 16,
     "metadata": {},
     "output_type": "execute_result"
    }
   ],
   "source": [
    "gdp_2014.describe()"
   ]
  },
  {
   "cell_type": "markdown",
   "id": "f5f6849f",
   "metadata": {},
   "source": [
    "Create a histogram of GDP Per Capita numbers for 2014 (you may wish to adjust the number of bins for your histogram). How would you describe the shape of the distribution?"
   ]
  },
  {
   "cell_type": "code",
   "execution_count": 17,
   "id": "85e8113b",
   "metadata": {},
   "outputs": [
    {
     "data": {
      "text/plain": [
       "(array([[238.,   0.,   0.,   0.,   0.,   0.,   0.,   0.,   0.,   0.],\n",
       "        [238.,   0.,   0.,   0.,   0.,   0.,   0.,   0.,   0.,   0.],\n",
       "        [139.,  48.,  24.,  19.,   4.,   1.,   2.,   0.,   0.,   1.]]),\n",
       " array([0.0, 15651.413384978401, 31302.826769956802, 46954.24015493521,\n",
       "        62605.653539913605, 78257.066924892, 93908.48030987041,\n",
       "        109559.89369484881, 125211.30707982721, 140862.7204648056,\n",
       "        156514.133849784], dtype=object),\n",
       " <a list of 3 BarContainer objects>)"
      ]
     },
     "execution_count": 17,
     "metadata": {},
     "output_type": "execute_result"
    },
    {
     "data": {
      "image/png": "[encoded data removed]",
      "text/plain": [
       "<Figure size 432x288 with 1 Axes>"
      ]
     },
     "metadata": {
      "needs_background": "light"
     },
     "output_type": "display_data"
    }
   ],
   "source": [
    "plt.hist(gdp_2014, bins=10)"
   ]
  },
  {
   "cell_type": "markdown",
   "id": "f9cbcbaf",
   "metadata": {},
   "source": [
    "Find the top 5 counties and bottom 5 countries by GDP per capita in 2014."
   ]
  },
  {
   "cell_type": "code",
   "execution_count": 18,
   "id": "b237807c",
   "metadata": {},
   "outputs": [
    {
     "data": {
      "text/html": [
       "<div>\n",
       "<style scoped>\n",
       "    .dataframe tbody tr th:only-of-type {\n",
       "        vertical-align: middle;\n",
       "    }\n",
       "\n",
       "    .dataframe tbody tr th {\n",
       "        vertical-align: top;\n",
       "    }\n",
       "\n",
       "    .dataframe thead th {\n",
       "        text-align: right;\n",
       "    }\n",
       "</style>\n",
       "<table border=\"1\" class=\"dataframe\">\n",
       "  <thead>\n",
       "    <tr style=\"text-align: right;\">\n",
       "      <th></th>\n",
       "      <th>Country</th>\n",
       "      <th>Year</th>\n",
       "      <th>GDP_Per_Capita</th>\n",
       "    </tr>\n",
       "  </thead>\n",
       "  <tbody>\n",
       "    <tr>\n",
       "      <th>3721</th>\n",
       "      <td>Macao SAR, China</td>\n",
       "      <td>2014</td>\n",
       "      <td>156514.133850</td>\n",
       "    </tr>\n",
       "    <tr>\n",
       "      <th>3691</th>\n",
       "      <td>Luxembourg</td>\n",
       "      <td>2014</td>\n",
       "      <td>108760.916030</td>\n",
       "    </tr>\n",
       "    <tr>\n",
       "      <th>5138</th>\n",
       "      <td>Qatar</td>\n",
       "      <td>2014</td>\n",
       "      <td>95578.416973</td>\n",
       "    </tr>\n",
       "    <tr>\n",
       "      <th>5464</th>\n",
       "      <td>Singapore</td>\n",
       "      <td>2014</td>\n",
       "      <td>87808.663157</td>\n",
       "    </tr>\n",
       "    <tr>\n",
       "      <th>561</th>\n",
       "      <td>Bermuda</td>\n",
       "      <td>2014</td>\n",
       "      <td>77361.104881</td>\n",
       "    </tr>\n",
       "  </tbody>\n",
       "</table>\n",
       "</div>"
      ],
      "text/plain": [
       "               Country  Year  GDP_Per_Capita\n",
       "3721  Macao SAR, China  2014   156514.133850\n",
       "3691        Luxembourg  2014   108760.916030\n",
       "5138             Qatar  2014    95578.416973\n",
       "5464         Singapore  2014    87808.663157\n",
       "561            Bermuda  2014    77361.104881"
      ]
     },
     "execution_count": 18,
     "metadata": {},
     "output_type": "execute_result"
    }
   ],
   "source": [
    "gdp_2014.sort_values(by=['GDP_Per_Capita'], ascending=False).head(5)"
   ]
  },
  {
   "cell_type": "code",
   "execution_count": 19,
   "id": "b067f320",
   "metadata": {},
   "outputs": [
    {
     "data": {
      "text/html": [
       "<div>\n",
       "<style scoped>\n",
       "    .dataframe tbody tr th:only-of-type {\n",
       "        vertical-align: middle;\n",
       "    }\n",
       "\n",
       "    .dataframe tbody tr th {\n",
       "        vertical-align: top;\n",
       "    }\n",
       "\n",
       "    .dataframe thead th {\n",
       "        text-align: right;\n",
       "    }\n",
       "</style>\n",
       "<table border=\"1\" class=\"dataframe\">\n",
       "  <thead>\n",
       "    <tr style=\"text-align: right;\">\n",
       "      <th></th>\n",
       "      <th>Country</th>\n",
       "      <th>Year</th>\n",
       "      <th>GDP_Per_Capita</th>\n",
       "    </tr>\n",
       "  </thead>\n",
       "  <tbody>\n",
       "    <tr>\n",
       "      <th>1047</th>\n",
       "      <td>Central African Republic</td>\n",
       "      <td>2014</td>\n",
       "      <td>822.610458</td>\n",
       "    </tr>\n",
       "    <tr>\n",
       "      <th>827</th>\n",
       "      <td>Burundi</td>\n",
       "      <td>2014</td>\n",
       "      <td>886.235777</td>\n",
       "    </tr>\n",
       "    <tr>\n",
       "      <th>3781</th>\n",
       "      <td>Malawi</td>\n",
       "      <td>2014</td>\n",
       "      <td>1027.208496</td>\n",
       "    </tr>\n",
       "    <tr>\n",
       "      <th>1422</th>\n",
       "      <td>Dem. Rep. Congo</td>\n",
       "      <td>2014</td>\n",
       "      <td>1029.790785</td>\n",
       "    </tr>\n",
       "    <tr>\n",
       "      <th>4528</th>\n",
       "      <td>Niger</td>\n",
       "      <td>2014</td>\n",
       "      <td>1127.615541</td>\n",
       "    </tr>\n",
       "  </tbody>\n",
       "</table>\n",
       "</div>"
      ],
      "text/plain": [
       "                       Country  Year  GDP_Per_Capita\n",
       "1047  Central African Republic  2014      822.610458\n",
       "827                    Burundi  2014      886.235777\n",
       "3781                    Malawi  2014     1027.208496\n",
       "1422           Dem. Rep. Congo  2014     1029.790785\n",
       "4528                     Niger  2014     1127.615541"
      ]
     },
     "execution_count": 19,
     "metadata": {},
     "output_type": "execute_result"
    }
   ],
   "source": [
    "gdp_2014.sort_values(by=['GDP_Per_Capita'], ascending=True).head(5)"
   ]
  },
  {
   "cell_type": "markdown",
   "id": "a6e2f502",
   "metadata": {},
   "source": [
    "Now, return to the full dataset, gdp_df. Pivot the data for 1990 and 2017 (using the pandas .pivot_table() method or another method) so that each row corresponds to a country, each column corresponds to a year, and the values in the table give the GDP_Per_Capita amount. Drop any rows that are missing values for either 1990 or 2017. Save the result to a dataframe named gdp_pivoted."
   ]
  },
  {
   "cell_type": "code",
   "execution_count": 20,
   "id": "2a3895ba",
   "metadata": {},
   "outputs": [],
   "source": [
    "gdp_df_90_17 = gdp_df[gdp_df['Year'].isin([1990,2017])]\n",
    "gdp_pivoted = gdp_df_90_17.pivot_table(values='GDP_Per_Capita', index='Country', columns='Year')\n",
    "gdp_pivoted = gdp_pivoted.dropna(axis=0)"
   ]
  },
  {
   "cell_type": "code",
   "execution_count": 21,
   "id": "66e36ead",
   "metadata": {},
   "outputs": [
    {
     "name": "stdout",
     "output_type": "stream",
     "text": [
      "Year                         1990          2017\n",
      "Country                                        \n",
      "Albania               4842.734635  12811.759436\n",
      "Algeria               8746.352901  11737.409353\n",
      "Angola                5783.429064   7310.901738\n",
      "Antigua and Barbuda  15459.551675  19840.076123\n",
      "Arab World            9694.667544  14555.474921\n"
     ]
    }
   ],
   "source": [
    "print(gdp_pivoted.head())"
   ]
  },
  {
   "cell_type": "markdown",
   "id": "def49105",
   "metadata": {},
   "source": [
    "Create a new column in gdp_pivoted named Percent_Change. This column should contain the percent change in GDP_Per_Capita from 1990 to 2017. Hint: Percent change is calculated as 100*(New Value - Old Value) / Old Value."
   ]
  },
  {
   "cell_type": "code",
   "execution_count": 22,
   "id": "56ed3b77",
   "metadata": {},
   "outputs": [],
   "source": [
    "gdp_pivoted['Percent_Change'] = 100 * ((gdp_pivoted[2017]-gdp_pivoted[1990]) / gdp_pivoted[1990])"
   ]
  },
  {
   "cell_type": "markdown",
   "id": "c79d8c58",
   "metadata": {},
   "source": [
    "How many countries experienced a negative percent change in GDP per capita from 1990 to 2017?"
   ]
  },
  {
   "cell_type": "code",
   "execution_count": 23,
   "id": "d0794584",
   "metadata": {},
   "outputs": [
    {
     "data": {
      "text/plain": [
       "False    190\n",
       "True      17\n",
       "Name: Percent_Change, dtype: int64"
      ]
     },
     "execution_count": 23,
     "metadata": {},
     "output_type": "execute_result"
    }
   ],
   "source": [
    "(gdp_pivoted['Percent_Change']<0).value_counts()"
   ]
  },
  {
   "cell_type": "markdown",
   "id": "12cd7268",
   "metadata": {},
   "source": [
    "Which country had the highest % change in GDP per capita? Create a line plot showing this country's GDP per capita for all years from 1990 to 2017. Create another showing the country with the second highest % change in GDP. How do the trends in these countries compare?\n",
    "Bonus: Put both line charts on the same plot."
   ]
  },
  {
   "cell_type": "code",
   "execution_count": 24,
   "id": "8d64ba0b",
   "metadata": {},
   "outputs": [
    {
     "name": "stdout",
     "output_type": "stream",
     "text": [
      "Year                      1990          2017  Percent_Change\n",
      "Country                                                     \n",
      "Equatorial Guinea  1039.985049  22551.083246     2068.404561\n",
      "China              1423.896348  14344.421239      907.406281\n"
     ]
    }
   ],
   "source": [
    "print(gdp_pivoted.sort_values('Percent_Change', ascending=False).head(n=2))                                                               "
   ]
  },
  {
   "cell_type": "markdown",
   "id": "da095e11",
   "metadata": {},
   "source": [
    "Read in continents.csv contained in the data folder into a new dataframe called continents. We will be using this dataframe to add a new column to our dataset."
   ]
  },
  {
   "cell_type": "code",
   "execution_count": 25,
   "id": "208d607a",
   "metadata": {},
   "outputs": [],
   "source": [
    "continents = pd.read_csv(\"C:/Users/vredd/Documents/data_science_projects/un_exploration-vredd418/data/continents.csv\")"
   ]
  },
  {
   "cell_type": "markdown",
   "id": "ba7aaa74",
   "metadata": {},
   "source": [
    "Merge gdp_df and continents. Keep only the countries that appear in both data frames. Save the result back to gdp_df."
   ]
  },
  {
   "cell_type": "code",
   "execution_count": 26,
   "id": "29a30bef",
   "metadata": {},
   "outputs": [],
   "source": [
    "gdp_df = gdp_df.merge(continents, on='Country')"
   ]
  },
  {
   "cell_type": "markdown",
   "id": "77fdf903",
   "metadata": {},
   "source": [
    "Determine the number of countries per continent. Create a bar chart showing this."
   ]
  },
  {
   "cell_type": "code",
   "execution_count": 27,
   "id": "ba574509",
   "metadata": {},
   "outputs": [],
   "source": [
    "gdp_country_cont = pd.DataFrame(gdp_df.groupby(['Continent'])['Country'].nunique())"
   ]
  },
  {
   "cell_type": "code",
   "execution_count": 28,
   "id": "588e3f60",
   "metadata": {},
   "outputs": [
    {
     "name": "stdout",
     "output_type": "stream",
     "text": [
      "               Country\n",
      "Continent             \n",
      "Africa              49\n",
      "Asia                43\n",
      "Europe              45\n",
      "North America       26\n",
      "Oceania             14\n",
      "South America       11\n"
     ]
    }
   ],
   "source": [
    "print(gdp_country_cont)"
   ]
  },
  {
   "cell_type": "code",
   "execution_count": 29,
   "id": "62c93df7",
   "metadata": {},
   "outputs": [
    {
     "data": {
      "text/plain": [
       "<BarContainer object of 6 artists>"
      ]
     },
     "execution_count": 29,
     "metadata": {},
     "output_type": "execute_result"
    },
    {
     "data": {
      "image/png": "[encoded data removed]",
      "text/plain": [
       "<Figure size 432x288 with 1 Axes>"
      ]
     },
     "metadata": {
      "needs_background": "light"
     },
     "output_type": "display_data"
    }
   ],
   "source": [
    "plt.bar(gdp_country_cont.index, gdp_country_cont['Country'])"
   ]
  },
  {
   "cell_type": "markdown",
   "id": "4e9a8a5e",
   "metadata": {},
   "source": [
    "Create a seaborn boxplot showing GDP per capita in 2014 split out by continent. What do you notice?"
   ]
  },
  {
   "cell_type": "code",
   "execution_count": 30,
   "id": "cc21360a",
   "metadata": {},
   "outputs": [],
   "source": [
    "gdp_2014 = gdp_df[gdp_df['Year']==2014].groupby(gdp_df['Continent'])"
   ]
  },
  {
   "cell_type": "code",
   "execution_count": 31,
   "id": "51b247d7",
   "metadata": {},
   "outputs": [
    {
     "ename": "AttributeError",
     "evalue": "'DataFrameGroupBy' object has no attribute 'index'",
     "output_type": "error",
     "traceback": [
      "\u001b[1;31m---------------------------------------------------------------------------\u001b[0m",
      "\u001b[1;31mAttributeError\u001b[0m                            Traceback (most recent call last)",
      "\u001b[1;32m<ipython-input-31-5370a214604c>\u001b[0m in \u001b[0;36m<module>\u001b[1;34m\u001b[0m\n\u001b[1;32m----> 1\u001b[1;33m \u001b[0msns\u001b[0m\u001b[1;33m.\u001b[0m\u001b[0mboxplot\u001b[0m\u001b[1;33m(\u001b[0m\u001b[0mx\u001b[0m\u001b[1;33m=\u001b[0m\u001b[0mgdp_2014\u001b[0m\u001b[1;33m.\u001b[0m\u001b[0mindex\u001b[0m\u001b[1;33m,\u001b[0m \u001b[0my\u001b[0m\u001b[1;33m=\u001b[0m\u001b[0mgdp_2014\u001b[0m\u001b[1;33m[\u001b[0m\u001b[1;34m'GDP_Per_Capita'\u001b[0m\u001b[1;33m]\u001b[0m\u001b[1;33m)\u001b[0m\u001b[1;33m\u001b[0m\u001b[1;33m\u001b[0m\u001b[0m\n\u001b[0m",
      "\u001b[1;32m~\\anaconda3\\lib\\site-packages\\pandas\\core\\groupby\\groupby.py\u001b[0m in \u001b[0;36m__getattr__\u001b[1;34m(self, attr)\u001b[0m\n\u001b[0;32m    750\u001b[0m             \u001b[1;32mreturn\u001b[0m \u001b[0mself\u001b[0m\u001b[1;33m[\u001b[0m\u001b[0mattr\u001b[0m\u001b[1;33m]\u001b[0m\u001b[1;33m\u001b[0m\u001b[1;33m\u001b[0m\u001b[0m\n\u001b[0;32m    751\u001b[0m \u001b[1;33m\u001b[0m\u001b[0m\n\u001b[1;32m--> 752\u001b[1;33m         raise AttributeError(\n\u001b[0m\u001b[0;32m    753\u001b[0m             \u001b[1;34mf\"'{type(self).__name__}' object has no attribute '{attr}'\"\u001b[0m\u001b[1;33m\u001b[0m\u001b[1;33m\u001b[0m\u001b[0m\n\u001b[0;32m    754\u001b[0m         )\n",
      "\u001b[1;31mAttributeError\u001b[0m: 'DataFrameGroupBy' object has no attribute 'index'"
     ]
    }
   ],
   "source": [
    "sns.boxplot(x=gdp_2014.index, y=gdp_2014['GDP_Per_Capita'])"
   ]
  },
  {
   "cell_type": "code",
   "execution_count": null,
   "id": "711c5402",
   "metadata": {},
   "outputs": [],
   "source": [
    "gdp_2014.columns"
   ]
  },
  {
   "cell_type": "code",
   "execution_count": null,
   "id": "96fc5bdb",
   "metadata": {},
   "outputs": [],
   "source": [
    "print(gdp_2014.head())"
   ]
  },
  {
   "cell_type": "markdown",
   "id": "5038cf60",
   "metadata": {},
   "source": [
    "Read in internet_use.csv into a DataFrame called internet_df. You will most likely get an error message when doing this - figure out what is going wrong and fix it. Take a look at the first and last five rows and make any corrections to your read_csv() call to fix this. Again, do not modify the original datasets."
   ]
  },
  {
   "cell_type": "code",
   "execution_count": 55,
   "id": "2da6d4ff",
   "metadata": {},
   "outputs": [
    {
     "name": "stdout",
     "output_type": "stream",
     "text": [
      "     Country or Area  Year     Value  Value Footnotes\n",
      "0        Afghanistan  2014  6.390000              NaN\n",
      "1        Afghanistan  2013  5.900000              NaN\n",
      "2        Afghanistan  2012  5.454545              NaN\n",
      "3        Afghanistan  2011  5.000000              NaN\n",
      "4        Afghanistan  2010  4.000000              NaN\n",
      "...              ...   ...       ...              ...\n",
      "4490        Zimbabwe  1997  0.033080              NaN\n",
      "4491        Zimbabwe  1996  0.016790              NaN\n",
      "4492        Zimbabwe  1995  0.007684              NaN\n",
      "4493        Zimbabwe  1994  0.001739              NaN\n",
      "4494        Zimbabwe  1990  0.000000              NaN\n",
      "\n",
      "[4495 rows x 4 columns]\n"
     ]
    }
   ],
   "source": [
    "internet_df = pd.read_csv(\"C:/Users/vredd/Documents/data_science_projects/un_exploration-vredd418/data/internet_use.csv\", nrows=4495)\n",
    "print(internet_df)"
   ]
  },
  {
   "cell_type": "markdown",
   "id": "2c5146e9",
   "metadata": {},
   "source": [
    "Drop the Value Footnotes column and then rename the columns to ‘Country’, ‘Year’, and ‘Internet_Users_Pct’."
   ]
  },
  {
   "cell_type": "code",
   "execution_count": 56,
   "id": "2f27a25a",
   "metadata": {},
   "outputs": [
    {
     "name": "stdout",
     "output_type": "stream",
     "text": [
      "       Country  Year  Internet_Users_Pct\n",
      "0  Afghanistan  2014            6.390000\n",
      "1  Afghanistan  2013            5.900000\n",
      "2  Afghanistan  2012            5.454545\n",
      "3  Afghanistan  2011            5.000000\n",
      "4  Afghanistan  2010            4.000000\n"
     ]
    }
   ],
   "source": [
    "internet_df = internet_df.drop(columns='Value Footnotes').rename(columns={'Country or Area':'Country', 'Value':'Internet_Users_Pct'})\n",
    "print(internet_df.head())"
   ]
  },
  {
   "cell_type": "markdown",
   "id": "439d86c1",
   "metadata": {},
   "source": [
    "How many rows and columns does this new dataset have? What are the types of its columns? Ensure that the Internet_Users_Pct column is a numeric data type and fix it if it is not."
   ]
  },
  {
   "cell_type": "code",
   "execution_count": 57,
   "id": "f8404fd2",
   "metadata": {},
   "outputs": [
    {
     "data": {
      "text/plain": [
       "(4495, 3)"
      ]
     },
     "execution_count": 57,
     "metadata": {},
     "output_type": "execute_result"
    }
   ],
   "source": [
    "internet_df.shape"
   ]
  },
  {
   "cell_type": "code",
   "execution_count": 58,
   "id": "e3792a69",
   "metadata": {},
   "outputs": [
    {
     "data": {
      "text/plain": [
       "Country                object\n",
       "Year                    int64\n",
       "Internet_Users_Pct    float64\n",
       "dtype: object"
      ]
     },
     "execution_count": 58,
     "metadata": {},
     "output_type": "execute_result"
    }
   ],
   "source": [
    "internet_df.dtypes"
   ]
  },
  {
   "cell_type": "markdown",
   "id": "11bd8b74",
   "metadata": {},
   "source": [
    "What is the first year that has a nonzero internet users percentage reported? What is the general trend in internet users percentage over the years. Pick a visualization that you think illustrates this trend well."
   ]
  },
  {
   "cell_type": "code",
   "execution_count": 67,
   "id": "95b021f9",
   "metadata": {},
   "outputs": [
    {
     "name": "stdout",
     "output_type": "stream",
     "text": [
      "     Country  Year  Internet_Users_Pct\n",
      "2048   Italy  1990            0.017545\n"
     ]
    }
   ],
   "source": [
    "print(internet_df[internet_df['Internet_Users_Pct']>0].sort_values('Year')[:1])"
   ]
  },
  {
   "cell_type": "code",
   "execution_count": null,
   "id": "32b9fae2",
   "metadata": {},
   "outputs": [],
   "source": []
  },
  {
   "cell_type": "markdown",
   "id": "a108ce66",
   "metadata": {},
   "source": [
    "Merge gdp_df and internet_df (on Country and Year) into a single DataFrame named gdp_and_internet_use. Keep only countries and years that appear in both tables.\n",
    "Difficult Bonus: Do not attempt this part until you have completed all other portions of the data question. Some countries have slightly different names in the internet use and gdp dataframes. For example, the Central African Republic is \"Central African Republic\" in the gdp dataframe and \"Central African Rep.\" in the internet use dataframe. Find as many instances like this as you can and resolve them so that when merging you keep the maximum number of countries possible."
   ]
  },
  {
   "cell_type": "markdown",
   "id": "2d19d317",
   "metadata": {},
   "source": [
    "Look at the first five rows of your new data frame to confirm it merged correctly. Also, check the last five rows to make sure the data is clean and as expected.\n",
    "\n"
   ]
  },
  {
   "cell_type": "markdown",
   "id": "f39e780d",
   "metadata": {},
   "source": [
    "Create a new DataFrame, named gdp_and_internet_use_2014 by extracting data for the year 2014 from gdp_and_internet_use. How many countries have at least 90% internet users in 2014?"
   ]
  },
  {
   "cell_type": "markdown",
   "id": "831a2c22",
   "metadata": {},
   "source": [
    "Find the countries that had the top 3 largest GDP per capita figures for 2014. Create a seaborn FacetGrid showing the change in internet user percentage over time for these three countries. Each individual figure in the facet grid will represent a single country. What trends do you notice?"
   ]
  },
  {
   "cell_type": "markdown",
   "id": "94709cc7",
   "metadata": {},
   "source": [
    "Create a scatter plot of Internet Use vs GDP per Capita for the year 2014. What do you notice?"
   ]
  },
  {
   "cell_type": "markdown",
   "id": "61d8654a",
   "metadata": {},
   "source": [
    "Find the correlation between GDP per Capita and Internet Use for the year 2014. What is the meaning of this number?"
   ]
  },
  {
   "cell_type": "markdown",
   "id": "b505c574",
   "metadata": {},
   "source": [
    "Add a column to gdp_and_internet_use_2014 and calculate the logarithm of GDP per capita. Find the correlation between the log of GDP per capita and internet users percentage. How does this compare to the calculation in the previous part?"
   ]
  },
  {
   "cell_type": "markdown",
   "id": "938be8a8",
   "metadata": {},
   "source": [
    "Filter the original dataset down to just the United States for all available years. Calculate correlation between internet use and gdp per capita. Is this meaningful or useful?"
   ]
  },
  {
   "cell_type": "code",
   "execution_count": null,
   "id": "59ad2782",
   "metadata": {},
   "outputs": [],
   "source": []
  }
 ],
 "metadata": {
  "kernelspec": {
   "display_name": "Python 3",
   "language": "python",
   "name": "python3"
  },
  "language_info": {
   "codemirror_mode": {
    "name": "ipython",
    "version": 3
   },
   "file_extension": ".py",
   "mimetype": "text/x-python",
   "name": "python",
   "nbconvert_exporter": "python",
   "pygments_lexer": "ipython3",
   "version": "3.8.8"
  }
 },
 "nbformat": 4,
 "nbformat_minor": 5
}
