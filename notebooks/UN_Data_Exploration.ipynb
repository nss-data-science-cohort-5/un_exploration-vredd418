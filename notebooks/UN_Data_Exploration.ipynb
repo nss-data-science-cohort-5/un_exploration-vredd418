{
 "cells": [
  {
   "cell_type": "markdown",
   "id": "8fd34be1",
   "metadata": {},
   "source": [
    "import"
   ]
  },
  {
   "cell_type": "code",
   "execution_count": 1,
   "id": "0b312c1d",
   "metadata": {},
   "outputs": [],
   "source": [
    "import pandas as pd\n",
    "import numpy as np\n",
    "import matplotlib.pyplot as plt\n",
    "import seaborn as sns\n",
    "%matplotlib inline"
   ]
  },
  {
   "cell_type": "markdown",
   "id": "326f9829",
   "metadata": {},
   "source": [
    "read in gdp csv file, skip last 2 rows"
   ]
  },
  {
   "cell_type": "code",
   "execution_count": 2,
   "id": "f2f71cbb",
   "metadata": {},
   "outputs": [],
   "source": [
    "gdp_df = pd.read_csv(\"C:/Users/vredd/Documents/data_science_projects/un_exploration-vredd418/data/gdp_per_capita.csv\", skipfooter=2, engine='python')"
   ]
  },
  {
   "cell_type": "markdown",
   "id": "f2812d0d",
   "metadata": {},
   "source": [
    "print first 10 rows"
   ]
  },
  {
   "cell_type": "code",
   "execution_count": 3,
   "id": "b5b6a729",
   "metadata": {},
   "outputs": [
    {
     "data": {
      "text/html": [
       "<div>\n",
       "<style scoped>\n",
       "    .dataframe tbody tr th:only-of-type {\n",
       "        vertical-align: middle;\n",
       "    }\n",
       "\n",
       "    .dataframe tbody tr th {\n",
       "        vertical-align: top;\n",
       "    }\n",
       "\n",
       "    .dataframe thead th {\n",
       "        text-align: right;\n",
       "    }\n",
       "</style>\n",
       "<table border=\"1\" class=\"dataframe\">\n",
       "  <thead>\n",
       "    <tr style=\"text-align: right;\">\n",
       "      <th></th>\n",
       "      <th>Country or Area</th>\n",
       "      <th>Year</th>\n",
       "      <th>Value</th>\n",
       "      <th>Value Footnotes</th>\n",
       "    </tr>\n",
       "  </thead>\n",
       "  <tbody>\n",
       "    <tr>\n",
       "      <th>0</th>\n",
       "      <td>Afghanistan</td>\n",
       "      <td>2019</td>\n",
       "      <td>2065.036398</td>\n",
       "      <td>NaN</td>\n",
       "    </tr>\n",
       "    <tr>\n",
       "      <th>1</th>\n",
       "      <td>Afghanistan</td>\n",
       "      <td>2018</td>\n",
       "      <td>2033.779002</td>\n",
       "      <td>NaN</td>\n",
       "    </tr>\n",
       "    <tr>\n",
       "      <th>2</th>\n",
       "      <td>Afghanistan</td>\n",
       "      <td>2017</td>\n",
       "      <td>2058.383832</td>\n",
       "      <td>NaN</td>\n",
       "    </tr>\n",
       "    <tr>\n",
       "      <th>3</th>\n",
       "      <td>Afghanistan</td>\n",
       "      <td>2016</td>\n",
       "      <td>2057.062164</td>\n",
       "      <td>NaN</td>\n",
       "    </tr>\n",
       "    <tr>\n",
       "      <th>4</th>\n",
       "      <td>Afghanistan</td>\n",
       "      <td>2015</td>\n",
       "      <td>2068.265904</td>\n",
       "      <td>NaN</td>\n",
       "    </tr>\n",
       "    <tr>\n",
       "      <th>5</th>\n",
       "      <td>Afghanistan</td>\n",
       "      <td>2014</td>\n",
       "      <td>2102.385234</td>\n",
       "      <td>NaN</td>\n",
       "    </tr>\n",
       "    <tr>\n",
       "      <th>6</th>\n",
       "      <td>Afghanistan</td>\n",
       "      <td>2013</td>\n",
       "      <td>2116.465454</td>\n",
       "      <td>NaN</td>\n",
       "    </tr>\n",
       "    <tr>\n",
       "      <th>7</th>\n",
       "      <td>Afghanistan</td>\n",
       "      <td>2012</td>\n",
       "      <td>2075.491747</td>\n",
       "      <td>NaN</td>\n",
       "    </tr>\n",
       "    <tr>\n",
       "      <th>8</th>\n",
       "      <td>Afghanistan</td>\n",
       "      <td>2011</td>\n",
       "      <td>1904.559799</td>\n",
       "      <td>NaN</td>\n",
       "    </tr>\n",
       "    <tr>\n",
       "      <th>9</th>\n",
       "      <td>Afghanistan</td>\n",
       "      <td>2010</td>\n",
       "      <td>1957.029338</td>\n",
       "      <td>NaN</td>\n",
       "    </tr>\n",
       "  </tbody>\n",
       "</table>\n",
       "</div>"
      ],
      "text/plain": [
       "  Country or Area  Year        Value  Value Footnotes\n",
       "0     Afghanistan  2019  2065.036398              NaN\n",
       "1     Afghanistan  2018  2033.779002              NaN\n",
       "2     Afghanistan  2017  2058.383832              NaN\n",
       "3     Afghanistan  2016  2057.062164              NaN\n",
       "4     Afghanistan  2015  2068.265904              NaN\n",
       "5     Afghanistan  2014  2102.385234              NaN\n",
       "6     Afghanistan  2013  2116.465454              NaN\n",
       "7     Afghanistan  2012  2075.491747              NaN\n",
       "8     Afghanistan  2011  1904.559799              NaN\n",
       "9     Afghanistan  2010  1957.029338              NaN"
      ]
     },
     "execution_count": 3,
     "metadata": {},
     "output_type": "execute_result"
    }
   ],
   "source": [
    "gdp_df[0:10]"
   ]
  },
  {
   "cell_type": "markdown",
   "id": "4e95536b",
   "metadata": {},
   "source": [
    "print last 5 rows, last 2 rows are not needed"
   ]
  },
  {
   "cell_type": "code",
   "execution_count": 4,
   "id": "8aa80a67",
   "metadata": {},
   "outputs": [
    {
     "data": {
      "text/html": [
       "<div>\n",
       "<style scoped>\n",
       "    .dataframe tbody tr th:only-of-type {\n",
       "        vertical-align: middle;\n",
       "    }\n",
       "\n",
       "    .dataframe tbody tr th {\n",
       "        vertical-align: top;\n",
       "    }\n",
       "\n",
       "    .dataframe thead th {\n",
       "        text-align: right;\n",
       "    }\n",
       "</style>\n",
       "<table border=\"1\" class=\"dataframe\">\n",
       "  <thead>\n",
       "    <tr style=\"text-align: right;\">\n",
       "      <th></th>\n",
       "      <th>Country or Area</th>\n",
       "      <th>Year</th>\n",
       "      <th>Value</th>\n",
       "      <th>Value Footnotes</th>\n",
       "    </tr>\n",
       "  </thead>\n",
       "  <tbody>\n",
       "    <tr>\n",
       "      <th>6863</th>\n",
       "      <td>Zimbabwe</td>\n",
       "      <td>1994</td>\n",
       "      <td>3263.934978</td>\n",
       "      <td>NaN</td>\n",
       "    </tr>\n",
       "    <tr>\n",
       "      <th>6864</th>\n",
       "      <td>Zimbabwe</td>\n",
       "      <td>1993</td>\n",
       "      <td>3033.504852</td>\n",
       "      <td>NaN</td>\n",
       "    </tr>\n",
       "    <tr>\n",
       "      <th>6865</th>\n",
       "      <td>Zimbabwe</td>\n",
       "      <td>1992</td>\n",
       "      <td>3054.889178</td>\n",
       "      <td>NaN</td>\n",
       "    </tr>\n",
       "    <tr>\n",
       "      <th>6866</th>\n",
       "      <td>Zimbabwe</td>\n",
       "      <td>1991</td>\n",
       "      <td>3426.598094</td>\n",
       "      <td>NaN</td>\n",
       "    </tr>\n",
       "    <tr>\n",
       "      <th>6867</th>\n",
       "      <td>Zimbabwe</td>\n",
       "      <td>1990</td>\n",
       "      <td>3324.348171</td>\n",
       "      <td>NaN</td>\n",
       "    </tr>\n",
       "  </tbody>\n",
       "</table>\n",
       "</div>"
      ],
      "text/plain": [
       "     Country or Area  Year        Value  Value Footnotes\n",
       "6863        Zimbabwe  1994  3263.934978              NaN\n",
       "6864        Zimbabwe  1993  3033.504852              NaN\n",
       "6865        Zimbabwe  1992  3054.889178              NaN\n",
       "6866        Zimbabwe  1991  3426.598094              NaN\n",
       "6867        Zimbabwe  1990  3324.348171              NaN"
      ]
     },
     "execution_count": 4,
     "metadata": {},
     "output_type": "execute_result"
    }
   ],
   "source": [
    "gdp_df[-5:]"
   ]
  },
  {
   "cell_type": "markdown",
   "id": "49d9a75b",
   "metadata": {},
   "source": [
    "drop Value Footnotes column, rename other columns"
   ]
  },
  {
   "cell_type": "code",
   "execution_count": 5,
   "id": "6b09395d",
   "metadata": {},
   "outputs": [],
   "source": [
    "gdp_df.drop(columns='Value Footnotes', inplace=True)"
   ]
  },
  {
   "cell_type": "code",
   "execution_count": 6,
   "id": "eb890497",
   "metadata": {},
   "outputs": [],
   "source": [
    "gdp_df = gdp_df.rename(columns={'Country or Area':'Country', 'Value':'GDP_Per_Capita'})"
   ]
  },
  {
   "cell_type": "markdown",
   "id": "ba0852bf",
   "metadata": {},
   "source": [
    "How many rows and columns does gdp_df have? What are the data types of its columns? If any of the columns are not the expected types, figure out why and fix it."
   ]
  },
  {
   "cell_type": "code",
   "execution_count": 7,
   "id": "343f352c",
   "metadata": {},
   "outputs": [
    {
     "data": {
      "text/plain": [
       "(6868, 3)"
      ]
     },
     "execution_count": 7,
     "metadata": {},
     "output_type": "execute_result"
    }
   ],
   "source": [
    "gdp_df.shape"
   ]
  },
  {
   "cell_type": "code",
   "execution_count": 8,
   "id": "77488a80",
   "metadata": {},
   "outputs": [
    {
     "data": {
      "text/plain": [
       "Country            object\n",
       "Year                int64\n",
       "GDP_Per_Capita    float64\n",
       "dtype: object"
      ]
     },
     "execution_count": 8,
     "metadata": {},
     "output_type": "execute_result"
    }
   ],
   "source": [
    "gdp_df.dtypes"
   ]
  },
  {
   "cell_type": "code",
   "execution_count": 9,
   "id": "282463ab",
   "metadata": {},
   "outputs": [],
   "source": [
    "gdp_df['Country'] = gdp_df['Country'].astype(str)"
   ]
  },
  {
   "cell_type": "code",
   "execution_count": 10,
   "id": "7e281fa2",
   "metadata": {},
   "outputs": [
    {
     "data": {
      "text/plain": [
       "Country            object\n",
       "Year                int64\n",
       "GDP_Per_Capita    float64\n",
       "dtype: object"
      ]
     },
     "execution_count": 10,
     "metadata": {},
     "output_type": "execute_result"
    }
   ],
   "source": [
    "gdp_df.dtypes"
   ]
  },
  {
   "cell_type": "markdown",
   "id": "6ecbc028",
   "metadata": {},
   "source": [
    "Which years are represented in this dataset? Take a look at the number of observations per year. What do you notice?"
   ]
  },
  {
   "cell_type": "code",
   "execution_count": 11,
   "id": "4c54829c",
   "metadata": {},
   "outputs": [
    {
     "data": {
      "text/plain": [
       "array([2019, 2018, 2017, 2016, 2015, 2014, 2013, 2012, 2011, 2010, 2009,\n",
       "       2008, 2007, 2006, 2005, 2004, 2003, 2002, 2001, 2000, 1999, 1998,\n",
       "       1997, 1996, 1995, 1994, 1993, 1992, 1991, 1990], dtype=int64)"
      ]
     },
     "execution_count": 11,
     "metadata": {},
     "output_type": "execute_result"
    }
   ],
   "source": [
    "gdp_df['Year'].unique()"
   ]
  },
  {
   "cell_type": "code",
   "execution_count": 12,
   "id": "b9d0ab3b",
   "metadata": {},
   "outputs": [
    {
     "data": {
      "text/plain": [
       "2013    238\n",
       "2014    238\n",
       "2016    238\n",
       "2015    238\n",
       "2017    238\n",
       "2012    237\n",
       "2018    237\n",
       "2011    237\n",
       "2009    236\n",
       "2010    236\n",
       "2007    235\n",
       "2008    235\n",
       "2006    235\n",
       "2004    234\n",
       "2005    234\n",
       "2002    233\n",
       "2003    233\n",
       "2001    232\n",
       "2019    231\n",
       "2000    231\n",
       "1999    224\n",
       "1998    223\n",
       "1997    223\n",
       "1996    221\n",
       "1995    221\n",
       "1994    214\n",
       "1993    212\n",
       "1992    209\n",
       "1991    208\n",
       "1990    207\n",
       "Name: Year, dtype: int64"
      ]
     },
     "execution_count": 12,
     "metadata": {},
     "output_type": "execute_result"
    }
   ],
   "source": [
    "gdp_df['Year'].value_counts()"
   ]
  },
  {
   "cell_type": "markdown",
   "id": "43b87664",
   "metadata": {},
   "source": [
    "How many countries are represented in this dataset? Which countries are least represented in the dataset? Why do you think these countries have so few observations?"
   ]
  },
  {
   "cell_type": "code",
   "execution_count": 13,
   "id": "0d9f08a1",
   "metadata": {},
   "outputs": [
    {
     "data": {
      "text/plain": [
       "238"
      ]
     },
     "execution_count": 13,
     "metadata": {},
     "output_type": "execute_result"
    }
   ],
   "source": [
    "gdp_df['Country'].nunique()"
   ]
  },
  {
   "cell_type": "code",
   "execution_count": 14,
   "id": "08fe817d",
   "metadata": {},
   "outputs": [
    {
     "data": {
      "text/plain": [
       "Djibouti                      7\n",
       "Turks and Caicos Islands      9\n",
       "Sint Maarten (Dutch part)    10\n",
       "Cayman Islands               13\n",
       "Nauru                        16\n",
       "Afghanistan                  18\n",
       "SÃ£o TomÃ© and Principe      19\n",
       "CuraÃ§ao                     20\n",
       "Qatar                        20\n",
       "Kosovo                       20\n",
       "Name: Country, dtype: int64"
      ]
     },
     "execution_count": 14,
     "metadata": {},
     "output_type": "execute_result"
    }
   ],
   "source": [
    "gdp_df['Country'].value_counts(ascending=True).head(n=10)"
   ]
  },
  {
   "cell_type": "markdown",
   "id": "708ff2bc",
   "metadata": {},
   "source": [
    "Create a new dataframe by subsetting gdp_df to just the year 2014. Call this new dataframe gdp_2014."
   ]
  },
  {
   "cell_type": "code",
   "execution_count": 15,
   "id": "17e8ca9c",
   "metadata": {},
   "outputs": [],
   "source": [
    "gdp_2014 = gdp_df[gdp_df['Year']==2014]"
   ]
  },
  {
   "cell_type": "markdown",
   "id": "2ed6d415",
   "metadata": {},
   "source": [
    "Use .describe() to find the summary statistics for GDP per capita in 2014."
   ]
  },
  {
   "cell_type": "code",
   "execution_count": 16,
   "id": "d5dc2867",
   "metadata": {},
   "outputs": [
    {
     "data": {
      "text/html": [
       "<div>\n",
       "<style scoped>\n",
       "    .dataframe tbody tr th:only-of-type {\n",
       "        vertical-align: middle;\n",
       "    }\n",
       "\n",
       "    .dataframe tbody tr th {\n",
       "        vertical-align: top;\n",
       "    }\n",
       "\n",
       "    .dataframe thead th {\n",
       "        text-align: right;\n",
       "    }\n",
       "</style>\n",
       "<table border=\"1\" class=\"dataframe\">\n",
       "  <thead>\n",
       "    <tr style=\"text-align: right;\">\n",
       "      <th></th>\n",
       "      <th>Year</th>\n",
       "      <th>GDP_Per_Capita</th>\n",
       "    </tr>\n",
       "  </thead>\n",
       "  <tbody>\n",
       "    <tr>\n",
       "      <th>count</th>\n",
       "      <td>238.0</td>\n",
       "      <td>238.000000</td>\n",
       "    </tr>\n",
       "    <tr>\n",
       "      <th>mean</th>\n",
       "      <td>2014.0</td>\n",
       "      <td>19766.710348</td>\n",
       "    </tr>\n",
       "    <tr>\n",
       "      <th>std</th>\n",
       "      <td>0.0</td>\n",
       "      <td>20983.869623</td>\n",
       "    </tr>\n",
       "    <tr>\n",
       "      <th>min</th>\n",
       "      <td>2014.0</td>\n",
       "      <td>822.610458</td>\n",
       "    </tr>\n",
       "    <tr>\n",
       "      <th>25%</th>\n",
       "      <td>2014.0</td>\n",
       "      <td>4753.110934</td>\n",
       "    </tr>\n",
       "    <tr>\n",
       "      <th>50%</th>\n",
       "      <td>2014.0</td>\n",
       "      <td>12209.385755</td>\n",
       "    </tr>\n",
       "    <tr>\n",
       "      <th>75%</th>\n",
       "      <td>2014.0</td>\n",
       "      <td>26803.610474</td>\n",
       "    </tr>\n",
       "    <tr>\n",
       "      <th>max</th>\n",
       "      <td>2014.0</td>\n",
       "      <td>156514.133850</td>\n",
       "    </tr>\n",
       "  </tbody>\n",
       "</table>\n",
       "</div>"
      ],
      "text/plain": [
       "         Year  GDP_Per_Capita\n",
       "count   238.0      238.000000\n",
       "mean   2014.0    19766.710348\n",
       "std       0.0    20983.869623\n",
       "min    2014.0      822.610458\n",
       "25%    2014.0     4753.110934\n",
       "50%    2014.0    12209.385755\n",
       "75%    2014.0    26803.610474\n",
       "max    2014.0   156514.133850"
      ]
     },
     "execution_count": 16,
     "metadata": {},
     "output_type": "execute_result"
    }
   ],
   "source": [
    "gdp_2014.describe()"
   ]
  },
  {
   "cell_type": "markdown",
   "id": "464f15b9",
   "metadata": {},
   "source": [
    "Create a histogram of GDP Per Capita numbers for 2014 (you may wish to adjust the number of bins for your histogram). How would you describe the shape of the distribution?"
   ]
  },
  {
   "cell_type": "code",
   "execution_count": 17,
   "id": "c84204f9",
   "metadata": {},
   "outputs": [
    {
     "data": {
      "image/png": "[encoded data removed]",
      "text/plain": [
       "<Figure size 432x288 with 1 Axes>"
      ]
     },
     "metadata": {
      "needs_background": "light"
     },
     "output_type": "display_data"
    }
   ],
   "source": [
    "gdp_2014.hist(column='GDP_Per_Capita', bins=15);"
   ]
  },
  {
   "cell_type": "markdown",
   "id": "1bc8900a",
   "metadata": {},
   "source": [
    "Find the top 5 counties and bottom 5 countries by GDP per capita in 2014."
   ]
  },
  {
   "cell_type": "code",
   "execution_count": 18,
   "id": "5c1fcde7",
   "metadata": {},
   "outputs": [
    {
     "data": {
      "text/html": [
       "<div>\n",
       "<style scoped>\n",
       "    .dataframe tbody tr th:only-of-type {\n",
       "        vertical-align: middle;\n",
       "    }\n",
       "\n",
       "    .dataframe tbody tr th {\n",
       "        vertical-align: top;\n",
       "    }\n",
       "\n",
       "    .dataframe thead th {\n",
       "        text-align: right;\n",
       "    }\n",
       "</style>\n",
       "<table border=\"1\" class=\"dataframe\">\n",
       "  <thead>\n",
       "    <tr style=\"text-align: right;\">\n",
       "      <th></th>\n",
       "      <th>Country</th>\n",
       "      <th>Year</th>\n",
       "      <th>GDP_Per_Capita</th>\n",
       "    </tr>\n",
       "  </thead>\n",
       "  <tbody>\n",
       "    <tr>\n",
       "      <th>3721</th>\n",
       "      <td>Macao SAR, China</td>\n",
       "      <td>2014</td>\n",
       "      <td>156514.133850</td>\n",
       "    </tr>\n",
       "    <tr>\n",
       "      <th>3691</th>\n",
       "      <td>Luxembourg</td>\n",
       "      <td>2014</td>\n",
       "      <td>108760.916030</td>\n",
       "    </tr>\n",
       "    <tr>\n",
       "      <th>5138</th>\n",
       "      <td>Qatar</td>\n",
       "      <td>2014</td>\n",
       "      <td>95578.416973</td>\n",
       "    </tr>\n",
       "    <tr>\n",
       "      <th>5464</th>\n",
       "      <td>Singapore</td>\n",
       "      <td>2014</td>\n",
       "      <td>87808.663157</td>\n",
       "    </tr>\n",
       "    <tr>\n",
       "      <th>561</th>\n",
       "      <td>Bermuda</td>\n",
       "      <td>2014</td>\n",
       "      <td>77361.104881</td>\n",
       "    </tr>\n",
       "  </tbody>\n",
       "</table>\n",
       "</div>"
      ],
      "text/plain": [
       "               Country  Year  GDP_Per_Capita\n",
       "3721  Macao SAR, China  2014   156514.133850\n",
       "3691        Luxembourg  2014   108760.916030\n",
       "5138             Qatar  2014    95578.416973\n",
       "5464         Singapore  2014    87808.663157\n",
       "561            Bermuda  2014    77361.104881"
      ]
     },
     "execution_count": 18,
     "metadata": {},
     "output_type": "execute_result"
    }
   ],
   "source": [
    "gdp_2014.sort_values(by=['GDP_Per_Capita'], ascending=False).head(5)"
   ]
  },
  {
   "cell_type": "code",
   "execution_count": 19,
   "id": "8cb000f2",
   "metadata": {},
   "outputs": [
    {
     "data": {
      "text/html": [
       "<div>\n",
       "<style scoped>\n",
       "    .dataframe tbody tr th:only-of-type {\n",
       "        vertical-align: middle;\n",
       "    }\n",
       "\n",
       "    .dataframe tbody tr th {\n",
       "        vertical-align: top;\n",
       "    }\n",
       "\n",
       "    .dataframe thead th {\n",
       "        text-align: right;\n",
       "    }\n",
       "</style>\n",
       "<table border=\"1\" class=\"dataframe\">\n",
       "  <thead>\n",
       "    <tr style=\"text-align: right;\">\n",
       "      <th></th>\n",
       "      <th>Country</th>\n",
       "      <th>Year</th>\n",
       "      <th>GDP_Per_Capita</th>\n",
       "    </tr>\n",
       "  </thead>\n",
       "  <tbody>\n",
       "    <tr>\n",
       "      <th>1047</th>\n",
       "      <td>Central African Republic</td>\n",
       "      <td>2014</td>\n",
       "      <td>822.610458</td>\n",
       "    </tr>\n",
       "    <tr>\n",
       "      <th>827</th>\n",
       "      <td>Burundi</td>\n",
       "      <td>2014</td>\n",
       "      <td>886.235777</td>\n",
       "    </tr>\n",
       "    <tr>\n",
       "      <th>3781</th>\n",
       "      <td>Malawi</td>\n",
       "      <td>2014</td>\n",
       "      <td>1027.208496</td>\n",
       "    </tr>\n",
       "    <tr>\n",
       "      <th>1422</th>\n",
       "      <td>Dem. Rep. Congo</td>\n",
       "      <td>2014</td>\n",
       "      <td>1029.790785</td>\n",
       "    </tr>\n",
       "    <tr>\n",
       "      <th>4528</th>\n",
       "      <td>Niger</td>\n",
       "      <td>2014</td>\n",
       "      <td>1127.615541</td>\n",
       "    </tr>\n",
       "  </tbody>\n",
       "</table>\n",
       "</div>"
      ],
      "text/plain": [
       "                       Country  Year  GDP_Per_Capita\n",
       "1047  Central African Republic  2014      822.610458\n",
       "827                    Burundi  2014      886.235777\n",
       "3781                    Malawi  2014     1027.208496\n",
       "1422           Dem. Rep. Congo  2014     1029.790785\n",
       "4528                     Niger  2014     1127.615541"
      ]
     },
     "execution_count": 19,
     "metadata": {},
     "output_type": "execute_result"
    }
   ],
   "source": [
    "gdp_2014.sort_values(by=['GDP_Per_Capita'], ascending=True).head(5)"
   ]
  },
  {
   "cell_type": "markdown",
   "id": "7276349f",
   "metadata": {},
   "source": [
    "Now, return to the full dataset, gdp_df. Pivot the data for 1990 and 2017 (using the pandas .pivot_table() method or another method) so that each row corresponds to a country, each column corresponds to a year, and the values in the table give the GDP_Per_Capita amount. Drop any rows that are missing values for either 1990 or 2017. Save the result to a dataframe named gdp_pivoted."
   ]
  },
  {
   "cell_type": "code",
   "execution_count": 20,
   "id": "e97b3492",
   "metadata": {},
   "outputs": [],
   "source": [
    "gdp_df_90_17 = gdp_df[gdp_df['Year'].isin([1990,2017])]\n",
    "gdp_pivoted = gdp_df_90_17.pivot_table(values='GDP_Per_Capita', index='Country', columns='Year')\n",
    "gdp_pivoted = gdp_pivoted.dropna(axis=0)"
   ]
  },
  {
   "cell_type": "code",
   "execution_count": 21,
   "id": "2807fa2c",
   "metadata": {},
   "outputs": [
    {
     "data": {
      "text/html": [
       "<div>\n",
       "<style scoped>\n",
       "    .dataframe tbody tr th:only-of-type {\n",
       "        vertical-align: middle;\n",
       "    }\n",
       "\n",
       "    .dataframe tbody tr th {\n",
       "        vertical-align: top;\n",
       "    }\n",
       "\n",
       "    .dataframe thead th {\n",
       "        text-align: right;\n",
       "    }\n",
       "</style>\n",
       "<table border=\"1\" class=\"dataframe\">\n",
       "  <thead>\n",
       "    <tr style=\"text-align: right;\">\n",
       "      <th>Year</th>\n",
       "      <th>1990</th>\n",
       "      <th>2017</th>\n",
       "    </tr>\n",
       "    <tr>\n",
       "      <th>Country</th>\n",
       "      <th></th>\n",
       "      <th></th>\n",
       "    </tr>\n",
       "  </thead>\n",
       "  <tbody>\n",
       "    <tr>\n",
       "      <th>Albania</th>\n",
       "      <td>4842.734635</td>\n",
       "      <td>12811.759436</td>\n",
       "    </tr>\n",
       "    <tr>\n",
       "      <th>Algeria</th>\n",
       "      <td>8746.352901</td>\n",
       "      <td>11737.409353</td>\n",
       "    </tr>\n",
       "    <tr>\n",
       "      <th>Angola</th>\n",
       "      <td>5783.429064</td>\n",
       "      <td>7310.901738</td>\n",
       "    </tr>\n",
       "    <tr>\n",
       "      <th>Antigua and Barbuda</th>\n",
       "      <td>15459.551675</td>\n",
       "      <td>19840.076123</td>\n",
       "    </tr>\n",
       "    <tr>\n",
       "      <th>Arab World</th>\n",
       "      <td>9694.667544</td>\n",
       "      <td>14555.474921</td>\n",
       "    </tr>\n",
       "  </tbody>\n",
       "</table>\n",
       "</div>"
      ],
      "text/plain": [
       "Year                         1990          2017\n",
       "Country                                        \n",
       "Albania               4842.734635  12811.759436\n",
       "Algeria               8746.352901  11737.409353\n",
       "Angola                5783.429064   7310.901738\n",
       "Antigua and Barbuda  15459.551675  19840.076123\n",
       "Arab World            9694.667544  14555.474921"
      ]
     },
     "execution_count": 21,
     "metadata": {},
     "output_type": "execute_result"
    }
   ],
   "source": [
    "gdp_pivoted.head()"
   ]
  },
  {
   "cell_type": "markdown",
   "id": "bc1e12d7",
   "metadata": {},
   "source": [
    "Create a new column in gdp_pivoted named Percent_Change. This column should contain the percent change in GDP_Per_Capita from 1990 to 2017. Hint: Percent change is calculated as 100*(New Value - Old Value) / Old Value."
   ]
  },
  {
   "cell_type": "code",
   "execution_count": 22,
   "id": "d3122d64",
   "metadata": {},
   "outputs": [],
   "source": [
    "gdp_pivoted['Percent_Change'] = 100 * ((gdp_pivoted[2017]-gdp_pivoted[1990]) / gdp_pivoted[1990])"
   ]
  },
  {
   "cell_type": "markdown",
   "id": "892f7dc0",
   "metadata": {},
   "source": [
    "How many countries experienced a negative percent change in GDP per capita from 1990 to 2017?"
   ]
  },
  {
   "cell_type": "code",
   "execution_count": 23,
   "id": "6c701f02",
   "metadata": {},
   "outputs": [
    {
     "data": {
      "text/plain": [
       "False    190\n",
       "True      17\n",
       "Name: Percent_Change, dtype: int64"
      ]
     },
     "execution_count": 23,
     "metadata": {},
     "output_type": "execute_result"
    }
   ],
   "source": [
    "(gdp_pivoted['Percent_Change']<0).value_counts()"
   ]
  },
  {
   "cell_type": "markdown",
   "id": "9d6bb6d6",
   "metadata": {},
   "source": [
    "Which country had the highest % change in GDP per capita? Create a line plot showing this country's GDP per capita for all years from 1990 to 2017. Create another showing the country with the second highest % change in GDP. How do the trends in these countries compare?\n",
    "Bonus: Put both line charts on the same plot."
   ]
  },
  {
   "cell_type": "code",
   "execution_count": 24,
   "id": "fc25179d",
   "metadata": {},
   "outputs": [
    {
     "data": {
      "text/html": [
       "<div>\n",
       "<style scoped>\n",
       "    .dataframe tbody tr th:only-of-type {\n",
       "        vertical-align: middle;\n",
       "    }\n",
       "\n",
       "    .dataframe tbody tr th {\n",
       "        vertical-align: top;\n",
       "    }\n",
       "\n",
       "    .dataframe thead th {\n",
       "        text-align: right;\n",
       "    }\n",
       "</style>\n",
       "<table border=\"1\" class=\"dataframe\">\n",
       "  <thead>\n",
       "    <tr style=\"text-align: right;\">\n",
       "      <th>Year</th>\n",
       "      <th>1990</th>\n",
       "      <th>2017</th>\n",
       "      <th>Percent_Change</th>\n",
       "    </tr>\n",
       "    <tr>\n",
       "      <th>Country</th>\n",
       "      <th></th>\n",
       "      <th></th>\n",
       "      <th></th>\n",
       "    </tr>\n",
       "  </thead>\n",
       "  <tbody>\n",
       "    <tr>\n",
       "      <th>Equatorial Guinea</th>\n",
       "      <td>1039.985049</td>\n",
       "      <td>22551.083246</td>\n",
       "      <td>2068.404561</td>\n",
       "    </tr>\n",
       "    <tr>\n",
       "      <th>China</th>\n",
       "      <td>1423.896348</td>\n",
       "      <td>14344.421239</td>\n",
       "      <td>907.406281</td>\n",
       "    </tr>\n",
       "  </tbody>\n",
       "</table>\n",
       "</div>"
      ],
      "text/plain": [
       "Year                      1990          2017  Percent_Change\n",
       "Country                                                     \n",
       "Equatorial Guinea  1039.985049  22551.083246     2068.404561\n",
       "China              1423.896348  14344.421239      907.406281"
      ]
     },
     "execution_count": 24,
     "metadata": {},
     "output_type": "execute_result"
    }
   ],
   "source": [
    "gdp_pivoted.sort_values('Percent_Change', ascending=False).head(n=2)"
   ]
  },
  {
   "cell_type": "code",
   "execution_count": 25,
   "id": "8d45b220",
   "metadata": {
    "scrolled": true
   },
   "outputs": [
    {
     "data": {
      "image/png": "[encoded data removed]",
      "text/plain": [
       "<Figure size 432x288 with 1 Axes>"
      ]
     },
     "metadata": {
      "needs_background": "light"
     },
     "output_type": "display_data"
    },
    {
     "data": {
      "image/png": "[encoded data removed]",
      "text/plain": [
       "<Figure size 432x288 with 1 Axes>"
      ]
     },
     "metadata": {
      "needs_background": "light"
     },
     "output_type": "display_data"
    }
   ],
   "source": [
    "gdp_df[gdp_df['Country']=='Equatorial Guinea'].plot(x='Year', y='GDP_Per_Capita', title='Equitoreal Quinea')\n",
    "gdp_df[gdp_df['Country']=='China'].plot(x='Year', y='GDP_Per_Capita', title='China');"
   ]
  },
  {
   "cell_type": "markdown",
   "id": "dda6d109",
   "metadata": {},
   "source": [
    "Read in continents.csv contained in the data folder into a new dataframe called continents. We will be using this dataframe to add a new column to our dataset."
   ]
  },
  {
   "cell_type": "code",
   "execution_count": 26,
   "id": "657623ed",
   "metadata": {},
   "outputs": [],
   "source": [
    "continents = pd.read_csv(\"C:/Users/vredd/Documents/data_science_projects/un_exploration-vredd418/data/continents.csv\")"
   ]
  },
  {
   "cell_type": "markdown",
   "id": "46ffc608",
   "metadata": {},
   "source": [
    "Merge gdp_df and continents. Keep only the countries that appear in both data frames. Save the result back to gdp_df."
   ]
  },
  {
   "cell_type": "code",
   "execution_count": 27,
   "id": "0dcccc9c",
   "metadata": {},
   "outputs": [],
   "source": [
    "gdp_df = gdp_df.merge(continents, on='Country')"
   ]
  },
  {
   "cell_type": "markdown",
   "id": "c20af89b",
   "metadata": {},
   "source": [
    "Determine the number of countries per continent. Create a bar chart showing this."
   ]
  },
  {
   "cell_type": "code",
   "execution_count": 28,
   "id": "d5df655d",
   "metadata": {},
   "outputs": [
    {
     "data": {
      "text/html": [
       "<div>\n",
       "<style scoped>\n",
       "    .dataframe tbody tr th:only-of-type {\n",
       "        vertical-align: middle;\n",
       "    }\n",
       "\n",
       "    .dataframe tbody tr th {\n",
       "        vertical-align: top;\n",
       "    }\n",
       "\n",
       "    .dataframe thead th {\n",
       "        text-align: right;\n",
       "    }\n",
       "</style>\n",
       "<table border=\"1\" class=\"dataframe\">\n",
       "  <thead>\n",
       "    <tr style=\"text-align: right;\">\n",
       "      <th></th>\n",
       "      <th>Country</th>\n",
       "    </tr>\n",
       "    <tr>\n",
       "      <th>Continent</th>\n",
       "      <th></th>\n",
       "    </tr>\n",
       "  </thead>\n",
       "  <tbody>\n",
       "    <tr>\n",
       "      <th>Africa</th>\n",
       "      <td>49</td>\n",
       "    </tr>\n",
       "    <tr>\n",
       "      <th>Asia</th>\n",
       "      <td>43</td>\n",
       "    </tr>\n",
       "    <tr>\n",
       "      <th>Europe</th>\n",
       "      <td>45</td>\n",
       "    </tr>\n",
       "    <tr>\n",
       "      <th>North America</th>\n",
       "      <td>26</td>\n",
       "    </tr>\n",
       "    <tr>\n",
       "      <th>Oceania</th>\n",
       "      <td>14</td>\n",
       "    </tr>\n",
       "    <tr>\n",
       "      <th>South America</th>\n",
       "      <td>11</td>\n",
       "    </tr>\n",
       "  </tbody>\n",
       "</table>\n",
       "</div>"
      ],
      "text/plain": [
       "               Country\n",
       "Continent             \n",
       "Africa              49\n",
       "Asia                43\n",
       "Europe              45\n",
       "North America       26\n",
       "Oceania             14\n",
       "South America       11"
      ]
     },
     "execution_count": 28,
     "metadata": {},
     "output_type": "execute_result"
    }
   ],
   "source": [
    "gdp_country_cont = pd.DataFrame(gdp_df.groupby(['Continent'])['Country'].nunique())\n",
    "gdp_country_cont"
   ]
  },
  {
   "cell_type": "code",
   "execution_count": 29,
   "id": "16681eba",
   "metadata": {
    "scrolled": true
   },
   "outputs": [
    {
     "data": {
      "image/png": "[encoded data removed]",
      "text/plain": [
       "<Figure size 432x288 with 1 Axes>"
      ]
     },
     "metadata": {
      "needs_background": "light"
     },
     "output_type": "display_data"
    }
   ],
   "source": [
    "plt.bar(gdp_country_cont.index, gdp_country_cont['Country']);"
   ]
  },
  {
   "cell_type": "markdown",
   "id": "aaea0dcb",
   "metadata": {},
   "source": [
    "Create a seaborn boxplot showing GDP per capita in 2014 split out by continent. What do you notice?"
   ]
  },
  {
   "cell_type": "code",
   "execution_count": 30,
   "id": "99b522b6",
   "metadata": {},
   "outputs": [
    {
     "data": {
      "image/png": "[encoded data removed]",
      "text/plain": [
       "<Figure size 432x288 with 1 Axes>"
      ]
     },
     "metadata": {
      "needs_background": "light"
     },
     "output_type": "display_data"
    }
   ],
   "source": [
    "gdp_sns = gdp_df[gdp_df['Year']==2014]\n",
    "sns.boxplot(x=gdp_sns['Continent'], y=gdp_sns['GDP_Per_Capita']);"
   ]
  },
  {
   "cell_type": "markdown",
   "id": "e6a05610",
   "metadata": {},
   "source": [
    "Read in internet_use.csv into a DataFrame called internet_df. You will most likely get an error message when doing this - figure out what is going wrong and fix it. Take a look at the first and last five rows and make any corrections to your read_csv() call to fix this. Again, do not modify the original datasets."
   ]
  },
  {
   "cell_type": "code",
   "execution_count": 31,
   "id": "3e1d879e",
   "metadata": {},
   "outputs": [
    {
     "data": {
      "text/html": [
       "<div>\n",
       "<style scoped>\n",
       "    .dataframe tbody tr th:only-of-type {\n",
       "        vertical-align: middle;\n",
       "    }\n",
       "\n",
       "    .dataframe tbody tr th {\n",
       "        vertical-align: top;\n",
       "    }\n",
       "\n",
       "    .dataframe thead th {\n",
       "        text-align: right;\n",
       "    }\n",
       "</style>\n",
       "<table border=\"1\" class=\"dataframe\">\n",
       "  <thead>\n",
       "    <tr style=\"text-align: right;\">\n",
       "      <th></th>\n",
       "      <th>Country or Area</th>\n",
       "      <th>Year</th>\n",
       "      <th>Value</th>\n",
       "      <th>Value Footnotes</th>\n",
       "    </tr>\n",
       "  </thead>\n",
       "  <tbody>\n",
       "    <tr>\n",
       "      <th>0</th>\n",
       "      <td>Afghanistan</td>\n",
       "      <td>2014</td>\n",
       "      <td>6.390000</td>\n",
       "      <td>NaN</td>\n",
       "    </tr>\n",
       "    <tr>\n",
       "      <th>1</th>\n",
       "      <td>Afghanistan</td>\n",
       "      <td>2013</td>\n",
       "      <td>5.900000</td>\n",
       "      <td>NaN</td>\n",
       "    </tr>\n",
       "    <tr>\n",
       "      <th>2</th>\n",
       "      <td>Afghanistan</td>\n",
       "      <td>2012</td>\n",
       "      <td>5.454545</td>\n",
       "      <td>NaN</td>\n",
       "    </tr>\n",
       "    <tr>\n",
       "      <th>3</th>\n",
       "      <td>Afghanistan</td>\n",
       "      <td>2011</td>\n",
       "      <td>5.000000</td>\n",
       "      <td>NaN</td>\n",
       "    </tr>\n",
       "    <tr>\n",
       "      <th>4</th>\n",
       "      <td>Afghanistan</td>\n",
       "      <td>2010</td>\n",
       "      <td>4.000000</td>\n",
       "      <td>NaN</td>\n",
       "    </tr>\n",
       "    <tr>\n",
       "      <th>...</th>\n",
       "      <td>...</td>\n",
       "      <td>...</td>\n",
       "      <td>...</td>\n",
       "      <td>...</td>\n",
       "    </tr>\n",
       "    <tr>\n",
       "      <th>4490</th>\n",
       "      <td>Zimbabwe</td>\n",
       "      <td>1997</td>\n",
       "      <td>0.033080</td>\n",
       "      <td>NaN</td>\n",
       "    </tr>\n",
       "    <tr>\n",
       "      <th>4491</th>\n",
       "      <td>Zimbabwe</td>\n",
       "      <td>1996</td>\n",
       "      <td>0.016790</td>\n",
       "      <td>NaN</td>\n",
       "    </tr>\n",
       "    <tr>\n",
       "      <th>4492</th>\n",
       "      <td>Zimbabwe</td>\n",
       "      <td>1995</td>\n",
       "      <td>0.007684</td>\n",
       "      <td>NaN</td>\n",
       "    </tr>\n",
       "    <tr>\n",
       "      <th>4493</th>\n",
       "      <td>Zimbabwe</td>\n",
       "      <td>1994</td>\n",
       "      <td>0.001739</td>\n",
       "      <td>NaN</td>\n",
       "    </tr>\n",
       "    <tr>\n",
       "      <th>4494</th>\n",
       "      <td>Zimbabwe</td>\n",
       "      <td>1990</td>\n",
       "      <td>0.000000</td>\n",
       "      <td>NaN</td>\n",
       "    </tr>\n",
       "  </tbody>\n",
       "</table>\n",
       "<p>4495 rows × 4 columns</p>\n",
       "</div>"
      ],
      "text/plain": [
       "     Country or Area  Year     Value  Value Footnotes\n",
       "0        Afghanistan  2014  6.390000              NaN\n",
       "1        Afghanistan  2013  5.900000              NaN\n",
       "2        Afghanistan  2012  5.454545              NaN\n",
       "3        Afghanistan  2011  5.000000              NaN\n",
       "4        Afghanistan  2010  4.000000              NaN\n",
       "...              ...   ...       ...              ...\n",
       "4490        Zimbabwe  1997  0.033080              NaN\n",
       "4491        Zimbabwe  1996  0.016790              NaN\n",
       "4492        Zimbabwe  1995  0.007684              NaN\n",
       "4493        Zimbabwe  1994  0.001739              NaN\n",
       "4494        Zimbabwe  1990  0.000000              NaN\n",
       "\n",
       "[4495 rows x 4 columns]"
      ]
     },
     "execution_count": 31,
     "metadata": {},
     "output_type": "execute_result"
    }
   ],
   "source": [
    "internet_df = pd.read_csv(\"C:/Users/vredd/Documents/data_science_projects/un_exploration-vredd418/data/internet_use.csv\", nrows=4495)\n",
    "internet_df"
   ]
  },
  {
   "cell_type": "markdown",
   "id": "72a3cde1",
   "metadata": {},
   "source": [
    "Drop the Value Footnotes column and then rename the columns to ‘Country’, ‘Year’, and ‘Internet_Users_Pct’."
   ]
  },
  {
   "cell_type": "code",
   "execution_count": 32,
   "id": "b9aef3fc",
   "metadata": {},
   "outputs": [],
   "source": [
    "internet_df = internet_df.drop(columns='Value Footnotes').rename(columns={'Country or Area':'Country', 'Value':'Internet_Users_Pct'})"
   ]
  },
  {
   "cell_type": "markdown",
   "id": "7d47dafe",
   "metadata": {},
   "source": [
    "How many rows and columns does this new dataset have? What are the types of its columns? Ensure that the Internet_Users_Pct column is a numeric data type and fix it if it is not."
   ]
  },
  {
   "cell_type": "code",
   "execution_count": 33,
   "id": "9f852c99",
   "metadata": {},
   "outputs": [
    {
     "data": {
      "text/plain": [
       "(4495, 3)"
      ]
     },
     "execution_count": 33,
     "metadata": {},
     "output_type": "execute_result"
    }
   ],
   "source": [
    "internet_df.shape"
   ]
  },
  {
   "cell_type": "code",
   "execution_count": 34,
   "id": "4de30e24",
   "metadata": {},
   "outputs": [
    {
     "data": {
      "text/plain": [
       "Country                object\n",
       "Year                    int64\n",
       "Internet_Users_Pct    float64\n",
       "dtype: object"
      ]
     },
     "execution_count": 34,
     "metadata": {},
     "output_type": "execute_result"
    }
   ],
   "source": [
    "internet_df.dtypes"
   ]
  },
  {
   "cell_type": "markdown",
   "id": "1bc34735",
   "metadata": {},
   "source": [
    "What is the first year that has a nonzero internet users percentage reported? What is the general trend in internet users percentage over the years. Pick a visualization that you think illustrates this trend well."
   ]
  },
  {
   "cell_type": "code",
   "execution_count": 35,
   "id": "c96b91f1",
   "metadata": {},
   "outputs": [
    {
     "data": {
      "text/html": [
       "<div>\n",
       "<style scoped>\n",
       "    .dataframe tbody tr th:only-of-type {\n",
       "        vertical-align: middle;\n",
       "    }\n",
       "\n",
       "    .dataframe tbody tr th {\n",
       "        vertical-align: top;\n",
       "    }\n",
       "\n",
       "    .dataframe thead th {\n",
       "        text-align: right;\n",
       "    }\n",
       "</style>\n",
       "<table border=\"1\" class=\"dataframe\">\n",
       "  <thead>\n",
       "    <tr style=\"text-align: right;\">\n",
       "      <th></th>\n",
       "      <th>Country</th>\n",
       "      <th>Year</th>\n",
       "      <th>Internet_Users_Pct</th>\n",
       "    </tr>\n",
       "  </thead>\n",
       "  <tbody>\n",
       "    <tr>\n",
       "      <th>2048</th>\n",
       "      <td>Italy</td>\n",
       "      <td>1990</td>\n",
       "      <td>0.017545</td>\n",
       "    </tr>\n",
       "  </tbody>\n",
       "</table>\n",
       "</div>"
      ],
      "text/plain": [
       "     Country  Year  Internet_Users_Pct\n",
       "2048   Italy  1990            0.017545"
      ]
     },
     "execution_count": 35,
     "metadata": {},
     "output_type": "execute_result"
    }
   ],
   "source": [
    "internet_df[internet_df['Internet_Users_Pct']>0].sort_values('Year')[:1]"
   ]
  },
  {
   "cell_type": "code",
   "execution_count": 36,
   "id": "cc1b6a06",
   "metadata": {},
   "outputs": [
    {
     "data": {
      "image/png": "[encoded data removed]",
      "text/plain": [
       "<Figure size 432x288 with 1 Axes>"
      ]
     },
     "metadata": {
      "needs_background": "light"
     },
     "output_type": "display_data"
    }
   ],
   "source": [
    "trend = internet_df.groupby('Year', as_index=False)['Internet_Users_Pct'].mean()\n",
    "trend.plot(x='Year', y='Internet_Users_Pct', kind='line');"
   ]
  },
  {
   "cell_type": "markdown",
   "id": "f9b07f26",
   "metadata": {},
   "source": [
    "Merge gdp_df and internet_df (on Country and Year) into a single DataFrame named gdp_and_internet_use. Keep only countries and years that appear in both tables.\n",
    "Difficult Bonus: Do not attempt this part until you have completed all other portions of the data question. Some countries have slightly different names in the internet use and gdp dataframes. For example, the Central African Republic is \"Central African Republic\" in the gdp dataframe and \"Central African Rep.\" in the internet use dataframe. Find as many instances like this as you can and resolve them so that when merging you keep the maximum number of countries possible."
   ]
  },
  {
   "cell_type": "code",
   "execution_count": 37,
   "id": "66b25fa8",
   "metadata": {},
   "outputs": [],
   "source": [
    "gdp_and_internet_use = gdp_df.merge(internet_df, on=['Country', 'Year'])"
   ]
  },
  {
   "cell_type": "markdown",
   "id": "559f10de",
   "metadata": {},
   "source": [
    "Look at the first five rows of your new data frame to confirm it merged correctly. Also, check the last five rows to make sure the data is clean and as expected.\n",
    "\n"
   ]
  },
  {
   "cell_type": "code",
   "execution_count": 38,
   "id": "14652e07",
   "metadata": {},
   "outputs": [
    {
     "data": {
      "text/html": [
       "<div>\n",
       "<style scoped>\n",
       "    .dataframe tbody tr th:only-of-type {\n",
       "        vertical-align: middle;\n",
       "    }\n",
       "\n",
       "    .dataframe tbody tr th {\n",
       "        vertical-align: top;\n",
       "    }\n",
       "\n",
       "    .dataframe thead th {\n",
       "        text-align: right;\n",
       "    }\n",
       "</style>\n",
       "<table border=\"1\" class=\"dataframe\">\n",
       "  <thead>\n",
       "    <tr style=\"text-align: right;\">\n",
       "      <th></th>\n",
       "      <th>Country</th>\n",
       "      <th>Year</th>\n",
       "      <th>GDP_Per_Capita</th>\n",
       "      <th>Continent</th>\n",
       "      <th>Internet_Users_Pct</th>\n",
       "    </tr>\n",
       "  </thead>\n",
       "  <tbody>\n",
       "    <tr>\n",
       "      <th>0</th>\n",
       "      <td>Afghanistan</td>\n",
       "      <td>2014</td>\n",
       "      <td>2102.385234</td>\n",
       "      <td>Asia</td>\n",
       "      <td>6.390000</td>\n",
       "    </tr>\n",
       "    <tr>\n",
       "      <th>1</th>\n",
       "      <td>Afghanistan</td>\n",
       "      <td>2013</td>\n",
       "      <td>2116.465454</td>\n",
       "      <td>Asia</td>\n",
       "      <td>5.900000</td>\n",
       "    </tr>\n",
       "    <tr>\n",
       "      <th>2</th>\n",
       "      <td>Afghanistan</td>\n",
       "      <td>2012</td>\n",
       "      <td>2075.491747</td>\n",
       "      <td>Asia</td>\n",
       "      <td>5.454545</td>\n",
       "    </tr>\n",
       "    <tr>\n",
       "      <th>3</th>\n",
       "      <td>Afghanistan</td>\n",
       "      <td>2011</td>\n",
       "      <td>1904.559799</td>\n",
       "      <td>Asia</td>\n",
       "      <td>5.000000</td>\n",
       "    </tr>\n",
       "    <tr>\n",
       "      <th>4</th>\n",
       "      <td>Afghanistan</td>\n",
       "      <td>2010</td>\n",
       "      <td>1957.029338</td>\n",
       "      <td>Asia</td>\n",
       "      <td>4.000000</td>\n",
       "    </tr>\n",
       "  </tbody>\n",
       "</table>\n",
       "</div>"
      ],
      "text/plain": [
       "       Country  Year  GDP_Per_Capita Continent  Internet_Users_Pct\n",
       "0  Afghanistan  2014     2102.385234      Asia            6.390000\n",
       "1  Afghanistan  2013     2116.465454      Asia            5.900000\n",
       "2  Afghanistan  2012     2075.491747      Asia            5.454545\n",
       "3  Afghanistan  2011     1904.559799      Asia            5.000000\n",
       "4  Afghanistan  2010     1957.029338      Asia            4.000000"
      ]
     },
     "execution_count": 38,
     "metadata": {},
     "output_type": "execute_result"
    }
   ],
   "source": [
    "gdp_and_internet_use[:5]"
   ]
  },
  {
   "cell_type": "code",
   "execution_count": 39,
   "id": "798f32ad",
   "metadata": {},
   "outputs": [
    {
     "data": {
      "text/html": [
       "<div>\n",
       "<style scoped>\n",
       "    .dataframe tbody tr th:only-of-type {\n",
       "        vertical-align: middle;\n",
       "    }\n",
       "\n",
       "    .dataframe tbody tr th {\n",
       "        vertical-align: top;\n",
       "    }\n",
       "\n",
       "    .dataframe thead th {\n",
       "        text-align: right;\n",
       "    }\n",
       "</style>\n",
       "<table border=\"1\" class=\"dataframe\">\n",
       "  <thead>\n",
       "    <tr style=\"text-align: right;\">\n",
       "      <th></th>\n",
       "      <th>Country</th>\n",
       "      <th>Year</th>\n",
       "      <th>GDP_Per_Capita</th>\n",
       "      <th>Continent</th>\n",
       "      <th>Internet_Users_Pct</th>\n",
       "    </tr>\n",
       "  </thead>\n",
       "  <tbody>\n",
       "    <tr>\n",
       "      <th>3453</th>\n",
       "      <td>Zimbabwe</td>\n",
       "      <td>1997</td>\n",
       "      <td>3580.048793</td>\n",
       "      <td>Africa</td>\n",
       "      <td>0.033080</td>\n",
       "    </tr>\n",
       "    <tr>\n",
       "      <th>3454</th>\n",
       "      <td>Zimbabwe</td>\n",
       "      <td>1996</td>\n",
       "      <td>3520.430146</td>\n",
       "      <td>Africa</td>\n",
       "      <td>0.016790</td>\n",
       "    </tr>\n",
       "    <tr>\n",
       "      <th>3455</th>\n",
       "      <td>Zimbabwe</td>\n",
       "      <td>1995</td>\n",
       "      <td>3226.413930</td>\n",
       "      <td>Africa</td>\n",
       "      <td>0.007684</td>\n",
       "    </tr>\n",
       "    <tr>\n",
       "      <th>3456</th>\n",
       "      <td>Zimbabwe</td>\n",
       "      <td>1994</td>\n",
       "      <td>3263.934978</td>\n",
       "      <td>Africa</td>\n",
       "      <td>0.001739</td>\n",
       "    </tr>\n",
       "    <tr>\n",
       "      <th>3457</th>\n",
       "      <td>Zimbabwe</td>\n",
       "      <td>1990</td>\n",
       "      <td>3324.348171</td>\n",
       "      <td>Africa</td>\n",
       "      <td>0.000000</td>\n",
       "    </tr>\n",
       "  </tbody>\n",
       "</table>\n",
       "</div>"
      ],
      "text/plain": [
       "       Country  Year  GDP_Per_Capita Continent  Internet_Users_Pct\n",
       "3453  Zimbabwe  1997     3580.048793    Africa            0.033080\n",
       "3454  Zimbabwe  1996     3520.430146    Africa            0.016790\n",
       "3455  Zimbabwe  1995     3226.413930    Africa            0.007684\n",
       "3456  Zimbabwe  1994     3263.934978    Africa            0.001739\n",
       "3457  Zimbabwe  1990     3324.348171    Africa            0.000000"
      ]
     },
     "execution_count": 39,
     "metadata": {},
     "output_type": "execute_result"
    }
   ],
   "source": [
    "gdp_and_internet_use[-5:]"
   ]
  },
  {
   "cell_type": "markdown",
   "id": "8edf1fc1",
   "metadata": {},
   "source": [
    "Create a new DataFrame, named gdp_and_internet_use_2014 by extracting data for the year 2014 from gdp_and_internet_use. How many countries have at least 90% internet users in 2014?"
   ]
  },
  {
   "cell_type": "code",
   "execution_count": 40,
   "id": "71178566",
   "metadata": {},
   "outputs": [],
   "source": [
    "gdp_and_internet_use_2014 = gdp_and_internet_use[gdp_and_internet_use['Year']==2014]"
   ]
  },
  {
   "cell_type": "code",
   "execution_count": 41,
   "id": "05de4b75",
   "metadata": {
    "scrolled": true
   },
   "outputs": [
    {
     "data": {
      "text/plain": [
       "163"
      ]
     },
     "execution_count": 41,
     "metadata": {},
     "output_type": "execute_result"
    }
   ],
   "source": [
    "gdp_and_internet_use_2014[gdp_and_internet_use_2014['Internet_Users_Pct']>=.9].shape[0]"
   ]
  },
  {
   "cell_type": "markdown",
   "id": "5ef4a376",
   "metadata": {},
   "source": [
    "Find the countries that had the top 3 largest GDP per capita figures for 2014. Create a seaborn FacetGrid showing the change in internet user percentage over time for these three countries. Each individual figure in the facet grid will represent a single country. What trends do you notice?"
   ]
  },
  {
   "cell_type": "code",
   "execution_count": 42,
   "id": "949fb291",
   "metadata": {},
   "outputs": [
    {
     "data": {
      "text/html": [
       "<div>\n",
       "<style scoped>\n",
       "    .dataframe tbody tr th:only-of-type {\n",
       "        vertical-align: middle;\n",
       "    }\n",
       "\n",
       "    .dataframe tbody tr th {\n",
       "        vertical-align: top;\n",
       "    }\n",
       "\n",
       "    .dataframe thead th {\n",
       "        text-align: right;\n",
       "    }\n",
       "</style>\n",
       "<table border=\"1\" class=\"dataframe\">\n",
       "  <thead>\n",
       "    <tr style=\"text-align: right;\">\n",
       "      <th></th>\n",
       "      <th>Country</th>\n",
       "      <th>Year</th>\n",
       "      <th>GDP_Per_Capita</th>\n",
       "      <th>Continent</th>\n",
       "      <th>Internet_Users_Pct</th>\n",
       "    </tr>\n",
       "  </thead>\n",
       "  <tbody>\n",
       "    <tr>\n",
       "      <th>1798</th>\n",
       "      <td>Luxembourg</td>\n",
       "      <td>2014</td>\n",
       "      <td>108760.916030</td>\n",
       "      <td>Europe</td>\n",
       "      <td>94.67</td>\n",
       "    </tr>\n",
       "    <tr>\n",
       "      <th>2542</th>\n",
       "      <td>Qatar</td>\n",
       "      <td>2014</td>\n",
       "      <td>95578.416973</td>\n",
       "      <td>Asia</td>\n",
       "      <td>91.49</td>\n",
       "    </tr>\n",
       "    <tr>\n",
       "      <th>2751</th>\n",
       "      <td>Singapore</td>\n",
       "      <td>2014</td>\n",
       "      <td>87808.663157</td>\n",
       "      <td>Asia</td>\n",
       "      <td>82.00</td>\n",
       "    </tr>\n",
       "  </tbody>\n",
       "</table>\n",
       "</div>"
      ],
      "text/plain": [
       "         Country  Year  GDP_Per_Capita Continent  Internet_Users_Pct\n",
       "1798  Luxembourg  2014   108760.916030    Europe               94.67\n",
       "2542       Qatar  2014    95578.416973      Asia               91.49\n",
       "2751   Singapore  2014    87808.663157      Asia               82.00"
      ]
     },
     "execution_count": 42,
     "metadata": {},
     "output_type": "execute_result"
    }
   ],
   "source": [
    "gdp_and_internet_use_2014.sort_values('GDP_Per_Capita', ascending=False).head(n=3)"
   ]
  },
  {
   "cell_type": "code",
   "execution_count": 43,
   "id": "df2694c6",
   "metadata": {},
   "outputs": [
    {
     "data": {
      "image/png": "[encoded data removed]",
      "text/plain": [
       "<Figure size 648x216 with 3 Axes>"
      ]
     },
     "metadata": {
      "needs_background": "light"
     },
     "output_type": "display_data"
    }
   ],
   "source": [
    "sns_grid = sns.FacetGrid(gdp_and_internet_use[gdp_and_internet_use['Country'].isin(['Luxembourg', 'Qatar', 'Singapore'])], col='Country')\n",
    "sns_grid = sns_grid.map(sns.lineplot, 'Year', 'Internet_Users_Pct')"
   ]
  },
  {
   "cell_type": "code",
   "execution_count": 44,
   "id": "34697a64",
   "metadata": {},
   "outputs": [
    {
     "data": {
      "text/html": [
       "<div>\n",
       "<style scoped>\n",
       "    .dataframe tbody tr th:only-of-type {\n",
       "        vertical-align: middle;\n",
       "    }\n",
       "\n",
       "    .dataframe tbody tr th {\n",
       "        vertical-align: top;\n",
       "    }\n",
       "\n",
       "    .dataframe thead th {\n",
       "        text-align: right;\n",
       "    }\n",
       "</style>\n",
       "<table border=\"1\" class=\"dataframe\">\n",
       "  <thead>\n",
       "    <tr style=\"text-align: right;\">\n",
       "      <th></th>\n",
       "      <th>Country</th>\n",
       "      <th>Year</th>\n",
       "      <th>GDP_Per_Capita</th>\n",
       "      <th>Continent</th>\n",
       "      <th>Internet_Users_Pct</th>\n",
       "    </tr>\n",
       "  </thead>\n",
       "  <tbody>\n",
       "    <tr>\n",
       "      <th>1798</th>\n",
       "      <td>Luxembourg</td>\n",
       "      <td>2014</td>\n",
       "      <td>108760.916030</td>\n",
       "      <td>Europe</td>\n",
       "      <td>94.670000</td>\n",
       "    </tr>\n",
       "    <tr>\n",
       "      <th>1799</th>\n",
       "      <td>Luxembourg</td>\n",
       "      <td>2013</td>\n",
       "      <td>106767.275005</td>\n",
       "      <td>Europe</td>\n",
       "      <td>93.776500</td>\n",
       "    </tr>\n",
       "    <tr>\n",
       "      <th>1800</th>\n",
       "      <td>Luxembourg</td>\n",
       "      <td>2012</td>\n",
       "      <td>105411.464571</td>\n",
       "      <td>Europe</td>\n",
       "      <td>91.949924</td>\n",
       "    </tr>\n",
       "    <tr>\n",
       "      <th>1801</th>\n",
       "      <td>Luxembourg</td>\n",
       "      <td>2011</td>\n",
       "      <td>108355.582583</td>\n",
       "      <td>Europe</td>\n",
       "      <td>90.029859</td>\n",
       "    </tr>\n",
       "    <tr>\n",
       "      <th>1802</th>\n",
       "      <td>Luxembourg</td>\n",
       "      <td>2010</td>\n",
       "      <td>108047.346867</td>\n",
       "      <td>Europe</td>\n",
       "      <td>90.620000</td>\n",
       "    </tr>\n",
       "    <tr>\n",
       "      <th>...</th>\n",
       "      <td>...</td>\n",
       "      <td>...</td>\n",
       "      <td>...</td>\n",
       "      <td>...</td>\n",
       "      <td>...</td>\n",
       "    </tr>\n",
       "    <tr>\n",
       "      <th>2771</th>\n",
       "      <td>Singapore</td>\n",
       "      <td>1994</td>\n",
       "      <td>46895.053010</td>\n",
       "      <td>Asia</td>\n",
       "      <td>1.185204</td>\n",
       "    </tr>\n",
       "    <tr>\n",
       "      <th>2772</th>\n",
       "      <td>Singapore</td>\n",
       "      <td>1993</td>\n",
       "      <td>43555.619036</td>\n",
       "      <td>Asia</td>\n",
       "      <td>0.763278</td>\n",
       "    </tr>\n",
       "    <tr>\n",
       "      <th>2773</th>\n",
       "      <td>Singapore</td>\n",
       "      <td>1992</td>\n",
       "      <td>40077.548794</td>\n",
       "      <td>Asia</td>\n",
       "      <td>0.471368</td>\n",
       "    </tr>\n",
       "    <tr>\n",
       "      <th>2774</th>\n",
       "      <td>Singapore</td>\n",
       "      <td>1991</td>\n",
       "      <td>38728.403909</td>\n",
       "      <td>Asia</td>\n",
       "      <td>0.161504</td>\n",
       "    </tr>\n",
       "    <tr>\n",
       "      <th>2775</th>\n",
       "      <td>Singapore</td>\n",
       "      <td>1990</td>\n",
       "      <td>37348.206786</td>\n",
       "      <td>Asia</td>\n",
       "      <td>0.000000</td>\n",
       "    </tr>\n",
       "  </tbody>\n",
       "</table>\n",
       "<p>64 rows × 5 columns</p>\n",
       "</div>"
      ],
      "text/plain": [
       "         Country  Year  GDP_Per_Capita Continent  Internet_Users_Pct\n",
       "1798  Luxembourg  2014   108760.916030    Europe           94.670000\n",
       "1799  Luxembourg  2013   106767.275005    Europe           93.776500\n",
       "1800  Luxembourg  2012   105411.464571    Europe           91.949924\n",
       "1801  Luxembourg  2011   108355.582583    Europe           90.029859\n",
       "1802  Luxembourg  2010   108047.346867    Europe           90.620000\n",
       "...          ...   ...             ...       ...                 ...\n",
       "2771   Singapore  1994    46895.053010      Asia            1.185204\n",
       "2772   Singapore  1993    43555.619036      Asia            0.763278\n",
       "2773   Singapore  1992    40077.548794      Asia            0.471368\n",
       "2774   Singapore  1991    38728.403909      Asia            0.161504\n",
       "2775   Singapore  1990    37348.206786      Asia            0.000000\n",
       "\n",
       "[64 rows x 5 columns]"
      ]
     },
     "execution_count": 44,
     "metadata": {},
     "output_type": "execute_result"
    }
   ],
   "source": [
    "gdp_and_internet_use[gdp_and_internet_use['Country'].isin(['Luxembourg', 'Qatar', 'Singapore'])]"
   ]
  },
  {
   "cell_type": "markdown",
   "id": "6b23e3f2",
   "metadata": {},
   "source": [
    "Create a scatter plot of Internet Use vs GDP per Capita for the year 2014. What do you notice?"
   ]
  },
  {
   "cell_type": "code",
   "execution_count": 45,
   "id": "db7ab124",
   "metadata": {},
   "outputs": [
    {
     "data": {
      "image/png": "[encoded data removed]",
      "text/plain": [
       "<Figure size 432x288 with 1 Axes>"
      ]
     },
     "metadata": {
      "needs_background": "light"
     },
     "output_type": "display_data"
    }
   ],
   "source": [
    "gdp_and_internet_use_2014.plot(kind='scatter', x='GDP_Per_Capita', y='Internet_Users_Pct');"
   ]
  },
  {
   "cell_type": "markdown",
   "id": "91708aaa",
   "metadata": {},
   "source": [
    "Find the correlation between GDP per Capita and Internet Use for the year 2014. What is the meaning of this number?"
   ]
  },
  {
   "cell_type": "code",
   "execution_count": 46,
   "id": "8c9e597e",
   "metadata": {},
   "outputs": [
    {
     "data": {
      "text/plain": [
       "0.8246267227541505"
      ]
     },
     "execution_count": 46,
     "metadata": {},
     "output_type": "execute_result"
    }
   ],
   "source": [
    "np.corrcoef(x=[gdp_and_internet_use_2014['GDP_Per_Capita']], y=[gdp_and_internet_use_2014['Internet_Users_Pct']])[0,1]"
   ]
  },
  {
   "cell_type": "markdown",
   "id": "2f54c148",
   "metadata": {},
   "source": [
    "Add a column to gdp_and_internet_use_2014 and calculate the logarithm of GDP per capita. Find the correlation between the log of GDP per capita and internet users percentage. How does this compare to the calculation in the previous part?"
   ]
  },
  {
   "cell_type": "code",
   "execution_count": 47,
   "id": "1a49830a",
   "metadata": {},
   "outputs": [
    {
     "name": "stderr",
     "output_type": "stream",
     "text": [
      "<ipython-input-47-e703064c7b17>:1: SettingWithCopyWarning: \n",
      "A value is trying to be set on a copy of a slice from a DataFrame.\n",
      "Try using .loc[row_indexer,col_indexer] = value instead\n",
      "\n",
      "See the caveats in the documentation: https://pandas.pydata.org/pandas-docs/stable/user_guide/indexing.html#returning-a-view-versus-a-copy\n",
      "  gdp_and_internet_use_2014['log_gdp'] = np.log(gdp_and_internet_use_2014['GDP_Per_Capita'])\n"
     ]
    }
   ],
   "source": [
    "gdp_and_internet_use_2014['log_gdp'] = np.log(gdp_and_internet_use_2014['GDP_Per_Capita'])"
   ]
  },
  {
   "cell_type": "code",
   "execution_count": 48,
   "id": "a212dc85",
   "metadata": {},
   "outputs": [
    {
     "data": {
      "text/plain": [
       "0.903986635681392"
      ]
     },
     "execution_count": 48,
     "metadata": {},
     "output_type": "execute_result"
    }
   ],
   "source": [
    "np.corrcoef(x=[gdp_and_internet_use_2014['log_gdp']], y=[gdp_and_internet_use_2014['Internet_Users_Pct']])[0,1]"
   ]
  },
  {
   "cell_type": "markdown",
   "id": "72881e49",
   "metadata": {},
   "source": [
    "Filter the original dataset down to just the United States for all available years. Calculate correlation between internet use and gdp per capita. Is this meaningful or useful?"
   ]
  },
  {
   "cell_type": "code",
   "execution_count": 49,
   "id": "c4af9d3a",
   "metadata": {},
   "outputs": [],
   "source": [
    "usa = gdp_and_internet_use[gdp_and_internet_use['Country']=='United States']"
   ]
  },
  {
   "cell_type": "code",
   "execution_count": 50,
   "id": "54292d65",
   "metadata": {},
   "outputs": [
    {
     "data": {
      "text/plain": [
       "0.9916600677832935"
      ]
     },
     "execution_count": 50,
     "metadata": {},
     "output_type": "execute_result"
    }
   ],
   "source": [
    "np.corrcoef(x=[usa['GDP_Per_Capita']], y=[usa['Internet_Users_Pct']])[0,1]"
   ]
  }
 ],
 "metadata": {
  "kernelspec": {
   "display_name": "Python 3",
   "language": "python",
   "name": "python3"
  },
  "language_info": {
   "codemirror_mode": {
    "name": "ipython",
    "version": 3
   },
   "file_extension": ".py",
   "mimetype": "text/x-python",
   "name": "python",
   "nbconvert_exporter": "python",
   "pygments_lexer": "ipython3",
   "version": "3.8.8"
  }
 },
 "nbformat": 4,
 "nbformat_minor": 5
}
